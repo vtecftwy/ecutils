{
 "cells": [
  {
   "cell_type": "markdown",
   "metadata": {},
   "source": [
    "# Work with JSON objects and files\n",
    "\n",
    "- [Real Python tutorial](https://realpython.com/python-json/)\n",
    "- [json standard library module](https://docs.python.org/3/library/json.html#)"
   ]
  },
  {
   "cell_type": "code",
   "execution_count": 269,
   "metadata": {},
   "outputs": [],
   "source": [
    "import inspect\n",
    "import json\n",
    "import numpy as np\n",
    "import pandas as pd\n",
    "\n",
    "from pathlib import Path\n",
    "\n",
    "from ecutils.historical_price_handling import sources_dict, ticker_dict, get_module_root_path\n",
    "\n",
    "module_root = Path(get_module_root_path())"
   ]
  },
  {
   "cell_type": "code",
   "execution_count": 267,
   "metadata": {},
   "outputs": [],
   "source": [
    "import ecutils"
   ]
  },
  {
   "cell_type": "code",
   "execution_count": 268,
   "metadata": {},
   "outputs": [
    {
     "data": {
      "text/plain": [
       "'d:\\\\pyprojects\\\\ec-utils\\\\ecutils\\\\__init__.py'"
      ]
     },
     "execution_count": 268,
     "metadata": {},
     "output_type": "execute_result"
    }
   ],
   "source": [
    "ecutils.__file__"
   ]
  },
  {
   "cell_type": "code",
   "execution_count": 276,
   "metadata": {
    "scrolled": false
   },
   "outputs": [
    {
     "data": {
      "text/plain": [
       "'d:\\\\pyprojects\\\\ec-utils\\\\ecutils\\\\historical_price_handling.py'"
      ]
     },
     "execution_count": 276,
     "metadata": {},
     "output_type": "execute_result"
    }
   ],
   "source": [
    "inspect.getfile(get_module_root_path)"
   ]
  },
  {
   "cell_type": "markdown",
   "metadata": {},
   "source": [
    "## Load the json file and Pretty Print its content"
   ]
  },
  {
   "cell_type": "code",
   "execution_count": 2,
   "metadata": {},
   "outputs": [],
   "source": [
    "json_file = module_root / 'ecutils' / 'historical_prices_tickers.json'\n",
    "assert json_file.is_file()"
   ]
  },
  {
   "cell_type": "code",
   "execution_count": 3,
   "metadata": {},
   "outputs": [],
   "source": [
    "with open(json_file, 'r') as f:\n",
    "    json_obj = json.load(f)"
   ]
  },
  {
   "cell_type": "code",
   "execution_count": 5,
   "metadata": {
    "scrolled": true
   },
   "outputs": [],
   "source": [
    "# print(json.dumps(json_obj, indent=4))"
   ]
  },
  {
   "cell_type": "markdown",
   "metadata": {
    "heading_collapsed": true
   },
   "source": [
    "## Save the json file into a readable format (with indent)"
   ]
  },
  {
   "cell_type": "code",
   "execution_count": 43,
   "metadata": {
    "hidden": true
   },
   "outputs": [],
   "source": [
    "# with open(json_file, mode='w') as fp:\n",
    "#     json.dump(json_obj, fp, indent=4))"
   ]
  },
  {
   "cell_type": "code",
   "execution_count": 6,
   "metadata": {
    "hidden": true
   },
   "outputs": [
    {
     "data": {
      "text/plain": [
       "{'axitrader': 'US500', 'wsj': 'SPX', 'yahoo': '^GSPC'}"
      ]
     },
     "execution_count": 6,
     "metadata": {},
     "output_type": "execute_result"
    }
   ],
   "source": [
    "json_obj['S&P500']['tickers']"
   ]
  },
  {
   "cell_type": "markdown",
   "metadata": {
    "heading_collapsed": true
   },
   "source": [
    "## Add parameters from Axitrader Product Specs into tickers json object"
   ]
  },
  {
   "cell_type": "markdown",
   "metadata": {
    "hidden": true
   },
   "source": [
    "Load axitrader's specification and create a DataFrame `axitrader_specs` with relevant parameters. Index is the ticker symbol"
   ]
  },
  {
   "cell_type": "code",
   "execution_count": 228,
   "metadata": {
    "hidden": true
   },
   "outputs": [
    {
     "data": {
      "text/plain": [
       "[WindowsPath('D:/PyProjects/fx-bt/data/axitrader-product-spec-commodity-cash-cfds.csv'),\n",
       " WindowsPath('D:/PyProjects/fx-bt/data/axitrader-product-spec-commodity-future-cfds.csv'),\n",
       " WindowsPath('D:/PyProjects/fx-bt/data/axitrader-product-spec-index-cash-cfds.csv'),\n",
       " WindowsPath('D:/PyProjects/fx-bt/data/axitrader-product-spec-index-future-cfds.csv'),\n",
       " WindowsPath('D:/PyProjects/fx-bt/data/axitrader-product-spec-margin-fx-contracts.csv')]"
      ]
     },
     "execution_count": 228,
     "metadata": {},
     "output_type": "execute_result"
    }
   ],
   "source": [
    "axitrader_specs_directory = Path('D:\\\\PyProjects\\\\fx-bt\\\\data')\n",
    "assert axitrader_specs_directory.is_dir()\n",
    "\n",
    "specs = [f for f in axitrader_specs_directory.iterdir() if 'axitrader-product-spec' in f.name]\n",
    "for f in specs:\n",
    "    assert f.is_file()\n",
    "\n",
    "specs"
   ]
  },
  {
   "cell_type": "code",
   "execution_count": 235,
   "metadata": {
    "hidden": true,
    "scrolled": false
   },
   "outputs": [
    {
     "data": {
      "text/html": [
       "<div>\n",
       "<style scoped>\n",
       "    .dataframe tbody tr th:only-of-type {\n",
       "        vertical-align: middle;\n",
       "    }\n",
       "\n",
       "    .dataframe tbody tr th {\n",
       "        vertical-align: top;\n",
       "    }\n",
       "\n",
       "    .dataframe thead th {\n",
       "        text-align: right;\n",
       "    }\n",
       "</style>\n",
       "<table border=\"1\" class=\"dataframe\">\n",
       "  <thead>\n",
       "    <tr style=\"text-align: right;\">\n",
       "      <th></th>\n",
       "      <th>Market Description</th>\n",
       "      <th>Standard Margin Rate</th>\n",
       "      <th>Account Leverage Factor</th>\n",
       "      <th>Currency</th>\n",
       "      <th>Contract Size per 1 Lot</th>\n",
       "      <th>1 Lot Value per Pip</th>\n",
       "      <th>Indicative Spreads (Pips)</th>\n",
       "      <th>Min mum Tick Increment</th>\n",
       "      <th>Min Trade Size (Lots)</th>\n",
       "      <th>Max Trade Size (Lots)</th>\n",
       "      <th>3 Day Roll</th>\n",
       "      <th>Type</th>\n",
       "    </tr>\n",
       "    <tr>\n",
       "      <th>Symbol</th>\n",
       "      <th></th>\n",
       "      <th></th>\n",
       "      <th></th>\n",
       "      <th></th>\n",
       "      <th></th>\n",
       "      <th></th>\n",
       "      <th></th>\n",
       "      <th></th>\n",
       "      <th></th>\n",
       "      <th></th>\n",
       "      <th></th>\n",
       "      <th></th>\n",
       "    </tr>\n",
       "  </thead>\n",
       "  <tbody>\n",
       "    <tr>\n",
       "      <th>USDINR</th>\n",
       "      <td>US Dollar vs Indian Rupee 1 Month</td>\n",
       "      <td>3%</td>\n",
       "      <td>Yes</td>\n",
       "      <td>USD</td>\n",
       "      <td>100000</td>\n",
       "      <td>INR 1000 per 0.01</td>\n",
       "      <td>2.1</td>\n",
       "      <td>0.00010</td>\n",
       "      <td>0.01</td>\n",
       "      <td>20</td>\n",
       "      <td>Wednesday</td>\n",
       "      <td>Margin FX Contract</td>\n",
       "    </tr>\n",
       "    <tr>\n",
       "      <th>TRYJPY</th>\n",
       "      <td>Turkish Lira vs Japanese Yen</td>\n",
       "      <td>2%</td>\n",
       "      <td>Yes</td>\n",
       "      <td>TRY</td>\n",
       "      <td>100000</td>\n",
       "      <td>JPY 1000 per 0.01</td>\n",
       "      <td>1.3</td>\n",
       "      <td>0.00100</td>\n",
       "      <td>0.01</td>\n",
       "      <td>20</td>\n",
       "      <td>Wednesday</td>\n",
       "      <td>Margin FX Contract</td>\n",
       "    </tr>\n",
       "    <tr>\n",
       "      <th>EURUSD</th>\n",
       "      <td>Euro vs US Dollar</td>\n",
       "      <td>1%</td>\n",
       "      <td>Yes</td>\n",
       "      <td>EUR</td>\n",
       "      <td>100000</td>\n",
       "      <td>USD 10 per 0.0001</td>\n",
       "      <td>1.2</td>\n",
       "      <td>0.00001</td>\n",
       "      <td>0.01</td>\n",
       "      <td>100</td>\n",
       "      <td>Wednesday</td>\n",
       "      <td>Margin FX Contract</td>\n",
       "    </tr>\n",
       "  </tbody>\n",
       "</table>\n",
       "</div>"
      ],
      "text/plain": [
       "                       Market Description Standard Margin Rate  \\\n",
       "Symbol                                                           \n",
       "USDINR  US Dollar vs Indian Rupee 1 Month                   3%   \n",
       "TRYJPY       Turkish Lira vs Japanese Yen                   2%   \n",
       "EURUSD                  Euro vs US Dollar                   1%   \n",
       "\n",
       "       Account Leverage Factor Currency Contract Size per 1 Lot  \\\n",
       "Symbol                                                            \n",
       "USDINR                     Yes      USD                  100000   \n",
       "TRYJPY                     Yes      TRY                  100000   \n",
       "EURUSD                     Yes      EUR                  100000   \n",
       "\n",
       "       1 Lot Value per Pip  Indicative Spreads (Pips)  Min mum Tick Increment  \\\n",
       "Symbol                                                                          \n",
       "USDINR   INR 1000 per 0.01                        2.1                 0.00010   \n",
       "TRYJPY   JPY 1000 per 0.01                        1.3                 0.00100   \n",
       "EURUSD   USD 10 per 0.0001                        1.2                 0.00001   \n",
       "\n",
       "        Min Trade Size (Lots) Max Trade Size (Lots) 3 Day Roll  \\\n",
       "Symbol                                                           \n",
       "USDINR                   0.01                    20  Wednesday   \n",
       "TRYJPY                   0.01                    20  Wednesday   \n",
       "EURUSD                   0.01                   100  Wednesday   \n",
       "\n",
       "                      Type  \n",
       "Symbol                      \n",
       "USDINR  Margin FX Contract  \n",
       "TRYJPY  Margin FX Contract  \n",
       "EURUSD  Margin FX Contract  "
      ]
     },
     "metadata": {},
     "output_type": "display_data"
    }
   ],
   "source": [
    "cols = ['Symbol', 'Market Description', 'Standard Margin Rate',\n",
    "       'Account Leverage Factor', 'Currency', 'Contract Size per 1 Lot',\n",
    "       '1 Lot Value per Pip', 'Indicative Spreads (Pips)',\n",
    "       'Min mum Tick Increment', 'Min Trade Size (Lots)',\n",
    "       'Max Trade Size (Lots)', '3 Day Roll', 'Type']\n",
    "axitrader_specs = pd.DataFrame(columns=cols)\n",
    "for spec in specs:\n",
    "    df = pd.read_csv(spec)\n",
    "    axitrader_specs = axitrader_specs.append(df.loc[:, cols], sort=False)\n",
    "\n",
    "axitrader_specs.set_index(keys='Symbol', drop=True, inplace=True)\n",
    "axitrader_specs_to_be_processed = True\n",
    "display(axitrader_specs.sample(3))"
   ]
  },
  {
   "cell_type": "markdown",
   "metadata": {
    "hidden": true
   },
   "source": [
    "Make lists of tickers from json and from specs, a conversion dictionary, and view a few instruments to compare info in json and parameters in the spec"
   ]
  },
  {
   "cell_type": "code",
   "execution_count": 236,
   "metadata": {
    "hidden": true
   },
   "outputs": [
    {
     "name": "stdout",
     "output_type": "stream",
     "text": [
      "<class 'pandas.core.frame.DataFrame'>\n",
      "Index: 142 entries, USOIL to ZARJPY\n",
      "Data columns (total 12 columns):\n",
      "Market Description           142 non-null object\n",
      "Standard Margin Rate         142 non-null object\n",
      "Account Leverage Factor      142 non-null object\n",
      "Currency                     142 non-null object\n",
      "Contract Size per 1 Lot      142 non-null object\n",
      "1 Lot Value per Pip          142 non-null object\n",
      "Indicative Spreads (Pips)    142 non-null float64\n",
      "Min mum Tick Increment       142 non-null float64\n",
      "Min Trade Size (Lots)        142 non-null float64\n",
      "Max Trade Size (Lots)        142 non-null object\n",
      "3 Day Roll                   142 non-null object\n",
      "Type                         142 non-null object\n",
      "dtypes: float64(3), object(9)\n",
      "memory usage: 14.4+ KB\n"
     ]
    }
   ],
   "source": [
    "axitrader_specs.info()"
   ]
  },
  {
   "cell_type": "code",
   "execution_count": 237,
   "metadata": {
    "hidden": true
   },
   "outputs": [
    {
     "name": "stdout",
     "output_type": "stream",
     "text": [
      "Processing dataframe:\n",
      "\n",
      "<class 'pandas.core.frame.DataFrame'>\n",
      "Index: 142 entries, USOIL to ZARJPY\n",
      "Data columns (total 12 columns):\n",
      "Market Description           142 non-null object\n",
      "Standard Margin Rate         142 non-null float64\n",
      "Account Leverage Factor      142 non-null object\n",
      "Currency                     142 non-null object\n",
      "Contract Size per 1 Lot      142 non-null object\n",
      "1 Lot Value per Pip          142 non-null object\n",
      "Indicative Spreads (Pips)    142 non-null float64\n",
      "Min mum Tick Increment       142 non-null float64\n",
      "Min Trade Size (Lots)        142 non-null float64\n",
      "Max Trade Size (Lots)        142 non-null float64\n",
      "3 Day Roll                   142 non-null object\n",
      "Type                         142 non-null object\n",
      "dtypes: float64(5), object(7)\n",
      "memory usage: 14.4+ KB\n"
     ]
    }
   ],
   "source": [
    "if axitrader_specs_to_be_processed:\n",
    "    print('Processing dataframe:\\n')\n",
    "    axitrader_specs['Standard Margin Rate'] = axitrader_specs['Standard Margin Rate'].apply(lambda s: float(s[:-1])/100)\n",
    "    axitrader_specs['Indicative Spreads (Pips)'] = axitrader_specs['Indicative Spreads (Pips)'].apply(lambda s: float(s))\n",
    "    axitrader_specs['Min Trade Size (Lots)'] = axitrader_specs['Min Trade Size (Lots)'].apply(lambda s: float(s))\n",
    "    axitrader_specs['Max Trade Size (Lots)'] = axitrader_specs['Max Trade Size (Lots)'].apply(lambda s: float(s))\n",
    "    axitrader_specs_to_be_processed = False\n",
    "\n",
    "axitrader_specs.info()"
   ]
  },
  {
   "cell_type": "code",
   "execution_count": 238,
   "metadata": {
    "hidden": true
   },
   "outputs": [],
   "source": [
    "security_json = json_obj.copy()"
   ]
  },
  {
   "cell_type": "code",
   "execution_count": 239,
   "metadata": {
    "hidden": true
   },
   "outputs": [
    {
     "data": {
      "text/plain": [
       "{'name': 'S&P500 Cash CDF',\n",
       " 'type': 'Index Cash CFDs',\n",
       " 'description': 'US 500',\n",
       " 'tickers': {'axitrader': 'US500', 'wsj': 'SPX', 'yahoo': '^GSPC'},\n",
       " 'axitrader': {'Standard Margin Rate': 0.04,\n",
       "  'Account Leverage Factor': 'Yes',\n",
       "  'Currency': 'USD',\n",
       "  'Contract Size per 1 Lot': 'USD 1 x Index',\n",
       "  '1 Lot Value per Pip': 'USD 1 per 1.00',\n",
       "  'Indicative Spreads (Pips)': 0.4,\n",
       "  'Min mum Tick Increment': 0.01,\n",
       "  'Min Trade Size (Lots)': 1.0,\n",
       "  'Max Trade Size (Lots)': 5000.0,\n",
       "  '3 Day Roll': 'Friday'}}"
      ]
     },
     "execution_count": 239,
     "metadata": {},
     "output_type": "execute_result"
    }
   ],
   "source": [
    "# View structure of one instrument in json\n",
    "security_json[\"S&P500\"]"
   ]
  },
  {
   "cell_type": "code",
   "execution_count": 240,
   "metadata": {
    "hidden": true
   },
   "outputs": [
    {
     "name": "stdout",
     "output_type": "stream",
     "text": [
      "Following tickers are in json but not in spec: ['USDHKD', 'BTCUSD']\n",
      "60 142 58\n"
     ]
    }
   ],
   "source": [
    "axitrader_ticker_to_instrument_key = dict([(instrument['tickers']['axitrader'], key) \n",
    "                                           for key, instrument in security_json.items()\n",
    "                                           if instrument['tickers'].get('axitrader', None) is not None]\n",
    "                                         )\n",
    "\n",
    "list_axitrader_tickers_from_json = axitrader_ticker_to_instrument_key.keys()\n",
    "\n",
    "list_axitrader_tickers_from_specs = axitrader_specs.index\n",
    "\n",
    "tickers_in_both_lists = list(set(list_axitrader_tickers_from_json).intersection(set(list_axitrader_tickers_from_specs)))\n",
    "\n",
    "\n",
    "print(f\"Following tickers are in json but not in spec: {list(set(list_axitrader_tickers_from_json).difference(set(list_axitrader_tickers_from_specs)))}\")\n",
    "print(len(list_axitrader_tickers_from_json), len(list_axitrader_tickers_from_specs), len(tickers_in_both_lists))"
   ]
  },
  {
   "cell_type": "code",
   "execution_count": 241,
   "metadata": {
    "hidden": true,
    "scrolled": false
   },
   "outputs": [
    {
     "name": "stdout",
     "output_type": "stream",
     "text": [
      "Original Info in json object:\n"
     ]
    },
    {
     "data": {
      "text/plain": [
       "{'name': 'AUDCHF',\n",
       " 'description': 'Australian Dollar vs Swiss Franc',\n",
       " 'type': 'Margin FX Contract',\n",
       " 'tickers': {'alphavantage': 'AUDCHF', 'axitrader': 'AUDCHF'},\n",
       " 'axitrader': {'Standard Margin Rate': 0.01,\n",
       "  'Account Leverage Factor': 'Yes',\n",
       "  'Currency': 'AUD',\n",
       "  'Contract Size per 1 Lot': 100000,\n",
       "  '1 Lot Value per Pip': 'CHF 10 per 0.0001',\n",
       "  'Indicative Spreads (Pips)': 1.9,\n",
       "  'Min mum Tick Increment': 1e-05,\n",
       "  'Min Trade Size (Lots)': 0.01,\n",
       "  'Max Trade Size (Lots)': 50.0,\n",
       "  '3 Day Roll': 'Wednesday'}}"
      ]
     },
     "metadata": {},
     "output_type": "display_data"
    },
    {
     "name": "stdout",
     "output_type": "stream",
     "text": [
      "Parameters to add:\n"
     ]
    },
    {
     "data": {
      "text/plain": [
       "Market Description           Australian Dollar vs Swiss Franc\n",
       "Standard Margin Rate                                     0.01\n",
       "Account Leverage Factor                                   Yes\n",
       "Currency                                                  AUD\n",
       "Contract Size per 1 Lot                                100000\n",
       "1 Lot Value per Pip                         CHF 10 per 0.0001\n",
       "Indicative Spreads (Pips)                                 1.9\n",
       "Min mum Tick Increment                                  1e-05\n",
       "Min Trade Size (Lots)                                    0.01\n",
       "Max Trade Size (Lots)                                      50\n",
       "3 Day Roll                                          Wednesday\n",
       "Type                                       Margin FX Contract\n",
       "Name: AUDCHF, dtype: object"
      ]
     },
     "metadata": {},
     "output_type": "display_data"
    }
   ],
   "source": [
    "for ticker in tickers_in_both_lists[0:1]:\n",
    "    print('Original Info in json object:')\n",
    "    display(security_json[axitrader_ticker_to_instrument_key[ticker]])\n",
    "    print('Parameters to add:')\n",
    "    display(axitrader_specs.loc[ticker,:])"
   ]
  },
  {
   "cell_type": "code",
   "execution_count": 242,
   "metadata": {
    "hidden": true
   },
   "outputs": [],
   "source": [
    "axitrader_specs_params = ['Standard Margin Rate', \n",
    "                          'Account Leverage Factor',\n",
    "                          'Currency',\n",
    "                          'Contract Size per 1 Lot',\n",
    "                          '1 Lot Value per Pip',\n",
    "                          'Indicative Spreads (Pips)',\n",
    "                          'Min mum Tick Increment',\n",
    "                          'Min Trade Size (Lots)',\n",
    "                          'Max Trade Size (Lots)',\n",
    "                          '3 Day Roll']"
   ]
  },
  {
   "cell_type": "code",
   "execution_count": 243,
   "metadata": {
    "hidden": true
   },
   "outputs": [],
   "source": [
    "# for ticker in tickers_in_both_lists[0:1]:\n",
    "for ticker in tickers_in_both_lists:\n",
    "    security_info = security_json[ticker_index2info_key[ticker]]\n",
    "    security_info['description'] = axitrader_specs.loc[ticker, 'Market Description']\n",
    "    security_info['type'] = axitrader_specs.loc[ticker, 'Type']\n",
    "    axitrader_dict = {}\n",
    "    for parameter in axitrader_specs_params:\n",
    "        axitrader_dict[parameter] = axitrader_specs.loc[ticker, parameter]\n",
    "    security_info['axitrader'] = axitrader_dict"
   ]
  },
  {
   "cell_type": "code",
   "execution_count": 244,
   "metadata": {
    "hidden": true
   },
   "outputs": [
    {
     "data": {
      "text/plain": [
       "{'name': 'AUDCHF',\n",
       " 'description': 'Australian Dollar vs Swiss Franc',\n",
       " 'type': 'Margin FX Contract',\n",
       " 'tickers': {'alphavantage': 'AUDCHF', 'axitrader': 'AUDCHF'},\n",
       " 'axitrader': {'Standard Margin Rate': 0.01,\n",
       "  'Account Leverage Factor': 'Yes',\n",
       "  'Currency': 'AUD',\n",
       "  'Contract Size per 1 Lot': 100000,\n",
       "  '1 Lot Value per Pip': 'CHF 10 per 0.0001',\n",
       "  'Indicative Spreads (Pips)': 1.9,\n",
       "  'Min mum Tick Increment': 1e-05,\n",
       "  'Min Trade Size (Lots)': 0.01,\n",
       "  'Max Trade Size (Lots)': 50.0,\n",
       "  '3 Day Roll': 'Wednesday'}}"
      ]
     },
     "execution_count": 244,
     "metadata": {},
     "output_type": "execute_result"
    }
   ],
   "source": [
    "security_json[ticker_index2info_key[tickers_in_both_lists[0]]]"
   ]
  },
  {
   "cell_type": "code",
   "execution_count": 225,
   "metadata": {
    "hidden": true,
    "scrolled": false
   },
   "outputs": [],
   "source": [
    "# print(json.dumps(security_json, indent=3))"
   ]
  },
  {
   "cell_type": "markdown",
   "metadata": {
    "heading_collapsed": true
   },
   "source": [
    "## Safe new structure into `historical_prices_tickers.json`"
   ]
  },
  {
   "cell_type": "code",
   "execution_count": 245,
   "metadata": {
    "hidden": true
   },
   "outputs": [
    {
     "data": {
      "text/plain": [
       "WindowsPath('D:/PyProjects/ec-utils/ecutils/historical_prices_tickers.json')"
      ]
     },
     "execution_count": 245,
     "metadata": {},
     "output_type": "execute_result"
    }
   ],
   "source": [
    "json_file"
   ]
  },
  {
   "cell_type": "code",
   "execution_count": 263,
   "metadata": {
    "hidden": true
   },
   "outputs": [],
   "source": [
    "save_file = False"
   ]
  },
  {
   "cell_type": "code",
   "execution_count": 264,
   "metadata": {
    "hidden": true
   },
   "outputs": [
    {
     "name": "stdout",
     "output_type": "stream",
     "text": [
      "Are you sure you want to overwrite historical_prices_tickers.json? If yes, modify save_file in previous cell and then play next cell\n"
     ]
    }
   ],
   "source": [
    "if json_file.is_file():\n",
    "    overwrite_file = False\n",
    "    print(f\"Are you sure you want to overwrite {json_file.name}? If yes, modify save_file in previous cell and then play next cell\")"
   ]
  },
  {
   "cell_type": "code",
   "execution_count": 266,
   "metadata": {
    "hidden": true
   },
   "outputs": [
    {
     "name": "stdout",
     "output_type": "stream",
     "text": [
      "historical_prices_tickers.json was not saved\n"
     ]
    }
   ],
   "source": [
    "if save_file:\n",
    "    with open(json_file, mode='w') as fp:\n",
    "        json.dump(json_obj, fp, indent=4)\n",
    "else:\n",
    "    print(f\"{json_file.name} was not saved\")"
   ]
  },
  {
   "cell_type": "code",
   "execution_count": null,
   "metadata": {
    "hidden": true
   },
   "outputs": [],
   "source": []
  },
  {
   "cell_type": "markdown",
   "metadata": {},
   "source": [
    "## New Section"
   ]
  },
  {
   "cell_type": "code",
   "execution_count": null,
   "metadata": {},
   "outputs": [],
   "source": []
  },
  {
   "cell_type": "code",
   "execution_count": null,
   "metadata": {},
   "outputs": [],
   "source": []
  }
 ],
 "metadata": {
  "kernelspec": {
   "display_name": "Python 3",
   "language": "python",
   "name": "python3"
  },
  "language_info": {
   "codemirror_mode": {
    "name": "ipython",
    "version": 3
   },
   "file_extension": ".py",
   "mimetype": "text/x-python",
   "name": "python",
   "nbconvert_exporter": "python",
   "pygments_lexer": "ipython3",
   "version": "3.6.9"
  }
 },
 "nbformat": 4,
 "nbformat_minor": 2
}
