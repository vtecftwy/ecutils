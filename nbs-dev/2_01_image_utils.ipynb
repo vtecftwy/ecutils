{
 "cells": [
  {
   "cell_type": "markdown",
   "id": "6cdcd44f-aa22-4563-9e96-a3efb5a29f2f",
   "metadata": {},
   "source": [
    "# `image_utils`\n",
    "> Utility Functions to work with images. Includes all stable utility functions."
   ]
  },
  {
   "cell_type": "code",
   "execution_count": null,
   "id": "d3b900e4",
   "metadata": {},
   "outputs": [],
   "source": [
    "#|default_exp image_utils"
   ]
  },
  {
   "cell_type": "code",
   "execution_count": null,
   "id": "8f6f7723",
   "metadata": {},
   "outputs": [],
   "source": [
    "#| hide\n",
    "from nbdev import show_doc, nbdev_export"
   ]
  },
  {
   "cell_type": "code",
   "execution_count": null,
   "id": "5b42c0fb",
   "metadata": {},
   "outputs": [],
   "source": [
    "#| export\n",
    "from __future__ import annotations\n",
    "from pathlib import Path\n",
    "from IPython.display import Image, display\n",
    "from pprint import pprint\n",
    "\n",
    "import datetime as dt\n",
    "import os\n",
    "import piexif\n",
    "import re\n",
    "import shutil"
   ]
  },
  {
   "cell_type": "markdown",
   "id": "53cdffce",
   "metadata": {},
   "source": [
    "# Image metadata"
   ]
  },
  {
   "cell_type": "code",
   "execution_count": null,
   "id": "ed27e252",
   "metadata": {},
   "outputs": [],
   "source": [
    "#| export\n",
    "def get_date_from_file_name(\n",
    "    path2file: Path,        # Path to the file\n",
    "    date_pattern: str=None, # regex pattern for the date, if None, default date pattern is YY-MM-DD\n",
    ") -> dt.datetime:\n",
    "    \"\"\"Retrieve the date from the file name.\n",
    "\n",
    "    Returns the date encoded in the file name (as per date_pattern) as a datetime.\n",
    "    Default date pattern is YY-MM-DD, i.g. regex ^(\\d\\d)-(\\d\\d)-(\\d\\d)*\n",
    "\n",
    "    returns:        date in datetime format, if found. False if not found or if file does not exist\n",
    "    \"\"\"\n",
    "    if date_pattern is None:\n",
    "        date_pattern = r\"^(\\d\\d)-(\\d\\d)-(\\d\\d)*\"\n",
    "\n",
    "    if not path2file.is_file() or path2file is None:\n",
    "        return False\n",
    "    p = re.compile(date_pattern)\n",
    "    results = p.match(path2file.name)\n",
    "\n",
    "    if results is not None:\n",
    "        y, m, d = results.groups()\n",
    "        if y is None or m is None or d is None:\n",
    "            return False\n",
    "        else:\n",
    "            y = int(y)\n",
    "            offset = (1900 if 50 < y <= 99 else 2000)\n",
    "            y = y + offset\n",
    "            date = dt.datetime(year=y, month=int(m), day=int(d))\n",
    "            return date\n",
    "    else:\n",
    "        return False"
   ]
  },
  {
   "cell_type": "code",
   "execution_count": null,
   "id": "d5d5bfbc",
   "metadata": {},
   "outputs": [
    {
     "data": {
      "text/plain": [
       "datetime.datetime(2022, 6, 11, 0, 0)"
      ]
     },
     "execution_count": null,
     "metadata": {},
     "output_type": "execute_result"
    }
   ],
   "source": [
    "p2img = Path('../data/img/22-06-11_IMG_512px.jpg')\n",
    "get_date_from_file_name(path2file=p2img)"
   ]
  },
  {
   "cell_type": "code",
   "execution_count": null,
   "id": "22a4a7e8",
   "metadata": {},
   "outputs": [],
   "source": [
    "#| export\n",
    "def date_is_within_year(date, year):\n",
    "    \"\"\"True if the passed date (datetime) is within year, False otherwise\"\"\"\n",
    "    return date.year == year"
   ]
  },
  {
   "cell_type": "code",
   "execution_count": null,
   "id": "5be8b082",
   "metadata": {},
   "outputs": [],
   "source": [
    "#| export\n",
    "def exif2dt(exif_d):\n",
    "    \"\"\"Transform a date in bytes format from EXIF into datetime format\n",
    "\n",
    "    exif_d:     date in exif format, i.e. bytes. E.g. b\"2018:11:21\"\n",
    "    returns:    the date in datetime or False if no date is detected or not well formatted\n",
    "    \"\"\"\n",
    "    results = re.match(\"^(\\d\\d\\d\\d):(\\d\\d):(\\d\\d)*\", exif_d.decode('utf-8'))\n",
    "    if results is None:\n",
    "        return False\n",
    "    else:\n",
    "        y, m, d = results.groups()\n",
    "        if y is None or m is None or d is None:\n",
    "            return False\n",
    "        else:\n",
    "            return dt.datetime(year=int(y), month=int(m), day=int(d))"
   ]
  },
  {
   "cell_type": "code",
   "execution_count": null,
   "id": "65209d4e",
   "metadata": {},
   "outputs": [],
   "source": [
    "#| export\n",
    "def add_missing_dates_to_exif(\n",
    "    path2folder:Path,                # Path to the folder holding all jpg photos to handle \n",
    "    year:int = None,                 # year used to filter all dates\n",
    "    maxhours:int = 24,               # maximum acceptable difference (in hours) between exif dates and file dates \n",
    "    do_not_update_exif:bool = False, # when Trud, prevent updating the exif file; used in debugging or testing\n",
    "    verbose:bool = False             # when True, print original, updated and retrieved updated EXIF info\n",
    "):\n",
    "    \"\"\"Add missing EXIF original and digitized dates, based on file creation or date in file name.\"\"\"\n",
    "\n",
    "    if year is None:\n",
    "        year = dt.datetime.now().year\n",
    "\n",
    "    nbr_images = len([f for f in path2folder.glob('*.jpg')])\n",
    "    print(f\"Handling {nbr_images} images in {path2folder.name}\")\n",
    "\n",
    "    for i, jpg in enumerate(path2folder.glob('*.jpg')):\n",
    "        try:\n",
    "            exif_dict = piexif.load(str(jpg.absolute()))\n",
    "        except piexif.InvalidImageDataError as err:\n",
    "            print(f\"  Cannot load image <{jpg.name}>. {err}\")\n",
    "            continue\n",
    "\n",
    "        date2use = None\n",
    "        date_from_file_name = get_date_from_file_name(jpg)\n",
    "\n",
    "        if exif_dict['Exif'].get(piexif.ExifIFD.DateTimeOriginal, None) is None:\n",
    "            # Image does not have an EXIF Original Date\n",
    "            print(f\"{i} of {nbr_images}.{'-' * 75}\")\n",
    "            print(f\"  {jpg} has no Exif date\")\n",
    "\n",
    "            if date_from_file_name:\n",
    "                date2use = date_from_file_name\n",
    "                date_source = 'File Name'\n",
    "            else:\n",
    "                file_creation_date = dt.datetime.fromtimestamp(os.path.getctime(jpg))\n",
    "                file_modified_date = dt.datetime.fromtimestamp(os.path.getmtime(jpg))\n",
    "                date2use = min(file_creation_date, file_modified_date)\n",
    "                date_source = 'File Creation/Modification Date'\n",
    "\n",
    "            if not date_is_within_year(date2use, year):\n",
    "                print(f\"Implied date {date2use} not within {year} for {jpg.name}\")\n",
    "                continue\n",
    "\n",
    "        else:\n",
    "            # Image does have an EXIF Original Date\n",
    "            if date_from_file_name:\n",
    "                exif_date = exif2dt(exif_dict['Exif'][piexif.ExifIFD.DateTimeOriginal])\n",
    "                if exif_date:\n",
    "                    diff = max(exif_date, date_from_file_name) - min(exif_date, date_from_file_name)\n",
    "                    if diff > dt.timedelta(hours=maxhours):\n",
    "                        print(f\"{i} of {nbr_images}.{'-' * 75}\")\n",
    "                        print(f\"  {jpg.name}\")\n",
    "                        print(f\"  Date from file name: {date_from_file_name}\")\n",
    "                        print(f\"  Date from EXIF: .... {exif_date}\")\n",
    "                        print(f\"  Diff: .............. {diff}\")\n",
    "                        if date_is_within_year(date_from_file_name, year):\n",
    "                            date2use = date_from_file_name\n",
    "                            date_source = 'File Name'\n",
    "                        else:\n",
    "                            print(f\"Date from file name {date_from_file_name} not within {year} for {jpg.name}\")\n",
    "\n",
    "        if date2use is not None:\n",
    "            thumbnail = exif_dict[\"thumbnail\"]\n",
    "            if thumbnail is not None:\n",
    "                display(Image(thumbnail))\n",
    "            else:\n",
    "                print(f\"  No thumbnail\")\n",
    "\n",
    "            print(f'  No existing EXIF dates. Creating one based on {date_source}')\n",
    "            print(f\"  Date to use: {date2use}\")\n",
    "\n",
    "            if verbose:\n",
    "                print(f\"  Original EXIF  {'-' * 50}\")\n",
    "                pprint(exif_dict['Exif'])\n",
    "\n",
    "            # Create datetime tags based on file creation date\n",
    "            exif_dict['Exif'][piexif.ExifIFD.DateTimeOriginal] = f\"{date2use:%Y:%m:%d %H:%M:%S}\"\n",
    "            exif_dict['Exif'][piexif.ExifIFD.DateTimeDigitized] = f\"{date2use:%Y:%m:%d %H:%M:%S}\"\n",
    "\n",
    "            # Ensure Scene Type has a byte format in dict, and not a int (Undefined in EXIF, byte in piexif)\n",
    "            exif_dict['Exif'][piexif.ExifIFD.SceneType] = bytes([1])\n",
    "            # Technical note:\n",
    "            # In EXIF, the tag with code `piexif.ExifIFD.SceneType`, i.e. `41729`, needs to be treated in a special way.\n",
    "            # - Exif IFD SceneType has a EXIF Type `Undefined`, and not `ASCII` or `Rational` like most others.\n",
    "            # - When piexif loads the EXIF file, the value of the tag is sometimes converted into `int` for some reason,\n",
    "            #   but it should be bytes (see doc as piexif.readthedocs.io/en/latest/appendices.html\n",
    "            # - When the exif-dict is converted back into EXIF format, using `piexif.dump()`, it generates an error:\n",
    "            #       ValueError: \"dump\" got wrong type of exif value.\n",
    "            #       41729 in Exif IFD. Got as <class 'int'>.```\n",
    "            # - This problem is solved by forcing the `int` to be a `bytes` format. In the case of SceneType, it is\n",
    "            #   even easier because the value is always 1 for photos taken by a camera.\n",
    "            # - This does not seem to be a problem for other tags with undefined type.\n",
    "\n",
    "            if verbose:\n",
    "                print(f\"  Updated EXIF  {'-' * 50}\")\n",
    "                pprint(exif_dict['Exif'])\n",
    "\n",
    "            if do_not_update_exif is False:\n",
    "                exif_bytes = piexif.dump(exif_dict)\n",
    "                piexif.insert(exif_bytes, str(jpg.absolute()))\n",
    "                if verbose:\n",
    "                    print(f\"  New EXIF  {'-' * 50}\")\n",
    "                    new_exif_dict = piexif.load(str(jpg.absolute()))\n",
    "                    pprint(new_exif_dict['Exif'])"
   ]
  },
  {
   "cell_type": "markdown",
   "id": "04a46bbe",
   "metadata": {},
   "source": [
    "#### Logic of the function:\n",
    "In order to better control the data changes and avoid mistaken exif updates, the process is done on\n",
    "a **year by year basis**, i.e. a specific year needs to be passed to the function and only dates within the passed\n",
    "year will be updated. All other dates will be disregarded.\n",
    "\n",
    "1. Retrieve EXIF info from image\n",
    "2. When there is no EXIF.DatetimeOriginal in the image EXIF:\n",
    "    - use date from file name if exists, else\n",
    "    - use date from creation or modification, whichever is earlier\n",
    "3. When there is an EXIF.DatetimeOriginal, compare with date from file, if any:\n",
    "    - if difference < maxhours, do nothing\n",
    "    - if difference >= maxhours, use date from filename\n",
    "4. If the date extracted from file name or file creation/modification date is not in passed year, skipped any change"
   ]
  },
  {
   "cell_type": "code",
   "execution_count": null,
   "id": "bd80c9b1",
   "metadata": {},
   "outputs": [],
   "source": [
    "#| hide\n",
    "nbdev_export()"
   ]
  }
 ],
 "metadata": {
  "kernelspec": {
   "display_name": "Python 3 (ipykernel)",
   "language": "python",
   "name": "python3"
  }
 },
 "nbformat": 4,
 "nbformat_minor": 5
}
