{
 "cells": [
  {
   "cell_type": "raw",
   "id": "ba1ac00b",
   "metadata": {},
   "source": [
    "---\n",
    "description: Utility Functions that can be used in development phase. It includes\n",
    "  all stable utility functions that do not fit in other context.\n",
    "output-file: dev_utils.html\n",
    "title: '`dev_utils` - Development Utilities'\n",
    "\n",
    "---\n",
    "\n"
   ]
  },
  {
   "cell_type": "code",
   "execution_count": null,
   "id": "ecc75122-6b71-441d-97e1-faa4a594e677",
   "metadata": {},
   "outputs": [],
   "source": [
    "#|default_exp dev_utils"
   ]
  },
  {
   "cell_type": "code",
   "execution_count": null,
   "id": "ef96615e-984e-4daf-b085-bd5f0df851d3",
   "metadata": {},
   "outputs": [],
   "source": [
    "#| export\n",
    "import re\n",
    "import sys\n",
    "import functools\n",
    "from __future__ import annotations"
   ]
  },
  {
   "cell_type": "code",
   "execution_count": null,
   "id": "7328549d-dac4-46bf-8a0c-ea86b77318aa",
   "metadata": {},
   "outputs": [],
   "source": [
    "#| export\n",
    "__all__ = ['stack_trace', 'stack_trace_jupyter']"
   ]
  },
  {
   "cell_type": "code",
   "execution_count": null,
   "id": "03f4b7ad-e1cf-49c1-bd5f-59c7c4a93652",
   "metadata": {},
   "outputs": [],
   "source": [
    "#| export\n",
    "class StackTrace():\n",
    "    \"\"\"Capture and prints information on all stack frame executed\"\"\"\n",
    "    def __init__(self, \n",
    "                 with_call:bool=True,      \n",
    "                 with_return:bool=True, \n",
    "                 with_exception:bool=True, \n",
    "                 max_depth:int=-1\n",
    "                ):\n",
    "        self._frame_dict = {}\n",
    "        self._options = set()\n",
    "        self._max_depth = max_depth\n",
    "        if with_call: self._options.add('call')\n",
    "        if with_return: self._options.add('return')\n",
    "        if with_exception: self._options.add('exception')\n",
    "\n",
    "    def __call__(self, \n",
    "                 frame, \n",
    "                 event, \n",
    "                 arg\n",
    "                ):\n",
    "        ret = []\n",
    "        co_name = frame.f_code.co_name\n",
    "        co_filename = frame.f_code.co_filename\n",
    "        co_lineno = frame.f_lineno\n",
    "        if event == 'call':\n",
    "            back_frame = frame.f_back\n",
    "            if back_frame in self._frame_dict:\n",
    "                self._frame_dict[frame] = self._frame_dict[back_frame] + 1\n",
    "            else:\n",
    "                self._frame_dict[frame] = 0\n",
    "\n",
    "        depth = self._frame_dict[frame]\n",
    "\n",
    "        if event in self._options and (self._max_depth<0 or depth <= self._max_depth):\n",
    "            ret.append(co_name)\n",
    "            ret.append(f'[{event}]')\n",
    "            if event == 'return':\n",
    "                ret.append(arg)\n",
    "            elif event == 'exception':\n",
    "                ret.append(repr(arg[0]))\n",
    "            ret.append(f'in {co_filename} line:{co_lineno}')\n",
    "        if ret:\n",
    "            self.print_stack_info(co_filename, ret, depth)\n",
    "        return self\n",
    "\n",
    "    def print_stack_info(self, \n",
    "                         co_filename, \n",
    "                         ret, \n",
    "                         depth\n",
    "                        ):\n",
    "        \"\"\"This methods can be overloaded to customize what is printed out\"\"\"\n",
    "        text = '\\t'.join([str(i) for i in ret])\n",
    "        print(f\"{'  ' * depth}{text}\")"
   ]
  },
  {
   "cell_type": "code",
   "execution_count": null,
   "id": "f0e0f6bc-95f6-44dc-944b-b3c00fec2d17",
   "metadata": {},
   "outputs": [],
   "source": [
    "#| export\n",
    "class StackTraceJupyter(StackTrace):\n",
    "    \"\"\"Prints stack frame information in Jupyter notebook context (filters out jupyter overhead)\"\"\"\n",
    "\n",
    "    def print_stack_info(self, \n",
    "                         co_filename, \n",
    "                         ret, \n",
    "                         depth\n",
    "                        ):\n",
    "        \"\"\"Overload the base class to filter out those calls to Jupyter overhead functions\"\"\"\n",
    "\n",
    "        EXCL_LIBS = ['encodings.*', 'ntpath.*', 'threading.*', 'weakref.*']\n",
    "        EXCL_SITE_PACKAGES = ['colorama', 'ipykernel', 'zmq']\n",
    "\n",
    "        PATH_TO_LIBS_RE = r'^[a-zA-Z]:\\\\([^<>:\\\"/\\\\|?\\*]*)\\\\envs\\\\([^<>:\\\"/\\\\|?\\*]*)\\\\lib'\n",
    "        LIBS = f\"{'|'.join(EXCL_LIBS)}\"\n",
    "        SITE_PACKAGES = f\"{'|'.join(EXCL_SITE_PACKAGES)}\"\n",
    "        MODULE_FILTERS_RE = rf\"{PATH_TO_LIBS_RE}\\\\(({LIBS})|(site-packages\\\\({SITE_PACKAGES}))\\\\.*)\"\n",
    "\n",
    "        pat = re.compile(MODULE_FILTERS_RE)\n",
    "        match = pat.match(co_filename)\n",
    "        \n",
    "        if match is None:\n",
    "            \"\"\"Only print stack frame info for those objects where there is no match\"\"\"\n",
    "            text = '\\t'.join([str(i) for i in ret])\n",
    "            print(f\"{'  ' * depth}{text}\")"
   ]
  },
  {
   "cell_type": "code",
   "execution_count": null,
   "id": "779d490d-5084-45fe-8408-8e5498623122",
   "metadata": {},
   "outputs": [],
   "source": [
    "#| export\n",
    "def stack_trace(**kw):\n",
    "    \"\"\"Function for stack_trace decorator\"\"\"\n",
    "    def entangle(func):\n",
    "        @functools.wraps(func)\n",
    "        def wrapper(*args, **kwargs):\n",
    "            # st = StackTrace(**kw)\n",
    "            st = StackTrace(**kw)\n",
    "            sys.settrace(st)\n",
    "            try:\n",
    "                return func(*args, **kwargs)\n",
    "            finally:\n",
    "                sys.settrace(None)\n",
    "        return wrapper\n",
    "    return entangle"
   ]
  },
  {
   "cell_type": "code",
   "execution_count": null,
   "id": "7be04ebb-afc0-4b30-9533-ea5627046006",
   "metadata": {},
   "outputs": [],
   "source": [
    "#| export\n",
    "def stack_trace_jupyter(**kw):\n",
    "    \"\"\"Function for stack_trace_jupyter decorator\"\"\"\n",
    "    def entangle(func):\n",
    "        @functools.wraps(func)\n",
    "        def wrapper(*args, **kwargs):\n",
    "            # st = StackTrace(**kw)\n",
    "            st = StackTraceJupyter(**kw)\n",
    "            sys.settrace(st)\n",
    "            try:\n",
    "                return func(*args, **kwargs)\n",
    "            finally:\n",
    "                sys.settrace(None)\n",
    "        return wrapper\n",
    "    return entangle"
   ]
  },
  {
   "cell_type": "markdown",
   "id": "bcc23524",
   "metadata": {},
   "source": [
    "## Usage:\n",
    "\n",
    "Several functions, some of them nested and some of them with errors."
   ]
  },
  {
   "cell_type": "code",
   "execution_count": null,
   "id": "2d474966",
   "metadata": {},
   "outputs": [],
   "source": [
    "def foo():\n",
    "        pass\n",
    "\n",
    "def bar():\n",
    "    foo()\n",
    "    return 0\n",
    "\n",
    "def error():\n",
    "    1/0\n",
    "\n",
    "def recur(i):\n",
    "    if i == 0:\n",
    "        return\n",
    "    recur(i-1)"
   ]
  },
  {
   "cell_type": "markdown",
   "id": "ef46693c",
   "metadata": {},
   "source": [
    "Using the `@stack_trace` or `@stack_trace_jupyter` decorator allows a detailled view the trace function by function and where it fails."
   ]
  },
  {
   "cell_type": "code",
   "execution_count": null,
   "id": "4552a4a9",
   "metadata": {},
   "outputs": [
    {
     "name": "stdout",
     "output_type": "stream",
     "text": [
      "test\t[call]\tin /tmp/ipykernel_28345/2975652090.py line:1\n",
      "  bar\t[call]\tin /tmp/ipykernel_28345/2052304305.py line:4\n",
      "    foo\t[call]\tin /tmp/ipykernel_28345/2052304305.py line:1\n",
      "    foo\t[return]\tNone\tin /tmp/ipykernel_28345/2052304305.py line:2\n",
      "  bar\t[return]\t0\tin /tmp/ipykernel_28345/2052304305.py line:6\n",
      "  recur\t[call]\tin /tmp/ipykernel_28345/2052304305.py line:11\n",
      "    recur\t[call]\tin /tmp/ipykernel_28345/2052304305.py line:11\n",
      "      recur\t[call]\tin /tmp/ipykernel_28345/2052304305.py line:11\n",
      "      recur\t[return]\tNone\tin /tmp/ipykernel_28345/2052304305.py line:14\n",
      "    recur\t[return]\tNone\tin /tmp/ipykernel_28345/2052304305.py line:14\n",
      "  recur\t[return]\tNone\tin /tmp/ipykernel_28345/2052304305.py line:14\n",
      "  error\t[call]\tin /tmp/ipykernel_28345/2052304305.py line:8\n",
      "  error\t[exception]\t<class 'ZeroDivisionError'>\tin /tmp/ipykernel_28345/2052304305.py line:9\n",
      "  error\t[return]\tNone\tin /tmp/ipykernel_28345/2052304305.py line:9\n",
      "test\t[exception]\t<class 'ZeroDivisionError'>\tin /tmp/ipykernel_28345/2975652090.py line:5\n",
      "test\t[return]\tNone\tin /tmp/ipykernel_28345/2975652090.py line:5\n"
     ]
    },
    {
     "ename": "ZeroDivisionError",
     "evalue": "division by zero",
     "output_type": "error",
     "traceback": [
      "\u001b[0;31m---------------------------------------------------------------------------\u001b[0m",
      "\u001b[0;31mZeroDivisionError\u001b[0m                         Traceback (most recent call last)",
      "Input \u001b[0;32mIn [19]\u001b[0m, in \u001b[0;36m<cell line: 7>\u001b[0;34m()\u001b[0m\n\u001b[1;32m      4\u001b[0m     recur(\u001b[38;5;241m5\u001b[39m)\n\u001b[1;32m      5\u001b[0m     error()\n\u001b[0;32m----> 7\u001b[0m \u001b[43mtest\u001b[49m\u001b[43m(\u001b[49m\u001b[43m)\u001b[49m\n",
      "Input \u001b[0;32mIn [8]\u001b[0m, in \u001b[0;36mstack_trace.<locals>.entangle.<locals>.wrapper\u001b[0;34m(*args, **kwargs)\u001b[0m\n\u001b[1;32m      9\u001b[0m sys\u001b[38;5;241m.\u001b[39msettrace(st)\n\u001b[1;32m     10\u001b[0m \u001b[38;5;28;01mtry\u001b[39;00m:\n\u001b[0;32m---> 11\u001b[0m     \u001b[38;5;28;01mreturn\u001b[39;00m \u001b[43mfunc\u001b[49m\u001b[43m(\u001b[49m\u001b[38;5;241;43m*\u001b[39;49m\u001b[43margs\u001b[49m\u001b[43m,\u001b[49m\u001b[43m \u001b[49m\u001b[38;5;241;43m*\u001b[39;49m\u001b[38;5;241;43m*\u001b[39;49m\u001b[43mkwargs\u001b[49m\u001b[43m)\u001b[49m\n\u001b[1;32m     12\u001b[0m \u001b[38;5;28;01mfinally\u001b[39;00m:\n\u001b[1;32m     13\u001b[0m     sys\u001b[38;5;241m.\u001b[39msettrace(\u001b[38;5;28;01mNone\u001b[39;00m)\n",
      "Input \u001b[0;32mIn [19]\u001b[0m, in \u001b[0;36mtest\u001b[0;34m()\u001b[0m\n\u001b[1;32m      3\u001b[0m bar()\n\u001b[1;32m      4\u001b[0m recur(\u001b[38;5;241m5\u001b[39m)\n\u001b[0;32m----> 5\u001b[0m \u001b[43merror\u001b[49m\u001b[43m(\u001b[49m\u001b[43m)\u001b[49m\n",
      "Input \u001b[0;32mIn [18]\u001b[0m, in \u001b[0;36merror\u001b[0;34m()\u001b[0m\n\u001b[1;32m      8\u001b[0m \u001b[38;5;28;01mdef\u001b[39;00m \u001b[38;5;21merror\u001b[39m():\n\u001b[0;32m----> 9\u001b[0m     \u001b[38;5;241;43m1\u001b[39;49m\u001b[38;5;241;43m/\u001b[39;49m\u001b[38;5;241;43m0\u001b[39;49m\n",
      "\u001b[0;31mZeroDivisionError\u001b[0m: division by zero"
     ]
    }
   ],
   "source": [
    "@stack_trace(with_return=True, with_exception=True, max_depth=3)\n",
    "def test():\n",
    "    bar()\n",
    "    recur(5)\n",
    "    error()\n",
    "    \n",
    "test()"
   ]
  },
  {
   "cell_type": "code",
   "execution_count": null,
   "id": "361fb765",
   "metadata": {},
   "outputs": [
    {
     "name": "stdout",
     "output_type": "stream",
     "text": [
      "test_jupyter\t[call]\tin /tmp/ipykernel_28345/1371165587.py line:1\n",
      "  bar\t[call]\tin /tmp/ipykernel_28345/2052304305.py line:4\n",
      "    foo\t[call]\tin /tmp/ipykernel_28345/2052304305.py line:1\n",
      "    foo\t[return]\tNone\tin /tmp/ipykernel_28345/2052304305.py line:2\n",
      "  bar\t[return]\t0\tin /tmp/ipykernel_28345/2052304305.py line:6\n",
      "  recur\t[call]\tin /tmp/ipykernel_28345/2052304305.py line:11\n",
      "    recur\t[call]\tin /tmp/ipykernel_28345/2052304305.py line:11\n",
      "      recur\t[call]\tin /tmp/ipykernel_28345/2052304305.py line:11\n",
      "      recur\t[return]\tNone\tin /tmp/ipykernel_28345/2052304305.py line:14\n",
      "    recur\t[return]\tNone\tin /tmp/ipykernel_28345/2052304305.py line:14\n",
      "  recur\t[return]\tNone\tin /tmp/ipykernel_28345/2052304305.py line:14\n",
      "  error\t[call]\tin /tmp/ipykernel_28345/2052304305.py line:8\n",
      "  error\t[exception]\t<class 'ZeroDivisionError'>\tin /tmp/ipykernel_28345/2052304305.py line:9\n",
      "  error\t[return]\tNone\tin /tmp/ipykernel_28345/2052304305.py line:9\n",
      "test_jupyter\t[exception]\t<class 'ZeroDivisionError'>\tin /tmp/ipykernel_28345/1371165587.py line:5\n",
      "test_jupyter\t[return]\tNone\tin /tmp/ipykernel_28345/1371165587.py line:5\n"
     ]
    },
    {
     "ename": "ZeroDivisionError",
     "evalue": "division by zero",
     "output_type": "error",
     "traceback": [
      "\u001b[0;31m---------------------------------------------------------------------------\u001b[0m",
      "\u001b[0;31mZeroDivisionError\u001b[0m                         Traceback (most recent call last)",
      "Input \u001b[0;32mIn [20]\u001b[0m, in \u001b[0;36m<cell line: 7>\u001b[0;34m()\u001b[0m\n\u001b[1;32m      4\u001b[0m     recur(\u001b[38;5;241m5\u001b[39m)\n\u001b[1;32m      5\u001b[0m     error()\n\u001b[0;32m----> 7\u001b[0m \u001b[43mtest_jupyter\u001b[49m\u001b[43m(\u001b[49m\u001b[43m)\u001b[49m\n",
      "Input \u001b[0;32mIn [15]\u001b[0m, in \u001b[0;36mstack_trace_jupyter.<locals>.entangle.<locals>.wrapper\u001b[0;34m(*args, **kwargs)\u001b[0m\n\u001b[1;32m      9\u001b[0m sys\u001b[38;5;241m.\u001b[39msettrace(st)\n\u001b[1;32m     10\u001b[0m \u001b[38;5;28;01mtry\u001b[39;00m:\n\u001b[0;32m---> 11\u001b[0m     \u001b[38;5;28;01mreturn\u001b[39;00m \u001b[43mfunc\u001b[49m\u001b[43m(\u001b[49m\u001b[38;5;241;43m*\u001b[39;49m\u001b[43margs\u001b[49m\u001b[43m,\u001b[49m\u001b[43m \u001b[49m\u001b[38;5;241;43m*\u001b[39;49m\u001b[38;5;241;43m*\u001b[39;49m\u001b[43mkwargs\u001b[49m\u001b[43m)\u001b[49m\n\u001b[1;32m     12\u001b[0m \u001b[38;5;28;01mfinally\u001b[39;00m:\n\u001b[1;32m     13\u001b[0m     sys\u001b[38;5;241m.\u001b[39msettrace(\u001b[38;5;28;01mNone\u001b[39;00m)\n",
      "Input \u001b[0;32mIn [20]\u001b[0m, in \u001b[0;36mtest_jupyter\u001b[0;34m()\u001b[0m\n\u001b[1;32m      3\u001b[0m bar()\n\u001b[1;32m      4\u001b[0m recur(\u001b[38;5;241m5\u001b[39m)\n\u001b[0;32m----> 5\u001b[0m \u001b[43merror\u001b[49m\u001b[43m(\u001b[49m\u001b[43m)\u001b[49m\n",
      "Input \u001b[0;32mIn [18]\u001b[0m, in \u001b[0;36merror\u001b[0;34m()\u001b[0m\n\u001b[1;32m      8\u001b[0m \u001b[38;5;28;01mdef\u001b[39;00m \u001b[38;5;21merror\u001b[39m():\n\u001b[0;32m----> 9\u001b[0m     \u001b[38;5;241;43m1\u001b[39;49m\u001b[38;5;241;43m/\u001b[39;49m\u001b[38;5;241;43m0\u001b[39;49m\n",
      "\u001b[0;31mZeroDivisionError\u001b[0m: division by zero"
     ]
    }
   ],
   "source": [
    "@stack_trace_jupyter(with_return=True, with_exception=True, max_depth=3)\n",
    "def test_jupyter():\n",
    "    bar()\n",
    "    recur(5)\n",
    "    error()\n",
    "\n",
    "test_jupyter()"
   ]
  }
 ],
 "metadata": {
  "kernelspec": {
   "display_name": "Python 3 (ipykernel)",
   "language": "python",
   "name": "python3"
  }
 },
 "nbformat": 4,
 "nbformat_minor": 5
}
