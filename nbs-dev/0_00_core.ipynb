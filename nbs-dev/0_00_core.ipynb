{
 "cells": [
  {
   "cell_type": "markdown",
   "id": "8b349226",
   "metadata": {},
   "source": [
    "# `core`\n",
    "> set of functions and classes used across this package and usable for other packages"
   ]
  },
  {
   "cell_type": "code",
   "execution_count": null,
   "id": "66badc97",
   "metadata": {},
   "outputs": [],
   "source": [
    "#|default_exp core"
   ]
  },
  {
   "cell_type": "code",
   "execution_count": null,
   "id": "5bc6becf",
   "metadata": {},
   "outputs": [],
   "source": [
    "#| export\n",
    "from __future__ import annotations\n",
    "from pathlib import Path\n",
    "from typing import Any, List, Optional\n",
    "\n",
    "import configparser\n",
    "import numpy as np\n",
    "import os\n",
    "import sys\n",
    "import warnings\n",
    "\n",
    "# Try to load Google drive package for Google Colab\n",
    "try: from google.colab import drive\n",
    "except: pass"
   ]
  },
  {
   "cell_type": "code",
   "execution_count": null,
   "id": "e2b082da",
   "metadata": {},
   "outputs": [],
   "source": [
    "#| hide\n",
    "from nbdev import show_doc, nbdev_export"
   ]
  },
  {
   "cell_type": "code",
   "execution_count": null,
   "id": "fdd2f3f2",
   "metadata": {},
   "outputs": [],
   "source": [
    "#| export\n",
    "# Retrieve the package root\n",
    "from ecutilities import __file__\n",
    "CODE_ROOT = Path(__file__).parents[0]\n",
    "PACKAGE_ROOT = Path(__file__).parents[1]"
   ]
  },
  {
   "cell_type": "code",
   "execution_count": null,
   "id": "11bb5b03",
   "metadata": {},
   "outputs": [
    {
     "data": {
      "text/plain": [
       "(Path('/home/vtec/projects/ec-packages/ecutilities/ecutilities'),\n",
       " Path('/home/vtec/projects/ec-packages/ecutilities'))"
      ]
     },
     "execution_count": null,
     "metadata": {},
     "output_type": "execute_result"
    }
   ],
   "source": [
    "#| hide\n",
    "CODE_ROOT, PACKAGE_ROOT"
   ]
  },
  {
   "cell_type": "markdown",
   "id": "5ac363c4",
   "metadata": {},
   "source": [
    "# Validation tools"
   ]
  },
  {
   "cell_type": "code",
   "execution_count": null,
   "id": "0c87b739",
   "metadata": {},
   "outputs": [],
   "source": [
    "#| export\n",
    "def is_type(\n",
    "    obj:Any,                 # object whose type to validate\n",
    "    obj_type:type,           # expected type for `obj`\n",
    "    raise_error:bool=False,  # when True, raise a ValueError is `obj` is not of the right type\n",
    ")-> bool:                    # True when `obj` is of the right type, False otherwise \n",
    "    \"\"\"Validate that `obj` is of type `obj_type`. Raise error in the negative when `raise_error` is `True`\"\"\"\n",
    "    if not isinstance(obj_type, type): raise ValueError(f\"{obj_type} is not a type\")\n",
    "    if isinstance(obj, obj_type): return True\n",
    "    else:\n",
    "        if raise_error: raise ValueError(f\"passed object is not of type {obj_type}\")\n",
    "        else: return False"
   ]
  },
  {
   "cell_type": "code",
   "execution_count": null,
   "id": "49b8cfd5",
   "metadata": {},
   "outputs": [
    {
     "data": {
      "text/markdown": [
       "---\n",
       "\n",
       "[source](https://github.com/vtecftwy/ecutils/blob/master/ecutilities/core.py#L29){target=\"_blank\" style=\"float:right; font-size:smaller\"}\n",
       "\n",
       "### is_type\n",
       "\n",
       ">      is_type (obj:Any, obj_type:type, raise_error:bool=False)\n",
       "\n",
       "Validate that `obj` is of type `obj_type`. Raise error in the negative when `raise_error` is `True`\n",
       "\n",
       "|    | **Type** | **Default** | **Details** |\n",
       "| -- | -------- | ----------- | ----------- |\n",
       "| obj | Any |  | object whose type to validate |\n",
       "| obj_type | type |  | expected type for `obj` |\n",
       "| raise_error | bool | False | when True, raise a ValueError is `obj` is not of the right type |\n",
       "| **Returns** | **bool** |  | **True when `obj` is of the right type, False otherwise** |"
      ],
      "text/plain": [
       "---\n",
       "\n",
       "[source](https://github.com/vtecftwy/ecutils/blob/master/ecutilities/core.py#L29){target=\"_blank\" style=\"float:right; font-size:smaller\"}\n",
       "\n",
       "### is_type\n",
       "\n",
       ">      is_type (obj:Any, obj_type:type, raise_error:bool=False)\n",
       "\n",
       "Validate that `obj` is of type `obj_type`. Raise error in the negative when `raise_error` is `True`\n",
       "\n",
       "|    | **Type** | **Default** | **Details** |\n",
       "| -- | -------- | ----------- | ----------- |\n",
       "| obj | Any |  | object whose type to validate |\n",
       "| obj_type | type |  | expected type for `obj` |\n",
       "| raise_error | bool | False | when True, raise a ValueError is `obj` is not of the right type |\n",
       "| **Returns** | **bool** |  | **True when `obj` is of the right type, False otherwise** |"
      ]
     },
     "execution_count": null,
     "metadata": {},
     "output_type": "execute_result"
    }
   ],
   "source": [
    "show_doc(is_type)"
   ]
  },
  {
   "cell_type": "code",
   "execution_count": null,
   "id": "3499a4b9",
   "metadata": {},
   "outputs": [
    {
     "data": {
      "text/plain": [
       "True"
      ]
     },
     "execution_count": null,
     "metadata": {},
     "output_type": "execute_result"
    }
   ],
   "source": [
    "is_type(obj='this is a string', obj_type=str)"
   ]
  },
  {
   "cell_type": "code",
   "execution_count": null,
   "id": "e67dc36b",
   "metadata": {},
   "outputs": [
    {
     "data": {
      "text/plain": [
       "True"
      ]
     },
     "execution_count": null,
     "metadata": {},
     "output_type": "execute_result"
    }
   ],
   "source": [
    "is_type(obj=np.ones(shape=(2,2)), obj_type=np.ndarray)"
   ]
  },
  {
   "cell_type": "code",
   "execution_count": null,
   "id": "4e4ae004",
   "metadata": {},
   "outputs": [],
   "source": [
    "#| export\n",
    "def validate_path(\n",
    "    path:str|Path,           # path to validate\n",
    "    path_type:str='file',    # type of the target path: `'file'`, `'dir'` or `'any'`\n",
    "    raise_error:bool=False,  # when True, raise a ValueError is path does not a file\n",
    ")-> bool:                    # True when path is a valid path, False otherwise \n",
    "    \"\"\"Validate that path is a Path or str and points to a real file or directory\"\"\"\n",
    "    if isinstance(path, str): \n",
    "        path = Path(path)\n",
    "    if (path_type=='file' and path.is_file()) or (path_type=='dir' and path.is_dir()) :\n",
    "        return True\n",
    "    if path_type=='any' and path.exists():\n",
    "        return True\n",
    "    else:\n",
    "        if raise_error: raise ValueError(f\"No file at {path.absolute()}. Check the path\")\n",
    "        else: return False"
   ]
  },
  {
   "cell_type": "code",
   "execution_count": null,
   "id": "88b9f96d",
   "metadata": {},
   "outputs": [
    {
     "data": {
      "text/markdown": [
       "---\n",
       "\n",
       "[source](https://github.com/vtecftwy/ecutils/blob/master/ecutilities/core.py#L42){target=\"_blank\" style=\"float:right; font-size:smaller\"}\n",
       "\n",
       "### validate_path\n",
       "\n",
       ">      validate_path (path:str|pathlib.Path, path_type:str='file',\n",
       ">                     raise_error:bool=False)\n",
       "\n",
       "Validate that path is a Path or str and points to a real file or directory\n",
       "\n",
       "|    | **Type** | **Default** | **Details** |\n",
       "| -- | -------- | ----------- | ----------- |\n",
       "| path | str \\| Path |  | path to validate |\n",
       "| path_type | str | file | type of the target path: `'file'`, `'dir'` or `'any'` |\n",
       "| raise_error | bool | False | when True, raise a ValueError is path does not a file |\n",
       "| **Returns** | **bool** |  | **True when path is a valid path, False otherwise** |"
      ],
      "text/plain": [
       "---\n",
       "\n",
       "[source](https://github.com/vtecftwy/ecutils/blob/master/ecutilities/core.py#L42){target=\"_blank\" style=\"float:right; font-size:smaller\"}\n",
       "\n",
       "### validate_path\n",
       "\n",
       ">      validate_path (path:str|pathlib.Path, path_type:str='file',\n",
       ">                     raise_error:bool=False)\n",
       "\n",
       "Validate that path is a Path or str and points to a real file or directory\n",
       "\n",
       "|    | **Type** | **Default** | **Details** |\n",
       "| -- | -------- | ----------- | ----------- |\n",
       "| path | str \\| Path |  | path to validate |\n",
       "| path_type | str | file | type of the target path: `'file'`, `'dir'` or `'any'` |\n",
       "| raise_error | bool | False | when True, raise a ValueError is path does not a file |\n",
       "| **Returns** | **bool** |  | **True when path is a valid path, False otherwise** |"
      ]
     },
     "execution_count": null,
     "metadata": {},
     "output_type": "execute_result"
    }
   ],
   "source": [
    "show_doc(validate_path)"
   ]
  },
  {
   "cell_type": "code",
   "execution_count": null,
   "id": "6548a474",
   "metadata": {},
   "outputs": [
    {
     "data": {
      "text/plain": [
       "True"
      ]
     },
     "execution_count": null,
     "metadata": {},
     "output_type": "execute_result"
    }
   ],
   "source": [
    "path_file = Path('../data/img/IMG_001_512px.jpg')\n",
    "validate_path(path_file)"
   ]
  },
  {
   "cell_type": "code",
   "execution_count": null,
   "id": "44662d61",
   "metadata": {},
   "outputs": [
    {
     "data": {
      "text/plain": [
       "True"
      ]
     },
     "execution_count": null,
     "metadata": {},
     "output_type": "execute_result"
    }
   ],
   "source": [
    "validate_path(path_file, path_type='any')"
   ]
  },
  {
   "cell_type": "code",
   "execution_count": null,
   "id": "96ae808a",
   "metadata": {},
   "outputs": [
    {
     "data": {
      "text/plain": [
       "True"
      ]
     },
     "execution_count": null,
     "metadata": {},
     "output_type": "execute_result"
    }
   ],
   "source": [
    "path_dir = Path('../data')\n",
    "validate_path(path_dir, path_type='dir')"
   ]
  },
  {
   "cell_type": "code",
   "execution_count": null,
   "id": "75cc7cd6",
   "metadata": {},
   "outputs": [
    {
     "data": {
      "text/plain": [
       "True"
      ]
     },
     "execution_count": null,
     "metadata": {},
     "output_type": "execute_result"
    }
   ],
   "source": [
    "validate_path(path_dir, path_type='any')"
   ]
  },
  {
   "cell_type": "code",
   "execution_count": null,
   "id": "53df9cd7",
   "metadata": {},
   "outputs": [
    {
     "data": {
      "text/plain": [
       "False"
      ]
     },
     "execution_count": null,
     "metadata": {},
     "output_type": "execute_result"
    }
   ],
   "source": [
    "path_error = Path('../data/img/IIIMG_001_512px.jpg')\n",
    "validate_path(path_error)"
   ]
  },
  {
   "cell_type": "code",
   "execution_count": null,
   "id": "026495f3",
   "metadata": {},
   "outputs": [],
   "source": [
    "#| export\n",
    "def safe_path(\n",
    "    path:str|Path, # path to validate\n",
    ")-> Path:          # validated path returned as a pathlib.Path\n",
    "    \"\"\"Return a Path object when given a valid path as a string or a Path, raise error otherwise\"\"\"\n",
    "    validate_path(path, path_type='any', raise_error=True)\n",
    "    if isinstance(path, str): \n",
    "        path = Path(path)\n",
    "    return path"
   ]
  },
  {
   "cell_type": "code",
   "execution_count": null,
   "id": "f6138064",
   "metadata": {},
   "outputs": [
    {
     "data": {
      "text/markdown": [
       "---\n",
       "\n",
       "[source](https://github.com/vtecftwy/ecutils/blob/master/ecutilities/core.py#L59){target=\"_blank\" style=\"float:right; font-size:smaller\"}\n",
       "\n",
       "### safe_path\n",
       "\n",
       ">      safe_path (path:str|pathlib.Path)\n",
       "\n",
       "Return a Path object when given a valid path as a string or a Path, raise error otherwise\n",
       "\n",
       "|    | **Type** | **Details** |\n",
       "| -- | -------- | ----------- |\n",
       "| path | str \\| Path | path to validate |\n",
       "| **Returns** | **Path** | **validated path returned as a pathlib.Path** |"
      ],
      "text/plain": [
       "---\n",
       "\n",
       "[source](https://github.com/vtecftwy/ecutils/blob/master/ecutilities/core.py#L59){target=\"_blank\" style=\"float:right; font-size:smaller\"}\n",
       "\n",
       "### safe_path\n",
       "\n",
       ">      safe_path (path:str|pathlib.Path)\n",
       "\n",
       "Return a Path object when given a valid path as a string or a Path, raise error otherwise\n",
       "\n",
       "|    | **Type** | **Details** |\n",
       "| -- | -------- | ----------- |\n",
       "| path | str \\| Path | path to validate |\n",
       "| **Returns** | **Path** | **validated path returned as a pathlib.Path** |"
      ]
     },
     "execution_count": null,
     "metadata": {},
     "output_type": "execute_result"
    }
   ],
   "source": [
    "show_doc(safe_path)"
   ]
  },
  {
   "cell_type": "markdown",
   "id": "55e2d8a1",
   "metadata": {},
   "source": [
    "# Access key files and directories"
   ]
  },
  {
   "cell_type": "code",
   "execution_count": null,
   "id": "084630c6",
   "metadata": {},
   "outputs": [],
   "source": [
    "#| export\n",
    "def get_config_value(section:str,                        # section in the configparser cfg file\n",
    "                     key:str,                            # key in the selected section\n",
    "                     path_to_config_file:Path|str=None   # path to the cfg file\n",
    "                    )-> Any :                            # the value corresponding to section>key>value \n",
    "    \"\"\"Returns the value corresponding to the key-value pair in the configuration file (configparser format)\n",
    "    \n",
    "    When no path_to_config_file is provided, the function will try to find the file in: the system's `home`, \n",
    "    the parent directory of the current directory, and the Google drive directory mounted to the Colab environment.\n",
    "    \"\"\"\n",
    "    if path_to_config_file is None:\n",
    "        # try several possible file locations\n",
    "        possible_paths = [\n",
    "            Path().home(), \n",
    "            Path('..').resolve(),\n",
    "            Path('/content/gdrive/MyDrive/private-across-accounts/config-api-keys.cfg')]\n",
    "        for path in possible_paths:\n",
    "            if (path/'config-api-keys.cfg').is_file():\n",
    "                path_to_config_file = path/'config-api-keys.cfg'\n",
    "                break\n",
    "            else:\n",
    "                raise ValueError(f\"No config file found in possible_paths. Please provide a specific path\")\n",
    "    safe_path(path_to_config_file)\n",
    "    print(f\"Using config file at {path_to_config_file.absolute()}\")\n",
    "\n",
    "    configuration = configparser.ConfigParser()\n",
    "    configuration.read(path_to_config_file)\n",
    "    return configuration[section][key]"
   ]
  },
  {
   "cell_type": "code",
   "execution_count": null,
   "id": "200b0a0a",
   "metadata": {},
   "outputs": [
    {
     "data": {
      "text/markdown": [
       "---\n",
       "\n",
       "[source](https://github.com/vtecftwy/ecutils/blob/master/ecutilities/core.py#L69){target=\"_blank\" style=\"float:right; font-size:smaller\"}\n",
       "\n",
       "### get_config_value\n",
       "\n",
       ">      get_config_value (section:str, key:str,\n",
       ">                        path_to_config_file:pathlib.Path|str=None)\n",
       "\n",
       "Returns the value corresponding to the key-value pair in the configuration file (configparser format)\n",
       "\n",
       "When no path_to_config_file is provided, the function will try to find the file in: the system's `home`, \n",
       "the parent directory of the current directory, and the Google drive directory mounted to the Colab environment.\n",
       "\n",
       "|    | **Type** | **Default** | **Details** |\n",
       "| -- | -------- | ----------- | ----------- |\n",
       "| section | str |  | section in the configparser cfg file |\n",
       "| key | str |  | key in the selected section |\n",
       "| path_to_config_file | Path \\| str | None | path to the cfg file |\n",
       "| **Returns** | **Any** |  | **the value corresponding to section>key>value** |"
      ],
      "text/plain": [
       "---\n",
       "\n",
       "[source](https://github.com/vtecftwy/ecutils/blob/master/ecutilities/core.py#L69){target=\"_blank\" style=\"float:right; font-size:smaller\"}\n",
       "\n",
       "### get_config_value\n",
       "\n",
       ">      get_config_value (section:str, key:str,\n",
       ">                        path_to_config_file:pathlib.Path|str=None)\n",
       "\n",
       "Returns the value corresponding to the key-value pair in the configuration file (configparser format)\n",
       "\n",
       "When no path_to_config_file is provided, the function will try to find the file in: the system's `home`, \n",
       "the parent directory of the current directory, and the Google drive directory mounted to the Colab environment.\n",
       "\n",
       "|    | **Type** | **Default** | **Details** |\n",
       "| -- | -------- | ----------- | ----------- |\n",
       "| section | str |  | section in the configparser cfg file |\n",
       "| key | str |  | key in the selected section |\n",
       "| path_to_config_file | Path \\| str | None | path to the cfg file |\n",
       "| **Returns** | **Any** |  | **the value corresponding to section>key>value** |"
      ]
     },
     "execution_count": null,
     "metadata": {},
     "output_type": "execute_result"
    }
   ],
   "source": [
    "show_doc(get_config_value)"
   ]
  },
  {
   "cell_type": "markdown",
   "id": "c5a0b336",
   "metadata": {},
   "source": [
    "By defaults (`path_to_config_file is None`), it is assumed that the configuration file is located in the `private-accross-accounts directory` on google drive. If not, a path to the file (`Path` or `str`) must be provided.\n",
    "\n",
    "The configuration file is expected to be in the format used by the standard module `configparser` [documentation](https://docs.python.org/3/library/configparser.html)\n",
    "\n",
    "```ascii\n",
    "    [DEFAULT]\n",
    "    key = value\n",
    "\n",
    "    [section_name]\n",
    "    key = value\n",
    "\n",
    "    [section_name]\n",
    "    key = value\n",
    "```"
   ]
  },
  {
   "cell_type": "code",
   "execution_count": null,
   "id": "97e2a7a8",
   "metadata": {},
   "outputs": [
    {
     "name": "stdout",
     "output_type": "stream",
     "text": [
      "[azure]\n",
      "azure-api-key= dummy_api_key_for_azure\n",
      "\n",
      "[kaggle]\n",
      "kaggle_username = not_my_real_kaggle_name\n",
      "kaggle_key = dummy_api_key_for_kaggle\n",
      "\n",
      "[wandb]\n",
      "api_key = dummy_api_key_for_wandb\n",
      "\n"
     ]
    }
   ],
   "source": [
    "path2cfg = Path('../config-sample.cfg').resolve()\n",
    "assert path2cfg.is_file(), f\"{path2cfg} is not a file\"\n",
    "\n",
    "with open(path2cfg, 'r') as fp:\n",
    "    print(fp.read())"
   ]
  },
  {
   "cell_type": "code",
   "execution_count": null,
   "id": "cd33e1c3",
   "metadata": {},
   "outputs": [
    {
     "name": "stdout",
     "output_type": "stream",
     "text": [
      "Using config file at /home/vtec/projects/ec-packages/ecutilities/config-sample.cfg\n"
     ]
    }
   ],
   "source": [
    "value = get_config_value(section='azure', key='azure-api-key', path_to_config_file=path2cfg)\n",
    "assert value == 'dummy_api_key_for_azure'"
   ]
  },
  {
   "cell_type": "code",
   "execution_count": null,
   "id": "d6d62237",
   "metadata": {},
   "outputs": [
    {
     "name": "stdout",
     "output_type": "stream",
     "text": [
      "Using config file at /home/vtec/projects/ec-packages/ecutilities/config-sample.cfg\n"
     ]
    }
   ],
   "source": [
    "value = get_config_value(section='kaggle', key='kaggle_username', path_to_config_file=path2cfg)\n",
    "assert value == 'not_my_real_kaggle_name'"
   ]
  },
  {
   "cell_type": "code",
   "execution_count": null,
   "id": "cdd7af41",
   "metadata": {},
   "outputs": [
    {
     "name": "stdout",
     "output_type": "stream",
     "text": [
      "Using config file at /home/vtec/projects/ec-packages/ecutilities/config-sample.cfg\n"
     ]
    }
   ],
   "source": [
    "value = get_config_value(section='wandb', key='api_key', path_to_config_file=path2cfg)\n",
    "assert value == 'dummy_api_key_for_wandb'"
   ]
  },
  {
   "cell_type": "code",
   "execution_count": null,
   "id": "1b17eb02",
   "metadata": {},
   "outputs": [
    {
     "name": "stdout",
     "output_type": "stream",
     "text": [
      "Using config file at /home/vtec/config-api-keys.cfg\n"
     ]
    }
   ],
   "source": [
    "#|eval  false\n",
    "value = get_config_value(section='dummy', key='dummy-user-id')\n",
    "assert value.startswith('dummy-userID-from')"
   ]
  },
  {
   "cell_type": "markdown",
   "id": "a2c4a464",
   "metadata": {},
   "source": [
    "# Setup utilities"
   ]
  },
  {
   "cell_type": "code",
   "execution_count": null,
   "id": "dc5a402b",
   "metadata": {},
   "outputs": [],
   "source": [
    "#| export\n",
    "class CurrentMachine:\n",
    "    \"\"\"Callable class to represent info on the current machine. When called, instance return a dict all `attrs`:\n",
    "    \n",
    "    - `os`\n",
    "    - `home` path\n",
    "    - `is_local`, `is_colab`, `is_kaggle`\n",
    "    - `p2config` path to the config file\n",
    "    - `package_root` path to the root of the package root directory\n",
    "    \"\"\"\n",
    "    \n",
    "    _instance = None\n",
    "    _config_dir = '.ecutilities'\n",
    "    _config_fname = 'ecutilities.cfg'\n",
    "\n",
    "    def __new__(cls, *args, **kwargs):\n",
    "        # Create instance if it does not exist yet\n",
    "        if cls._instance is None:\n",
    "            cls.home = Path.home().resolve()\n",
    "            cls.p2config = cls.home / cls._config_dir / cls._config_fname\n",
    "            cls.package_root = Path(__file__).parents[1]\n",
    "            cls._instance = super().__new__(cls)\n",
    "        return cls._instance\n",
    "    \n",
    "    def __init__(\n",
    "        self, \n",
    "        mount_gdrive:bool=True  # True to mount Google Drive if running on Colab\n",
    "        ):\n",
    "            self.is_colab = 'google.colab' in sys.modules       \n",
    "            if self.is_colab and mount_gdrive:\n",
    "                drive.mount('/content/gdrive')\n",
    "                self.gdrive = Path('/content/gdrive/MyDrive')\n",
    "\n",
    "            self.is_kaggle = 'kaggle_web_client' in sys.modules\n",
    "            if self.is_kaggle:\n",
    "                raise NotImplemented(f\"ProjectFileSystem is not implemented for Kaggle yet\")\n",
    "\n",
    "            if not self.is_colab and not self.is_kaggle and not self.is_local:\n",
    "                msg = \"\"\"\n",
    "                      Code does not seem to run on the cloud but computer is not registered as local\n",
    "                      If you are running on a local computer, you must register it as local by running\n",
    "                        `ProjectFileSystem().register_as_local()`\n",
    "                      before you can use the ProjectFileSystem class.\n",
    "                      \"\"\"\n",
    "                warnings.warn(msg, UserWarning)\n",
    "\n",
    "    def __call__(self): \n",
    "        attrs = 'os home is_local is_colab is_kaggle p2config package_root'.split()\n",
    "        d = {k: getattr(self, k,None) for k in attrs}\n",
    "        return d\n",
    "\n",
    "    def read_config(self):\n",
    "        \"\"\"Read config from the configuration file if it exists and return an empty config in does not\"\"\"\n",
    "        cfg = configparser.ConfigParser()\n",
    "        if self.p2config.is_file(): \n",
    "            cfg.read(self.p2config)\n",
    "        else:\n",
    "            cfg.add_section('Infra')\n",
    "        return cfg\n",
    "    \n",
    "    def register_as_local(self):\n",
    "        \"\"\"Update the configuration file to register the machine as local machine\"\"\"\n",
    "        cfg = self.read_config()\n",
    "        os.makedirs(self.home/self._config_dir, exist_ok=True)\n",
    "        cfg['Infra']['registered_as_local'] = 'True'\n",
    "        with open(self.p2config, 'w') as fp:\n",
    "            cfg.write(fp)\n",
    "        return cfg\n",
    "  \n",
    "    def deregister_as_local(self):\n",
    "        \"\"\"Update the configuration file to deregister the machine from local machine status\"\"\"\n",
    "        cfg = self.read_config()\n",
    "        os.makedirs(self.home/self._config_dir, exist_ok=True)\n",
    "        cfg['Infra']['registered_as_local'] = 'False'\n",
    "        with open(self.p2config, 'w') as fp:\n",
    "            cfg.write(fp)\n",
    "        return cfg\n",
    "\n",
    "    @property\n",
    "    def home(self): return Path.home().absolute()\n",
    "    \n",
    "    @property\n",
    "    def os(self): return sys.platform\n",
    "\n",
    "    @property\n",
    "    def p2config(self): return self.home / self._config_dir / self._config_fname\n",
    "           \n",
    "    @property\n",
    "    def is_local(self):\n",
    "        \"\"\"Return `True` if the current machine was registered as a local machine\"\"\"\n",
    "        cfg = self.read_config()\n",
    "        return cfg['Infra'].getboolean('registered_as_local', False)\n"
   ]
  },
  {
   "cell_type": "code",
   "execution_count": null,
   "id": "bd9d3dc9",
   "metadata": {},
   "outputs": [
    {
     "data": {
      "text/markdown": [
       "---\n",
       "\n",
       "[source](https://github.com/vtecftwy/ecutils/blob/master/ecutilities/core.py#L98){target=\"_blank\" style=\"float:right; font-size:smaller\"}\n",
       "\n",
       "### CurrentMachine\n",
       "\n",
       ">      CurrentMachine (*args, **kwargs)\n",
       "\n",
       "Callable class to represent info on the current machine. When called, instance return a dict all `attrs`:\n",
       "\n",
       "- `os`\n",
       "- `home` path\n",
       "- `is_local`, `is_colab`, `is_kaggle`\n",
       "- `p2config` path to the config file\n",
       "- `package_root` path to the root of the package root directory"
      ],
      "text/plain": [
       "---\n",
       "\n",
       "[source](https://github.com/vtecftwy/ecutils/blob/master/ecutilities/core.py#L98){target=\"_blank\" style=\"float:right; font-size:smaller\"}\n",
       "\n",
       "### CurrentMachine\n",
       "\n",
       ">      CurrentMachine (*args, **kwargs)\n",
       "\n",
       "Callable class to represent info on the current machine. When called, instance return a dict all `attrs`:\n",
       "\n",
       "- `os`\n",
       "- `home` path\n",
       "- `is_local`, `is_colab`, `is_kaggle`\n",
       "- `p2config` path to the config file\n",
       "- `package_root` path to the root of the package root directory"
      ]
     },
     "execution_count": null,
     "metadata": {},
     "output_type": "execute_result"
    }
   ],
   "source": [
    "show_doc(CurrentMachine)"
   ]
  },
  {
   "cell_type": "code",
   "execution_count": null,
   "id": "df57f96a",
   "metadata": {},
   "outputs": [
    {
     "data": {
      "text/plain": [
       "{'os': 'linux',\n",
       " 'home': Path('/home/vtec'),\n",
       " 'is_local': True,\n",
       " 'is_colab': False,\n",
       " 'is_kaggle': False,\n",
       " 'p2config': Path('/home/vtec/.ecutilities/ecutilities.cfg'),\n",
       " 'package_root': Path('/home/vtec/projects/ec-packages/ecutilities')}"
      ]
     },
     "execution_count": null,
     "metadata": {},
     "output_type": "execute_result"
    }
   ],
   "source": [
    "machine = CurrentMachine()\n",
    "machine()"
   ]
  },
  {
   "cell_type": "code",
   "execution_count": null,
   "id": "65280b34",
   "metadata": {},
   "outputs": [],
   "source": [
    "#| hide\n",
    "machine.deregister_as_local();"
   ]
  },
  {
   "cell_type": "code",
   "execution_count": null,
   "id": "351a638b",
   "metadata": {},
   "outputs": [
    {
     "data": {
      "text/plain": [
       "(False, False, False)"
      ]
     },
     "execution_count": null,
     "metadata": {},
     "output_type": "execute_result"
    }
   ],
   "source": [
    "machine.is_local, machine.is_colab, machine.is_kaggle"
   ]
  },
  {
   "cell_type": "markdown",
   "id": "f596c7a0",
   "metadata": {},
   "source": [
    "This machine is not registered a local machine, but is also not running in the cloud. We should register it as a local machine with `register_as_local`"
   ]
  },
  {
   "cell_type": "code",
   "execution_count": null,
   "id": "c0adac92",
   "metadata": {},
   "outputs": [
    {
     "data": {
      "text/markdown": [
       "---\n",
       "\n",
       "[source](https://github.com/vtecftwy/ecutils/blob/master/ecutilities/core.py#L157){target=\"_blank\" style=\"float:right; font-size:smaller\"}\n",
       "\n",
       "### CurrentMachine.register_as_local\n",
       "\n",
       ">      CurrentMachine.register_as_local ()\n",
       "\n",
       "Update the configuration file to register the machine as local machine"
      ],
      "text/plain": [
       "---\n",
       "\n",
       "[source](https://github.com/vtecftwy/ecutils/blob/master/ecutilities/core.py#L157){target=\"_blank\" style=\"float:right; font-size:smaller\"}\n",
       "\n",
       "### CurrentMachine.register_as_local\n",
       "\n",
       ">      CurrentMachine.register_as_local ()\n",
       "\n",
       "Update the configuration file to register the machine as local machine"
      ]
     },
     "execution_count": null,
     "metadata": {},
     "output_type": "execute_result"
    }
   ],
   "source": [
    "show_doc(CurrentMachine.register_as_local)"
   ]
  },
  {
   "cell_type": "markdown",
   "id": "cd761fa8",
   "metadata": {},
   "source": [
    "Use this method to register the current machine as local machine. Only needs to be used once on a machine. Do not use on cloud VMs"
   ]
  },
  {
   "cell_type": "code",
   "execution_count": null,
   "id": "376bc682",
   "metadata": {},
   "outputs": [
    {
     "data": {
      "text/plain": [
       "(True, False, False)"
      ]
     },
     "execution_count": null,
     "metadata": {},
     "output_type": "execute_result"
    }
   ],
   "source": [
    "machine.register_as_local()\n",
    "machine.is_local, machine.is_colab, machine.is_kaggle"
   ]
  },
  {
   "cell_type": "markdown",
   "id": "3d73b958",
   "metadata": {},
   "source": [
    "> **Technical Note**:\n",
    ">\n",
    "> The configuration file is located at a standard location, which varies depending on the OS:\n",
    "> \n",
    "> - Windows:\n",
    ">    - home is `C:\\Users\\username`\n",
    ">    - application data in `C:\\Users\\username\\AppData/Local/...` or `C:\\Users\\username\\AppData\\Roaming\\...` (see [StackExchange](https://superuser.com/questions/21458/why-are-there-directories-called-local-locallow-and-roaming-under-users-user))\n",
    ">    - application also can be loaded under a dedicated directory under `C:\\Users\\username` like `C:\\Users\\username\\.conda\\...`\n",
    ">\n",
    "> - Linux:\n",
    ">     - home is `/home/username`\n",
    ">     - application data in a file or dedicated directory `/home/username/` s.a.:\n",
    ">         - file in home directory, e.g. `.gitconfig`\n",
    ">         - file in an application dedicated directory, e.g. `/home/username/.conda/...`\n",
    "> \n",
    "> `ecutilities` places the configuration file in a dedicated directory in the home directory:\n",
    "> - `C:\\Users\\username\\.ecutilities\\ecutilities.cfg`\n",
    "> - `/home/username/.ecutilities/ecutilities.cfg`\n",
    "> \n",
    "> \n",
    "> Retrieve the OS:\n",
    "> ```python\n",
    "> sys.platform\n",
    "> ```\n",
    "> ```shell\n",
    "> win32           with Windows\n",
    "> linux           with linux\n",
    "> darwin          with macOs\n",
    "> ```\n",
    "> \n",
    "> Accessing the correct path depending on the OS:\n",
    "> ```python\n",
    "> Path().home().absolute()\n",
    "> ```\n",
    "> ```shell\n",
    "> WindowsPath('C:/Users/username') with Windows\n",
    "> Path('/home/username')           with linux\n",
    "> ``` \n",
    "> "
   ]
  },
  {
   "cell_type": "code",
   "execution_count": null,
   "id": "c93f6add",
   "metadata": {},
   "outputs": [],
   "source": [
    "#| export\n",
    "class ProjectFileSystem(CurrentMachine):\n",
    "    \"\"\"Class representing the project file system and key subfolders (data, nbs, src)\n",
    "    \n",
    "    Set paths to key directories, according to whether the code is running locally or in the cloud.\n",
    "    Give access to path to these key folders and information about the environment.\n",
    "    \"\"\"\n",
    "\n",
    "    _instance = None\n",
    "    _config_dir = '.ecutilities'\n",
    "    _config_fname = 'ecutilities.cfg'\n",
    "    _shared_project_dir = None\n",
    "    \n",
    "    def create_project_file_system(\n",
    "        self, \n",
    "        p2project_root,     # path to project root, where all subfolder will be located\n",
    "        overwrite=False     # overwrite current folders if they exist when True (not implemented yet)\n",
    "        ):\n",
    "        \"\"\"Create a standard project file system with the following structure:\n",
    "        \n",
    "        ```\n",
    "            project_root\n",
    "                |--- data   all data files\n",
    "                |--- nbs    all notebooks for work and experiments\n",
    "                |--- src    all scripts and code\n",
    "        ```\n",
    "        \"\"\"\n",
    "        template = 'data nbs src'.split()\n",
    "        path = safe_path(p2project_root)\n",
    "        os.makedirs(path, exist_ok=True)\n",
    "        for subdir in template:\n",
    "            print(path/subdir)\n",
    "            os.makedirs(path/subdir, exist_ok=True)\n",
    "        print(f\"Created project file system in {path}\")\n",
    "\n",
    "    @property\n",
    "    def project_root(self):\n",
    "        #TODO: this code is not correct. It only works when installed in the same folder as the project.\n",
    "        if self.is_local:\n",
    "            return PACKAGE_ROOT\n",
    "        elif self.is_colab:\n",
    "            return self.gdrive / self._shared_project_dir\n",
    "        elif self.is_kaggle:\n",
    "            raise NotImplemented(f\"ProjectFileSystem is not implemented for Kaggle yet\")\n",
    "        else:\n",
    "            raise ValueError('Not running locally, on Colab or on Kaggle')\n",
    "\n",
    "    @property\n",
    "    def data(self): return self.project_root / 'data'\n",
    "\n",
    "    @property\n",
    "    def nbs(self): return self.project_root / 'nbs'        "
   ]
  },
  {
   "cell_type": "code",
   "execution_count": null,
   "id": "89d3e5c9",
   "metadata": {},
   "outputs": [
    {
     "data": {
      "text/plain": [
       "{'os': 'linux',\n",
       " 'home': Path('/home/vtec'),\n",
       " 'is_local': True,\n",
       " 'is_colab': False,\n",
       " 'is_kaggle': False,\n",
       " 'p2config': Path('/home/vtec/.ecutilities/ecutilities.cfg'),\n",
       " 'package_root': Path('/home/vtec/projects/ec-packages/ecutilities')}"
      ]
     },
     "execution_count": null,
     "metadata": {},
     "output_type": "execute_result"
    }
   ],
   "source": [
    "pfs = ProjectFileSystem()\n",
    "pfs()"
   ]
  },
  {
   "cell_type": "code",
   "execution_count": null,
   "id": "5d59a862",
   "metadata": {},
   "outputs": [
    {
     "data": {
      "text/markdown": [
       "---\n",
       "\n",
       "[source](https://github.com/vtecftwy/ecutils/blob/master/ecutilities/core.py#L204){target=\"_blank\" style=\"float:right; font-size:smaller\"}\n",
       "\n",
       "### ProjectFileSystem.create_project_file_system\n",
       "\n",
       ">      ProjectFileSystem.create_project_file_system (p2project_root,\n",
       ">                                                    overwrite=False)\n",
       "\n",
       "Create a standard project file system with the following structure:\n",
       "\n",
       "```\n",
       "    project_root\n",
       "        |--- data   all data files\n",
       "        |--- nbs    all notebooks for work and experiments\n",
       "        |--- src    all scripts and code\n",
       "```\n",
       "\n",
       "|    | **Type** | **Default** | **Details** |\n",
       "| -- | -------- | ----------- | ----------- |\n",
       "| p2project_root |  |  | path to project root, where all subfolder will be located |\n",
       "| overwrite | bool | False | overwrite current folders if they exist when True (not implemented yet) |"
      ],
      "text/plain": [
       "---\n",
       "\n",
       "[source](https://github.com/vtecftwy/ecutils/blob/master/ecutilities/core.py#L204){target=\"_blank\" style=\"float:right; font-size:smaller\"}\n",
       "\n",
       "### ProjectFileSystem.create_project_file_system\n",
       "\n",
       ">      ProjectFileSystem.create_project_file_system (p2project_root,\n",
       ">                                                    overwrite=False)\n",
       "\n",
       "Create a standard project file system with the following structure:\n",
       "\n",
       "```\n",
       "    project_root\n",
       "        |--- data   all data files\n",
       "        |--- nbs    all notebooks for work and experiments\n",
       "        |--- src    all scripts and code\n",
       "```\n",
       "\n",
       "|    | **Type** | **Default** | **Details** |\n",
       "| -- | -------- | ----------- | ----------- |\n",
       "| p2project_root |  |  | path to project root, where all subfolder will be located |\n",
       "| overwrite | bool | False | overwrite current folders if they exist when True (not implemented yet) |"
      ]
     },
     "execution_count": null,
     "metadata": {},
     "output_type": "execute_result"
    }
   ],
   "source": [
    "show_doc(ProjectFileSystem.create_project_file_system)"
   ]
  },
  {
   "cell_type": "code",
   "execution_count": null,
   "id": "efcea5b2",
   "metadata": {},
   "outputs": [
    {
     "name": "stdout",
     "output_type": "stream",
     "text": [
      "/home/vtec/projects/ec-packages/ecutilities/data\n",
      "/home/vtec/projects/ec-packages/ecutilities/nbs\n",
      "/home/vtec/projects/ec-packages/ecutilities/src\n",
      "Created project file system in /home/vtec/projects/ec-packages/ecutilities\n"
     ]
    }
   ],
   "source": [
    "pfs.create_project_file_system(Path('/home/vtec/projects/ec-packages/ecutilities'))"
   ]
  },
  {
   "cell_type": "markdown",
   "id": "ad0e89fb",
   "metadata": {},
   "source": [
    "# File structure exploration"
   ]
  },
  {
   "cell_type": "code",
   "execution_count": null,
   "id": "070a6528",
   "metadata": {},
   "outputs": [],
   "source": [
    "#| export\n",
    "def files_in_tree(\n",
    "    path: str|Path,               # path to the directory to scan  \n",
    "    pattern: str|None = None      # pattern (glob style) to match in file name to filter the content\n",
    "):\n",
    "    \"\"\"List files in directory and its subdiretories, print tree starting from parent directory\"\"\"\n",
    "    validate_path(path, path_type='dir', raise_error=True)\n",
    "\n",
    "    pattern = '*' if pattern is None else f\"*{pattern}*\"\n",
    "    parents = [p.name for p in path.parents]\n",
    "    paths = []\n",
    "    pad = ' ' * 2\n",
    "    idx = 0\n",
    "    print(f\"{parents[0]}\")\n",
    "    print(f\"{pad}|--{path.name}\")\n",
    "    for f in [p for p in path.glob(pattern) if p.is_file()]:\n",
    "        paths.append(f)\n",
    "        print(f\"{pad}|{pad*2}|--{f.name} ({idx})\")\n",
    "        idx += 1\n",
    "    for d in [p for p in path.iterdir() if p.is_dir()]:\n",
    "        print(f\"{pad}|{pad*2}|--{d.name}\")\n",
    "        for f in [p for p in d.glob(pattern) if p.is_file()]:\n",
    "            paths.append(f)\n",
    "            print(f\"{pad}|{pad*2}|{pad*2}|--{f.name} ({idx})\")\n",
    "            idx += 1\n",
    "    return paths"
   ]
  },
  {
   "cell_type": "code",
   "execution_count": null,
   "id": "6defc985",
   "metadata": {},
   "outputs": [
    {
     "data": {
      "text/markdown": [
       "---\n",
       "\n",
       "[source](https://github.com/vtecftwy/ecutils/blob/master/ecutilities/core.py#L243){target=\"_blank\" style=\"float:right; font-size:smaller\"}\n",
       "\n",
       "### files_in_tree\n",
       "\n",
       ">      files_in_tree (path:str|pathlib.Path, pattern:str|None=None)\n",
       "\n",
       "List files in directory and its subdiretories, print tree starting from parent directory\n",
       "\n",
       "|    | **Type** | **Default** | **Details** |\n",
       "| -- | -------- | ----------- | ----------- |\n",
       "| path | str \\| Path |  | path to the directory to scan |\n",
       "| pattern | str \\| None | None | pattern (glob style) to match in file name to filter the content |"
      ],
      "text/plain": [
       "---\n",
       "\n",
       "[source](https://github.com/vtecftwy/ecutils/blob/master/ecutilities/core.py#L243){target=\"_blank\" style=\"float:right; font-size:smaller\"}\n",
       "\n",
       "### files_in_tree\n",
       "\n",
       ">      files_in_tree (path:str|pathlib.Path, pattern:str|None=None)\n",
       "\n",
       "List files in directory and its subdiretories, print tree starting from parent directory\n",
       "\n",
       "|    | **Type** | **Default** | **Details** |\n",
       "| -- | -------- | ----------- | ----------- |\n",
       "| path | str \\| Path |  | path to the directory to scan |\n",
       "| pattern | str \\| None | None | pattern (glob style) to match in file name to filter the content |"
      ]
     },
     "execution_count": null,
     "metadata": {},
     "output_type": "execute_result"
    }
   ],
   "source": [
    "show_doc(files_in_tree)"
   ]
  },
  {
   "cell_type": "code",
   "execution_count": null,
   "id": "bc64fca7",
   "metadata": {},
   "outputs": [
    {
     "name": "stdout",
     "output_type": "stream",
     "text": [
      "/home/vtec/projects/ec-packages/ecutilities/nbs-dev \n",
      "\n",
      "ecutilities\n",
      "  |--nbs-dev\n",
      "  |    |--0_02_plotting.ipynb (0)\n",
      "  |    |--2_01_image_utils.ipynb (1)\n",
      "  |    |--1_01_eda_stats_utils.ipynb (2)\n",
      "  |    |--0_01_ipython.ipynb (3)\n",
      "  |    |--0_00_core.ipynb (4)\n",
      "  |    |--.last_checked (5)\n",
      "  |    |--sidebar.yml (6)\n",
      "  |    |--1_02_ml.ipynb (7)\n",
      "  |    |--index.ipynb (8)\n",
      "  |    |--nbdev.yml (9)\n",
      "  |    |--9_01_dev_utils.ipynb (10)\n",
      "  |    |--styles.css (11)\n",
      "  |    |--_quarto.yml (12)\n",
      "  |    |--.ipynb_checkpoints\n",
      "  |    |    |--0_02_plotting-checkpoint.ipynb (13)\n",
      "  |    |    |--9_01_dev_utils-checkpoint.ipynb (14)\n",
      "  |    |    |--0_01_ipython-checkpoint.ipynb (15)\n",
      "  |    |    |--0_00_core-checkpoint.ipynb (16)\n",
      "  |    |    |--1_01_eda_stats_utils-checkpoint.ipynb (17)\n",
      "  |    |    |--index-checkpoint.ipynb (18)\n",
      "  |    |    |--2_01_image_utils-checkpoint.ipynb (19)\n",
      "  |    |    |--1_02_ml-checkpoint.ipynb (20)\n",
      "List of 21 files when unfiltered\n"
     ]
    }
   ],
   "source": [
    "p2dir = Path('').resolve()\n",
    "print(p2dir, '\\n')\n",
    "\n",
    "files = files_in_tree(p2dir)\n",
    "print(f\"List of {len(files)} files when unfiltered\")"
   ]
  },
  {
   "cell_type": "markdown",
   "id": "778217d0",
   "metadata": {},
   "source": [
    "Use `pattern` to filter the paths to return (using `glob` syntax)"
   ]
  },
  {
   "cell_type": "code",
   "execution_count": null,
   "id": "4439d3e5",
   "metadata": {},
   "outputs": [
    {
     "name": "stdout",
     "output_type": "stream",
     "text": [
      "ecutilities\n",
      "  |--nbs-dev\n",
      "  |    |--0_02_plotting.ipynb (0)\n",
      "  |    |--2_01_image_utils.ipynb (1)\n",
      "  |    |--1_01_eda_stats_utils.ipynb (2)\n",
      "  |    |--0_01_ipython.ipynb (3)\n",
      "  |    |--0_00_core.ipynb (4)\n",
      "  |    |--1_02_ml.ipynb (5)\n",
      "  |    |--index.ipynb (6)\n",
      "  |    |--9_01_dev_utils.ipynb (7)\n",
      "  |    |--.ipynb_checkpoints\n",
      "  |    |    |--0_02_plotting-checkpoint.ipynb (8)\n",
      "  |    |    |--9_01_dev_utils-checkpoint.ipynb (9)\n",
      "  |    |    |--0_01_ipython-checkpoint.ipynb (10)\n",
      "  |    |    |--0_00_core-checkpoint.ipynb (11)\n",
      "  |    |    |--1_01_eda_stats_utils-checkpoint.ipynb (12)\n",
      "  |    |    |--index-checkpoint.ipynb (13)\n",
      "  |    |    |--2_01_image_utils-checkpoint.ipynb (14)\n",
      "  |    |    |--1_02_ml-checkpoint.ipynb (15)\n",
      "List of 16 files when filtered\n"
     ]
    }
   ],
   "source": [
    "files = files_in_tree(p2dir, pattern='ipynb')\n",
    "print(f\"List of {len(files)} files when filtered\")"
   ]
  },
  {
   "cell_type": "code",
   "execution_count": null,
   "id": "53c60ca5",
   "metadata": {},
   "outputs": [],
   "source": [
    "#| export\n",
    "def path_to_parent_dir(\n",
    "    pattern:str,               # pattern to identify the parent directory\n",
    "    path:str|Path|None = None, # optional path from where to seek for parent directory\n",
    ")-> Path:                      # path of the parent directory\n",
    "    \"\"\"Climb directory tree up to a directory starting with the string `pattern`, and return its path\n",
    "    \n",
    "    Can pass a starting path to climb from. \n",
    "    \"\"\"\n",
    "    if path is None: path = Path()\n",
    "    path = safe_path(path).absolute()\n",
    "    tree = [path.name] + [p.name for p in path.parents]\n",
    "    mask = [True if n.startswith(pattern) else False for n in tree]\n",
    "    tree = tree[mask.index(True):]\n",
    "    tree.reverse()\n",
    "    nbs = Path('/'.join(tree))\n",
    "    return nbs"
   ]
  },
  {
   "cell_type": "code",
   "execution_count": null,
   "id": "38e80bb8",
   "metadata": {},
   "outputs": [
    {
     "data": {
      "text/markdown": [
       "---\n",
       "\n",
       "[source](https://github.com/vtecftwy/ecutils/blob/master/ecutilities/core.py#L270){target=\"_blank\" style=\"float:right; font-size:smaller\"}\n",
       "\n",
       "### path_to_parent_dir\n",
       "\n",
       ">      path_to_parent_dir (pattern:str, path:str|pathlib.Path|None=None)\n",
       "\n",
       "Climb directory tree up to a directory starting with the string `pattern`, and return its path\n",
       "\n",
       "Can pass a starting path to climb from.\n",
       "\n",
       "|    | **Type** | **Default** | **Details** |\n",
       "| -- | -------- | ----------- | ----------- |\n",
       "| pattern | str |  | pattern to identify the parent directory |\n",
       "| path | str \\| Path \\| None | None | optional path from where to seek for parent directory |\n",
       "| **Returns** | **Path** |  | **path of the parent directory** |"
      ],
      "text/plain": [
       "---\n",
       "\n",
       "[source](https://github.com/vtecftwy/ecutils/blob/master/ecutilities/core.py#L270){target=\"_blank\" style=\"float:right; font-size:smaller\"}\n",
       "\n",
       "### path_to_parent_dir\n",
       "\n",
       ">      path_to_parent_dir (pattern:str, path:str|pathlib.Path|None=None)\n",
       "\n",
       "Climb directory tree up to a directory starting with the string `pattern`, and return its path\n",
       "\n",
       "Can pass a starting path to climb from.\n",
       "\n",
       "|    | **Type** | **Default** | **Details** |\n",
       "| -- | -------- | ----------- | ----------- |\n",
       "| pattern | str |  | pattern to identify the parent directory |\n",
       "| path | str \\| Path \\| None | None | optional path from where to seek for parent directory |\n",
       "| **Returns** | **Path** |  | **path of the parent directory** |"
      ]
     },
     "execution_count": null,
     "metadata": {},
     "output_type": "execute_result"
    }
   ],
   "source": [
    "show_doc(path_to_parent_dir)"
   ]
  },
  {
   "cell_type": "code",
   "execution_count": null,
   "id": "8b832b2c",
   "metadata": {},
   "outputs": [
    {
     "data": {
      "text/plain": [
       "Path('/home/vtec/projects/ec-packages/ecutilities/nbs-dev')"
      ]
     },
     "execution_count": null,
     "metadata": {},
     "output_type": "execute_result"
    }
   ],
   "source": [
    "p2dir = path_to_parent_dir('nbs')\n",
    "assert 'nbs-dev' in p2dir.parts and 'nbs' not in p2dir.parts\n",
    "p2dir"
   ]
  },
  {
   "cell_type": "code",
   "execution_count": null,
   "id": "fc9a7a98",
   "metadata": {},
   "outputs": [
    {
     "data": {
      "text/plain": [
       "Path('/home/vtec/projects/ec-packages/ecutilities/nbs')"
      ]
     },
     "execution_count": null,
     "metadata": {},
     "output_type": "execute_result"
    }
   ],
   "source": [
    "p2dir = path_to_parent_dir('nbs', Path('../nbs/sandbox.ipynb').resolve())\n",
    "assert 'nbs' in p2dir.parts and 'nbs-dev' not in p2dir.parts\n",
    "p2dir"
   ]
  },
  {
   "cell_type": "code",
   "execution_count": null,
   "id": "e87e01c3",
   "metadata": {},
   "outputs": [
    {
     "data": {
      "text/plain": [
       "Path('/home/vtec/projects/ec-packages/ecutilities')"
      ]
     },
     "execution_count": null,
     "metadata": {},
     "output_type": "execute_result"
    }
   ],
   "source": [
    "p2project_root = path_to_parent_dir('ecutilities')\n",
    "assert 'ecutilities' in p2project_root.parts and 'nbs' not in p2project_root.parts\n",
    "p2project_root"
   ]
  },
  {
   "cell_type": "code",
   "execution_count": null,
   "id": "b76dd115",
   "metadata": {},
   "outputs": [],
   "source": [
    "#| hide\n",
    "nbdev_export()"
   ]
  }
 ],
 "metadata": {
  "kernelspec": {
   "display_name": "python3",
   "language": "python",
   "name": "python3"
  }
 },
 "nbformat": 4,
 "nbformat_minor": 5
}
