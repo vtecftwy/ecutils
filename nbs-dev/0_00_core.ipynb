{
 "cells": [
  {
   "cell_type": "markdown",
   "id": "8b349226",
   "metadata": {},
   "source": [
    "# `core`\n",
    "> set of functions and classes used across this package and usable for other packages"
   ]
  },
  {
   "cell_type": "code",
   "execution_count": null,
   "id": "66badc97",
   "metadata": {},
   "outputs": [],
   "source": [
    "#|default_exp core"
   ]
  },
  {
   "cell_type": "code",
   "execution_count": null,
   "id": "5bc6becf",
   "metadata": {},
   "outputs": [],
   "source": [
    "#| export\n",
    "from __future__ import annotations\n",
    "from pathlib import Path\n",
    "from typing import Any, List, Optional\n",
    "\n",
    "import configparser\n",
    "import numpy as np\n",
    "import sys"
   ]
  },
  {
   "cell_type": "code",
   "execution_count": null,
   "id": "e2b082da",
   "metadata": {},
   "outputs": [],
   "source": [
    "#| hide\n",
    "from nbdev import show_doc, nbdev_export"
   ]
  },
  {
   "cell_type": "markdown",
   "id": "5ac363c4",
   "metadata": {},
   "source": [
    "# Validation tools"
   ]
  },
  {
   "cell_type": "code",
   "execution_count": null,
   "id": "0c87b739",
   "metadata": {},
   "outputs": [],
   "source": [
    "#| export\n",
    "def is_type(\n",
    "    obj:Any,                 # object whose type to validate\n",
    "    obj_type:type,                # expected type for `obj`\n",
    "    raise_error:bool=False,  # when True, raise a ValueError is `obj` is not of the right type\n",
    ")-> bool:                    # True when `obj` is of the right type, False otherwise \n",
    "    \"\"\"Validate that `obj` is of type `obj_type`. Raise error in the negative when `raise_error` is `True`\"\"\"\n",
    "    if not isinstance(obj_type, type): raise ValueError(f\"{obj_type} is not a type\")\n",
    "    if isinstance(obj, obj_type): return True\n",
    "    else:\n",
    "        if raise_error: raise ValueError(f\"passed object is not of type {obj_type}\")\n",
    "        else: return False"
   ]
  },
  {
   "cell_type": "code",
   "execution_count": null,
   "id": "49b8cfd5",
   "metadata": {},
   "outputs": [
    {
     "data": {
      "text/markdown": [
       "---\n",
       "\n",
       "[source](https://github.com/vtecftwy/ecutils/blob/master/ecutilities/core.py#L16){target=\"_blank\" style=\"float:right; font-size:smaller\"}\n",
       "\n",
       "### is_type\n",
       "\n",
       ">      is_type (obj:Any, obj_type:type, raise_error:bool=False)\n",
       "\n",
       "Validate that `obj` is of type `obj_type`. Raise error in the negative when `raise_error` is `True`\n",
       "\n",
       "|    | **Type** | **Default** | **Details** |\n",
       "| -- | -------- | ----------- | ----------- |\n",
       "| obj | Any |  | object whose type to validate |\n",
       "| obj_type | type |  | expected type for `obj` |\n",
       "| raise_error | bool | False | when True, raise a ValueError is `obj` is not of the right type |\n",
       "| **Returns** | **bool** |  | **True when `obj` is of the right type, False otherwise** |"
      ],
      "text/plain": [
       "---\n",
       "\n",
       "[source](https://github.com/vtecftwy/ecutils/blob/master/ecutilities/core.py#L16){target=\"_blank\" style=\"float:right; font-size:smaller\"}\n",
       "\n",
       "### is_type\n",
       "\n",
       ">      is_type (obj:Any, obj_type:type, raise_error:bool=False)\n",
       "\n",
       "Validate that `obj` is of type `obj_type`. Raise error in the negative when `raise_error` is `True`\n",
       "\n",
       "|    | **Type** | **Default** | **Details** |\n",
       "| -- | -------- | ----------- | ----------- |\n",
       "| obj | Any |  | object whose type to validate |\n",
       "| obj_type | type |  | expected type for `obj` |\n",
       "| raise_error | bool | False | when True, raise a ValueError is `obj` is not of the right type |\n",
       "| **Returns** | **bool** |  | **True when `obj` is of the right type, False otherwise** |"
      ]
     },
     "execution_count": null,
     "metadata": {},
     "output_type": "execute_result"
    }
   ],
   "source": [
    "show_doc(is_type)"
   ]
  },
  {
   "cell_type": "code",
   "execution_count": null,
   "id": "3499a4b9",
   "metadata": {},
   "outputs": [
    {
     "data": {
      "text/plain": [
       "True"
      ]
     },
     "execution_count": null,
     "metadata": {},
     "output_type": "execute_result"
    }
   ],
   "source": [
    "is_type(obj='this is a string', obj_type=str)"
   ]
  },
  {
   "cell_type": "code",
   "execution_count": null,
   "id": "e67dc36b",
   "metadata": {},
   "outputs": [
    {
     "data": {
      "text/plain": [
       "True"
      ]
     },
     "execution_count": null,
     "metadata": {},
     "output_type": "execute_result"
    }
   ],
   "source": [
    "is_type(obj=np.ones(shape=(2,2)), obj_type=np.ndarray)"
   ]
  },
  {
   "cell_type": "code",
   "execution_count": null,
   "id": "4e4ae004",
   "metadata": {},
   "outputs": [],
   "source": [
    "#| export\n",
    "def validate_path(\n",
    "    path:str|Path,           # path to validate\n",
    "    path_type:str='file',    # type of the target path: `'file'`, `'dir'` or `'any'`\n",
    "    raise_error:bool=False,  # when True, raise a ValueError is path does not a file\n",
    ")-> bool:                    # True when path is a valid path, False otherwise \n",
    "    \"\"\"Validate that path is a Path or str and points to a real file or directory\"\"\"\n",
    "    if isinstance(path, str): \n",
    "        path = Path(path)\n",
    "    if (path_type=='file' and path.is_file()) or (path_type=='dir' and path.is_dir()) :\n",
    "        return True\n",
    "    if path_type=='any' and path.exists():\n",
    "        return True\n",
    "    else:\n",
    "        if raise_error: raise ValueError(f\"No file at {path.absolute()}. Check the path\")\n",
    "        else: return False"
   ]
  },
  {
   "cell_type": "code",
   "execution_count": null,
   "id": "88b9f96d",
   "metadata": {},
   "outputs": [
    {
     "data": {
      "text/markdown": [
       "---\n",
       "\n",
       "[source](https://github.com/vtecftwy/ecutils/blob/master/ecutilities/core.py#L29){target=\"_blank\" style=\"float:right; font-size:smaller\"}\n",
       "\n",
       "### validate_path\n",
       "\n",
       ">      validate_path (path:str|pathlib.Path, path_type:str='file',\n",
       ">                     raise_error:bool=False)\n",
       "\n",
       "Validate that path is a Path or str and points to a real file or directory\n",
       "\n",
       "|    | **Type** | **Default** | **Details** |\n",
       "| -- | -------- | ----------- | ----------- |\n",
       "| path | str \\| Path |  | path to validate |\n",
       "| path_type | str | file | type of the target path: `'file'`, `'dir'` or `'any'` |\n",
       "| raise_error | bool | False | when True, raise a ValueError is path does not a file |\n",
       "| **Returns** | **bool** |  | **True when path is a valid path, False otherwise** |"
      ],
      "text/plain": [
       "---\n",
       "\n",
       "[source](https://github.com/vtecftwy/ecutils/blob/master/ecutilities/core.py#L29){target=\"_blank\" style=\"float:right; font-size:smaller\"}\n",
       "\n",
       "### validate_path\n",
       "\n",
       ">      validate_path (path:str|pathlib.Path, path_type:str='file',\n",
       ">                     raise_error:bool=False)\n",
       "\n",
       "Validate that path is a Path or str and points to a real file or directory\n",
       "\n",
       "|    | **Type** | **Default** | **Details** |\n",
       "| -- | -------- | ----------- | ----------- |\n",
       "| path | str \\| Path |  | path to validate |\n",
       "| path_type | str | file | type of the target path: `'file'`, `'dir'` or `'any'` |\n",
       "| raise_error | bool | False | when True, raise a ValueError is path does not a file |\n",
       "| **Returns** | **bool** |  | **True when path is a valid path, False otherwise** |"
      ]
     },
     "execution_count": null,
     "metadata": {},
     "output_type": "execute_result"
    }
   ],
   "source": [
    "show_doc(validate_path)"
   ]
  },
  {
   "cell_type": "code",
   "execution_count": null,
   "id": "6548a474",
   "metadata": {},
   "outputs": [
    {
     "data": {
      "text/plain": [
       "True"
      ]
     },
     "execution_count": null,
     "metadata": {},
     "output_type": "execute_result"
    }
   ],
   "source": [
    "path_file = Path('../data/img/IMG_001_512px.jpg')\n",
    "validate_path(path_file)"
   ]
  },
  {
   "cell_type": "code",
   "execution_count": null,
   "id": "44662d61",
   "metadata": {},
   "outputs": [
    {
     "data": {
      "text/plain": [
       "True"
      ]
     },
     "execution_count": null,
     "metadata": {},
     "output_type": "execute_result"
    }
   ],
   "source": [
    "validate_path(path_file, path_type='any')"
   ]
  },
  {
   "cell_type": "code",
   "execution_count": null,
   "id": "96ae808a",
   "metadata": {},
   "outputs": [
    {
     "data": {
      "text/plain": [
       "True"
      ]
     },
     "execution_count": null,
     "metadata": {},
     "output_type": "execute_result"
    }
   ],
   "source": [
    "path_dir = Path('../data')\n",
    "validate_path(path_dir, path_type='dir')"
   ]
  },
  {
   "cell_type": "code",
   "execution_count": null,
   "id": "75cc7cd6",
   "metadata": {},
   "outputs": [
    {
     "data": {
      "text/plain": [
       "True"
      ]
     },
     "execution_count": null,
     "metadata": {},
     "output_type": "execute_result"
    }
   ],
   "source": [
    "validate_path(path_dir, path_type='any')"
   ]
  },
  {
   "cell_type": "code",
   "execution_count": null,
   "id": "53df9cd7",
   "metadata": {},
   "outputs": [
    {
     "data": {
      "text/plain": [
       "False"
      ]
     },
     "execution_count": null,
     "metadata": {},
     "output_type": "execute_result"
    }
   ],
   "source": [
    "path_error = Path('../data/img/IIIMG_001_512px.jpg')\n",
    "validate_path(path_error)"
   ]
  },
  {
   "cell_type": "code",
   "execution_count": null,
   "id": "026495f3",
   "metadata": {},
   "outputs": [],
   "source": [
    "#| export\n",
    "def safe_path(\n",
    "    path:str|Path, # path to validate\n",
    ")-> Path:          # validated path as a  pathlib.Path\n",
    "    \"\"\"Return a Path object when given a valid path as a string or a Path, raise error otherwise\"\"\"\n",
    "    validate_path(path, path_type='any', raise_error=True)\n",
    "    if isinstance(path, str): \n",
    "        path = Path(path)\n",
    "    return path"
   ]
  },
  {
   "cell_type": "code",
   "execution_count": null,
   "id": "f6138064",
   "metadata": {},
   "outputs": [
    {
     "data": {
      "text/markdown": [
       "---\n",
       "\n",
       "[source](https://github.com/vtecftwy/ecutils/blob/master/ecutilities/core.py#L46){target=\"_blank\" style=\"float:right; font-size:smaller\"}\n",
       "\n",
       "### safe_path\n",
       "\n",
       ">      safe_path (path:str|pathlib.Path)\n",
       "\n",
       "Return a Path object when given a valid path as a string or a Path, raise error otherwise\n",
       "\n",
       "|    | **Type** | **Details** |\n",
       "| -- | -------- | ----------- |\n",
       "| path | str \\| Path | path to validate |\n",
       "| **Returns** | **Path** | **validated path as a  pathlib.Path** |"
      ],
      "text/plain": [
       "---\n",
       "\n",
       "[source](https://github.com/vtecftwy/ecutils/blob/master/ecutilities/core.py#L46){target=\"_blank\" style=\"float:right; font-size:smaller\"}\n",
       "\n",
       "### safe_path\n",
       "\n",
       ">      safe_path (path:str|pathlib.Path)\n",
       "\n",
       "Return a Path object when given a valid path as a string or a Path, raise error otherwise\n",
       "\n",
       "|    | **Type** | **Details** |\n",
       "| -- | -------- | ----------- |\n",
       "| path | str \\| Path | path to validate |\n",
       "| **Returns** | **Path** | **validated path as a  pathlib.Path** |"
      ]
     },
     "execution_count": null,
     "metadata": {},
     "output_type": "execute_result"
    }
   ],
   "source": [
    "show_doc(safe_path)"
   ]
  },
  {
   "cell_type": "markdown",
   "id": "55e2d8a1",
   "metadata": {},
   "source": [
    "# Access key files and directories"
   ]
  },
  {
   "cell_type": "code",
   "execution_count": null,
   "id": "084630c6",
   "metadata": {},
   "outputs": [],
   "source": [
    "#| export\n",
    "def get_config_value(section:str,                        # section in the configparser cfg file\n",
    "                     key:str,                            # key in the selected section\n",
    "                     path_to_config_file:Path|str=None   # path to the cfg file\n",
    "                    )-> Any :                            # the value corresponding to section>key>value \n",
    "    \"\"\"Returns the value corresponding to the key-value pair in the configuration file (configparser format)\"\"\"\n",
    "    # validate path_to_config_file\n",
    "    if path_to_config_file is None:\n",
    "        path_to_config_file = Path('/content/gdrive/MyDrive/private-across-accounts/config-api-keys.cfg')\n",
    "    safe_path(path_to_config_file)\n",
    "\n",
    "    configuration = configparser.ConfigParser()\n",
    "    configuration.read(path_to_config_file)\n",
    "    return configuration[section][key]"
   ]
  },
  {
   "cell_type": "code",
   "execution_count": null,
   "id": "200b0a0a",
   "metadata": {},
   "outputs": [
    {
     "data": {
      "text/markdown": [
       "---\n",
       "\n",
       "[source](https://github.com/vtecftwy/ecutils/blob/master/ecutilities/core.py#L56){target=\"_blank\" style=\"float:right; font-size:smaller\"}\n",
       "\n",
       "### get_config_value\n",
       "\n",
       ">      get_config_value (section:str, key:str,\n",
       ">                        path_to_config_file:pathlib.Path|str=None)\n",
       "\n",
       "Returns the value corresponding to the key-value pair in the configuration file (configparser format)\n",
       "\n",
       "|    | **Type** | **Default** | **Details** |\n",
       "| -- | -------- | ----------- | ----------- |\n",
       "| section | str |  | section in the configparser cfg file |\n",
       "| key | str |  | key in the selected section |\n",
       "| path_to_config_file | Path \\| str | None | path to the cfg file |\n",
       "| **Returns** | **Any** |  | **the value corresponding to section>key>value** |"
      ],
      "text/plain": [
       "---\n",
       "\n",
       "[source](https://github.com/vtecftwy/ecutils/blob/master/ecutilities/core.py#L56){target=\"_blank\" style=\"float:right; font-size:smaller\"}\n",
       "\n",
       "### get_config_value\n",
       "\n",
       ">      get_config_value (section:str, key:str,\n",
       ">                        path_to_config_file:pathlib.Path|str=None)\n",
       "\n",
       "Returns the value corresponding to the key-value pair in the configuration file (configparser format)\n",
       "\n",
       "|    | **Type** | **Default** | **Details** |\n",
       "| -- | -------- | ----------- | ----------- |\n",
       "| section | str |  | section in the configparser cfg file |\n",
       "| key | str |  | key in the selected section |\n",
       "| path_to_config_file | Path \\| str | None | path to the cfg file |\n",
       "| **Returns** | **Any** |  | **the value corresponding to section>key>value** |"
      ]
     },
     "execution_count": null,
     "metadata": {},
     "output_type": "execute_result"
    }
   ],
   "source": [
    "show_doc(get_config_value)"
   ]
  },
  {
   "cell_type": "markdown",
   "id": "c5a0b336",
   "metadata": {},
   "source": [
    "By defaults (`path_to_config_file is None`), it is assumed that the configuration file is located in the `private-accross-accounts directory` on google drive. If not, a path to the file (`Path` or `str`) must be provided.\n",
    "\n",
    "The configuration file is expected to be in the format used by the standard module `configparser` [documentation](https://docs.python.org/3/library/configparser.html)\n",
    "\n",
    "```ascii\n",
    "    [DEFAULT]\n",
    "    key = value\n",
    "\n",
    "    [section_name]\n",
    "    key = value\n",
    "\n",
    "    [section_name]\n",
    "    key = value\n",
    "```"
   ]
  },
  {
   "cell_type": "code",
   "execution_count": null,
   "id": "97e2a7a8",
   "metadata": {},
   "outputs": [
    {
     "name": "stdout",
     "output_type": "stream",
     "text": [
      "[azure]\n",
      "azure-api-key= dummy_api_key_for_azure\n",
      "\n",
      "[kaggle]\n",
      "kaggle_username = not_my_real_kaggle_name\n",
      "kaggle_key = dummy_api_key_for_kaggle\n",
      "\n",
      "[wandb]\n",
      "api_key = dummy_api_key_for_wandb\n",
      "\n"
     ]
    }
   ],
   "source": [
    "path2cfg = Path('../config-sample.cfg').resolve()\n",
    "assert path2cfg.is_file(), f\"{path2cfg} is not a file\"\n",
    "\n",
    "with open(path2cfg, 'r') as fp:\n",
    "    print(fp.read())"
   ]
  },
  {
   "cell_type": "code",
   "execution_count": null,
   "id": "cd33e1c3",
   "metadata": {},
   "outputs": [],
   "source": [
    "value = get_config_value(section='azure', key='azure-api-key', path_to_config_file=path2cfg)\n",
    "assert value == 'dummy_api_key_for_azure'"
   ]
  },
  {
   "cell_type": "code",
   "execution_count": null,
   "id": "d6d62237",
   "metadata": {},
   "outputs": [],
   "source": [
    "value = get_config_value(section='kaggle', key='kaggle_username', path_to_config_file=path2cfg)\n",
    "assert value == 'not_my_real_kaggle_name'"
   ]
  },
  {
   "cell_type": "code",
   "execution_count": null,
   "id": "cdd7af41",
   "metadata": {},
   "outputs": [],
   "source": [
    "value = get_config_value(section='wandb', key='api_key', path_to_config_file=path2cfg)\n",
    "assert value == 'dummy_api_key_for_wandb'"
   ]
  },
  {
   "cell_type": "code",
   "execution_count": null,
   "id": "dc5a402b",
   "metadata": {},
   "outputs": [],
   "source": [
    "#| export\n",
    "class IsLocalMachine:\n",
    "    \"\"\"Callable singleton class to identify if current machine was registered as local machine or not\"\"\"\n",
    "    \n",
    "    _instance = None\n",
    "    _config_dir = '.ecutilities'\n",
    "    _config_fname = 'ecutilities.cfg'\n",
    "    \n",
    "    def __new__(cls):\n",
    "        if cls._instance is None:\n",
    "            cls.home = Path.home().absolute()\n",
    "            cls._instance = super().__new__(cls)\n",
    "        return cls._instance\n",
    "    \n",
    "    @property\n",
    "    def os(self): return sys.platform\n",
    "    \n",
    "    @property\n",
    "    def home(self): return Path.hone().absolute()\n",
    "    \n",
    "    @property\n",
    "    def p2config(self): return self.home / self._config_dir / self._config_fname\n",
    "    \n",
    "    def __call__(self): return self.is_local\n",
    "    \n",
    "    def read_config(self):\n",
    "        \"\"\"Read config from the configuration file if it exists and return an empty config in does not\"\"\"\n",
    "        cfg = configparser.ConfigParser()\n",
    "        if self.p2config.is_file(): \n",
    "            cfg.read(self.p2config)\n",
    "        else:\n",
    "            cfg.add_section('Infra')\n",
    "        return cfg\n",
    "        \n",
    "    @property\n",
    "    def is_local(self):\n",
    "        \"\"\"Return `True` if the current machine was registered as a local machine\"\"\"\n",
    "        cfg = self.read_config()\n",
    "        return cfg['Infra'].getboolean('registered_as_local', False)\n",
    "    \n",
    "    def register_as_local(self):\n",
    "        \"\"\"Update the configuration file to register the machine as local machine\"\"\"\n",
    "        cfg = self.read_config()\n",
    "        os.makedirs(self.home/self._config_dir, exist_ok=True)\n",
    "        cfg['Infra']['registered_as_local'] = 'True'\n",
    "        with open(self.p2config, 'w') as fp:\n",
    "            cfg.write(fp)\n",
    "        return cfg"
   ]
  },
  {
   "cell_type": "code",
   "execution_count": null,
   "id": "bd9d3dc9",
   "metadata": {},
   "outputs": [
    {
     "data": {
      "text/markdown": [
       "---\n",
       "\n",
       "[source](https://github.com/vtecftwy/ecutils/blob/master/ecutilities/core.py#L71){target=\"_blank\" style=\"float:right; font-size:smaller\"}\n",
       "\n",
       "### IsLocalMachine\n",
       "\n",
       ">      IsLocalMachine ()\n",
       "\n",
       "Callable singleton class to identify if current machine was registered as local machine or not"
      ],
      "text/plain": [
       "---\n",
       "\n",
       "[source](https://github.com/vtecftwy/ecutils/blob/master/ecutilities/core.py#L71){target=\"_blank\" style=\"float:right; font-size:smaller\"}\n",
       "\n",
       "### IsLocalMachine\n",
       "\n",
       ">      IsLocalMachine ()\n",
       "\n",
       "Callable singleton class to identify if current machine was registered as local machine or not"
      ]
     },
     "execution_count": null,
     "metadata": {},
     "output_type": "execute_result"
    }
   ],
   "source": [
    "show_doc(IsLocalMachine)"
   ]
  },
  {
   "cell_type": "markdown",
   "id": "6ddd32ce",
   "metadata": {},
   "source": [
    "Several options to check whether the machine was registered as local or not:"
   ]
  },
  {
   "cell_type": "code",
   "execution_count": null,
   "id": "df57f96a",
   "metadata": {},
   "outputs": [
    {
     "data": {
      "text/plain": [
       "True"
      ]
     },
     "execution_count": null,
     "metadata": {},
     "output_type": "execute_result"
    }
   ],
   "source": [
    "islocal = IsLocalMachine()\n",
    "islocal.is_local"
   ]
  },
  {
   "cell_type": "code",
   "execution_count": null,
   "id": "351a638b",
   "metadata": {},
   "outputs": [
    {
     "data": {
      "text/plain": [
       "True"
      ]
     },
     "execution_count": null,
     "metadata": {},
     "output_type": "execute_result"
    }
   ],
   "source": [
    "islocal()"
   ]
  },
  {
   "cell_type": "code",
   "execution_count": null,
   "id": "3edbda36",
   "metadata": {},
   "outputs": [
    {
     "data": {
      "text/plain": [
       "True"
      ]
     },
     "execution_count": null,
     "metadata": {},
     "output_type": "execute_result"
    }
   ],
   "source": [
    "IsLocalMachine().is_local"
   ]
  },
  {
   "cell_type": "code",
   "execution_count": null,
   "id": "550eeaae",
   "metadata": {},
   "outputs": [
    {
     "data": {
      "text/plain": [
       "True"
      ]
     },
     "execution_count": null,
     "metadata": {},
     "output_type": "execute_result"
    }
   ],
   "source": [
    "IsLocalMachine()()"
   ]
  },
  {
   "cell_type": "code",
   "execution_count": null,
   "id": "c0adac92",
   "metadata": {},
   "outputs": [
    {
     "data": {
      "text/markdown": [
       "---\n",
       "\n",
       "[source](https://github.com/vtecftwy/ecutils/blob/master/ecutilities/core.py#L110){target=\"_blank\" style=\"float:right; font-size:smaller\"}\n",
       "\n",
       "### IsLocalMachine.register_as_local\n",
       "\n",
       ">      IsLocalMachine.register_as_local ()\n",
       "\n",
       "Update the configuration file to register the machine as local machine"
      ],
      "text/plain": [
       "---\n",
       "\n",
       "[source](https://github.com/vtecftwy/ecutils/blob/master/ecutilities/core.py#L110){target=\"_blank\" style=\"float:right; font-size:smaller\"}\n",
       "\n",
       "### IsLocalMachine.register_as_local\n",
       "\n",
       ">      IsLocalMachine.register_as_local ()\n",
       "\n",
       "Update the configuration file to register the machine as local machine"
      ]
     },
     "execution_count": null,
     "metadata": {},
     "output_type": "execute_result"
    }
   ],
   "source": [
    "show_doc(IsLocalMachine.register_as_local)\n"
   ]
  },
  {
   "cell_type": "markdown",
   "id": "cd761fa8",
   "metadata": {},
   "source": [
    "Use this method to register the current machine as local machine. Only needs to be used once on a machine. Do not use on cloud VMs"
   ]
  },
  {
   "cell_type": "markdown",
   "id": "3d73b958",
   "metadata": {},
   "source": [
    "> **Technical Note**:\n",
    ">\n",
    "> The configuration file is located at a standard location, which varies depending on the OS:\n",
    "> \n",
    "> - Windows:\n",
    ">    - home is `C:\\Users\\username`\n",
    ">    - application data in `C:\\Users\\username\\AppData/Local/...` or `C:\\Users\\username\\AppData\\Roaming\\...` (see [StackExchange](https://superuser.com/questions/21458/why-are-there-directories-called-local-locallow-and-roaming-under-users-user))\n",
    ">    - application also can be loaded under a dedicated directory under `C:\\Users\\username` like `C:\\Users\\username\\.conda\\...`\n",
    ">\n",
    "> - Linux:\n",
    ">     - home is `/home/username`\n",
    ">     - application data in a file or dedicated directory `/home/username/` s.a.:\n",
    ">         - file in home directory, e.g. `.gitconfig`\n",
    ">         - file in an application dedicated directory, e.g. `/home/username/.conda/...`\n",
    "> \n",
    "> `ecutilities` places the configuration file in a dedicated directory in the home directory:\n",
    "> - `C:\\Users\\username\\.ecutilities\\ecutilities.cfg`\n",
    "> - `/home/username/.ecutilities/ecutilities.cfg`\n",
    "> \n",
    "> \n",
    "> Retrieve the OS:\n",
    "> ```python\n",
    "> sys.platform\n",
    "> ```\n",
    "> ```shell\n",
    "> win32           with Windows\n",
    "> linux           with linux\n",
    "> darwin          with macOs\n",
    "> ```\n",
    "> \n",
    "> Accessing the correct path depending on the OS:\n",
    "> ```python\n",
    "> Path().home().absolute()\n",
    "> ```\n",
    "> ```shell\n",
    "> WindowsPath('C:/Users/username') with Windows\n",
    "> Path('/home/username')           with linux\n",
    "> ``` \n",
    "> "
   ]
  },
  {
   "cell_type": "markdown",
   "id": "ad0e89fb",
   "metadata": {},
   "source": [
    "# File structure exploration"
   ]
  },
  {
   "cell_type": "code",
   "execution_count": null,
   "id": "070a6528",
   "metadata": {},
   "outputs": [],
   "source": [
    "#| export\n",
    "def files_in_tree(\n",
    "    path: str|Path,               # path to the directory to scan  \n",
    "    pattern: str|None = None      # pattern (glob style) to match in file name to filter the content\n",
    "):\n",
    "    \"\"\"List files in directory and its subdiretories, print tree starting from parent directory\"\"\"\n",
    "    validate_path(path, path_type='dir', raise_error=True)\n",
    "\n",
    "    pattern = '*' if pattern is None else f\"*{pattern}*\"\n",
    "    parents = [p.name for p in path.parents]\n",
    "    paths = []\n",
    "    pad = ' ' * 2\n",
    "    idx = 0\n",
    "    print(f\"{parents[0]}\")\n",
    "    print(f\"{pad}|--{path.name}\")\n",
    "    for f in [p for p in path.glob(pattern) if p.is_file()]:\n",
    "        paths.append(f)\n",
    "        print(f\"{pad}|{pad*2}|--{f.name} ({idx})\")\n",
    "        idx += 1\n",
    "    for d in [p for p in path.iterdir() if p.is_dir()]:\n",
    "        print(f\"{pad}|{pad*2}|--{d.name}\")\n",
    "        for f in [p for p in d.glob(pattern) if p.is_file()]:\n",
    "            paths.append(f)\n",
    "            print(f\"{pad}|{pad*2}|{pad*2}|--{f.name} ({idx})\")\n",
    "            idx += 1\n",
    "    return paths"
   ]
  },
  {
   "cell_type": "code",
   "execution_count": null,
   "id": "6defc985",
   "metadata": {},
   "outputs": [
    {
     "data": {
      "text/markdown": [
       "---\n",
       "\n",
       "[source](https://github.com/vtecftwy/ecutils/blob/master/ecutilities/core.py#L120){target=\"_blank\" style=\"float:right; font-size:smaller\"}\n",
       "\n",
       "### files_in_tree\n",
       "\n",
       ">      files_in_tree (path:str|pathlib.Path, pattern:str|None=None)\n",
       "\n",
       "List files in directory and its subdiretories, print tree starting from parent directory\n",
       "\n",
       "|    | **Type** | **Default** | **Details** |\n",
       "| -- | -------- | ----------- | ----------- |\n",
       "| path | str \\| Path |  | path to the directory to scan |\n",
       "| pattern | str \\| None | None | pattern (glob style) to match in file name to filter the content |"
      ],
      "text/plain": [
       "---\n",
       "\n",
       "[source](https://github.com/vtecftwy/ecutils/blob/master/ecutilities/core.py#L120){target=\"_blank\" style=\"float:right; font-size:smaller\"}\n",
       "\n",
       "### files_in_tree\n",
       "\n",
       ">      files_in_tree (path:str|pathlib.Path, pattern:str|None=None)\n",
       "\n",
       "List files in directory and its subdiretories, print tree starting from parent directory\n",
       "\n",
       "|    | **Type** | **Default** | **Details** |\n",
       "| -- | -------- | ----------- | ----------- |\n",
       "| path | str \\| Path |  | path to the directory to scan |\n",
       "| pattern | str \\| None | None | pattern (glob style) to match in file name to filter the content |"
      ]
     },
     "execution_count": null,
     "metadata": {},
     "output_type": "execute_result"
    }
   ],
   "source": [
    "show_doc(files_in_tree)"
   ]
  },
  {
   "cell_type": "code",
   "execution_count": null,
   "id": "bc64fca7",
   "metadata": {},
   "outputs": [
    {
     "name": "stdout",
     "output_type": "stream",
     "text": [
      "/home/vtec/projects/ec-packages/ecutilities/nbs-dev \n",
      "\n",
      "ecutilities\n",
      "  |--nbs-dev\n",
      "  |    |--0_02_plotting.ipynb (0)\n",
      "  |    |--2_01_image_utils.ipynb (1)\n",
      "  |    |--1_01_eda_stats_utils.ipynb (2)\n",
      "  |    |--0_01_ipython.ipynb (3)\n",
      "  |    |--0_00_core.ipynb (4)\n",
      "  |    |--.last_checked (5)\n",
      "  |    |--sidebar.yml (6)\n",
      "  |    |--1_02_ml.ipynb (7)\n",
      "  |    |--index.ipynb (8)\n",
      "  |    |--nbdev.yml (9)\n",
      "  |    |--9_01_dev_utils.ipynb (10)\n",
      "  |    |--styles.css (11)\n",
      "  |    |--_quarto.yml (12)\n",
      "  |    |--.ipynb_checkpoints\n",
      "  |    |    |--0_02_plotting-checkpoint.ipynb (13)\n",
      "  |    |    |--9_01_dev_utils-checkpoint.ipynb (14)\n",
      "  |    |    |--0_01_ipython-checkpoint.ipynb (15)\n",
      "  |    |    |--0_00_core-checkpoint.ipynb (16)\n",
      "  |    |    |--1_01_eda_stats_utils-checkpoint.ipynb (17)\n",
      "  |    |    |--index-checkpoint.ipynb (18)\n",
      "  |    |    |--2_01_image_utils-checkpoint.ipynb (19)\n",
      "  |    |    |--1_02_ml-checkpoint.ipynb (20)\n",
      "List of 21 files when unfiltered\n"
     ]
    }
   ],
   "source": [
    "p2dir = Path('').resolve()\n",
    "print(p2dir, '\\n')\n",
    "\n",
    "files = files_in_tree(p2dir)\n",
    "print(f\"List of {len(files)} files when unfiltered\")"
   ]
  },
  {
   "cell_type": "code",
   "execution_count": null,
   "id": "4439d3e5",
   "metadata": {},
   "outputs": [
    {
     "name": "stdout",
     "output_type": "stream",
     "text": [
      "ecutilities\n",
      "  |--nbs-dev\n",
      "  |    |--0_02_plotting.ipynb (0)\n",
      "  |    |--2_01_image_utils.ipynb (1)\n",
      "  |    |--1_01_eda_stats_utils.ipynb (2)\n",
      "  |    |--0_01_ipython.ipynb (3)\n",
      "  |    |--0_00_core.ipynb (4)\n",
      "  |    |--1_02_ml.ipynb (5)\n",
      "  |    |--index.ipynb (6)\n",
      "  |    |--9_01_dev_utils.ipynb (7)\n",
      "  |    |--.ipynb_checkpoints\n",
      "  |    |    |--0_02_plotting-checkpoint.ipynb (8)\n",
      "  |    |    |--9_01_dev_utils-checkpoint.ipynb (9)\n",
      "  |    |    |--0_01_ipython-checkpoint.ipynb (10)\n",
      "  |    |    |--0_00_core-checkpoint.ipynb (11)\n",
      "  |    |    |--1_01_eda_stats_utils-checkpoint.ipynb (12)\n",
      "  |    |    |--index-checkpoint.ipynb (13)\n",
      "  |    |    |--2_01_image_utils-checkpoint.ipynb (14)\n",
      "  |    |    |--1_02_ml-checkpoint.ipynb (15)\n",
      "List of 16 files when filtered\n"
     ]
    }
   ],
   "source": [
    "files = files_in_tree(p2dir, pattern='ipynb')\n",
    "print(f\"List of {len(files)} files when filtered\")"
   ]
  },
  {
   "cell_type": "code",
   "execution_count": null,
   "id": "53c60ca5",
   "metadata": {},
   "outputs": [],
   "source": [
    "#| export\n",
    "def nbs_root_dir(\n",
    "    path:str|Path|None = None, # path from where to seek for notebook parent directory\n",
    "    pattern:str = 'nbs',       # pattern to identify the nbs directory\n",
    ")-> Path:                      # path of the parent directory\n",
    "    \"\"\"Climb directory tree up to directory including pattern ('nbs'), and return its path\"\"\"\n",
    "    if path is None: path = Path()\n",
    "    path = safe_path(path).absolute()\n",
    "    tree = [path.name] + [p.name for p in path.parents]\n",
    "    mask = [True if n.startswith(pattern) else False for n in tree]\n",
    "    tree = tree[mask.index(True):]\n",
    "    tree.reverse()\n",
    "    nbs = Path('/'.join(tree))\n",
    "    return nbs"
   ]
  },
  {
   "cell_type": "code",
   "execution_count": null,
   "id": "38e80bb8",
   "metadata": {},
   "outputs": [
    {
     "data": {
      "text/markdown": [
       "---\n",
       "\n",
       "[source](https://github.com/vtecftwy/ecutils/blob/master/ecutilities/core.py#L147){target=\"_blank\" style=\"float:right; font-size:smaller\"}\n",
       "\n",
       "### nbs_root_dir\n",
       "\n",
       ">      nbs_root_dir (path:str|pathlib.Path|None=None, pattern:str='nbs')\n",
       "\n",
       "Climb directory tree up to directory including pattern ('nbs'), and return its path\n",
       "\n",
       "|    | **Type** | **Default** | **Details** |\n",
       "| -- | -------- | ----------- | ----------- |\n",
       "| path | str \\| Path \\| None | None | path from where to seek for notebook parent directory |\n",
       "| pattern | str | nbs | pattern to identify the nbs directory |\n",
       "| **Returns** | **Path** |  | **path of the parent directory** |"
      ],
      "text/plain": [
       "---\n",
       "\n",
       "[source](https://github.com/vtecftwy/ecutils/blob/master/ecutilities/core.py#L147){target=\"_blank\" style=\"float:right; font-size:smaller\"}\n",
       "\n",
       "### nbs_root_dir\n",
       "\n",
       ">      nbs_root_dir (path:str|pathlib.Path|None=None, pattern:str='nbs')\n",
       "\n",
       "Climb directory tree up to directory including pattern ('nbs'), and return its path\n",
       "\n",
       "|    | **Type** | **Default** | **Details** |\n",
       "| -- | -------- | ----------- | ----------- |\n",
       "| path | str \\| Path \\| None | None | path from where to seek for notebook parent directory |\n",
       "| pattern | str | nbs | pattern to identify the nbs directory |\n",
       "| **Returns** | **Path** |  | **path of the parent directory** |"
      ]
     },
     "execution_count": null,
     "metadata": {},
     "output_type": "execute_result"
    }
   ],
   "source": [
    "show_doc(nbs_root_dir)"
   ]
  },
  {
   "cell_type": "code",
   "execution_count": null,
   "id": "8b832b2c",
   "metadata": {},
   "outputs": [
    {
     "data": {
      "text/plain": [
       "Path('/home/vtec/projects/ec-packages/ecutilities/nbs-dev')"
      ]
     },
     "execution_count": null,
     "metadata": {},
     "output_type": "execute_result"
    }
   ],
   "source": [
    "nbs = nbs_root_dir()\n",
    "nbs"
   ]
  },
  {
   "cell_type": "code",
   "execution_count": null,
   "id": "fc9a7a98",
   "metadata": {},
   "outputs": [
    {
     "data": {
      "text/plain": [
       "Path('/home/vtec/projects/ec-packages/ecutilities/nbs')"
      ]
     },
     "execution_count": null,
     "metadata": {},
     "output_type": "execute_result"
    }
   ],
   "source": [
    "nbs = nbs_root_dir(Path('../nbs/sandbox.ipynb').resolve())\n",
    "nbs"
   ]
  },
  {
   "cell_type": "code",
   "execution_count": null,
   "id": "b76dd115",
   "metadata": {},
   "outputs": [],
   "source": [
    "#| hide\n",
    "nbdev_export()"
   ]
  }
 ],
 "metadata": {
  "kernelspec": {
   "display_name": "Python 3 (ipykernel)",
   "language": "python",
   "name": "python3"
  }
 },
 "nbformat": 4,
 "nbformat_minor": 5
}
