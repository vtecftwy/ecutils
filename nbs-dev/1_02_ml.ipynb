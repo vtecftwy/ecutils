{
 "cells": [
  {
   "cell_type": "markdown",
   "id": "bd238dc0-e0e4-4dd7-937a-fe74e0b82526",
   "metadata": {},
   "source": [
    "# `ml`\n",
    "> Utility functions that can be used ML jobs and Kaggle."
   ]
  },
  {
   "cell_type": "code",
   "execution_count": null,
   "id": "cdcde16e",
   "metadata": {},
   "outputs": [],
   "source": [
    "#|default_exp ml"
   ]
  },
  {
   "cell_type": "markdown",
   "id": "532a4f90",
   "metadata": {},
   "source": [
    "Reference for kaggle API: https://github.com/Kaggle/kaggle-api"
   ]
  },
  {
   "cell_type": "code",
   "execution_count": null,
   "id": "674fbc1a",
   "metadata": {},
   "outputs": [],
   "source": [
    "#| hide\n",
    "from nbdev import show_doc, nbdev_export\n",
    "from fastcore.test import test_fail"
   ]
  },
  {
   "cell_type": "code",
   "execution_count": null,
   "id": "26099178",
   "metadata": {},
   "outputs": [],
   "source": [
    "#| export\n",
    "from __future__ import annotations\n",
    "from ecutilities.ipython import get_config_value\n",
    "from IPython.display import Image, display\n",
    "from pathlib import Path\n",
    "from pprint import pprint\n",
    "# from scipy import stats\n",
    "# from scipy.cluster import hierarchy as hc\n",
    "from typing import Any, List\n",
    "from zipfile import ZipFile\n",
    "\n",
    "import configparser\n",
    "import datetime as dt\n",
    "import json\n",
    "import matplotlib.pyplot as plt\n",
    "import numpy as np\n",
    "import os\n",
    "import pandas as pd\n",
    "import shutil\n",
    "import subprocess"
   ]
  },
  {
   "cell_type": "code",
   "execution_count": null,
   "id": "c4029f62",
   "metadata": {},
   "outputs": [],
   "source": [
    "#| export\n",
    "def are_features_consistent(\n",
    "    train_df:pd.DataFrame,                # Training dataset DataFrame \n",
    "    test_df:pd.DataFrame,                 # Testing dataset DataFrame \n",
    "    dependent_variables:list[str] = None, # List of column name(s) for dependent variables\n",
    "    raise_error:bool = False,             # True to raise an error if not consistent\n",
    ")-> bool :                                # True if features in train and test datasets are consistent, False otherwise\n",
    "    \"\"\"Verify that features/columns in training and test sets are consistent\"\"\"\n",
    "    if dependent_variables is None:\n",
    "        features_training_set = train_df.columns\n",
    "    else:\n",
    "        features_training_set = train_df.drop(dependent_variables, axis=1).columns\n",
    "    features_test_set = test_df.columns\n",
    "    features_diff = set(features_training_set).symmetric_difference(features_test_set)\n",
    "    if features_diff == set():\n",
    "        return True\n",
    "    else:\n",
    "        if raise_error:\n",
    "            raise ValueError(f\"Discrepancy between training and test feature set: {features_diff}\")\n",
    "        else: return False"
   ]
  },
  {
   "cell_type": "markdown",
   "id": "78ab7535-c66a-4724-a22a-838abf4937f6",
   "metadata": {},
   "source": [
    "Training set and test set should have the same features/columns, except for the dependent variable(s). This function tests whether this is the case."
   ]
  },
  {
   "cell_type": "code",
   "execution_count": null,
   "id": "726d5ca9-4b8f-4ccd-8e6e-cd6fbc75c3e7",
   "metadata": {},
   "outputs": [
    {
     "data": {
      "text/html": [
       "<div>\n",
       "<style scoped>\n",
       "    .dataframe tbody tr th:only-of-type {\n",
       "        vertical-align: middle;\n",
       "    }\n",
       "\n",
       "    .dataframe tbody tr th {\n",
       "        vertical-align: top;\n",
       "    }\n",
       "\n",
       "    .dataframe thead th {\n",
       "        text-align: right;\n",
       "    }\n",
       "</style>\n",
       "<table border=\"1\" class=\"dataframe\">\n",
       "  <thead>\n",
       "    <tr style=\"text-align: right;\">\n",
       "      <th></th>\n",
       "      <th>Feature_00</th>\n",
       "      <th>Feature_01</th>\n",
       "      <th>Feature_02</th>\n",
       "      <th>Feature_03</th>\n",
       "      <th>Feature_04</th>\n",
       "      <th>Feature_05</th>\n",
       "      <th>Feature_06</th>\n",
       "      <th>Feature_07</th>\n",
       "      <th>Feature_08</th>\n",
       "      <th>Feature_09</th>\n",
       "    </tr>\n",
       "  </thead>\n",
       "  <tbody>\n",
       "    <tr>\n",
       "      <th>0</th>\n",
       "      <td>-1.043772</td>\n",
       "      <td>0.977623</td>\n",
       "      <td>-1.356537</td>\n",
       "      <td>0.725899</td>\n",
       "      <td>-1.399153</td>\n",
       "      <td>-0.443263</td>\n",
       "      <td>-0.681240</td>\n",
       "      <td>0.352870</td>\n",
       "      <td>-0.553950</td>\n",
       "      <td>1.946983</td>\n",
       "    </tr>\n",
       "    <tr>\n",
       "      <th>1</th>\n",
       "      <td>-1.398161</td>\n",
       "      <td>0.600157</td>\n",
       "      <td>-0.072627</td>\n",
       "      <td>0.821796</td>\n",
       "      <td>0.607278</td>\n",
       "      <td>-0.651707</td>\n",
       "      <td>-1.100376</td>\n",
       "      <td>0.163335</td>\n",
       "      <td>1.911804</td>\n",
       "      <td>-1.023448</td>\n",
       "    </tr>\n",
       "    <tr>\n",
       "      <th>2</th>\n",
       "      <td>2.053082</td>\n",
       "      <td>0.370085</td>\n",
       "      <td>0.136634</td>\n",
       "      <td>0.193427</td>\n",
       "      <td>0.214925</td>\n",
       "      <td>1.655209</td>\n",
       "      <td>0.294397</td>\n",
       "      <td>-1.218113</td>\n",
       "      <td>-1.238659</td>\n",
       "      <td>-1.592784</td>\n",
       "    </tr>\n",
       "  </tbody>\n",
       "</table>\n",
       "</div>"
      ],
      "text/plain": [
       "   Feature_00  Feature_01  Feature_02  Feature_03  Feature_04  Feature_05  \\\n",
       "0   -1.043772    0.977623   -1.356537    0.725899   -1.399153   -0.443263   \n",
       "1   -1.398161    0.600157   -0.072627    0.821796    0.607278   -0.651707   \n",
       "2    2.053082    0.370085    0.136634    0.193427    0.214925    1.655209   \n",
       "\n",
       "   Feature_06  Feature_07  Feature_08  Feature_09  \n",
       "0   -0.681240    0.352870   -0.553950    1.946983  \n",
       "1   -1.100376    0.163335    1.911804   -1.023448  \n",
       "2    0.294397   -1.218113   -1.238659   -1.592784  "
      ]
     },
     "metadata": {},
     "output_type": "display_data"
    },
    {
     "data": {
      "text/html": [
       "<div>\n",
       "<style scoped>\n",
       "    .dataframe tbody tr th:only-of-type {\n",
       "        vertical-align: middle;\n",
       "    }\n",
       "\n",
       "    .dataframe tbody tr th {\n",
       "        vertical-align: top;\n",
       "    }\n",
       "\n",
       "    .dataframe thead th {\n",
       "        text-align: right;\n",
       "    }\n",
       "</style>\n",
       "<table border=\"1\" class=\"dataframe\">\n",
       "  <thead>\n",
       "    <tr style=\"text-align: right;\">\n",
       "      <th></th>\n",
       "      <th>Feature_00</th>\n",
       "      <th>Feature_01</th>\n",
       "      <th>Feature_02</th>\n",
       "      <th>Feature_03</th>\n",
       "      <th>Feature_04</th>\n",
       "      <th>Feature_05</th>\n",
       "      <th>Feature_06</th>\n",
       "      <th>Feature_07</th>\n",
       "      <th>Feature_08</th>\n",
       "      <th>Feature_09</th>\n",
       "    </tr>\n",
       "  </thead>\n",
       "  <tbody>\n",
       "    <tr>\n",
       "      <th>0</th>\n",
       "      <td>1.396813</td>\n",
       "      <td>1.228294</td>\n",
       "      <td>0.612703</td>\n",
       "      <td>-1.251261</td>\n",
       "      <td>0.003184</td>\n",
       "      <td>1.740438</td>\n",
       "      <td>-0.602771</td>\n",
       "      <td>-0.602928</td>\n",
       "      <td>0.249826</td>\n",
       "      <td>0.445126</td>\n",
       "    </tr>\n",
       "    <tr>\n",
       "      <th>1</th>\n",
       "      <td>1.223320</td>\n",
       "      <td>0.704927</td>\n",
       "      <td>0.386627</td>\n",
       "      <td>-0.384140</td>\n",
       "      <td>0.389830</td>\n",
       "      <td>2.414080</td>\n",
       "      <td>0.693314</td>\n",
       "      <td>1.340454</td>\n",
       "      <td>1.094457</td>\n",
       "      <td>-0.168300</td>\n",
       "    </tr>\n",
       "    <tr>\n",
       "      <th>2</th>\n",
       "      <td>2.024326</td>\n",
       "      <td>0.924216</td>\n",
       "      <td>-0.354939</td>\n",
       "      <td>0.191448</td>\n",
       "      <td>-0.551713</td>\n",
       "      <td>0.774741</td>\n",
       "      <td>0.276825</td>\n",
       "      <td>0.171158</td>\n",
       "      <td>-0.572127</td>\n",
       "      <td>0.070963</td>\n",
       "    </tr>\n",
       "  </tbody>\n",
       "</table>\n",
       "</div>"
      ],
      "text/plain": [
       "   Feature_00  Feature_01  Feature_02  Feature_03  Feature_04  Feature_05  \\\n",
       "0    1.396813    1.228294    0.612703   -1.251261    0.003184    1.740438   \n",
       "1    1.223320    0.704927    0.386627   -0.384140    0.389830    2.414080   \n",
       "2    2.024326    0.924216   -0.354939    0.191448   -0.551713    0.774741   \n",
       "\n",
       "   Feature_06  Feature_07  Feature_08  Feature_09  \n",
       "0   -0.602771   -0.602928    0.249826    0.445126  \n",
       "1    0.693314    1.340454    1.094457   -0.168300  \n",
       "2    0.276825    0.171158   -0.572127    0.070963  "
      ]
     },
     "metadata": {},
     "output_type": "display_data"
    }
   ],
   "source": [
    "feats = [f\"Feature_{i:02d}\" for i in range(10)]\n",
    "X_train = pd.DataFrame(np.random.normal(size=(500, 10)), columns=feats)\n",
    "X_test = pd.DataFrame(np.random.normal(size=(100, 10)), columns=feats)\n",
    "\n",
    "display(X_train.head(3))\n",
    "display(X_test.head(3))"
   ]
  },
  {
   "cell_type": "markdown",
   "id": "60af2c03",
   "metadata": {},
   "source": [
    "Compare all the features/columns"
   ]
  },
  {
   "cell_type": "code",
   "execution_count": null,
   "id": "815c2fa8-6426-4af3-a5b1-742833312d53",
   "metadata": {},
   "outputs": [
    {
     "data": {
      "text/plain": [
       "True"
      ]
     },
     "execution_count": null,
     "metadata": {},
     "output_type": "execute_result"
    }
   ],
   "source": [
    "are_features_consistent(X_train, X_test)"
   ]
  },
  {
   "cell_type": "code",
   "execution_count": null,
   "id": "117cf10a",
   "metadata": {},
   "outputs": [
    {
     "data": {
      "text/plain": [
       "False"
      ]
     },
     "execution_count": null,
     "metadata": {},
     "output_type": "execute_result"
    }
   ],
   "source": [
    "are_features_consistent(X_train, X_test.iloc[:, 2:])"
   ]
  },
  {
   "cell_type": "markdown",
   "id": "7887ddd0",
   "metadata": {},
   "source": [
    "`are_features_consistent(X_train, X_test.iloc[:, 2:], raise_error=True)` should raise an error instead of returning False"
   ]
  },
  {
   "cell_type": "code",
   "execution_count": null,
   "id": "b296c4ae",
   "metadata": {},
   "outputs": [],
   "source": [
    "test_fail(are_features_consistent, \n",
    "          args=(X_train, X_test.iloc[:, 2:]),\n",
    "          kwargs = {'raise_error':True},\n",
    "          contains=\"Discrepancy between training and test feature set: {'Feature_00', 'Feature_01'}\"\n",
    "         )"
   ]
  },
  {
   "cell_type": "markdown",
   "id": "c255a947",
   "metadata": {},
   "source": [
    "When comparing training and inference set, the training set will have more features as it includes the dependant variables. To test the consistency of the datasets, specify whith columns are dependant variables.\n",
    "\n",
    "For instance, X_train has all features, including the two dependant variables `Feature_08` and `Feature_09`."
   ]
  },
  {
   "cell_type": "code",
   "execution_count": null,
   "id": "811e373c",
   "metadata": {},
   "outputs": [
    {
     "name": "stdout",
     "output_type": "stream",
     "text": [
      "Index(['Feature_00', 'Feature_01', 'Feature_02', 'Feature_03', 'Feature_04',\n",
      "       'Feature_05', 'Feature_06', 'Feature_07', 'Feature_08', 'Feature_09'],\n",
      "      dtype='object')\n",
      "Index(['Feature_00', 'Feature_01', 'Feature_02', 'Feature_03', 'Feature_04',\n",
      "       'Feature_05', 'Feature_06', 'Feature_07'],\n",
      "      dtype='object')\n"
     ]
    }
   ],
   "source": [
    "X_inference = X_test[feats[:-2]]\n",
    "print(X_train.columns)\n",
    "print(X_inference.columns)"
   ]
  },
  {
   "cell_type": "code",
   "execution_count": null,
   "id": "9f478069-2eed-407f-a641-74ca51c0b642",
   "metadata": {},
   "outputs": [
    {
     "data": {
      "text/plain": [
       "True"
      ]
     },
     "execution_count": null,
     "metadata": {},
     "output_type": "execute_result"
    }
   ],
   "source": [
    "are_features_consistent(X_train, X_inference, dependent_variables=['Feature_08', 'Feature_09'])"
   ]
  },
  {
   "cell_type": "code",
   "execution_count": null,
   "id": "dd24c0e9",
   "metadata": {},
   "outputs": [],
   "source": [
    "#| export\n",
    "def kaggle_setup_colab(path_to_config_file:Path|str = None      # path to the configuration file (e.g. config.cfg)\n",
    "                      ):\n",
    "    \"\"\"Update kaggle API and create security key json file from config file on Google Drive\"\"\"\n",
    "    # Create API security key file\n",
    "    path_to_kaggle = Path('/root/.kaggle')\n",
    "    os.makedirs(path_to_kaggle, exist_ok=True)\n",
    "    \n",
    "    # Validate path_to_config\n",
    "    if path_to_config_file is None:\n",
    "        path_to_config_file = Path('/content/gdrive/MyDrive/private-across-accounts/config-api-keys.cfg')\n",
    "    if isinstance(path_to_config_file, str): \n",
    "        path_to_config_file = Path(path_to_config_file)\n",
    "    if not path_to_config_file.is_file():\n",
    "        raise ValueError(f\"No file at {path_to_config_file.absolute()}. Check the path\")\n",
    "    \n",
    "    # retrieve configuration, create token and save it\n",
    "    username = get_config_value('kaggle', 'kaggle_username', path_to_config_file=path_to_config_file)\n",
    "    key = get_config_value('kaggle', 'kaggle_key', path_to_config_file=path_to_config_file)\n",
    "\n",
    "    api_token = {\"username\": username, \"key\": key}\n",
    "    with open(path_to_kaggle / 'kaggle.json', 'w') as file:\n",
    "        json.dump(api_token, file)\n",
    "        os.fchmod(file.fileno(), 600)\n",
    "\n",
    "    # Update kaggle API software\n",
    "    run_cli('pip install -Uqq kaggle --upgrade')"
   ]
  },
  {
   "cell_type": "markdown",
   "id": "d88ff7dd-afac-4c69-bd69-2bec396907a7",
   "metadata": {},
   "source": [
    "#### Technical Background\n",
    "References: \n",
    "[Kaggle API documentation](https://github.com/Kaggle/kaggle-api)\n",
    "\n",
    "Kaggle API Token to be placed as a json file at the following location:\n",
    "```\n",
    "    ~/.kaggle/kaggle.json\n",
    "    %HOMEPATH%\\.kaggle\\kaggle.json\n",
    "```\n",
    "To access Kaggle with API, a security key needs to be placed in the correct location on colab.\n",
    "\n",
    "`config.cfg` file must include the following lines:\n",
    "```\n",
    "    [kaggle]\n",
    "    kaggle_username = kaggle_user_name\n",
    "    kaggle_key = API key provided by kaggle\n",
    "```\n",
    "\n",
    "Info on how to get an api key (kaggle.json) [here](https://github.com/Kaggle/kaggle-api#api-credentials)"
   ]
  },
  {
   "cell_type": "code",
   "execution_count": null,
   "id": "a1e3d9fc",
   "metadata": {},
   "outputs": [],
   "source": [
    "#| export\n",
    "def kaggle_list_files(code:str = None,          # code for the kaggle competition or dataset\n",
    "                      mode:str ='competitions'  # mode: `competitions` or `datasets`\n",
    "                     ):\n",
    "    \"\"\"List all files available in the competition or dataset for the passed code\"\"\"\n",
    "    if code is None:\n",
    "        print(f\"code is None, please provide the code of the kaggle competition or dataset\")\n",
    "        return 'Failed'\n",
    "    elif mode not in ['competitions', 'datasets']:\n",
    "        print(f\"mode must be either 'competitions' or 'datasets', not {mode}\")\n",
    "        return 'Failed'\n",
    "    else:\n",
    "        print(f\"Listing the files available for {mode}: <{code}>\")\n",
    "        run_cli(f\"kaggle {mode} files {code}\")\n",
    "\n",
    "    if mode == 'competitions':\n",
    "        print(f\"{'=' * 140}\")\n",
    "        print(f\"Make sure to set the parameters for <{code}> in next cell:\")\n",
    "        print(f\" - kaggle_project_folder_name: string with name of the project folder\")\n",
    "        print(f\" - train_files: list of files to place into the <train> folder\")\n",
    "        print(f\" - test_files: list of files to place into the <test> folder\")\n",
    "        print(f\" - submit_files: list of files to place into the <submit> folder\")\n",
    "        print(f\"{'=' * 140}\")"
   ]
  },
  {
   "cell_type": "code",
   "execution_count": null,
   "id": "cb9fbd02",
   "metadata": {},
   "outputs": [],
   "source": [
    "#| export\n",
    "def kaggle_download_competition_files(\n",
    "    competition_code:str = None, \n",
    "    train_files:list() = [], \n",
    "    test_files:list = [], \n",
    "    submit_files:list = [], \n",
    "    project_folder:str = 'ds'\n",
    "    ):\n",
    "    \"\"\"download all files for passed competition, unzip them if required, move them to train, test and submit folders\n",
    "\n",
    "    competition_code: str       code of the kaggle competition\n",
    "    train_files: list of str    names of files to be moved into train folder\n",
    "    test_files: list of str     names of files to be moved into test folder\n",
    "    submit_files: list of str   names of files to be moved into submit folder\n",
    "    \"\"\"\n",
    "    if competition_code is None:\n",
    "        print(f\"competition_code is None, please provide the code of the kaggle competition\")\n",
    "        return 'Failed'\n",
    "    else:\n",
    "        list_of_datasets = {'train': train_files,\n",
    "                            'test': test_files,\n",
    "                            'submit': submit_files}\n",
    "\n",
    "        # creating a project directory and set paths\n",
    "        if not os.path.exists(project_folder):\n",
    "            os.makedirs(project_folder)\n",
    "\n",
    "        path2datasets = Path(f\"/content/{project_folder}\")\n",
    "        path2datasets_str = str(path2datasets.absolute())\n",
    "\n",
    "        # download all files from kaggle\n",
    "        run_cli(f\"kaggle competitions download -c {competition_code} -p {path2datasets}\")\n",
    "\n",
    "        print(f\"{'=' * 140}\")\n",
    "        print('Downloaded files:')\n",
    "        for f in [item for item in path2datasets.iterdir() if item.is_file()]:\n",
    "            print(f\" - {f}\")\n",
    "        print(f\"{'=' * 140}\")\n",
    "\n",
    "        # Unzip all zipped files\n",
    "        for f in path2datasets.glob('*.zip'):\n",
    "            print(f\"Unzipping {f.name}\")\n",
    "            zip_f = ZipFile(f)\n",
    "            zip_f.extractall(path=path2datasets)\n",
    "            os.remove(f)\n",
    "        print(f\"{'=' * 140}\")\n",
    "\n",
    "        # Move all data files to the correct data folder\n",
    "        for dataset_folder, files in list_of_datasets.items():\n",
    "            if not os.path.exists(f'{project_folder}/{dataset_folder}'):\n",
    "                os.makedirs(f'{project_folder}/{dataset_folder}')\n",
    "\n",
    "            for f in files:\n",
    "                print(f\"Moving {f} to {dataset_folder}\")\n",
    "                p2f = path2datasets / f\n",
    "                if p2f.suffix == '.csv':\n",
    "                    shutil.move(path2datasets / f, path2datasets / dataset_folder / f)\n",
    "                else:\n",
    "                    msg = f\"Does not support {p2f.name}'s extension {p2f.suffix}\"\n",
    "                    raise RuntimeError(msg)\n",
    "\n",
    "        print(f\"{'=' * 140}\")\n",
    "        print('Done loading Kaggle files and moving them to corresponding folders')"
   ]
  },
  {
   "cell_type": "code",
   "execution_count": null,
   "id": "fab3bb1b",
   "metadata": {},
   "outputs": [],
   "source": [
    "#| export\n",
    "def fastbook_on_colab():\n",
    "    \"\"\"Set up environment to run fastbook notebooks for colab\"\"\"\n",
    "    instructions = ['pip install -Uqq fastbook',\n",
    "                    'wget -O utils.py https://raw.githubusercontent.com/vtecftwy/fastbook/walk-thru/utils.py',\n",
    "                    'wget -O fastbook_utils.py https://raw.githubusercontent.com/vtecftwy/fastbook/walk-thru/fastbook_utils.py'\n",
    "                    ]"
   ]
  },
  {
   "cell_type": "markdown",
   "id": "76e3ffae-2126-498a-b606-642809eadeb7",
   "metadata": {},
   "source": [
    "Code extracted from fastbook notebook:\n",
    "```python\n",
    "# Install fastbook and dependencies\n",
    "!pip install -Uqq fastbook\n",
    "\n",
    "# Load utilities and install them\n",
    "!wget -O utils.py https://raw.githubusercontent.com/vtecftwy/fastbook/walk-thru/utils.py\n",
    "!wget -O fastbook_utils.py https://raw.githubusercontent.com/vtecftwy/fastbook/walk-thru/fastbook_utils.py\n",
    "\n",
    "from fastbook_utils import *\n",
    "from utils import *\n",
    "\n",
    "# Setup My Drive\n",
    "setup_book()\n",
    "\n",
    "# Download images and code required for this notebook\n",
    "import os\n",
    "os.makedirs('images', exist_ok=True)\n",
    "!wget -O images/chapter1_cat_example.jpg https://raw.githubusercontent.com/vtecftwy/fastai-course-v4/master/nbs/images/chapter1_cat_example.jpg\n",
    "!wget -O images/cat-01.jpg https://raw.githubusercontent.com/vtecftwy/fastai-course-v4/walk-thru/nbs/images/cat-01.jpg\n",
    "!wget -O images/cat-02.jpg https://raw.githubusercontent.com/vtecftwy/fastai-course-v4/walk-thru/nbs/images/cat-02.jpg\n",
    "!wget -O images/dog-01.jpg https://raw.githubusercontent.com/vtecftwy/fastai-course-v4/walk-thru/nbs/images/dog-01.jpg\n",
    "!wget -O images/dog-02.jpg https://raw.githubusercontent.com/vtecftwy/fastai-course-v4/walk-thru/nbs/images/dog-01.jpg\n",
    "```"
   ]
  },
  {
   "cell_type": "code",
   "execution_count": null,
   "id": "631aafbc",
   "metadata": {},
   "outputs": [],
   "source": [
    "#| hide\n",
    "nbdev_export()"
   ]
  }
 ],
 "metadata": {
  "kernelspec": {
   "display_name": "Python 3 (ipykernel)",
   "language": "python",
   "name": "python3"
  }
 },
 "nbformat": 4,
 "nbformat_minor": 5
}
