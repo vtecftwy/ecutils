{
 "cells": [
  {
   "cell_type": "markdown",
   "id": "bd238dc0-e0e4-4dd7-937a-fe74e0b82526",
   "metadata": {},
   "source": [
    "# `ml`\n",
    "> Utility functions that can be used ML jobs and Kaggle."
   ]
  },
  {
   "cell_type": "code",
   "execution_count": null,
   "id": "cdcde16e",
   "metadata": {},
   "outputs": [],
   "source": [
    "#|default_exp ml"
   ]
  },
  {
   "cell_type": "markdown",
   "id": "532a4f90",
   "metadata": {},
   "source": [
    "Reference for kaggle API: https://github.com/Kaggle/kaggle-api"
   ]
  },
  {
   "cell_type": "code",
   "execution_count": null,
   "id": "26099178",
   "metadata": {},
   "outputs": [],
   "source": [
    "#| export\n",
    "from __future__ import annotations\n",
    "from IPython.display import Image, display\n",
    "from pathlib import Path\n",
    "from pprint import pprint\n",
    "from scipy import stats\n",
    "from scipy.cluster import hierarchy as hc\n",
    "from typing import Any\n",
    "from zipfile import ZipFile\n",
    "\n",
    "import configparser\n",
    "import datetime as dt\n",
    "import json\n",
    "import matplotlib.pyplot as plt\n",
    "import numpy as np\n",
    "import os\n",
    "import pandas as pd\n",
    "import shutil\n",
    "import subprocess"
   ]
  },
  {
   "cell_type": "code",
   "execution_count": null,
   "id": "c4029f62",
   "metadata": {},
   "outputs": [],
   "source": [
    "#| export\n",
    "def are_features_consistent(train_df:pd.DataFrame,   # Training dataset DataFrame \n",
    "                            test_df:pd.DataFrame, # Testing dataset DataFrame \n",
    "                            dependent_variables:list(str) = None # List of column name(s) for dependent variables \n",
    "                           )-> bool :  # True if features in train and test datasets are consistent, False otherwise\n",
    "    \"\"\"Verifies that features in training and test sets are consistent\"\"\"\n",
    "    if dependent_variables is None:\n",
    "        features_training_set = train_df.columns\n",
    "    else:\n",
    "        features_training_set = train_df.drop(dependent_variables, axis=1).columns\n",
    "    features_test_set = test_df.columns\n",
    "    features_diff = set(features_training_set).symmetric_difference(features_test_set)\n",
    "    if not features_diff == set():\n",
    "        raise ValueError(f\"Discrepancy between training and test feature set: {features_diff}\")\n",
    "\n",
    "    return True"
   ]
  },
  {
   "cell_type": "code",
   "execution_count": null,
   "id": "5030e1c2-11ff-433e-9ed3-97f9e2f37995",
   "metadata": {},
   "outputs": [],
   "source": [
    "#| hide\n",
    "from nbdev import show_doc\n",
    "from fastcore.test import test_fail"
   ]
  },
  {
   "cell_type": "code",
   "execution_count": null,
   "id": "6fd8f0f9-674b-429c-84cf-25ac463e932a",
   "metadata": {},
   "outputs": [
    {
     "data": {
      "text/markdown": [
       "---\n",
       "\n",
       "[source](https://github.com/vtecftwy/ecutils/blob/master/ecutils/ml.py#L28){target=\"_blank\" style=\"float:right; font-size:smaller\"}\n",
       "\n",
       "### are_features_consistent\n",
       "\n",
       "\n",
       "\n",
       "Verifies that features in training and test sets are consistent"
      ],
      "text/plain": [
       "---\n",
       "\n",
       "[source](https://github.com/vtecftwy/ecutils/blob/master/ecutils/ml.py#L28){target=\"_blank\" style=\"float:right; font-size:smaller\"}\n",
       "\n",
       "### are_features_consistent\n",
       "\n",
       "\n",
       "\n",
       "Verifies that features in training and test sets are consistent"
      ]
     },
     "execution_count": null,
     "metadata": {},
     "output_type": "execute_result"
    }
   ],
   "source": [
    "show_doc(are_features_consistent)"
   ]
  },
  {
   "cell_type": "markdown",
   "id": "78ab7535-c66a-4724-a22a-838abf4937f6",
   "metadata": {},
   "source": [
    "Training set and test set should have the same features/columns, except for the dependent variable(s). This function tests whether this is the case."
   ]
  },
  {
   "cell_type": "code",
   "execution_count": null,
   "id": "726d5ca9-4b8f-4ccd-8e6e-cd6fbc75c3e7",
   "metadata": {},
   "outputs": [
    {
     "data": {
      "text/html": [
       "<div>\n",
       "<style scoped>\n",
       "    .dataframe tbody tr th:only-of-type {\n",
       "        vertical-align: middle;\n",
       "    }\n",
       "\n",
       "    .dataframe tbody tr th {\n",
       "        vertical-align: top;\n",
       "    }\n",
       "\n",
       "    .dataframe thead th {\n",
       "        text-align: right;\n",
       "    }\n",
       "</style>\n",
       "<table border=\"1\" class=\"dataframe\">\n",
       "  <thead>\n",
       "    <tr style=\"text-align: right;\">\n",
       "      <th></th>\n",
       "      <th>Feature_00</th>\n",
       "      <th>Feature_01</th>\n",
       "      <th>Feature_02</th>\n",
       "      <th>Feature_03</th>\n",
       "      <th>Feature_04</th>\n",
       "      <th>Feature_05</th>\n",
       "      <th>Feature_06</th>\n",
       "      <th>Feature_07</th>\n",
       "      <th>Feature_08</th>\n",
       "      <th>Feature_09</th>\n",
       "    </tr>\n",
       "  </thead>\n",
       "  <tbody>\n",
       "    <tr>\n",
       "      <th>0</th>\n",
       "      <td>-0.981866</td>\n",
       "      <td>0.450987</td>\n",
       "      <td>-1.054417</td>\n",
       "      <td>-0.028285</td>\n",
       "      <td>-0.985840</td>\n",
       "      <td>-0.752109</td>\n",
       "      <td>2.261510</td>\n",
       "      <td>0.987518</td>\n",
       "      <td>0.040407</td>\n",
       "      <td>0.344168</td>\n",
       "    </tr>\n",
       "    <tr>\n",
       "      <th>1</th>\n",
       "      <td>-0.657310</td>\n",
       "      <td>0.411677</td>\n",
       "      <td>-0.400425</td>\n",
       "      <td>1.344595</td>\n",
       "      <td>0.100560</td>\n",
       "      <td>-1.594475</td>\n",
       "      <td>-0.101075</td>\n",
       "      <td>-1.093865</td>\n",
       "      <td>0.884863</td>\n",
       "      <td>-0.374545</td>\n",
       "    </tr>\n",
       "    <tr>\n",
       "      <th>2</th>\n",
       "      <td>-0.835547</td>\n",
       "      <td>-0.125651</td>\n",
       "      <td>0.777732</td>\n",
       "      <td>0.699436</td>\n",
       "      <td>-1.679804</td>\n",
       "      <td>-0.538141</td>\n",
       "      <td>0.669368</td>\n",
       "      <td>1.385253</td>\n",
       "      <td>1.857385</td>\n",
       "      <td>-0.994365</td>\n",
       "    </tr>\n",
       "  </tbody>\n",
       "</table>\n",
       "</div>"
      ],
      "text/plain": [
       "   Feature_00  Feature_01  Feature_02  Feature_03  Feature_04  Feature_05  \\\n",
       "0   -0.981866    0.450987   -1.054417   -0.028285   -0.985840   -0.752109   \n",
       "1   -0.657310    0.411677   -0.400425    1.344595    0.100560   -1.594475   \n",
       "2   -0.835547   -0.125651    0.777732    0.699436   -1.679804   -0.538141   \n",
       "\n",
       "   Feature_06  Feature_07  Feature_08  Feature_09  \n",
       "0    2.261510    0.987518    0.040407    0.344168  \n",
       "1   -0.101075   -1.093865    0.884863   -0.374545  \n",
       "2    0.669368    1.385253    1.857385   -0.994365  "
      ]
     },
     "metadata": {},
     "output_type": "display_data"
    },
    {
     "data": {
      "text/html": [
       "<div>\n",
       "<style scoped>\n",
       "    .dataframe tbody tr th:only-of-type {\n",
       "        vertical-align: middle;\n",
       "    }\n",
       "\n",
       "    .dataframe tbody tr th {\n",
       "        vertical-align: top;\n",
       "    }\n",
       "\n",
       "    .dataframe thead th {\n",
       "        text-align: right;\n",
       "    }\n",
       "</style>\n",
       "<table border=\"1\" class=\"dataframe\">\n",
       "  <thead>\n",
       "    <tr style=\"text-align: right;\">\n",
       "      <th></th>\n",
       "      <th>Feature_00</th>\n",
       "      <th>Feature_01</th>\n",
       "      <th>Feature_02</th>\n",
       "      <th>Feature_03</th>\n",
       "      <th>Feature_04</th>\n",
       "      <th>Feature_05</th>\n",
       "      <th>Feature_06</th>\n",
       "      <th>Feature_07</th>\n",
       "      <th>Feature_08</th>\n",
       "      <th>Feature_09</th>\n",
       "    </tr>\n",
       "  </thead>\n",
       "  <tbody>\n",
       "    <tr>\n",
       "      <th>0</th>\n",
       "      <td>-0.818095</td>\n",
       "      <td>2.278313</td>\n",
       "      <td>1.594580</td>\n",
       "      <td>0.121022</td>\n",
       "      <td>0.161381</td>\n",
       "      <td>0.532632</td>\n",
       "      <td>0.088852</td>\n",
       "      <td>-1.311087</td>\n",
       "      <td>-0.158475</td>\n",
       "      <td>1.501310</td>\n",
       "    </tr>\n",
       "    <tr>\n",
       "      <th>1</th>\n",
       "      <td>0.461737</td>\n",
       "      <td>-0.637501</td>\n",
       "      <td>-0.977850</td>\n",
       "      <td>0.708865</td>\n",
       "      <td>1.113748</td>\n",
       "      <td>-0.659054</td>\n",
       "      <td>0.798061</td>\n",
       "      <td>0.650311</td>\n",
       "      <td>0.001450</td>\n",
       "      <td>1.025811</td>\n",
       "    </tr>\n",
       "    <tr>\n",
       "      <th>2</th>\n",
       "      <td>-0.092145</td>\n",
       "      <td>-1.705311</td>\n",
       "      <td>0.683729</td>\n",
       "      <td>1.000671</td>\n",
       "      <td>0.187886</td>\n",
       "      <td>-0.583948</td>\n",
       "      <td>-0.938440</td>\n",
       "      <td>-0.575706</td>\n",
       "      <td>2.021219</td>\n",
       "      <td>-1.870869</td>\n",
       "    </tr>\n",
       "  </tbody>\n",
       "</table>\n",
       "</div>"
      ],
      "text/plain": [
       "   Feature_00  Feature_01  Feature_02  Feature_03  Feature_04  Feature_05  \\\n",
       "0   -0.818095    2.278313    1.594580    0.121022    0.161381    0.532632   \n",
       "1    0.461737   -0.637501   -0.977850    0.708865    1.113748   -0.659054   \n",
       "2   -0.092145   -1.705311    0.683729    1.000671    0.187886   -0.583948   \n",
       "\n",
       "   Feature_06  Feature_07  Feature_08  Feature_09  \n",
       "0    0.088852   -1.311087   -0.158475    1.501310  \n",
       "1    0.798061    0.650311    0.001450    1.025811  \n",
       "2   -0.938440   -0.575706    2.021219   -1.870869  "
      ]
     },
     "metadata": {},
     "output_type": "display_data"
    }
   ],
   "source": [
    "feats = [f\"Feature_{i:02d}\" for i in range(10)]\n",
    "X_train = pd.DataFrame(np.random.normal(size=(500, 10)), columns=feats)\n",
    "X_test = pd.DataFrame(np.random.normal(size=(100, 10)), columns=feats)\n",
    "\n",
    "display(X_train.head(3))\n",
    "display(X_test.head(3))"
   ]
  },
  {
   "cell_type": "code",
   "execution_count": null,
   "id": "815c2fa8-6426-4af3-a5b1-742833312d53",
   "metadata": {},
   "outputs": [
    {
     "data": {
      "text/plain": [
       "True"
      ]
     },
     "execution_count": null,
     "metadata": {},
     "output_type": "execute_result"
    }
   ],
   "source": [
    "are_features_consistent(X_train, X_test)"
   ]
  },
  {
   "cell_type": "code",
   "execution_count": null,
   "id": "850ea015-3a47-4a39-a6a9-2ec091db9332",
   "metadata": {},
   "outputs": [
    {
     "data": {
      "text/plain": [
       "['Feature_00',\n",
       " 'Feature_01',\n",
       " 'Feature_02',\n",
       " 'Feature_03',\n",
       " 'Feature_04',\n",
       " 'Feature_05',\n",
       " 'Feature_06',\n",
       " 'Feature_07',\n",
       " 'Feature_08']"
      ]
     },
     "execution_count": null,
     "metadata": {},
     "output_type": "execute_result"
    }
   ],
   "source": [
    "feats[:-1]"
   ]
  },
  {
   "cell_type": "code",
   "execution_count": null,
   "id": "9f478069-2eed-407f-a641-74ca51c0b642",
   "metadata": {},
   "outputs": [
    {
     "data": {
      "text/plain": [
       "True"
      ]
     },
     "execution_count": null,
     "metadata": {},
     "output_type": "execute_result"
    }
   ],
   "source": [
    "are_features_consistent(X_train, X_test[feats[:-2]], dependent_variables=['Feature_08', 'Feature_09'])"
   ]
  },
  {
   "cell_type": "markdown",
   "id": "d82480d1-3fea-4a92-9f59-1f0904ba0fab",
   "metadata": {},
   "source": [
    "The function raises a `ValueError` when the features are not compatible, and indicates those features that are not present at both sides:\n",
    "```ascii\n",
    "    ValueError: Discrepancy between training and test feature set: {'Feature_09', 'Feature_08'}\n",
    "```"
   ]
  },
  {
   "cell_type": "code",
   "execution_count": null,
   "id": "fb3816c3-4c89-4ac3-a07e-bfd5ecf20d18",
   "metadata": {},
   "outputs": [],
   "source": [
    "test_fail(are_features_consistent, \n",
    "          args=(X_train, X_test[feats[:-2]]),\n",
    "          contains=\"Discrepancy between training and test feature set:\"\n",
    "         )"
   ]
  },
  {
   "cell_type": "code",
   "execution_count": null,
   "id": "f46fe2f7",
   "metadata": {},
   "outputs": [],
   "source": [
    "#| export\n",
    "def cluster_columns(df:pd.DataFrame,  # Multi-feature dataset with column names\n",
    "                    figsize:tuple(int, int) = (10,6), # Size of the figure\n",
    "                    font_size:int = 12    # Font size for the chart\n",
    "                   ):\n",
    "    \"\"\"Plot dendogram based on columns' spearman correlation coefficients\"\"\"\n",
    "    corr = np.round(stats.spearmanr(df).correlation, 4)\n",
    "    corr_condensed = hc.distance.squareform(1-corr)\n",
    "    z = hc.linkage(corr_condensed, method='average')\n",
    "    fig = plt.figure(figsize=figsize)\n",
    "    hc.dendrogram(z, labels=df.columns, orientation='left', leaf_font_size=font_size)\n",
    "    plt.show()"
   ]
  },
  {
   "cell_type": "markdown",
   "id": "0441447a-f7ac-43ca-a124-c081ec2dc1d2",
   "metadata": {},
   "source": [
    "First seen on fastai repository"
   ]
  },
  {
   "cell_type": "code",
   "execution_count": null,
   "id": "d3074782-b43f-4e3d-852d-14b70f47ce9d",
   "metadata": {},
   "outputs": [
    {
     "data": {
      "image/png": "[encoded data removed]",
      "text/plain": [
       "<Figure size 600x400 with 1 Axes>"
      ]
     },
     "metadata": {},
     "output_type": "display_data"
    }
   ],
   "source": [
    "feats = [f\"Feature_{i:2d}\" for i in range(10)]\n",
    "X = pd.DataFrame(np.random.normal(size=(500, 10)), columns=feats)\n",
    "cluster_columns(X, (6, 4), 8)"
   ]
  },
  {
   "cell_type": "code",
   "execution_count": null,
   "id": "cff45393",
   "metadata": {},
   "outputs": [],
   "source": [
    "#| export\n",
    "def run_cli(cmd:str = 'ls -l'   # command to execute in the cli\n",
    "           ):\n",
    "    \"\"\"Wrapper to use subprocess.run with passed command, and print the shell messages\"\"\"\n",
    "    p = subprocess.run(cmd, stdout=subprocess.PIPE, shell=True)\n",
    "    print(str(p.stdout, 'utf-8'))"
   ]
  },
  {
   "cell_type": "code",
   "execution_count": null,
   "id": "18800766-c409-46ad-a0ef-08831cf6fa92",
   "metadata": {},
   "outputs": [
    {
     "name": "stdout",
     "output_type": "stream",
     "text": [
      "/home/vtec/projects/ec-packages/ec-utils/nbs-dev\n",
      "\n"
     ]
    }
   ],
   "source": [
    "run_cli('pwd')"
   ]
  },
  {
   "cell_type": "code",
   "execution_count": null,
   "id": "47d17d9c",
   "metadata": {},
   "outputs": [],
   "source": [
    "#| export\n",
    "def get_config_value(section:str,                        # section in the configparser cfg file\n",
    "                     key:str,                            # key in the selected section\n",
    "                     path_to_config_file:Path|str=None   # path to the cfg file\n",
    "                    )-> Any :                            # the value corresponding to section - key - value \n",
    "    \"\"\"Returns the value corresponding to the key-value pair in the configuration file (configparser format)\"\"\"\n",
    "    if path_to_config_file is None:\n",
    "        path_to_config_file = Path(f\"/content/gdrive/My Drive/config-api-keys.cfg\")\n",
    "    elif isinstance(path_to_config_file, str):\n",
    "        path_to_config_file = Path(f\"/content/gdrive/My Drive/{path_to_config_file}\")\n",
    "\n",
    "    msg = f\"Cannot find file {path_to_config_file}. Please check the path or add the config file at that location\"\n",
    "    assert path_to_config_file.is_file(), msg\n",
    "\n",
    "    configuration = configparser.ConfigParser()\n",
    "    configuration.read(path_to_config_file)\n",
    "    return configuration[section][key]"
   ]
  },
  {
   "cell_type": "markdown",
   "id": "732ac6d0-2c66-4d3a-a9db-8f3f03fe0080",
   "metadata": {},
   "source": [
    "By defaults, it is assumed that the configuration file is saved on google drive. If not, a path to the file (Path or string) must be provided.\n",
    "The configuration file must be in the format used by the standard module `configparser` [documentation](https://docs.python.org/3/library/configparser.html)\n",
    "\n",
    "```ascii\n",
    "    [DEFAULT]\n",
    "    key = value\n",
    "\n",
    "    [section_name]\n",
    "    key = value\n",
    "\n",
    "    [section_name]\n",
    "    key = value\n",
    "```"
   ]
  },
  {
   "cell_type": "code",
   "execution_count": null,
   "id": "e9f72ca2-ec28-4e1a-9f06-353ff6b5d85b",
   "metadata": {},
   "outputs": [
    {
     "data": {
      "text/plain": [
       "'dummy_api_key_for_azure'"
      ]
     },
     "execution_count": null,
     "metadata": {},
     "output_type": "execute_result"
    }
   ],
   "source": [
    "path2cfg = Path('../config-sample.cfg').resolve()\n",
    "assert path2cfg.is_file(), f\"{path2cfg} is not a file\"\n",
    "\n",
    "get_config_value(section='azure', key='azure-api-key', path_to_config_file=path2cfg)"
   ]
  },
  {
   "cell_type": "code",
   "execution_count": null,
   "id": "1fb25961-85e5-46d7-ae92-ea8d211995da",
   "metadata": {},
   "outputs": [
    {
     "data": {
      "text/plain": [
       "'dummy_api_key_for_wandb'"
      ]
     },
     "execution_count": null,
     "metadata": {},
     "output_type": "execute_result"
    }
   ],
   "source": [
    "get_config_value(section='wandb', key='api_key', path_to_config_file=path2cfg)"
   ]
  },
  {
   "cell_type": "code",
   "execution_count": null,
   "id": "fab3bb1b",
   "metadata": {},
   "outputs": [],
   "source": [
    "#| export\n",
    "def fastbook_on_colab():\n",
    "    \"\"\"Set up environment to run fastbook notebooks for colab\"\"\"\n",
    "    instructions = ['pip install -Uqq fastbook',\n",
    "                    'wget -O utils.py https://raw.githubusercontent.com/vtecftwy/fastbook/walk-thru/utils.py',\n",
    "                    'wget -O fastbook_utils.py https://raw.githubusercontent.com/vtecftwy/fastbook/walk-thru/fastbook_utils.py'\n",
    "                    ]"
   ]
  },
  {
   "cell_type": "markdown",
   "id": "76e3ffae-2126-498a-b606-642809eadeb7",
   "metadata": {},
   "source": [
    "Code extracted from fastbook notebook:\n",
    "```python\n",
    "# Install fastbook and dependencies\n",
    "!pip install -Uqq fastbook\n",
    "\n",
    "# Load utilities and install them\n",
    "!wget -O utils.py https://raw.githubusercontent.com/vtecftwy/fastbook/walk-thru/utils.py\n",
    "!wget -O fastbook_utils.py https://raw.githubusercontent.com/vtecftwy/fastbook/walk-thru/fastbook_utils.py\n",
    "\n",
    "from fastbook_utils import *\n",
    "from utils import *\n",
    "\n",
    "# Setup My Drive\n",
    "setup_book()\n",
    "\n",
    "# Download images and code required for this notebook\n",
    "import os\n",
    "os.makedirs('images', exist_ok=True)\n",
    "!wget -O images/chapter1_cat_example.jpg https://raw.githubusercontent.com/vtecftwy/fastai-course-v4/master/nbs/images/chapter1_cat_example.jpg\n",
    "!wget -O images/cat-01.jpg https://raw.githubusercontent.com/vtecftwy/fastai-course-v4/walk-thru/nbs/images/cat-01.jpg\n",
    "!wget -O images/cat-02.jpg https://raw.githubusercontent.com/vtecftwy/fastai-course-v4/walk-thru/nbs/images/cat-02.jpg\n",
    "!wget -O images/dog-01.jpg https://raw.githubusercontent.com/vtecftwy/fastai-course-v4/walk-thru/nbs/images/dog-01.jpg\n",
    "!wget -O images/dog-02.jpg https://raw.githubusercontent.com/vtecftwy/fastai-course-v4/walk-thru/nbs/images/dog-01.jpg\n",
    "```"
   ]
  },
  {
   "cell_type": "code",
   "execution_count": null,
   "id": "dd24c0e9",
   "metadata": {},
   "outputs": [],
   "source": [
    "#| export\n",
    "def kaggle_setup_colab(path_to_config_file:Path|str = None      # path to the configuration file (e.g. config.cfg)\n",
    "                      ):\n",
    "    \"\"\"Update kaggle API and create security key json file from config file on Google Drive\"\"\"\n",
    "    # Create API security key file\n",
    "    path_to_kaggle = Path('/root/.kaggle')\n",
    "    os.makedirs(path_to_kaggle, exist_ok=True)\n",
    "\n",
    "    username = get_config_value('kaggle', 'kaggle_username', path_to_config_file=path_to_config_file)\n",
    "    key = get_config_value('kaggle', 'kaggle_key', path_to_config_file=path_to_config_file)\n",
    "\n",
    "    api_token = {\"username\": username, \"key\": key}\n",
    "    with open(path_to_kaggle / 'kaggle.json', 'w') as file:\n",
    "        json.dump(api_token, file)\n",
    "        os.fchmod(file.fileno(), 600)\n",
    "\n",
    "    # Update kaggle API software\n",
    "    run_cli('pip install -Uqq kaggle --upgrade')"
   ]
  },
  {
   "cell_type": "markdown",
   "id": "d88ff7dd-afac-4c69-bd69-2bec396907a7",
   "metadata": {},
   "source": [
    "References: \n",
    "[Kaggle API documentation](https://github.com/Kaggle/kaggle-api)\n",
    "\n",
    "Kaggle API Token to be placed as a json file at the following location:\n",
    "```\n",
    "    ~/.kaggle/kaggle.json\n",
    "    %HOMEPATH%\\.kaggle\\kaggle.json\n",
    "```\n",
    "To access Kaggle with API, a security key needs to be placed in the correct location on colab.\n",
    "\n",
    "`config.cfg` file must include the following lines:\n",
    "```\n",
    "    [kaggle]\n",
    "    kaggle_username = kaggle_user_name\n",
    "    kaggle_key = API key provided by kaggle\n",
    "```\n",
    "\n",
    "Info on how to get an api key (kaggle.json) [here](https://github.com/Kaggle/kaggle-api#api-credentials)"
   ]
  },
  {
   "cell_type": "code",
   "execution_count": null,
   "id": "a1e3d9fc",
   "metadata": {},
   "outputs": [],
   "source": [
    "#| export\n",
    "def kaggle_list_files(code:str = None,          # code for the kaggle competition or dataset\n",
    "                      mode:str ='competitions'  # mode: `competitions` or `datasets`\n",
    "                     ):\n",
    "    \"\"\"List all files available in the competition or dataset for the passed code\"\"\"\n",
    "    if code is None:\n",
    "        print(f\"code is None, please provide the code of the kaggle competition or dataset\")\n",
    "        return 'Failed'\n",
    "    elif mode not in ['competitions', 'datasets']:\n",
    "        print(f\"mode must be either 'competitions' or 'datasets', not {mode}\")\n",
    "        return 'Failed'\n",
    "    else:\n",
    "        print(f\"Listing the files available for {mode}: <{code}>\")\n",
    "        run_cli(f\"kaggle {mode} files {code}\")\n",
    "\n",
    "    if mode == 'competitions':\n",
    "        print(f\"{'=' * 140}\")\n",
    "        print(f\"Make sure to set the parameters for <{code}> in next cell:\")\n",
    "        print(f\" - kaggle_project_folder_name: string with name of the project folder\")\n",
    "        print(f\" - train_files: list of files to place into the <train> folder\")\n",
    "        print(f\" - test_files: list of files to place into the <test> folder\")\n",
    "        print(f\" - submit_files: list of files to place into the <submit> folder\")\n",
    "        print(f\"{'=' * 140}\")"
   ]
  },
  {
   "cell_type": "code",
   "execution_count": null,
   "id": "cb9fbd02",
   "metadata": {},
   "outputs": [],
   "source": [
    "#| export\n",
    "def kaggle_download_competition_files(\n",
    "    competition_code:str = None, \n",
    "    train_files:list() = [], \n",
    "    test_files:list = [], \n",
    "    submit_files:list = [], \n",
    "    project_folder:str = 'ds'\n",
    "    ):\n",
    "    \"\"\"download all files for passed competition, unzip them if required, move them to train, test and submit folders\n",
    "\n",
    "    competition_code: str       code of the kaggle competition\n",
    "    train_files: list of str    names of files to be moved into train folder\n",
    "    test_files: list of str     names of files to be moved into test folder\n",
    "    submit_files: list of str   names of files to be moved into submit folder\n",
    "    \"\"\"\n",
    "    if competition_code is None:\n",
    "        print(f\"competition_code is None, please provide the code of the kaggle competition\")\n",
    "        return 'Failed'\n",
    "    else:\n",
    "        list_of_datasets = {'train': train_files,\n",
    "                            'test': test_files,\n",
    "                            'submit': submit_files}\n",
    "\n",
    "        # creating a project directory and set paths\n",
    "        if not os.path.exists(project_folder):\n",
    "            os.makedirs(project_folder)\n",
    "\n",
    "        path2datasets = Path(f\"/content/{project_folder}\")\n",
    "        path2datasets_str = str(path2datasets.absolute())\n",
    "\n",
    "        # download all files from kaggle\n",
    "        run_cli(f\"kaggle competitions download -c {competition_code} -p {path2datasets}\")\n",
    "\n",
    "        print(f\"{'=' * 140}\")\n",
    "        print('Downloaded files:')\n",
    "        for f in [item for item in path2datasets.iterdir() if item.is_file()]:\n",
    "            print(f\" - {f}\")\n",
    "        print(f\"{'=' * 140}\")\n",
    "\n",
    "        # Unzip all zipped files\n",
    "        for f in path2datasets.glob('*.zip'):\n",
    "            print(f\"Unzipping {f.name}\")\n",
    "            zip_f = ZipFile(f)\n",
    "            zip_f.extractall(path=path2datasets)\n",
    "            os.remove(f)\n",
    "        print(f\"{'=' * 140}\")\n",
    "\n",
    "        # Move all data files to the correct data folder\n",
    "        for dataset_folder, files in list_of_datasets.items():\n",
    "            if not os.path.exists(f'{project_folder}/{dataset_folder}'):\n",
    "                os.makedirs(f'{project_folder}/{dataset_folder}')\n",
    "\n",
    "            for f in files:\n",
    "                print(f\"Moving {f} to {dataset_folder}\")\n",
    "                p2f = path2datasets / f\n",
    "                if p2f.suffix == '.csv':\n",
    "                    shutil.move(path2datasets / f, path2datasets / dataset_folder / f)\n",
    "                else:\n",
    "                    msg = f\"Does not support {p2f.name}'s extension {p2f.suffix}\"\n",
    "                    raise RuntimeError(msg)\n",
    "\n",
    "        print(f\"{'=' * 140}\")\n",
    "        print('Done loading Kaggle files and moving them to corresponding folders')"
   ]
  }
 ],
 "metadata": {
  "kernelspec": {
   "display_name": "Python 3 (ipykernel)",
   "language": "python",
   "name": "python3"
  }
 },
 "nbformat": 4,
 "nbformat_minor": 5
}
