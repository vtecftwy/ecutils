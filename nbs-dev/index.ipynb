{
 "cells": [
  {
   "cell_type": "code",
   "execution_count": null,
   "metadata": {},
   "outputs": [],
   "source": [
    "#| hide"
   ]
  },
  {
   "cell_type": "markdown",
   "metadata": {},
   "source": [
    "# `ecutilities`\n",
    "\n",
    "> Personal package regrouping a set of convenient utility functions I used on regular basis. These functions are usable across several projects and applications, both locally and on hosted VMs. "
   ]
  },
  {
   "cell_type": "markdown",
   "metadata": {},
   "source": [
    "## Installation:\n",
    "\n",
    "**PyPi**\n",
    "\n",
    "`pip install ecutilities`\n",
    "\n",
    "**GitHub**\n",
    "\n",
    "There are two options:\n",
    "\n",
    "- clone the repo and install in develop mode from local source:\n",
    "```\n",
    "pip install -e . from the project folder, or\n",
    "```\n",
    "- install in from github for hosted virtual machines:\n",
    "```\n",
    "pip install git+https://github.com/vtecftwy/ecutils.git@master\n",
    "pip install git+https://github.com/vtecftwy/ecutils.git@develop\n",
    "```"
   ]
  },
  {
   "cell_type": "markdown",
   "metadata": {},
   "source": [
    "## Modules:\n",
    "0. General use:\n",
    "    - `ipython`\n",
    "    - `plotting`\n",
    "1. Data Science and Machine learning:\n",
    "    - `eda_stats_utils`\n",
    "    - `ml`\n",
    "2. Handling of images\n",
    "    - `image_utils`\n",
    "    \n",
    "3. Development\n",
    "    - `dev_utils`"
   ]
  }
 ],
 "metadata": {
  "kernelspec": {
   "display_name": "Python 3 (ipykernel)",
   "language": "python",
   "name": "python3"
  }
 },
 "nbformat": 4,
 "nbformat_minor": 4
}
