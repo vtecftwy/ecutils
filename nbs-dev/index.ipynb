{
 "cells": [
  {
   "cell_type": "markdown",
   "id": "7a1d1fff",
   "metadata": {},
   "source": [
    "# `ecutils` package\n",
    "> Collection of utility functions usable across several projects and applications, both locally and on hosted VMs. This is provided as it is, feel free to use it but no support is provided. "
   ]
  },
  {
   "cell_type": "markdown",
   "id": "d002fb2f",
   "metadata": {},
   "source": [
    "## Installation:\n",
    "There are two options:\n",
    "\n",
    "- install in develop mode from local source:\n",
    "```\n",
    "pip install -e . from the project folder, or\n",
    "pip install -e \"path to local source code directory\"\n",
    "```\n",
    "- install in from github for hosted VMs:\n",
    "```\n",
    "pip install git+https://github.com/vtecftwy/ecutils.git@master\n",
    "pip install git+https://github.com/vtecftwy/ecutils.git@develop\n",
    "```"
   ]
  },
  {
   "cell_type": "markdown",
   "id": "6b5f3a75",
   "metadata": {},
   "source": [
    "## Modules:\n",
    "- General use:\n",
    "    - `ipython_utils`\n",
    "    - `plotting`\n",
    "- Data Science and Machine learning:\n",
    "    - `eda_stats_utils`\n",
    "    - `ml`\n",
    "- Handling of images\n",
    "    - `image_utils`"
   ]
  }
 ],
 "metadata": {
  "kernelspec": {
   "display_name": "Python 3 (ipykernel)",
   "language": "python",
   "name": "python3"
  }
 },
 "nbformat": 4,
 "nbformat_minor": 5
}
