{
 "cells": [
  {
   "cell_type": "code",
   "execution_count": null,
   "metadata": {},
   "outputs": [],
   "source": [
    "#| hide"
   ]
  },
  {
   "cell_type": "markdown",
   "metadata": {},
   "source": [
    "# `ecutilities`\n",
    "\n",
    "> Package regrouping tools (functions and classes) I used in various projects. both locally and on hosted virtual machines. "
   ]
  },
  {
   "cell_type": "markdown",
   "metadata": {},
   "source": [
    "## Installation:\n",
    "\n",
    "**PyPi**\n",
    "\n",
    "`pip install ecutilities`\n",
    "\n",
    "**GitHub**\n",
    "\n",
    "Two options to get versions which are not yet released on PyPi:\n",
    "\n",
    "1. clone the github [repo](https://github.com/vtecftwy/ecutils) and install it in edit mode from within the cloned repo:\n",
    "```\n",
    "pip install -e .\n",
    "```\n",
    "2. install with pip from the github repo directly for hosted virtual machines:\n",
    "```\n",
    "pip install git+https://github.com/vtecftwy/ecutils.git@master\n",
    "pip install git+https://github.com/vtecftwy/ecutils.git@develop\n",
    "```"
   ]
  },
  {
   "cell_type": "markdown",
   "metadata": {},
   "source": [
    "## Modules:\n",
    "0. General use:\n",
    "    - `core`\n",
    "    - `ipython`\n",
    "    - `plotting`\n",
    "1. Data Science and Machine learning:\n",
    "    - `eda_stats_utils`\n",
    "    - `ml`\n",
    "2. Images\n",
    "    - `image_utils`\n",
    "    \n",
    "3. Development\n",
    "    - `dev_utils`"
   ]
  }
 ],
 "metadata": {
  "kernelspec": {
   "display_name": "python3",
   "language": "python",
   "name": "python3"
  }
 },
 "nbformat": 4,
 "nbformat_minor": 4
}
