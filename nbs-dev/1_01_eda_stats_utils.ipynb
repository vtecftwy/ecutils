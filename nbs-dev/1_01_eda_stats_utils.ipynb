{
 "cells": [
  {
   "cell_type": "markdown",
   "id": "de3fc13a-2895-49da-8123-392733371a89",
   "metadata": {},
   "source": [
    "# `eda_stats_utils`\n",
    "> Utility Functions that can be used for exploratory data analysis and statistics. Includes all stable utility functions for eda and statistics.\n"
   ]
  },
  {
   "cell_type": "code",
   "execution_count": null,
   "id": "b749db97-9459-4f12-9a3b-b2007215839d",
   "metadata": {},
   "outputs": [],
   "source": [
    "#|default_exp eda_stats_utils"
   ]
  },
  {
   "cell_type": "code",
   "execution_count": null,
   "id": "86374be7",
   "metadata": {},
   "outputs": [],
   "source": [
    "#| hide\n",
    "from nbdev import show_doc, nbdev_export"
   ]
  },
  {
   "cell_type": "code",
   "execution_count": null,
   "id": "8248c707-8d14-45cb-92f6-c6fa9afa5c50",
   "metadata": {},
   "outputs": [],
   "source": [
    "#| export\n",
    "from __future__ import annotations\n",
    "from pathlib import Path\n",
    "from IPython.display import Image, display\n",
    "from pprint import pprint\n",
    "\n",
    "import datetime as dt\n",
    "import matplotlib.pyplot as plt\n",
    "import numpy as np\n",
    "import os\n",
    "import pandas as pd\n",
    "import shutil"
   ]
  },
  {
   "cell_type": "code",
   "execution_count": null,
   "id": "85444d08-bfdc-4b5d-bbff-8b8e1e6dfb36",
   "metadata": {},
   "outputs": [],
   "source": [
    "#| export\n",
    "def pandas_all_cols_and_rows(f):\n",
    "    \"\"\"decorator function to force display of all the columns in a DataFrame, only for one time\"\"\"\n",
    "    def wrapper(*args, **kwargs):\n",
    "        max_rows = pd.options.display.max_rows\n",
    "        max_cols = pd.options.display.max_columns\n",
    "        pd.options.display.max_rows = None\n",
    "        pd.options.display.max_columns = None\n",
    "        f(*args, **kwargs)\n",
    "        pd.options.display.max_rows = max_rows\n",
    "        pd.options.display.max_columns = max_cols\n",
    "    \n",
    "    return wrapper"
   ]
  },
  {
   "cell_type": "code",
   "execution_count": null,
   "id": "0fa3201d-2322-42a3-8047-7b39c650e44b",
   "metadata": {},
   "outputs": [],
   "source": [
    "#| export\n",
    "@pandas_all_cols_and_rows\n",
    "def display_full_df(df:pd.DataFrame  # DataFrame to display\n",
    "                   ):\n",
    "    \"\"\"Display a dataframe showing all columns\"\"\"\n",
    "    if not isinstance(df, pd.DataFrame): raise TypeError('df must me a pandas DataFrame')\n",
    "    display(df)"
   ]
  },
  {
   "cell_type": "code",
   "execution_count": null,
   "id": "0a97e75f",
   "metadata": {},
   "outputs": [
    {
     "data": {
      "text/html": [
       "<div>\n",
       "<style scoped>\n",
       "    .dataframe tbody tr th:only-of-type {\n",
       "        vertical-align: middle;\n",
       "    }\n",
       "\n",
       "    .dataframe tbody tr th {\n",
       "        vertical-align: top;\n",
       "    }\n",
       "\n",
       "    .dataframe thead th {\n",
       "        text-align: right;\n",
       "    }\n",
       "</style>\n",
       "<table border=\"1\" class=\"dataframe\">\n",
       "  <thead>\n",
       "    <tr style=\"text-align: right;\">\n",
       "      <th></th>\n",
       "      <th>0</th>\n",
       "      <th>1</th>\n",
       "      <th>2</th>\n",
       "      <th>3</th>\n",
       "      <th>4</th>\n",
       "      <th>5</th>\n",
       "      <th>6</th>\n",
       "      <th>7</th>\n",
       "      <th>8</th>\n",
       "      <th>9</th>\n",
       "      <th>...</th>\n",
       "      <th>40</th>\n",
       "      <th>41</th>\n",
       "      <th>42</th>\n",
       "      <th>43</th>\n",
       "      <th>44</th>\n",
       "      <th>45</th>\n",
       "      <th>46</th>\n",
       "      <th>47</th>\n",
       "      <th>48</th>\n",
       "      <th>49</th>\n",
       "    </tr>\n",
       "  </thead>\n",
       "  <tbody>\n",
       "    <tr>\n",
       "      <th>0</th>\n",
       "      <td>85</td>\n",
       "      <td>31</td>\n",
       "      <td>11</td>\n",
       "      <td>1</td>\n",
       "      <td>71</td>\n",
       "      <td>51</td>\n",
       "      <td>9</td>\n",
       "      <td>1</td>\n",
       "      <td>19</td>\n",
       "      <td>7</td>\n",
       "      <td>...</td>\n",
       "      <td>90</td>\n",
       "      <td>18</td>\n",
       "      <td>82</td>\n",
       "      <td>2</td>\n",
       "      <td>73</td>\n",
       "      <td>27</td>\n",
       "      <td>34</td>\n",
       "      <td>63</td>\n",
       "      <td>63</td>\n",
       "      <td>83</td>\n",
       "    </tr>\n",
       "    <tr>\n",
       "      <th>1</th>\n",
       "      <td>34</td>\n",
       "      <td>38</td>\n",
       "      <td>79</td>\n",
       "      <td>74</td>\n",
       "      <td>61</td>\n",
       "      <td>97</td>\n",
       "      <td>18</td>\n",
       "      <td>71</td>\n",
       "      <td>17</td>\n",
       "      <td>13</td>\n",
       "      <td>...</td>\n",
       "      <td>26</td>\n",
       "      <td>85</td>\n",
       "      <td>4</td>\n",
       "      <td>46</td>\n",
       "      <td>49</td>\n",
       "      <td>30</td>\n",
       "      <td>5</td>\n",
       "      <td>49</td>\n",
       "      <td>80</td>\n",
       "      <td>22</td>\n",
       "    </tr>\n",
       "    <tr>\n",
       "      <th>2</th>\n",
       "      <td>8</td>\n",
       "      <td>87</td>\n",
       "      <td>32</td>\n",
       "      <td>11</td>\n",
       "      <td>28</td>\n",
       "      <td>54</td>\n",
       "      <td>62</td>\n",
       "      <td>44</td>\n",
       "      <td>98</td>\n",
       "      <td>56</td>\n",
       "      <td>...</td>\n",
       "      <td>70</td>\n",
       "      <td>57</td>\n",
       "      <td>70</td>\n",
       "      <td>52</td>\n",
       "      <td>43</td>\n",
       "      <td>99</td>\n",
       "      <td>68</td>\n",
       "      <td>40</td>\n",
       "      <td>46</td>\n",
       "      <td>42</td>\n",
       "    </tr>\n",
       "  </tbody>\n",
       "</table>\n",
       "<p>3 rows × 50 columns</p>\n",
       "</div>"
      ],
      "text/plain": [
       "   0   1   2   3   4   5   6   7   8   9   ...  40  41  42  43  44  45  46  \\\n",
       "0  85  31  11   1  71  51   9   1  19   7  ...  90  18  82   2  73  27  34   \n",
       "1  34  38  79  74  61  97  18  71  17  13  ...  26  85   4  46  49  30   5   \n",
       "2   8  87  32  11  28  54  62  44  98  56  ...  70  57  70  52  43  99  68   \n",
       "\n",
       "   47  48  49  \n",
       "0  63  63  83  \n",
       "1  49  80  22  \n",
       "2  40  46  42  \n",
       "\n",
       "[3 rows x 50 columns]"
      ]
     },
     "execution_count": null,
     "metadata": {},
     "output_type": "execute_result"
    }
   ],
   "source": [
    "df = pd.DataFrame(np.random.randint(low=0, high=100, size=(3,50)))\n",
    "df"
   ]
  },
  {
   "cell_type": "code",
   "execution_count": null,
   "id": "8f71065d",
   "metadata": {},
   "outputs": [
    {
     "data": {
      "text/html": [
       "<div>\n",
       "<style scoped>\n",
       "    .dataframe tbody tr th:only-of-type {\n",
       "        vertical-align: middle;\n",
       "    }\n",
       "\n",
       "    .dataframe tbody tr th {\n",
       "        vertical-align: top;\n",
       "    }\n",
       "\n",
       "    .dataframe thead th {\n",
       "        text-align: right;\n",
       "    }\n",
       "</style>\n",
       "<table border=\"1\" class=\"dataframe\">\n",
       "  <thead>\n",
       "    <tr style=\"text-align: right;\">\n",
       "      <th></th>\n",
       "      <th>0</th>\n",
       "      <th>1</th>\n",
       "      <th>2</th>\n",
       "      <th>3</th>\n",
       "      <th>4</th>\n",
       "      <th>5</th>\n",
       "      <th>6</th>\n",
       "      <th>7</th>\n",
       "      <th>8</th>\n",
       "      <th>9</th>\n",
       "      <th>10</th>\n",
       "      <th>11</th>\n",
       "      <th>12</th>\n",
       "      <th>13</th>\n",
       "      <th>14</th>\n",
       "      <th>15</th>\n",
       "      <th>16</th>\n",
       "      <th>17</th>\n",
       "      <th>18</th>\n",
       "      <th>19</th>\n",
       "      <th>20</th>\n",
       "      <th>21</th>\n",
       "      <th>22</th>\n",
       "      <th>23</th>\n",
       "      <th>24</th>\n",
       "      <th>25</th>\n",
       "      <th>26</th>\n",
       "      <th>27</th>\n",
       "      <th>28</th>\n",
       "      <th>29</th>\n",
       "      <th>30</th>\n",
       "      <th>31</th>\n",
       "      <th>32</th>\n",
       "      <th>33</th>\n",
       "      <th>34</th>\n",
       "      <th>35</th>\n",
       "      <th>36</th>\n",
       "      <th>37</th>\n",
       "      <th>38</th>\n",
       "      <th>39</th>\n",
       "      <th>40</th>\n",
       "      <th>41</th>\n",
       "      <th>42</th>\n",
       "      <th>43</th>\n",
       "      <th>44</th>\n",
       "      <th>45</th>\n",
       "      <th>46</th>\n",
       "      <th>47</th>\n",
       "      <th>48</th>\n",
       "      <th>49</th>\n",
       "    </tr>\n",
       "  </thead>\n",
       "  <tbody>\n",
       "    <tr>\n",
       "      <th>0</th>\n",
       "      <td>85</td>\n",
       "      <td>31</td>\n",
       "      <td>11</td>\n",
       "      <td>1</td>\n",
       "      <td>71</td>\n",
       "      <td>51</td>\n",
       "      <td>9</td>\n",
       "      <td>1</td>\n",
       "      <td>19</td>\n",
       "      <td>7</td>\n",
       "      <td>0</td>\n",
       "      <td>6</td>\n",
       "      <td>21</td>\n",
       "      <td>41</td>\n",
       "      <td>27</td>\n",
       "      <td>42</td>\n",
       "      <td>73</td>\n",
       "      <td>8</td>\n",
       "      <td>26</td>\n",
       "      <td>88</td>\n",
       "      <td>95</td>\n",
       "      <td>13</td>\n",
       "      <td>66</td>\n",
       "      <td>96</td>\n",
       "      <td>0</td>\n",
       "      <td>50</td>\n",
       "      <td>5</td>\n",
       "      <td>80</td>\n",
       "      <td>43</td>\n",
       "      <td>47</td>\n",
       "      <td>29</td>\n",
       "      <td>70</td>\n",
       "      <td>44</td>\n",
       "      <td>94</td>\n",
       "      <td>24</td>\n",
       "      <td>69</td>\n",
       "      <td>38</td>\n",
       "      <td>74</td>\n",
       "      <td>48</td>\n",
       "      <td>11</td>\n",
       "      <td>90</td>\n",
       "      <td>18</td>\n",
       "      <td>82</td>\n",
       "      <td>2</td>\n",
       "      <td>73</td>\n",
       "      <td>27</td>\n",
       "      <td>34</td>\n",
       "      <td>63</td>\n",
       "      <td>63</td>\n",
       "      <td>83</td>\n",
       "    </tr>\n",
       "    <tr>\n",
       "      <th>1</th>\n",
       "      <td>34</td>\n",
       "      <td>38</td>\n",
       "      <td>79</td>\n",
       "      <td>74</td>\n",
       "      <td>61</td>\n",
       "      <td>97</td>\n",
       "      <td>18</td>\n",
       "      <td>71</td>\n",
       "      <td>17</td>\n",
       "      <td>13</td>\n",
       "      <td>72</td>\n",
       "      <td>91</td>\n",
       "      <td>32</td>\n",
       "      <td>63</td>\n",
       "      <td>37</td>\n",
       "      <td>41</td>\n",
       "      <td>91</td>\n",
       "      <td>86</td>\n",
       "      <td>71</td>\n",
       "      <td>4</td>\n",
       "      <td>22</td>\n",
       "      <td>31</td>\n",
       "      <td>18</td>\n",
       "      <td>44</td>\n",
       "      <td>67</td>\n",
       "      <td>4</td>\n",
       "      <td>27</td>\n",
       "      <td>60</td>\n",
       "      <td>16</td>\n",
       "      <td>18</td>\n",
       "      <td>87</td>\n",
       "      <td>95</td>\n",
       "      <td>37</td>\n",
       "      <td>56</td>\n",
       "      <td>50</td>\n",
       "      <td>16</td>\n",
       "      <td>3</td>\n",
       "      <td>86</td>\n",
       "      <td>71</td>\n",
       "      <td>38</td>\n",
       "      <td>26</td>\n",
       "      <td>85</td>\n",
       "      <td>4</td>\n",
       "      <td>46</td>\n",
       "      <td>49</td>\n",
       "      <td>30</td>\n",
       "      <td>5</td>\n",
       "      <td>49</td>\n",
       "      <td>80</td>\n",
       "      <td>22</td>\n",
       "    </tr>\n",
       "    <tr>\n",
       "      <th>2</th>\n",
       "      <td>8</td>\n",
       "      <td>87</td>\n",
       "      <td>32</td>\n",
       "      <td>11</td>\n",
       "      <td>28</td>\n",
       "      <td>54</td>\n",
       "      <td>62</td>\n",
       "      <td>44</td>\n",
       "      <td>98</td>\n",
       "      <td>56</td>\n",
       "      <td>10</td>\n",
       "      <td>66</td>\n",
       "      <td>53</td>\n",
       "      <td>94</td>\n",
       "      <td>72</td>\n",
       "      <td>23</td>\n",
       "      <td>35</td>\n",
       "      <td>81</td>\n",
       "      <td>54</td>\n",
       "      <td>9</td>\n",
       "      <td>68</td>\n",
       "      <td>75</td>\n",
       "      <td>15</td>\n",
       "      <td>68</td>\n",
       "      <td>49</td>\n",
       "      <td>70</td>\n",
       "      <td>64</td>\n",
       "      <td>20</td>\n",
       "      <td>9</td>\n",
       "      <td>84</td>\n",
       "      <td>45</td>\n",
       "      <td>38</td>\n",
       "      <td>93</td>\n",
       "      <td>27</td>\n",
       "      <td>22</td>\n",
       "      <td>11</td>\n",
       "      <td>1</td>\n",
       "      <td>91</td>\n",
       "      <td>6</td>\n",
       "      <td>42</td>\n",
       "      <td>70</td>\n",
       "      <td>57</td>\n",
       "      <td>70</td>\n",
       "      <td>52</td>\n",
       "      <td>43</td>\n",
       "      <td>99</td>\n",
       "      <td>68</td>\n",
       "      <td>40</td>\n",
       "      <td>46</td>\n",
       "      <td>42</td>\n",
       "    </tr>\n",
       "  </tbody>\n",
       "</table>\n",
       "</div>"
      ],
      "text/plain": [
       "   0   1   2   3   4   5   6   7   8   9   10  11  12  13  14  15  16  17  18  \\\n",
       "0  85  31  11   1  71  51   9   1  19   7   0   6  21  41  27  42  73   8  26   \n",
       "1  34  38  79  74  61  97  18  71  17  13  72  91  32  63  37  41  91  86  71   \n",
       "2   8  87  32  11  28  54  62  44  98  56  10  66  53  94  72  23  35  81  54   \n",
       "\n",
       "   19  20  21  22  23  24  25  26  27  28  29  30  31  32  33  34  35  36  37  \\\n",
       "0  88  95  13  66  96   0  50   5  80  43  47  29  70  44  94  24  69  38  74   \n",
       "1   4  22  31  18  44  67   4  27  60  16  18  87  95  37  56  50  16   3  86   \n",
       "2   9  68  75  15  68  49  70  64  20   9  84  45  38  93  27  22  11   1  91   \n",
       "\n",
       "   38  39  40  41  42  43  44  45  46  47  48  49  \n",
       "0  48  11  90  18  82   2  73  27  34  63  63  83  \n",
       "1  71  38  26  85   4  46  49  30   5  49  80  22  \n",
       "2   6  42  70  57  70  52  43  99  68  40  46  42  "
      ]
     },
     "metadata": {},
     "output_type": "display_data"
    }
   ],
   "source": [
    "display_full_df(df)"
   ]
  },
  {
   "cell_type": "code",
   "execution_count": null,
   "id": "c562a480-0a6c-4a06-8372-a0fa6782502f",
   "metadata": {},
   "outputs": [],
   "source": [
    "#| export\n",
    "def ecdf(\n",
    "    data:pd.Series|np.array,            # data to analyse \n",
    "    threshold:int|None = None,          # cummulative frequency used as threshold. Must be between 0 and 1\n",
    "    figsize:tuple(int,int)|None = None  # figure size (width, height)\n",
    ")-> tuple(np.array, np.array, int):  # sorted data (asc.), cumulative frequencies, last index\n",
    "    \"\"\"Compute Empirical Cumulative Distribution Function (ECDF).\"\"\"\n",
    "\n",
    "    n = len(data)\n",
    "    if threshold is None or int(threshold) == 1:\n",
    "        last_idx = n -1\n",
    "    elif 0 < threshold < 1:\n",
    "        last_idx = min(int(np.floor(n * threshold)), n) -1\n",
    "    else:\n",
    "        print(f\"threshold = {threshold}. Must be between 0 and 1.\\nUsing threshold =  1 instead\")\n",
    "        last_idx = n -1\n",
    "\n",
    "    # Data to plot on x-axis and y-axis\n",
    "    x = np.sort(data)\n",
    "    y = np.arange(1, n + 1) / n\n",
    "\n",
    "    x_to_plot, y_to_plot = x[0:last_idx+1], y[0:last_idx+1]\n",
    "\n",
    "    # Plot the ECDF\n",
    "    figsize = (8, 4) if figsize is None else figsize\n",
    "    fig, ax = plt.subplots(figsize=figsize)\n",
    "    ax.plot(x_to_plot, y_to_plot, marker='.', linestyle='none')\n",
    "    ax.plot([x[0], x_to_plot[-1]], [0, threshold], color='Gainsboro', linestyle='-', linewidth=1)\n",
    "    ax.set_title(f\"Empirical Cumulative Distribution Function \\n(with threshold {threshold})\")\n",
    "    ax.xaxis.set_major_locator(plt.MaxNLocator(min_n_ticks=10))\n",
    "    ax.yaxis.set_major_locator(plt.MultipleLocator(0.1))\n",
    "    ax.grid(visible=True, which='both', axis='both', color='Gainsboro', linestyle='--', linewidth=1)\n",
    "    plt.show()\n",
    "\n",
    "    return x, y, last_idx"
   ]
  },
  {
   "cell_type": "markdown",
   "id": "7c26cd3e-a7f1-4a82-bd82-5ae78017dee1",
   "metadata": {},
   "source": [
    "*`ecdf`* plots the empirical cumulative distribution function (ECDF), for data cumulative frequencies from 0 to threshold <= 1."
   ]
  },
  {
   "cell_type": "code",
   "execution_count": null,
   "id": "4d564ece-202d-4d2d-b1a2-ec2875fba713",
   "metadata": {},
   "outputs": [
    {
     "data": {
      "image/png": "[encoded data removed]",
      "text/plain": [
       "<Figure size 500x500 with 1 Axes>"
      ]
     },
     "metadata": {},
     "output_type": "display_data"
    },
    {
     "data": {
      "image/png": "[encoded data removed]",
      "text/plain": [
       "<Figure size 500x500 with 1 Axes>"
      ]
     },
     "metadata": {},
     "output_type": "display_data"
    }
   ],
   "source": [
    "df = pd.DataFrame(data={'a': np.random.random(100) * 100,'b': np.random.random(100) * 50,'c': np.random.random(100)})\n",
    "data_1, freq_1, last_idx_1 = ecdf(data=df.a, threshold=1, figsize=(5, 5))\n",
    "data_2, freq_2, last_idx_2 = ecdf(data=df.a, threshold=0.5, figsize=(5, 5))"
   ]
  },
  {
   "cell_type": "markdown",
   "id": "a35f37e5",
   "metadata": {},
   "source": [
    "It also returns:\n",
    "- the data used for the ECDF, with values sorted from smallest to largest\n",
    "- the respective cummulative frequencies \n",
    "- the index of data value/frequency plotted (at the threshold)"
   ]
  },
  {
   "cell_type": "code",
   "execution_count": null,
   "id": "ff443388",
   "metadata": {},
   "outputs": [],
   "source": [
    "#| hide\n",
    "np.set_printoptions(precision=2, linewidth=120)"
   ]
  },
  {
   "cell_type": "code",
   "execution_count": null,
   "id": "13cf22c6",
   "metadata": {},
   "outputs": [
    {
     "data": {
      "text/plain": [
       "array([ 3.23,  5.18,  5.71,  5.74,  7.04,  7.05,  7.91,  8.62,  9.77,  9.95, 10.34, 10.64, 13.62, 14.11, 14.88, 16.99,\n",
       "       19.76, 24.73, 25.2 , 25.71, 25.88, 30.21, 32.86, 33.38, 34.2 , 37.3 , 37.38, 38.03, 38.59, 38.83, 39.01, 40.3 ,\n",
       "       40.99, 41.53, 41.73, 44.75, 46.27, 46.82, 48.12, 48.25, 48.3 , 48.34, 49.06, 49.73, 51.23, 51.79, 52.81, 53.7 ,\n",
       "       54.98, 55.47, 56.26, 56.42, 56.55, 56.6 , 57.39, 59.55, 60.48, 62.63, 62.91, 63.24, 65.09, 66.48, 67.57, 69.4 ,\n",
       "       69.74, 71.34, 71.79, 71.94, 72.7 , 72.82, 72.95, 73.57, 74.1 , 75.71, 76.43, 77.9 , 77.93, 78.68, 78.88, 79.83,\n",
       "       80.12, 80.26, 81.35, 82.1 , 83.39, 84.22, 84.58, 85.66, 85.86, 87.33, 87.56, 88.23, 90.06, 91.11, 93.61, 95.47,\n",
       "       95.57, 97.55, 98.46, 99.71])"
      ]
     },
     "execution_count": null,
     "metadata": {},
     "output_type": "execute_result"
    }
   ],
   "source": [
    "data_1"
   ]
  },
  {
   "cell_type": "code",
   "execution_count": null,
   "id": "29f0146c",
   "metadata": {},
   "outputs": [
    {
     "data": {
      "text/plain": [
       "array([0.01, 0.02, 0.03, 0.04, 0.05, 0.06, 0.07, 0.08, 0.09, 0.1 , 0.11, 0.12, 0.13, 0.14, 0.15, 0.16, 0.17, 0.18,\n",
       "       0.19, 0.2 , 0.21, 0.22, 0.23, 0.24, 0.25, 0.26, 0.27, 0.28, 0.29, 0.3 , 0.31, 0.32, 0.33, 0.34, 0.35, 0.36,\n",
       "       0.37, 0.38, 0.39, 0.4 , 0.41, 0.42, 0.43, 0.44, 0.45, 0.46, 0.47, 0.48, 0.49, 0.5 , 0.51, 0.52, 0.53, 0.54,\n",
       "       0.55, 0.56, 0.57, 0.58, 0.59, 0.6 , 0.61, 0.62, 0.63, 0.64, 0.65, 0.66, 0.67, 0.68, 0.69, 0.7 , 0.71, 0.72,\n",
       "       0.73, 0.74, 0.75, 0.76, 0.77, 0.78, 0.79, 0.8 , 0.81, 0.82, 0.83, 0.84, 0.85, 0.86, 0.87, 0.88, 0.89, 0.9 ,\n",
       "       0.91, 0.92, 0.93, 0.94, 0.95, 0.96, 0.97, 0.98, 0.99, 1.  ])"
      ]
     },
     "execution_count": null,
     "metadata": {},
     "output_type": "execute_result"
    }
   ],
   "source": [
    "freq_1"
   ]
  },
  {
   "cell_type": "markdown",
   "id": "41f2d268",
   "metadata": {},
   "source": [
    "The function returns all the sorted data and frequencies, independently from the threshold. In the example above, `data_1` and `data_2` have the same values."
   ]
  },
  {
   "cell_type": "code",
   "execution_count": null,
   "id": "b1873879",
   "metadata": {},
   "outputs": [
    {
     "data": {
      "text/plain": [
       "(True, True)"
      ]
     },
     "execution_count": null,
     "metadata": {},
     "output_type": "execute_result"
    }
   ],
   "source": [
    "np.array_equal(data_1, data_2), np.array_equal(freq_1, freq_2)"
   ]
  },
  {
   "cell_type": "code",
   "execution_count": null,
   "id": "a0133b2c",
   "metadata": {},
   "outputs": [
    {
     "data": {
      "text/plain": [
       "array([ 3.23,  5.18,  5.71,  5.74,  7.04,  7.05,  7.91,  8.62,  9.77,  9.95, 10.34, 10.64, 13.62, 14.11, 14.88, 16.99,\n",
       "       19.76, 24.73, 25.2 , 25.71, 25.88, 30.21, 32.86, 33.38, 34.2 , 37.3 , 37.38, 38.03, 38.59, 38.83, 39.01, 40.3 ,\n",
       "       40.99, 41.53, 41.73, 44.75, 46.27, 46.82, 48.12, 48.25, 48.3 , 48.34, 49.06, 49.73, 51.23, 51.79, 52.81, 53.7 ,\n",
       "       54.98, 55.47])"
      ]
     },
     "execution_count": null,
     "metadata": {},
     "output_type": "execute_result"
    }
   ],
   "source": [
    "data_2[:last_idx_2+1]"
   ]
  },
  {
   "cell_type": "code",
   "execution_count": null,
   "id": "4ed593ac",
   "metadata": {},
   "outputs": [],
   "source": [
    "#| hide\n",
    "nbdev_export()"
   ]
  }
 ],
 "metadata": {
  "kernelspec": {
   "display_name": "Python 3 (ipykernel)",
   "language": "python",
   "name": "python3"
  }
 },
 "nbformat": 4,
 "nbformat_minor": 5
}
