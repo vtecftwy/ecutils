{
 "cells": [
  {
   "cell_type": "markdown",
   "id": "6d4ddf06-eb2f-469d-99fb-25ead3b85093",
   "metadata": {},
   "source": [
    "# `ipython`\n",
    "> Set of utility functions to be used in Jupyter and Jupyter Lab notebooks.\n"
   ]
  },
  {
   "cell_type": "code",
   "execution_count": null,
   "id": "7c70747c",
   "metadata": {},
   "outputs": [],
   "source": [
    "#|default_exp ipython"
   ]
  },
  {
   "cell_type": "code",
   "execution_count": null,
   "id": "45f8c09e",
   "metadata": {},
   "outputs": [],
   "source": [
    "#| export\n",
    "from __future__ import annotations\n",
    "from IPython.core.getipython import get_ipython\n",
    "from IPython.display import display, Markdown, display_markdown\n",
    "from pathlib import Path\n",
    "\n",
    "import numpy as np\n",
    "import pandas as pd\n",
    "import sys"
   ]
  },
  {
   "cell_type": "code",
   "execution_count": null,
   "id": "f7b58bca-64c9-44a3-87e2-b627b0ac432f",
   "metadata": {},
   "outputs": [],
   "source": [
    "#| hide\n",
    "from nbdev import show_doc, nbdev_export"
   ]
  },
  {
   "cell_type": "code",
   "execution_count": null,
   "id": "12098f5d",
   "metadata": {},
   "outputs": [],
   "source": [
    "#| export\n",
    "def nb_setup(autoreload:bool = True,   # True to set autoreload in this notebook\n",
    "             paths:list(Path) = None   # Paths to add to the path environment variable\n",
    "            ):\n",
    "    \"\"\"Use in first cell of notebook to set autoreload, and paths\"\"\"\n",
    "#   Add paths. Default is 'src' if it exists\n",
    "    if paths is None:\n",
    "        p = Path('../src').resolve().absolute()\n",
    "        if p.is_dir():\n",
    "            paths = [str(p)]\n",
    "        else:\n",
    "            paths=[]\n",
    "    if paths:\n",
    "        for p in paths:\n",
    "            sys.path.insert(1, str(p))\n",
    "        print(f\"Added following paths: {','.join(paths)}\")\n",
    "\n",
    "#   Setup auto reload\n",
    "    if autoreload:\n",
    "        ipshell = get_ipython()\n",
    "        ipshell.run_line_magic('load_ext',  'autoreload')\n",
    "        ipshell.run_line_magic('autoreload', '2')\n",
    "        print('Set autoreload mode')"
   ]
  },
  {
   "cell_type": "markdown",
   "id": "e34bee72",
   "metadata": {},
   "source": [
    "By default, `ipython.nb_setup()` \n",
    "- loads and set `autoreload`\n",
    "- adds a path to a directory named `src` when it exists at the same level as where the notebook directory is located. It no such `src` directory exists, no path is added\n",
    "\n",
    "`ipython.nb_setup` assumes the following file structure:\n",
    "\n",
    "```\n",
    "    project_directory\n",
    "          | --- notebooks\n",
    "          |        | --- current_nb.ipynb\n",
    "          |        | --- ...\n",
    "          |\n",
    "          |--- src\n",
    "          |     | --- scripts_to_import.py\n",
    "          |     | --- ...\n",
    "          |\n",
    "          |--- data\n",
    "          |     |\n",
    "          |     | ...\n",
    "```\n",
    "\n",
    "For other file structure, specify paths as a `list` of `Path`"
   ]
  },
  {
   "cell_type": "code",
   "execution_count": null,
   "id": "7b876ac2",
   "metadata": {},
   "outputs": [],
   "source": [
    "#| export\n",
    "def colab_install_project_code(\n",
    "    package_name:str # project package name, e.g. git+https://github.com/vtecftwy/metagentools.git@main\n",
    "):\n",
    "    \"\"\"When nb is running on colab, pip install the project code package\"\"\"\n",
    "    try:\n",
    "        from google.colab import drive\n",
    "        ON_COLAB = True\n",
    "        print('The notebook is running on colab')\n",
    "        print('Installing project code')\n",
    "        cmd = f\"pip install -U {package_name}\"\n",
    "        run(cmd)\n",
    "\n",
    "    except ModuleNotFoundError:\n",
    "        ON_COLAB = False\n",
    "        print('The notebook is running locally, will not automatically install project code')\n",
    "\n",
    "    return ON_COLAB"
   ]
  },
  {
   "cell_type": "markdown",
   "id": "1651f3d9",
   "metadata": {},
   "source": [
    "When using colab, the project code must be install every time from its github repo or from the Python Package Index (PyPI).\n",
    "\n",
    "When running locally, the project code should be pre-installed as part of the environment"
   ]
  },
  {
   "cell_type": "code",
   "execution_count": null,
   "id": "7f46495f",
   "metadata": {},
   "outputs": [
    {
     "name": "stdout",
     "output_type": "stream",
     "text": [
      "The notebook is running locally, will not automatically install project code\n"
     ]
    },
    {
     "data": {
      "text/plain": [
       "False"
      ]
     },
     "execution_count": null,
     "metadata": {},
     "output_type": "execute_result"
    }
   ],
   "source": [
    "colab_install_project_code(package_name='git+https://github.com/vtecftwy/metagentools.git@main')"
   ]
  },
  {
   "cell_type": "code",
   "execution_count": null,
   "id": "84a25cac",
   "metadata": {},
   "outputs": [],
   "source": [
    "#| export\n",
    "def files_in_tree(\n",
    "    path: str|Path,        # path to the directory to scan  \n",
    "    pattern: str = ''      # pattern (glob style) to match in file name to filter the content\n",
    "):\n",
    "    \"\"\"List files in directory and its subdiretories, print tree starting from parent directory\"\"\"\n",
    "    parents = [p.name for p in path.parents]\n",
    "    paths = []\n",
    "    pad = ' ' * 2\n",
    "    idx = 0\n",
    "    print(f\"{parents[0]}\")\n",
    "    print(f\"{pad}|--{path.name}\")\n",
    "    for f in [p for p in path.glob(f\"*{pattern}*\") if p.is_file()]:\n",
    "        paths.append(f)\n",
    "        print(f\"{pad}|{pad*2}|--{f.name} ({idx})\")\n",
    "        idx += 1\n",
    "    for d in [p for p in path.glob(f\"*{pattern}*\") if p.is_dir()]:\n",
    "        for f in d.iterdir():\n",
    "            paths.append(f)\n",
    "            print(f\"{pad}|{pad*2}|--{f.name} ({idx})\")\n",
    "            idx += 1\n",
    "    return paths"
   ]
  },
  {
   "cell_type": "code",
   "execution_count": null,
   "id": "b133e58c",
   "metadata": {},
   "outputs": [
    {
     "name": "stdout",
     "output_type": "stream",
     "text": [
      "ec-utils\n",
      "  |--nbs-dev\n",
      "  |    |--0_02_plotting.ipynb (0)\n",
      "  |    |--2_01_image_utils.ipynb (1)\n",
      "  |    |--1_01_eda_stats_utils.ipynb (2)\n",
      "  |    |--0_01_ipython.ipynb (3)\n",
      "  |    |--.last_checked (4)\n",
      "  |    |--sidebar.yml (5)\n",
      "  |    |--1_02_ml.ipynb (6)\n",
      "  |    |--.ipynb_checkpoints (7)\n",
      "  |    |--index.ipynb (8)\n",
      "  |    |--nbdev.yml (9)\n",
      "  |    |--9_01_dev_utils.ipynb (10)\n",
      "  |    |--styles.css (11)\n",
      "  |    |--_quarto.yml (12)\n",
      "  |    |--0_02_plotting-checkpoint.ipynb (13)\n",
      "  |    |--9_01_dev_utils-checkpoint.ipynb (14)\n",
      "  |    |--0_01_ipython-checkpoint.ipynb (15)\n",
      "  |    |--1_01_eda_stats_utils-checkpoint.ipynb (16)\n",
      "  |    |--index-checkpoint.ipynb (17)\n",
      "  |    |--2_01_image_utils-checkpoint.ipynb (18)\n",
      "  |    |--1_02_ml-checkpoint.ipynb (19)\n",
      "List of 20 files when unfiltered\n"
     ]
    }
   ],
   "source": [
    "p2dir = Path('').resolve()\n",
    "\n",
    "files = files_in_tree(p2dir)\n",
    "print(f\"List of {len(files)} files when unfiltered\")"
   ]
  },
  {
   "cell_type": "code",
   "execution_count": null,
   "id": "f68173af",
   "metadata": {},
   "outputs": [
    {
     "name": "stdout",
     "output_type": "stream",
     "text": [
      "ec-utils\n",
      "  |--nbs-dev\n",
      "  |    |--0_02_plotting.ipynb (0)\n",
      "  |    |--2_01_image_utils.ipynb (1)\n",
      "  |    |--1_01_eda_stats_utils.ipynb (2)\n",
      "  |    |--0_01_ipython.ipynb (3)\n",
      "  |    |--1_02_ml.ipynb (4)\n",
      "  |    |--index.ipynb (5)\n",
      "  |    |--9_01_dev_utils.ipynb (6)\n",
      "  |    |--0_02_plotting-checkpoint.ipynb (7)\n",
      "  |    |--9_01_dev_utils-checkpoint.ipynb (8)\n",
      "  |    |--0_01_ipython-checkpoint.ipynb (9)\n",
      "  |    |--1_01_eda_stats_utils-checkpoint.ipynb (10)\n",
      "  |    |--index-checkpoint.ipynb (11)\n",
      "  |    |--2_01_image_utils-checkpoint.ipynb (12)\n",
      "  |    |--1_02_ml-checkpoint.ipynb (13)\n",
      "List of 14 files when filtered\n"
     ]
    }
   ],
   "source": [
    "files = files_in_tree(p2dir, pattern='ipynb')\n",
    "print(f\"List of {len(files)} files when filtered\")"
   ]
  },
  {
   "cell_type": "code",
   "execution_count": null,
   "id": "0d4241eb",
   "metadata": {},
   "outputs": [],
   "source": [
    "#| export\n",
    "def display_mds(\n",
    "    *strings:str # any number of strings with text in markdown format\n",
    "):\n",
    "    \"\"\"Display one or several strings formatted in markdown format\"\"\"\n",
    "    for string in strings:\n",
    "        display_markdown(Markdown(data=string))"
   ]
  },
  {
   "cell_type": "code",
   "execution_count": null,
   "id": "946d19e5-5df1-473f-ad2f-5187d7547187",
   "metadata": {},
   "outputs": [
    {
     "data": {
      "text/markdown": [
       "**bold** and _italic_"
      ]
     },
     "metadata": {},
     "output_type": "display_data"
    }
   ],
   "source": [
    "display_mds('**bold** and _italic_')"
   ]
  },
  {
   "cell_type": "code",
   "execution_count": null,
   "id": "0aa9e8ff-d821-4432-8187-9efb6d954105",
   "metadata": {},
   "outputs": [
    {
     "data": {
      "text/markdown": [
       "**bold** and _italic_"
      ]
     },
     "metadata": {},
     "output_type": "display_data"
    },
    {
     "data": {
      "text/markdown": [
       "- bullet"
      ]
     },
     "metadata": {},
     "output_type": "display_data"
    },
    {
     "data": {
      "text/markdown": [
       "- bullet"
      ]
     },
     "metadata": {},
     "output_type": "display_data"
    },
    {
     "data": {
      "text/markdown": [
       "> Note: this is a note"
      ]
     },
     "metadata": {},
     "output_type": "display_data"
    }
   ],
   "source": [
    "display_mds('**bold** and _italic_',\n",
    "            '- bullet',\n",
    "            '- bullet',\n",
    "            '> Note: this is a note'\n",
    "           )"
   ]
  },
  {
   "cell_type": "code",
   "execution_count": null,
   "id": "0069ecfd",
   "metadata": {},
   "outputs": [],
   "source": [
    "#| export\n",
    "def display_dfs(*dfs:pd.DataFrame       # any number of Pandas DataFrames\n",
    "               ):\n",
    "    \"\"\"Display one or several DataFrame in a single cell output\"\"\"\n",
    "    for df in dfs:\n",
    "        display(df)"
   ]
  },
  {
   "cell_type": "code",
   "execution_count": null,
   "id": "325e5098-8f86-4244-bccd-6005893dc539",
   "metadata": {},
   "outputs": [
    {
     "data": {
      "text/html": [
       "<div>\n",
       "<style scoped>\n",
       "    .dataframe tbody tr th:only-of-type {\n",
       "        vertical-align: middle;\n",
       "    }\n",
       "\n",
       "    .dataframe tbody tr th {\n",
       "        vertical-align: top;\n",
       "    }\n",
       "\n",
       "    .dataframe thead th {\n",
       "        text-align: right;\n",
       "    }\n",
       "</style>\n",
       "<table border=\"1\" class=\"dataframe\">\n",
       "  <thead>\n",
       "    <tr style=\"text-align: right;\">\n",
       "      <th></th>\n",
       "      <th>0</th>\n",
       "      <th>1</th>\n",
       "      <th>2</th>\n",
       "      <th>3</th>\n",
       "      <th>4</th>\n",
       "    </tr>\n",
       "  </thead>\n",
       "  <tbody>\n",
       "    <tr>\n",
       "      <th>0</th>\n",
       "      <td>-0.535612</td>\n",
       "      <td>-0.330359</td>\n",
       "      <td>-0.579999</td>\n",
       "      <td>1.004508</td>\n",
       "      <td>1.008913</td>\n",
       "    </tr>\n",
       "    <tr>\n",
       "      <th>1</th>\n",
       "      <td>-1.784759</td>\n",
       "      <td>0.157870</td>\n",
       "      <td>0.833984</td>\n",
       "      <td>-1.160063</td>\n",
       "      <td>-1.606875</td>\n",
       "    </tr>\n",
       "    <tr>\n",
       "      <th>2</th>\n",
       "      <td>0.843294</td>\n",
       "      <td>-0.924979</td>\n",
       "      <td>-1.127778</td>\n",
       "      <td>-1.590129</td>\n",
       "      <td>0.750082</td>\n",
       "    </tr>\n",
       "  </tbody>\n",
       "</table>\n",
       "</div>"
      ],
      "text/plain": [
       "          0         1         2         3         4\n",
       "0 -0.535612 -0.330359 -0.579999  1.004508  1.008913\n",
       "1 -1.784759  0.157870  0.833984 -1.160063 -1.606875\n",
       "2  0.843294 -0.924979 -1.127778 -1.590129  0.750082"
      ]
     },
     "metadata": {},
     "output_type": "display_data"
    },
    {
     "data": {
      "text/html": [
       "<div>\n",
       "<style scoped>\n",
       "    .dataframe tbody tr th:only-of-type {\n",
       "        vertical-align: middle;\n",
       "    }\n",
       "\n",
       "    .dataframe tbody tr th {\n",
       "        vertical-align: top;\n",
       "    }\n",
       "\n",
       "    .dataframe thead th {\n",
       "        text-align: right;\n",
       "    }\n",
       "</style>\n",
       "<table border=\"1\" class=\"dataframe\">\n",
       "  <thead>\n",
       "    <tr style=\"text-align: right;\">\n",
       "      <th></th>\n",
       "      <th>0</th>\n",
       "      <th>1</th>\n",
       "      <th>2</th>\n",
       "      <th>3</th>\n",
       "      <th>4</th>\n",
       "      <th>5</th>\n",
       "      <th>6</th>\n",
       "      <th>7</th>\n",
       "      <th>8</th>\n",
       "      <th>9</th>\n",
       "    </tr>\n",
       "  </thead>\n",
       "  <tbody>\n",
       "    <tr>\n",
       "      <th>0</th>\n",
       "      <td>1.318010</td>\n",
       "      <td>0.020538</td>\n",
       "      <td>-0.937408</td>\n",
       "      <td>0.116248</td>\n",
       "      <td>-0.639289</td>\n",
       "      <td>-1.224406</td>\n",
       "      <td>-0.661524</td>\n",
       "      <td>-1.656005</td>\n",
       "      <td>0.744262</td>\n",
       "      <td>0.773764</td>\n",
       "    </tr>\n",
       "    <tr>\n",
       "      <th>1</th>\n",
       "      <td>-0.592513</td>\n",
       "      <td>0.898732</td>\n",
       "      <td>-0.723534</td>\n",
       "      <td>-1.010827</td>\n",
       "      <td>0.863045</td>\n",
       "      <td>0.766658</td>\n",
       "      <td>-0.767316</td>\n",
       "      <td>0.437185</td>\n",
       "      <td>0.635585</td>\n",
       "      <td>0.476885</td>\n",
       "    </tr>\n",
       "    <tr>\n",
       "      <th>2</th>\n",
       "      <td>-0.853805</td>\n",
       "      <td>1.772400</td>\n",
       "      <td>1.746037</td>\n",
       "      <td>1.272443</td>\n",
       "      <td>1.240098</td>\n",
       "      <td>1.313443</td>\n",
       "      <td>0.332629</td>\n",
       "      <td>-1.508551</td>\n",
       "      <td>0.317580</td>\n",
       "      <td>-1.013134</td>\n",
       "    </tr>\n",
       "  </tbody>\n",
       "</table>\n",
       "</div>"
      ],
      "text/plain": [
       "          0         1         2         3         4         5         6  \\\n",
       "0  1.318010  0.020538 -0.937408  0.116248 -0.639289 -1.224406 -0.661524   \n",
       "1 -0.592513  0.898732 -0.723534 -1.010827  0.863045  0.766658 -0.767316   \n",
       "2 -0.853805  1.772400  1.746037  1.272443  1.240098  1.313443  0.332629   \n",
       "\n",
       "          7         8         9  \n",
       "0 -1.656005  0.744262  0.773764  \n",
       "1  0.437185  0.635585  0.476885  \n",
       "2 -1.508551  0.317580 -1.013134  "
      ]
     },
     "metadata": {},
     "output_type": "display_data"
    }
   ],
   "source": [
    "df1 = pd.DataFrame(data=np.random.normal(size=(10,5)))\n",
    "df2 = pd.DataFrame(data=np.random.normal(size=(20,10)))\n",
    "\n",
    "display_dfs(df1.head(3), df2.head(3))"
   ]
  },
  {
   "cell_type": "code",
   "execution_count": null,
   "id": "5622ffa4",
   "metadata": {},
   "outputs": [],
   "source": [
    "#| hide\n",
    "nbdev_export()"
   ]
  }
 ],
 "metadata": {
  "kernelspec": {
   "display_name": "Python 3 (ipykernel)",
   "language": "python",
   "name": "python3"
  }
 },
 "nbformat": 4,
 "nbformat_minor": 5
}
