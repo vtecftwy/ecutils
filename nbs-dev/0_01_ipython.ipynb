{
 "cells": [
  {
   "cell_type": "markdown",
   "id": "6d4ddf06-eb2f-469d-99fb-25ead3b85093",
   "metadata": {},
   "source": [
    "# `ipython`\n",
    "> Set of utility functions to be used in Jupyter and Jupyter Lab notebooks.\n"
   ]
  },
  {
   "cell_type": "code",
   "execution_count": null,
   "id": "7c70747c",
   "metadata": {},
   "outputs": [],
   "source": [
    "#|default_exp ipython"
   ]
  },
  {
   "cell_type": "code",
   "execution_count": null,
   "id": "45f8c09e",
   "metadata": {},
   "outputs": [],
   "source": [
    "#| export\n",
    "from __future__ import annotations\n",
    "from IPython.core.getipython import get_ipython\n",
    "from IPython.display import display, Markdown, display_markdown\n",
    "from pathlib import Path\n",
    "\n",
    "import numpy as np\n",
    "import pandas as pd\n",
    "import sys"
   ]
  },
  {
   "cell_type": "code",
   "execution_count": null,
   "id": "f7b58bca-64c9-44a3-87e2-b627b0ac432f",
   "metadata": {},
   "outputs": [],
   "source": [
    "#| hide\n",
    "from nbdev import show_doc, nbdev_export"
   ]
  },
  {
   "cell_type": "code",
   "execution_count": null,
   "id": "12098f5d",
   "metadata": {},
   "outputs": [],
   "source": [
    "#| export\n",
    "def nb_setup(autoreload:bool = True,   # True to set autoreload in this notebook\n",
    "             paths:list(Path) = None   # Paths to add to the path environment variable\n",
    "            ):\n",
    "    \"\"\"Use in first cell of notebook to set autoreload, and paths\"\"\"\n",
    "#   Add paths. Default is 'src' if it exists\n",
    "    if paths is None:\n",
    "        p = Path('../src').resolve().absolute()\n",
    "        if p.is_dir():\n",
    "            paths = [str(p)]\n",
    "        else:\n",
    "            paths=[]\n",
    "    if paths:\n",
    "        for p in paths:\n",
    "            sys.path.insert(1, str(p))\n",
    "        print(f\"Added following paths: {','.join(paths)}\")\n",
    "\n",
    "#   Setup auto reload\n",
    "    if autoreload:\n",
    "        ipshell = get_ipython()\n",
    "        ipshell.run_line_magic('load_ext',  'autoreload')\n",
    "        ipshell.run_line_magic('autoreload', '2')\n",
    "        print('Set autoreload mode')"
   ]
  },
  {
   "cell_type": "markdown",
   "id": "e34bee72",
   "metadata": {},
   "source": [
    "By default, `ipython.nb_setup()` \n",
    "- loads and set `autoreload`\n",
    "- adds a path to a directory named `src` when it exists at the same level as where the notebook directory is located. It no such `src` directory exists, no path is added\n",
    "\n",
    "`ipython.nb_setup` assumes the following file structure:\n",
    "\n",
    "```\n",
    "    project_directory\n",
    "          | --- notebooks\n",
    "          |        | --- current_nb.ipynb\n",
    "          |        | --- ...\n",
    "          |\n",
    "          |--- src\n",
    "          |     | --- scripts_to_import.py\n",
    "          |     | --- ...\n",
    "          |\n",
    "          |--- data\n",
    "          |     |\n",
    "          |     | ...\n",
    "```\n",
    "\n",
    "For other file structure, specify paths as a `list` of `Path`"
   ]
  },
  {
   "cell_type": "code",
   "execution_count": null,
   "id": "7b876ac2",
   "metadata": {},
   "outputs": [],
   "source": [
    "#| export\n",
    "def colab_install_project_code(\n",
    "    package_name:str # project package name, e.g. git+https://github.com/vtecftwy/metagentools.git@main\n",
    "):\n",
    "    \"\"\"When nb is running on colab, pip install the project code package\"\"\"\n",
    "    try:\n",
    "        from google.colab import drive\n",
    "        ON_COLAB = True\n",
    "        print('The notebook is running on colab')\n",
    "        print('Installing project code')\n",
    "        cmd = f\"pip install -U {package_name}\"\n",
    "        run(cmd)\n",
    "\n",
    "    except ModuleNotFoundError:\n",
    "        ON_COLAB = False\n",
    "        print('The notebook is running locally, will not automatically install project code')\n",
    "\n",
    "    return ON_COLAB"
   ]
  },
  {
   "cell_type": "markdown",
   "id": "1651f3d9",
   "metadata": {},
   "source": [
    "When using colab, the project code must be install every time from its github repo or from the Python Package Index (PyPI).\n",
    "\n",
    "When running locally, the project code should be pre-installed as part of the environment"
   ]
  },
  {
   "cell_type": "code",
   "execution_count": null,
   "id": "7f46495f",
   "metadata": {},
   "outputs": [
    {
     "name": "stdout",
     "output_type": "stream",
     "text": [
      "The notebook is running locally, will not automatically install project code\n"
     ]
    },
    {
     "data": {
      "text/plain": [
       "False"
      ]
     },
     "execution_count": null,
     "metadata": {},
     "output_type": "execute_result"
    }
   ],
   "source": [
    "colab_install_project_code(package_name='git+https://github.com/vtecftwy/metagentools.git@main')"
   ]
  },
  {
   "cell_type": "code",
   "execution_count": null,
   "id": "84a25cac",
   "metadata": {},
   "outputs": [],
   "source": [
    "#| export\n",
    "def files_in_tree(\n",
    "    path: str|Path,               # path to the directory to scan  \n",
    "    pattern: str|None = None      # pattern (glob style) to match in file name to filter the content\n",
    "):\n",
    "    \"\"\"List files in directory and its subdiretories, print tree starting from parent directory\"\"\"\n",
    "    pattern = '*' if pattern is None else f\"*{pattern}*\"\n",
    "    parents = [p.name for p in path.parents]\n",
    "    paths = []\n",
    "    pad = ' ' * 2\n",
    "    idx = 0\n",
    "    print(f\"{parents[0]}\")\n",
    "    print(f\"{pad}|--{path.name}\")\n",
    "    for f in [p for p in path.glob(pattern) if p.is_file()]:\n",
    "        paths.append(f)\n",
    "        print(f\"{pad}|{pad*2}|--{f.name} ({idx})\")\n",
    "        idx += 1\n",
    "    for d in [p for p in path.iterdir() if p.is_dir()]:\n",
    "        print(f\"{pad}|{pad*2}|--{d.name}\")\n",
    "        for f in [p for p in d.glob(pattern) if p.is_file()]:\n",
    "            paths.append(f)\n",
    "            print(f\"{pad}|{pad*2}|{pad*2}|--{f.name} ({idx})\")\n",
    "            idx += 1\n",
    "    return paths"
   ]
  },
  {
   "cell_type": "code",
   "execution_count": null,
   "id": "b133e58c",
   "metadata": {},
   "outputs": [
    {
     "name": "stdout",
     "output_type": "stream",
     "text": [
      "ec-utils\n",
      "  |--nbs-dev\n",
      "  |    |--0_02_plotting.ipynb (0)\n",
      "  |    |--2_01_image_utils.ipynb (1)\n",
      "  |    |--1_01_eda_stats_utils.ipynb (2)\n",
      "  |    |--0_01_ipython.ipynb (3)\n",
      "  |    |--.last_checked (4)\n",
      "  |    |--sidebar.yml (5)\n",
      "  |    |--1_02_ml.ipynb (6)\n",
      "  |    |--index.ipynb (7)\n",
      "  |    |--nbdev.yml (8)\n",
      "  |    |--9_01_dev_utils.ipynb (9)\n",
      "  |    |--styles.css (10)\n",
      "  |    |--_quarto.yml (11)\n",
      "  |    |--.ipynb_checkpoints\n",
      "  |    |    |--0_02_plotting-checkpoint.ipynb (12)\n",
      "  |    |    |--9_01_dev_utils-checkpoint.ipynb (13)\n",
      "  |    |    |--0_01_ipython-checkpoint.ipynb (14)\n",
      "  |    |    |--1_01_eda_stats_utils-checkpoint.ipynb (15)\n",
      "  |    |    |--index-checkpoint.ipynb (16)\n",
      "  |    |    |--2_01_image_utils-checkpoint.ipynb (17)\n",
      "  |    |    |--1_02_ml-checkpoint.ipynb (18)\n",
      "List of 19 files when unfiltered\n"
     ]
    }
   ],
   "source": [
    "p2dir = Path('').resolve()\n",
    "\n",
    "files = files_in_tree(p2dir)\n",
    "print(f\"List of {len(files)} files when unfiltered\")"
   ]
  },
  {
   "cell_type": "code",
   "execution_count": null,
   "id": "f68173af",
   "metadata": {},
   "outputs": [
    {
     "name": "stdout",
     "output_type": "stream",
     "text": [
      "ec-utils\n",
      "  |--nbs-dev\n",
      "  |    |--0_02_plotting.ipynb (0)\n",
      "  |    |--2_01_image_utils.ipynb (1)\n",
      "  |    |--1_01_eda_stats_utils.ipynb (2)\n",
      "  |    |--0_01_ipython.ipynb (3)\n",
      "  |    |--1_02_ml.ipynb (4)\n",
      "  |    |--index.ipynb (5)\n",
      "  |    |--9_01_dev_utils.ipynb (6)\n",
      "  |    |--.ipynb_checkpoints\n",
      "  |    |    |--0_02_plotting-checkpoint.ipynb (7)\n",
      "  |    |    |--9_01_dev_utils-checkpoint.ipynb (8)\n",
      "  |    |    |--0_01_ipython-checkpoint.ipynb (9)\n",
      "  |    |    |--1_01_eda_stats_utils-checkpoint.ipynb (10)\n",
      "  |    |    |--index-checkpoint.ipynb (11)\n",
      "  |    |    |--2_01_image_utils-checkpoint.ipynb (12)\n",
      "  |    |    |--1_02_ml-checkpoint.ipynb (13)\n",
      "List of 14 files when filtered\n"
     ]
    }
   ],
   "source": [
    "files = files_in_tree(p2dir, pattern='ipynb')\n",
    "print(f\"List of {len(files)} files when filtered\")"
   ]
  },
  {
   "cell_type": "code",
   "execution_count": null,
   "id": "0d4241eb",
   "metadata": {},
   "outputs": [],
   "source": [
    "#| export\n",
    "def display_mds(\n",
    "    *strings:str # any number of strings with text in markdown format\n",
    "):\n",
    "    \"\"\"Display one or several strings formatted in markdown format\"\"\"\n",
    "    for string in strings:\n",
    "        display_markdown(Markdown(data=string))"
   ]
  },
  {
   "cell_type": "code",
   "execution_count": null,
   "id": "946d19e5-5df1-473f-ad2f-5187d7547187",
   "metadata": {},
   "outputs": [
    {
     "data": {
      "text/markdown": [
       "**bold** and _italic_"
      ]
     },
     "metadata": {},
     "output_type": "display_data"
    }
   ],
   "source": [
    "display_mds('**bold** and _italic_')"
   ]
  },
  {
   "cell_type": "code",
   "execution_count": null,
   "id": "0aa9e8ff-d821-4432-8187-9efb6d954105",
   "metadata": {},
   "outputs": [
    {
     "data": {
      "text/markdown": [
       "**bold** and _italic_"
      ]
     },
     "metadata": {},
     "output_type": "display_data"
    },
    {
     "data": {
      "text/markdown": [
       "- bullet"
      ]
     },
     "metadata": {},
     "output_type": "display_data"
    },
    {
     "data": {
      "text/markdown": [
       "- bullet"
      ]
     },
     "metadata": {},
     "output_type": "display_data"
    },
    {
     "data": {
      "text/markdown": [
       "> Note: this is a note"
      ]
     },
     "metadata": {},
     "output_type": "display_data"
    }
   ],
   "source": [
    "display_mds('**bold** and _italic_',\n",
    "            '- bullet',\n",
    "            '- bullet',\n",
    "            '> Note: this is a note'\n",
    "           )"
   ]
  },
  {
   "cell_type": "code",
   "execution_count": null,
   "id": "0069ecfd",
   "metadata": {},
   "outputs": [],
   "source": [
    "#| export\n",
    "def display_dfs(*dfs:pd.DataFrame       # any number of Pandas DataFrames\n",
    "               ):\n",
    "    \"\"\"Display one or several DataFrame in a single cell output\"\"\"\n",
    "    for df in dfs:\n",
    "        display(df)"
   ]
  },
  {
   "cell_type": "code",
   "execution_count": null,
   "id": "325e5098-8f86-4244-bccd-6005893dc539",
   "metadata": {},
   "outputs": [
    {
     "data": {
      "text/html": [
       "<div>\n",
       "<style scoped>\n",
       "    .dataframe tbody tr th:only-of-type {\n",
       "        vertical-align: middle;\n",
       "    }\n",
       "\n",
       "    .dataframe tbody tr th {\n",
       "        vertical-align: top;\n",
       "    }\n",
       "\n",
       "    .dataframe thead th {\n",
       "        text-align: right;\n",
       "    }\n",
       "</style>\n",
       "<table border=\"1\" class=\"dataframe\">\n",
       "  <thead>\n",
       "    <tr style=\"text-align: right;\">\n",
       "      <th></th>\n",
       "      <th>0</th>\n",
       "      <th>1</th>\n",
       "      <th>2</th>\n",
       "      <th>3</th>\n",
       "      <th>4</th>\n",
       "    </tr>\n",
       "  </thead>\n",
       "  <tbody>\n",
       "    <tr>\n",
       "      <th>0</th>\n",
       "      <td>-0.932433</td>\n",
       "      <td>-0.192335</td>\n",
       "      <td>0.089406</td>\n",
       "      <td>0.908922</td>\n",
       "      <td>1.467167</td>\n",
       "    </tr>\n",
       "    <tr>\n",
       "      <th>1</th>\n",
       "      <td>0.808964</td>\n",
       "      <td>0.276916</td>\n",
       "      <td>1.869681</td>\n",
       "      <td>0.642074</td>\n",
       "      <td>1.134207</td>\n",
       "    </tr>\n",
       "    <tr>\n",
       "      <th>2</th>\n",
       "      <td>-0.155523</td>\n",
       "      <td>1.014947</td>\n",
       "      <td>1.785617</td>\n",
       "      <td>-0.330721</td>\n",
       "      <td>-0.645049</td>\n",
       "    </tr>\n",
       "  </tbody>\n",
       "</table>\n",
       "</div>"
      ],
      "text/plain": [
       "          0         1         2         3         4\n",
       "0 -0.932433 -0.192335  0.089406  0.908922  1.467167\n",
       "1  0.808964  0.276916  1.869681  0.642074  1.134207\n",
       "2 -0.155523  1.014947  1.785617 -0.330721 -0.645049"
      ]
     },
     "metadata": {},
     "output_type": "display_data"
    },
    {
     "data": {
      "text/html": [
       "<div>\n",
       "<style scoped>\n",
       "    .dataframe tbody tr th:only-of-type {\n",
       "        vertical-align: middle;\n",
       "    }\n",
       "\n",
       "    .dataframe tbody tr th {\n",
       "        vertical-align: top;\n",
       "    }\n",
       "\n",
       "    .dataframe thead th {\n",
       "        text-align: right;\n",
       "    }\n",
       "</style>\n",
       "<table border=\"1\" class=\"dataframe\">\n",
       "  <thead>\n",
       "    <tr style=\"text-align: right;\">\n",
       "      <th></th>\n",
       "      <th>0</th>\n",
       "      <th>1</th>\n",
       "      <th>2</th>\n",
       "      <th>3</th>\n",
       "      <th>4</th>\n",
       "      <th>5</th>\n",
       "      <th>6</th>\n",
       "      <th>7</th>\n",
       "      <th>8</th>\n",
       "      <th>9</th>\n",
       "    </tr>\n",
       "  </thead>\n",
       "  <tbody>\n",
       "    <tr>\n",
       "      <th>0</th>\n",
       "      <td>-0.377320</td>\n",
       "      <td>1.026669</td>\n",
       "      <td>-1.386860</td>\n",
       "      <td>-1.767088</td>\n",
       "      <td>-1.118104</td>\n",
       "      <td>0.770374</td>\n",
       "      <td>1.507177</td>\n",
       "      <td>-0.381338</td>\n",
       "      <td>-0.650765</td>\n",
       "      <td>-2.525749</td>\n",
       "    </tr>\n",
       "    <tr>\n",
       "      <th>1</th>\n",
       "      <td>1.750157</td>\n",
       "      <td>-1.667336</td>\n",
       "      <td>0.696466</td>\n",
       "      <td>0.165477</td>\n",
       "      <td>-0.192437</td>\n",
       "      <td>-0.260170</td>\n",
       "      <td>0.934496</td>\n",
       "      <td>-0.302568</td>\n",
       "      <td>-0.924098</td>\n",
       "      <td>-0.010387</td>\n",
       "    </tr>\n",
       "    <tr>\n",
       "      <th>2</th>\n",
       "      <td>-0.958004</td>\n",
       "      <td>-2.562483</td>\n",
       "      <td>-0.761086</td>\n",
       "      <td>0.929342</td>\n",
       "      <td>1.623859</td>\n",
       "      <td>0.624701</td>\n",
       "      <td>0.524622</td>\n",
       "      <td>1.529208</td>\n",
       "      <td>0.788544</td>\n",
       "      <td>0.000719</td>\n",
       "    </tr>\n",
       "  </tbody>\n",
       "</table>\n",
       "</div>"
      ],
      "text/plain": [
       "          0         1         2         3         4         5         6  \\\n",
       "0 -0.377320  1.026669 -1.386860 -1.767088 -1.118104  0.770374  1.507177   \n",
       "1  1.750157 -1.667336  0.696466  0.165477 -0.192437 -0.260170  0.934496   \n",
       "2 -0.958004 -2.562483 -0.761086  0.929342  1.623859  0.624701  0.524622   \n",
       "\n",
       "          7         8         9  \n",
       "0 -0.381338 -0.650765 -2.525749  \n",
       "1 -0.302568 -0.924098 -0.010387  \n",
       "2  1.529208  0.788544  0.000719  "
      ]
     },
     "metadata": {},
     "output_type": "display_data"
    }
   ],
   "source": [
    "df1 = pd.DataFrame(data=np.random.normal(size=(10,5)))\n",
    "df2 = pd.DataFrame(data=np.random.normal(size=(20,10)))\n",
    "\n",
    "display_dfs(df1.head(3), df2.head(3))"
   ]
  },
  {
   "cell_type": "code",
   "execution_count": null,
   "id": "5622ffa4",
   "metadata": {},
   "outputs": [],
   "source": [
    "#| hide\n",
    "nbdev_export()"
   ]
  }
 ],
 "metadata": {
  "kernelspec": {
   "display_name": "Python 3 (ipykernel)",
   "language": "python",
   "name": "python3"
  }
 },
 "nbformat": 4,
 "nbformat_minor": 5
}
