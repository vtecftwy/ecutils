{
 "cells": [
  {
   "cell_type": "markdown",
   "id": "6d4ddf06-eb2f-469d-99fb-25ead3b85093",
   "metadata": {},
   "source": [
    "# `ipython`\n",
    "> Set of utility functions to be used in Jupyter and Jupyter Lab notebooks.\n"
   ]
  },
  {
   "cell_type": "code",
   "execution_count": null,
   "id": "7c70747c",
   "metadata": {},
   "outputs": [],
   "source": [
    "#|default_exp ipython"
   ]
  },
  {
   "cell_type": "code",
   "execution_count": null,
   "id": "45f8c09e",
   "metadata": {},
   "outputs": [],
   "source": [
    "#| export\n",
    "from __future__ import annotations\n",
    "from IPython.core.getipython import get_ipython\n",
    "from IPython.display import display, Markdown, display_markdown\n",
    "from pathlib import Path\n",
    "\n",
    "import numpy as np\n",
    "import pandas as pd\n",
    "import sys"
   ]
  },
  {
   "cell_type": "code",
   "execution_count": null,
   "id": "f7b58bca-64c9-44a3-87e2-b627b0ac432f",
   "metadata": {},
   "outputs": [],
   "source": [
    "#| hide\n",
    "from nbdev import show_doc, nbdev_export"
   ]
  },
  {
   "cell_type": "code",
   "execution_count": null,
   "id": "0d4241eb",
   "metadata": {},
   "outputs": [],
   "source": [
    "#| export\n",
    "def display_mds(\n",
    "    *strings:str # any number of strings with text in markdown format\n",
    "):\n",
    "    \"\"\"Display one or several strings formatted in markdown format\"\"\"\n",
    "    for string in strings:\n",
    "        display_markdown(Markdown(data=string))"
   ]
  },
  {
   "cell_type": "code",
   "execution_count": null,
   "id": "946d19e5-5df1-473f-ad2f-5187d7547187",
   "metadata": {},
   "outputs": [
    {
     "data": {
      "text/markdown": [
       "**bold** and _italic_"
      ]
     },
     "metadata": {},
     "output_type": "display_data"
    }
   ],
   "source": [
    "display_mds('**bold** and _italic_')"
   ]
  },
  {
   "cell_type": "code",
   "execution_count": null,
   "id": "0aa9e8ff-d821-4432-8187-9efb6d954105",
   "metadata": {},
   "outputs": [
    {
     "data": {
      "text/markdown": [
       "**bold** and _italic_"
      ]
     },
     "metadata": {},
     "output_type": "display_data"
    },
    {
     "data": {
      "text/markdown": [
       "- bullet"
      ]
     },
     "metadata": {},
     "output_type": "display_data"
    },
    {
     "data": {
      "text/markdown": [
       "- bullet"
      ]
     },
     "metadata": {},
     "output_type": "display_data"
    },
    {
     "data": {
      "text/markdown": [
       "> Note: this is a note"
      ]
     },
     "metadata": {},
     "output_type": "display_data"
    }
   ],
   "source": [
    "display_mds('**bold** and _italic_',\n",
    "            '- bullet',\n",
    "            '- bullet',\n",
    "            '> Note: this is a note'\n",
    "           )"
   ]
  },
  {
   "cell_type": "code",
   "execution_count": null,
   "id": "0069ecfd",
   "metadata": {},
   "outputs": [],
   "source": [
    "#| export\n",
    "def display_dfs(*dfs:pd.DataFrame       # any number of Pandas DataFrames\n",
    "               ):\n",
    "    \"\"\"Display one or several DataFrame in a single cell output\"\"\"\n",
    "    for df in dfs:\n",
    "        display(df)"
   ]
  },
  {
   "cell_type": "code",
   "execution_count": null,
   "id": "325e5098-8f86-4244-bccd-6005893dc539",
   "metadata": {},
   "outputs": [
    {
     "data": {
      "text/html": [
       "<div>\n",
       "<style scoped>\n",
       "    .dataframe tbody tr th:only-of-type {\n",
       "        vertical-align: middle;\n",
       "    }\n",
       "\n",
       "    .dataframe tbody tr th {\n",
       "        vertical-align: top;\n",
       "    }\n",
       "\n",
       "    .dataframe thead th {\n",
       "        text-align: right;\n",
       "    }\n",
       "</style>\n",
       "<table border=\"1\" class=\"dataframe\">\n",
       "  <thead>\n",
       "    <tr style=\"text-align: right;\">\n",
       "      <th></th>\n",
       "      <th>0</th>\n",
       "      <th>1</th>\n",
       "      <th>2</th>\n",
       "      <th>3</th>\n",
       "      <th>4</th>\n",
       "    </tr>\n",
       "  </thead>\n",
       "  <tbody>\n",
       "    <tr>\n",
       "      <th>0</th>\n",
       "      <td>-0.841108</td>\n",
       "      <td>1.705249</td>\n",
       "      <td>0.789045</td>\n",
       "      <td>-0.730964</td>\n",
       "      <td>-0.470985</td>\n",
       "    </tr>\n",
       "    <tr>\n",
       "      <th>1</th>\n",
       "      <td>1.637292</td>\n",
       "      <td>1.726293</td>\n",
       "      <td>-0.717833</td>\n",
       "      <td>-0.524101</td>\n",
       "      <td>-0.574737</td>\n",
       "    </tr>\n",
       "    <tr>\n",
       "      <th>2</th>\n",
       "      <td>0.529008</td>\n",
       "      <td>1.524638</td>\n",
       "      <td>-0.155770</td>\n",
       "      <td>0.712935</td>\n",
       "      <td>0.592245</td>\n",
       "    </tr>\n",
       "  </tbody>\n",
       "</table>\n",
       "</div>"
      ],
      "text/plain": [
       "          0         1         2         3         4\n",
       "0 -0.841108  1.705249  0.789045 -0.730964 -0.470985\n",
       "1  1.637292  1.726293 -0.717833 -0.524101 -0.574737\n",
       "2  0.529008  1.524638 -0.155770  0.712935  0.592245"
      ]
     },
     "metadata": {},
     "output_type": "display_data"
    },
    {
     "data": {
      "text/html": [
       "<div>\n",
       "<style scoped>\n",
       "    .dataframe tbody tr th:only-of-type {\n",
       "        vertical-align: middle;\n",
       "    }\n",
       "\n",
       "    .dataframe tbody tr th {\n",
       "        vertical-align: top;\n",
       "    }\n",
       "\n",
       "    .dataframe thead th {\n",
       "        text-align: right;\n",
       "    }\n",
       "</style>\n",
       "<table border=\"1\" class=\"dataframe\">\n",
       "  <thead>\n",
       "    <tr style=\"text-align: right;\">\n",
       "      <th></th>\n",
       "      <th>0</th>\n",
       "      <th>1</th>\n",
       "      <th>2</th>\n",
       "      <th>3</th>\n",
       "      <th>4</th>\n",
       "      <th>5</th>\n",
       "      <th>6</th>\n",
       "      <th>7</th>\n",
       "      <th>8</th>\n",
       "      <th>9</th>\n",
       "    </tr>\n",
       "  </thead>\n",
       "  <tbody>\n",
       "    <tr>\n",
       "      <th>0</th>\n",
       "      <td>-2.136793</td>\n",
       "      <td>0.382363</td>\n",
       "      <td>0.610427</td>\n",
       "      <td>-0.24138</td>\n",
       "      <td>-0.101507</td>\n",
       "      <td>-0.093007</td>\n",
       "      <td>-0.396156</td>\n",
       "      <td>0.641543</td>\n",
       "      <td>-2.015013</td>\n",
       "      <td>-1.004765</td>\n",
       "    </tr>\n",
       "    <tr>\n",
       "      <th>1</th>\n",
       "      <td>-0.444350</td>\n",
       "      <td>-0.512239</td>\n",
       "      <td>0.662483</td>\n",
       "      <td>0.94838</td>\n",
       "      <td>0.160426</td>\n",
       "      <td>0.083299</td>\n",
       "      <td>-0.474035</td>\n",
       "      <td>-1.744753</td>\n",
       "      <td>-0.769361</td>\n",
       "      <td>0.960526</td>\n",
       "    </tr>\n",
       "    <tr>\n",
       "      <th>2</th>\n",
       "      <td>0.842690</td>\n",
       "      <td>-0.838616</td>\n",
       "      <td>0.384578</td>\n",
       "      <td>-1.47870</td>\n",
       "      <td>-0.595429</td>\n",
       "      <td>-0.109918</td>\n",
       "      <td>0.079585</td>\n",
       "      <td>0.895611</td>\n",
       "      <td>0.496007</td>\n",
       "      <td>0.744492</td>\n",
       "    </tr>\n",
       "  </tbody>\n",
       "</table>\n",
       "</div>"
      ],
      "text/plain": [
       "          0         1         2        3         4         5         6  \\\n",
       "0 -2.136793  0.382363  0.610427 -0.24138 -0.101507 -0.093007 -0.396156   \n",
       "1 -0.444350 -0.512239  0.662483  0.94838  0.160426  0.083299 -0.474035   \n",
       "2  0.842690 -0.838616  0.384578 -1.47870 -0.595429 -0.109918  0.079585   \n",
       "\n",
       "          7         8         9  \n",
       "0  0.641543 -2.015013 -1.004765  \n",
       "1 -1.744753 -0.769361  0.960526  \n",
       "2  0.895611  0.496007  0.744492  "
      ]
     },
     "metadata": {},
     "output_type": "display_data"
    }
   ],
   "source": [
    "df1 = pd.DataFrame(data=np.random.normal(size=(10,5)))\n",
    "df2 = pd.DataFrame(data=np.random.normal(size=(20,10)))\n",
    "\n",
    "display_dfs(df1.head(3), df2.head(3))"
   ]
  },
  {
   "cell_type": "code",
   "execution_count": null,
   "id": "3148436d",
   "metadata": {},
   "outputs": [],
   "source": [
    "#| export\n",
    "def nb_setup(autoreload:bool = True,   # True to set autoreload in this notebook\n",
    "             paths:list(Path) = None   # Paths to add to the path environment variable\n",
    "            ):\n",
    "    \"\"\"Use in first cell of notebook to set autoreload, and paths\"\"\"\n",
    "#   Add paths. Default is 'src' if it exists\n",
    "    if paths is None:\n",
    "        p = Path('../src').resolve().absolute()\n",
    "        if p.is_dir():\n",
    "            paths = [str(p)]\n",
    "        else:\n",
    "            paths=[]\n",
    "    if paths:\n",
    "        for p in paths:\n",
    "            sys.path.insert(1, str(p))\n",
    "        print(f\"Added following paths: {','.join(paths)}\")\n",
    "\n",
    "#   Setup auto reload\n",
    "    if autoreload:\n",
    "        ipshell = get_ipython()\n",
    "        ipshell.run_line_magic('load_ext',  'autoreload')\n",
    "        ipshell.run_line_magic('autoreload', '2')\n",
    "        print('Set autoreload mode')"
   ]
  },
  {
   "cell_type": "markdown",
   "id": "9a8da3d6-1da4-4bf4-aeca-aa430f4302d7",
   "metadata": {},
   "source": [
    "By default, `ipython.nb_setup()` \n",
    "- loads and set `autoreload`\n",
    "- adds a path to a directory named `src` when it exists at the same level as where the notebook directory is located. It no such `src` directory exists, no path is added\n",
    "\n",
    "`ipython.nb_setup` assumes the following file structure:\n",
    "\n",
    "```\n",
    "    project_directory\n",
    "          | --- notebooks\n",
    "          |        | --- current_nb.ipynb\n",
    "          |        | --- ...\n",
    "          |\n",
    "          |--- src\n",
    "          |     | --- scripts_to_import.py\n",
    "          |     | --- ...\n",
    "          |\n",
    "          |--- data\n",
    "          |     |\n",
    "          |     | ...\n",
    "```\n",
    "\n",
    "For other file structure, specify paths as a `list` of `Path`"
   ]
  },
  {
   "cell_type": "code",
   "execution_count": null,
   "id": "c2cda39c",
   "metadata": {},
   "outputs": [],
   "source": [
    "#| export\n",
    "def colab_install_project_code(\n",
    "    package_name:str # project package name, e.g. git+https://github.com/vtecftwy/metagentools.git@main\n",
    "):\n",
    "    \"\"\"When nb is running on colab, pip install the project code package\"\"\"\n",
    "    try:\n",
    "        from google.colab import drive\n",
    "        ON_COLAB = True\n",
    "        print('The notebook is running on colab')\n",
    "        print('Installing project code')\n",
    "        cmd = f\"pip install -U {package_name}\"\n",
    "        run(cmd)\n",
    "\n",
    "    except ModuleNotFoundError:\n",
    "        ON_COLAB = False\n",
    "        print('The notebook is running locally, will not automatically install project code')\n",
    "\n",
    "    return ON_COLAB"
   ]
  },
  {
   "cell_type": "markdown",
   "id": "36f9dd67",
   "metadata": {},
   "source": [
    "When using colab, the project code must be install every time from its github repo or from the Python Package Index (PyPI).\n",
    "\n",
    "When running locally, the project code should be pre-installed as part of the environment"
   ]
  },
  {
   "cell_type": "code",
   "execution_count": null,
   "id": "9853eef1",
   "metadata": {},
   "outputs": [
    {
     "name": "stdout",
     "output_type": "stream",
     "text": [
      "The notebook is running locally, will not automatically install project code\n"
     ]
    },
    {
     "data": {
      "text/plain": [
       "False"
      ]
     },
     "execution_count": null,
     "metadata": {},
     "output_type": "execute_result"
    }
   ],
   "source": [
    "colab_install_project_code(package_name='git+https://github.com/vtecftwy/metagentools.git@main')"
   ]
  },
  {
   "cell_type": "code",
   "execution_count": null,
   "id": "5622ffa4",
   "metadata": {},
   "outputs": [],
   "source": [
    "#| hide\n",
    "nbdev_export()"
   ]
  }
 ],
 "metadata": {
  "kernelspec": {
   "display_name": "Python 3 (ipykernel)",
   "language": "python",
   "name": "python3"
  }
 },
 "nbformat": 4,
 "nbformat_minor": 5
}
