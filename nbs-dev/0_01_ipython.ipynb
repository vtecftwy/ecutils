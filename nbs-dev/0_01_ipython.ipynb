{
 "cells": [
  {
   "cell_type": "markdown",
   "id": "6d4ddf06-eb2f-469d-99fb-25ead3b85093",
   "metadata": {},
   "source": [
    "# `ipython`\n",
    "> Set of utility functions to be used in Jupyter and Jupyter Lab notebooks.\n"
   ]
  },
  {
   "cell_type": "code",
   "execution_count": null,
   "id": "7c70747c",
   "metadata": {},
   "outputs": [],
   "source": [
    "#|default_exp ipython"
   ]
  },
  {
   "cell_type": "code",
   "execution_count": null,
   "id": "45f8c09e",
   "metadata": {},
   "outputs": [],
   "source": [
    "#| export\n",
    "from __future__ import annotations\n",
    "from fastcore.test import test_fail\n",
    "from functools import wraps\n",
    "from IPython.core.getipython import get_ipython\n",
    "from IPython.display import display, Markdown, display_markdown\n",
    "from pathlib import Path\n",
    "from typing import Any, List, Callable, Optional\n",
    "from ecutilities.core import safe_path, path_to_parent_dir, is_type, CurrentMachine\n",
    "\n",
    "import numpy as np\n",
    "import pandas as pd\n",
    "import sys\n",
    "import subprocess\n",
    "import warnings"
   ]
  },
  {
   "cell_type": "code",
   "execution_count": null,
   "id": "f7b58bca-64c9-44a3-87e2-b627b0ac432f",
   "metadata": {},
   "outputs": [],
   "source": [
    "#| hide\n",
    "from nbdev import show_doc, nbdev_export"
   ]
  },
  {
   "cell_type": "markdown",
   "id": "8a7a989c",
   "metadata": {},
   "source": [
    "# System and CLI"
   ]
  },
  {
   "cell_type": "code",
   "execution_count": null,
   "id": "7f6340ce",
   "metadata": {},
   "outputs": [],
   "source": [
    "#| export\n",
    "def run_cli(cmd:str = 'ls -l'   # command to execute in the cli\n",
    "           ):\n",
    "    \"\"\"Runs a cli command from jupyter notebook and print the shell output message\n",
    "    \n",
    "    Uses subprocess.run with passed command to run the cli command\"\"\"\n",
    "    p = subprocess.run(cmd, stdout=subprocess.PIPE, shell=True)\n",
    "    print(str(p.stdout, 'utf-8'))"
   ]
  },
  {
   "cell_type": "code",
   "execution_count": null,
   "id": "be0bd632",
   "metadata": {},
   "outputs": [
    {
     "name": "stdout",
     "output_type": "stream",
     "text": [
      "/home/vtec/projects/ec-packages/ecutilities/nbs-dev\n",
      "\n"
     ]
    }
   ],
   "source": [
    "run_cli('pwd')"
   ]
  },
  {
   "cell_type": "markdown",
   "id": "cfd19d98",
   "metadata": {},
   "source": [
    "# Notebook setup"
   ]
  },
  {
   "cell_type": "code",
   "execution_count": null,
   "id": "12098f5d",
   "metadata": {},
   "outputs": [],
   "source": [
    "#| export\n",
    "def nb_setup(\n",
    "    autoreload:bool = True,       # True to set autoreload in this notebook\n",
    "    paths:List[str|Path] = None   # Paths to add to the path environment variable\n",
    "    ):\n",
    "    \"\"\"Use in first cell of notebook to set autoreload, and add system paths\n",
    "    \n",
    "    Always add a path to 'src' in the project root, if the directory exists\n",
    "    \"\"\"\n",
    "    #  Handle paths\n",
    "    #  Add src if it exists\n",
    "    nbs_root = path_to_parent_dir('nbs')\n",
    "    p2src = (nbs_root / '../src').resolve().absolute()\n",
    "    if p2src.is_dir():\n",
    "        p = str(p2src.absolute())\n",
    "        if p not in sys.path:\n",
    "            sys.path.insert(0, p)\n",
    "            print(f\"Added path: {p2src.absolute()}\")\n",
    "    # Add passed paths\n",
    "    if paths:\n",
    "        for p in paths:\n",
    "            if isinstance(p, Path): p = str(p.resolve().absolute())\n",
    "            if p not in sys.path:\n",
    "                sys.path.insert(1, p)\n",
    "                print(f\"Added path: {p}\")\n",
    "\n",
    "#   Setup auto reload\n",
    "    if autoreload:\n",
    "        ipshell = get_ipython()\n",
    "        ipshell.run_line_magic('load_ext',  'autoreload')\n",
    "        ipshell.run_line_magic('autoreload', '2')\n",
    "        print('Set autoreload mode')"
   ]
  },
  {
   "cell_type": "code",
   "execution_count": null,
   "id": "3fb15d8e",
   "metadata": {},
   "outputs": [
    {
     "data": {
      "text/markdown": [
       "---\n",
       "\n",
       "[source](https://github.com/vtecftwy/ecutils/blob/master/ecutilities/ipython.py#L32){target=\"_blank\" style=\"float:right; font-size:smaller\"}\n",
       "\n",
       "### nb_setup\n",
       "\n",
       ">      nb_setup (autoreload:bool=True, paths:List[str|pathlib.Path]=None)\n",
       "\n",
       "Use in first cell of notebook to set autoreload, and add system paths\n",
       "\n",
       "Always add a path to 'src' in the project root, if the directory exists\n",
       "\n",
       "|    | **Type** | **Default** | **Details** |\n",
       "| -- | -------- | ----------- | ----------- |\n",
       "| autoreload | bool | True | True to set autoreload in this notebook |\n",
       "| paths | List[str \\| Path] | None | Paths to add to the path environment variable |"
      ],
      "text/plain": [
       "---\n",
       "\n",
       "[source](https://github.com/vtecftwy/ecutils/blob/master/ecutilities/ipython.py#L32){target=\"_blank\" style=\"float:right; font-size:smaller\"}\n",
       "\n",
       "### nb_setup\n",
       "\n",
       ">      nb_setup (autoreload:bool=True, paths:List[str|pathlib.Path]=None)\n",
       "\n",
       "Use in first cell of notebook to set autoreload, and add system paths\n",
       "\n",
       "Always add a path to 'src' in the project root, if the directory exists\n",
       "\n",
       "|    | **Type** | **Default** | **Details** |\n",
       "| -- | -------- | ----------- | ----------- |\n",
       "| autoreload | bool | True | True to set autoreload in this notebook |\n",
       "| paths | List[str \\| Path] | None | Paths to add to the path environment variable |"
      ]
     },
     "execution_count": null,
     "metadata": {},
     "output_type": "execute_result"
    }
   ],
   "source": [
    "show_doc(nb_setup)"
   ]
  },
  {
   "cell_type": "markdown",
   "id": "e34bee72",
   "metadata": {},
   "source": [
    "By default, `ipython.nb_setup()` \n",
    "- loads and set `autoreload`\n",
    "- adds a path to a directory named `src` when it exists at the same level as where the notebook directory is located. It no such `src` directory exists, no path is added\n",
    "\n",
    "`ipython.nb_setup` assumes the following file structure:\n",
    "\n",
    "```\n",
    "    project_directory\n",
    "          |--- nbs\n",
    "          |     | --- current_nb.ipynb\n",
    "          |     | --- ...\n",
    "          |\n",
    "          |--- src\n",
    "          |     | --- module_to_import.py\n",
    "          |     | --- ...\n",
    "          |\n",
    "          |--- data\n",
    "          |     |\n",
    "          |     | ...\n",
    "```\n",
    "\n",
    "For other file structure, specify paths as a `list` of `Path`"
   ]
  },
  {
   "cell_type": "markdown",
   "id": "4c079208",
   "metadata": {},
   "source": [
    "Before running `nb_setup`, `sys.path` does not include the path to the local source directory. After running it, it will be added, unless the directory does not exist."
   ]
  },
  {
   "cell_type": "code",
   "execution_count": null,
   "id": "1fc6b17b",
   "metadata": {},
   "outputs": [
    {
     "data": {
      "text/plain": [
       "['/home/vtec/projects/ec-packages/ecutilities/nbs-dev',\n",
       " '/home/vtec/miniconda3/envs/ecutils/lib/python310.zip',\n",
       " '/home/vtec/miniconda3/envs/ecutils/lib/python3.10',\n",
       " '/home/vtec/miniconda3/envs/ecutils/lib/python3.10/lib-dynload',\n",
       " '',\n",
       " '/home/vtec/miniconda3/envs/ecutils/lib/python3.10/site-packages',\n",
       " '/home/vtec/miniconda3/envs/ecutils/lib/python3.10/site-packages/PyQt5_sip-12.11.0-py3.10-linux-x86_64.egg',\n",
       " '/home/vtec/projects/ec-packages/ecutilities']"
      ]
     },
     "execution_count": null,
     "metadata": {},
     "output_type": "execute_result"
    }
   ],
   "source": [
    "sys.path"
   ]
  },
  {
   "cell_type": "code",
   "execution_count": null,
   "id": "e7123f45",
   "metadata": {},
   "outputs": [
    {
     "name": "stdout",
     "output_type": "stream",
     "text": [
      "Added path: /home/vtec/projects/ec-packages/ecutilities/src\n"
     ]
    }
   ],
   "source": [
    "nb_setup(autoreload=False)"
   ]
  },
  {
   "cell_type": "code",
   "execution_count": null,
   "id": "4937a544",
   "metadata": {},
   "outputs": [
    {
     "data": {
      "text/plain": [
       "['/home/vtec/projects/ec-packages/ecutilities/src',\n",
       " '/home/vtec/projects/ec-packages/ecutilities/nbs-dev',\n",
       " '/home/vtec/miniconda3/envs/ecutils/lib/python310.zip',\n",
       " '/home/vtec/miniconda3/envs/ecutils/lib/python3.10',\n",
       " '/home/vtec/miniconda3/envs/ecutils/lib/python3.10/lib-dynload',\n",
       " '',\n",
       " '/home/vtec/miniconda3/envs/ecutils/lib/python3.10/site-packages',\n",
       " '/home/vtec/miniconda3/envs/ecutils/lib/python3.10/site-packages/PyQt5_sip-12.11.0-py3.10-linux-x86_64.egg',\n",
       " '/home/vtec/projects/ec-packages/ecutilities']"
      ]
     },
     "execution_count": null,
     "metadata": {},
     "output_type": "execute_result"
    }
   ],
   "source": [
    "sys.path"
   ]
  },
  {
   "cell_type": "markdown",
   "id": "f8af1c17",
   "metadata": {},
   "source": [
    "We also can add other specific paths:"
   ]
  },
  {
   "cell_type": "code",
   "execution_count": null,
   "id": "a3c61e23",
   "metadata": {},
   "outputs": [
    {
     "name": "stdout",
     "output_type": "stream",
     "text": [
      "Added path: /home/vtec/projects/ec-packages/ecutilities/nbs\n"
     ]
    }
   ],
   "source": [
    "path_to_add = str(Path('../nbs').resolve().absolute())\n",
    "nb_setup(autoreload=False, paths=[path_to_add])"
   ]
  },
  {
   "cell_type": "code",
   "execution_count": null,
   "id": "ca079b4f",
   "metadata": {},
   "outputs": [
    {
     "data": {
      "text/plain": [
       "['/home/vtec/projects/ec-packages/ecutilities/src',\n",
       " '/home/vtec/projects/ec-packages/ecutilities/nbs',\n",
       " '/home/vtec/projects/ec-packages/ecutilities/nbs-dev',\n",
       " '/home/vtec/miniconda3/envs/ecutils/lib/python310.zip',\n",
       " '/home/vtec/miniconda3/envs/ecutils/lib/python3.10',\n",
       " '/home/vtec/miniconda3/envs/ecutils/lib/python3.10/lib-dynload',\n",
       " '',\n",
       " '/home/vtec/miniconda3/envs/ecutils/lib/python3.10/site-packages',\n",
       " '/home/vtec/miniconda3/envs/ecutils/lib/python3.10/site-packages/PyQt5_sip-12.11.0-py3.10-linux-x86_64.egg',\n",
       " '/home/vtec/projects/ec-packages/ecutilities']"
      ]
     },
     "execution_count": null,
     "metadata": {},
     "output_type": "execute_result"
    }
   ],
   "source": [
    "sys.path"
   ]
  },
  {
   "cell_type": "code",
   "execution_count": null,
   "id": "7b876ac2",
   "metadata": {},
   "outputs": [],
   "source": [
    "#| export\n",
    "def install_code_on_cloud(\n",
    "    package_name:str, # project package name, e.g. metagentools or git+https://github.com/repo.git@main\n",
    "    quiet:bool=False # install quietly with Trud\n",
    "):\n",
    "    \"\"\"pip install the project code package, when nb is running in the cloud.\"\"\"\n",
    "    \n",
    "    machine = CurrentMachine()\n",
    "\n",
    "    if machine.is_colab:\n",
    "        CLOUD = True\n",
    "        print('The notebook is running on colab.', end=' ')\n",
    "        print(f'Will install {package_name}')\n",
    "    elif machine.is_kaggle:\n",
    "        CLOUD = True\n",
    "        print('The notebook is running on kaggle.', end=' ')\n",
    "        print(f'Will install {package_name}')\n",
    "    elif machine.is_local:\n",
    "        CLOUD = False\n",
    "        print('The notebook is running locally, will not automatically install project code')\n",
    "    else:\n",
    "        CLOUD = True\n",
    "        print('The notebook is running on a cloud VM or the machine was not registered as local')\n",
    "        print(f'Will install {package_name}')\n",
    "\n",
    "    if CLOUD:\n",
    "        print(f'Installing project code {package_name}')\n",
    "        cmd = f\"pip install -{'qq' if quiet else ''}U {package_name}\"\n",
    "        run_cli(cmd)\n",
    "        print((f\"{package_name} is installed.\"))"
   ]
  },
  {
   "cell_type": "code",
   "execution_count": null,
   "id": "aad71e71",
   "metadata": {},
   "outputs": [
    {
     "data": {
      "text/markdown": [
       "---\n",
       "\n",
       "[source](https://github.com/vtecftwy/ecutils/blob/master/ecutilities/ipython.py#L65){target=\"_blank\" style=\"float:right; font-size:smaller\"}\n",
       "\n",
       "### install_code_on_cloud\n",
       "\n",
       ">      install_code_on_cloud (package_name:str, quiet:bool=False)\n",
       "\n",
       "pip install the project code package, when nb is running in the cloud.\n",
       "\n",
       "|    | **Type** | **Default** | **Details** |\n",
       "| -- | -------- | ----------- | ----------- |\n",
       "| package_name | str |  | project package name, e.g. metagentools or git+https://github.com/repo.git@main |\n",
       "| quiet | bool | False | install quietly with Trud |"
      ],
      "text/plain": [
       "---\n",
       "\n",
       "[source](https://github.com/vtecftwy/ecutils/blob/master/ecutilities/ipython.py#L65){target=\"_blank\" style=\"float:right; font-size:smaller\"}\n",
       "\n",
       "### install_code_on_cloud\n",
       "\n",
       ">      install_code_on_cloud (package_name:str, quiet:bool=False)\n",
       "\n",
       "pip install the project code package, when nb is running in the cloud.\n",
       "\n",
       "|    | **Type** | **Default** | **Details** |\n",
       "| -- | -------- | ----------- | ----------- |\n",
       "| package_name | str |  | project package name, e.g. metagentools or git+https://github.com/repo.git@main |\n",
       "| quiet | bool | False | install quietly with Trud |"
      ]
     },
     "execution_count": null,
     "metadata": {},
     "output_type": "execute_result"
    }
   ],
   "source": [
    "show_doc(install_code_on_cloud)"
   ]
  },
  {
   "cell_type": "markdown",
   "id": "1651f3d9",
   "metadata": {},
   "source": [
    "When using colab, kaggle or another cloud VM, specicif code must be installed every time from the Python Package Index (PyPI) or its GitHub repo.\n",
    "\n",
    "When running locally, the project code should be pre-installed as part of the environment"
   ]
  },
  {
   "cell_type": "code",
   "execution_count": null,
   "id": "7f46495f",
   "metadata": {},
   "outputs": [
    {
     "name": "stdout",
     "output_type": "stream",
     "text": [
      "The notebook is running locally, will not automatically install project code\n"
     ]
    }
   ],
   "source": [
    "install_code_on_cloud(package_name='metagentools');"
   ]
  },
  {
   "cell_type": "markdown",
   "id": "e70f14ef",
   "metadata": {},
   "source": [
    "# Improve output cell formats"
   ]
  },
  {
   "cell_type": "code",
   "execution_count": null,
   "id": "0d4241eb",
   "metadata": {},
   "outputs": [],
   "source": [
    "#| export\n",
    "def display_mds(\n",
    "    *strings:str|tuple[str] # any number of strings with text in markdown format\n",
    "):\n",
    "    \"\"\"Display one or several strings formatted in markdown format\"\"\"\n",
    "    for string in strings:\n",
    "        display_markdown(Markdown(data=string))"
   ]
  },
  {
   "cell_type": "code",
   "execution_count": null,
   "id": "083a5c0a",
   "metadata": {},
   "outputs": [
    {
     "data": {
      "text/markdown": [
       "---\n",
       "\n",
       "[source](https://github.com/vtecftwy/ecutils/blob/master/ecutilities/ipython.py#L96){target=\"_blank\" style=\"float:right; font-size:smaller\"}\n",
       "\n",
       "### display_mds\n",
       "\n",
       ">      display_mds (*strings:str|tuple[str])\n",
       "\n",
       "Display one or several strings formatted in markdown format"
      ],
      "text/plain": [
       "---\n",
       "\n",
       "[source](https://github.com/vtecftwy/ecutils/blob/master/ecutilities/ipython.py#L96){target=\"_blank\" style=\"float:right; font-size:smaller\"}\n",
       "\n",
       "### display_mds\n",
       "\n",
       ">      display_mds (*strings:str|tuple[str])\n",
       "\n",
       "Display one or several strings formatted in markdown format"
      ]
     },
     "execution_count": null,
     "metadata": {},
     "output_type": "execute_result"
    }
   ],
   "source": [
    "show_doc(display_mds)"
   ]
  },
  {
   "cell_type": "code",
   "execution_count": null,
   "id": "946d19e5-5df1-473f-ad2f-5187d7547187",
   "metadata": {},
   "outputs": [
    {
     "data": {
      "text/markdown": [
       "**bold** and _italic_"
      ]
     },
     "metadata": {},
     "output_type": "display_data"
    }
   ],
   "source": [
    "display_mds('**bold** and _italic_')"
   ]
  },
  {
   "cell_type": "code",
   "execution_count": null,
   "id": "0aa9e8ff-d821-4432-8187-9efb6d954105",
   "metadata": {},
   "outputs": [
    {
     "data": {
      "text/markdown": [
       "**bold** and _italic_"
      ]
     },
     "metadata": {},
     "output_type": "display_data"
    },
    {
     "data": {
      "text/markdown": [
       "- bullet"
      ]
     },
     "metadata": {},
     "output_type": "display_data"
    },
    {
     "data": {
      "text/markdown": [
       "- bullet"
      ]
     },
     "metadata": {},
     "output_type": "display_data"
    },
    {
     "data": {
      "text/markdown": [
       "> Note: this is a note"
      ]
     },
     "metadata": {},
     "output_type": "display_data"
    }
   ],
   "source": [
    "display_mds('**bold** and _italic_',\n",
    "            '- bullet',\n",
    "            '- bullet',\n",
    "            '> Note: this is a note'\n",
    ")"
   ]
  },
  {
   "cell_type": "code",
   "execution_count": null,
   "id": "0069ecfd",
   "metadata": {},
   "outputs": [],
   "source": [
    "#| export\n",
    "def display_dfs(*dfs:pd.DataFrame       # any number of Pandas DataFrames\n",
    "               ):\n",
    "    \"\"\"Display one or several `pd.DataFrame` in a single cell output\"\"\"\n",
    "    for df in dfs:\n",
    "        display(df)"
   ]
  },
  {
   "cell_type": "code",
   "execution_count": null,
   "id": "346757d9",
   "metadata": {},
   "outputs": [
    {
     "data": {
      "text/markdown": [
       "---\n",
       "\n",
       "[source](https://github.com/vtecftwy/ecutils/blob/master/ecutilities/ipython.py#L104){target=\"_blank\" style=\"float:right; font-size:smaller\"}\n",
       "\n",
       "### display_dfs\n",
       "\n",
       ">      display_dfs (*dfs:pandas.core.frame.DataFrame)\n",
       "\n",
       "Display one or several `pd.DataFrame` in a single cell output"
      ],
      "text/plain": [
       "---\n",
       "\n",
       "[source](https://github.com/vtecftwy/ecutils/blob/master/ecutilities/ipython.py#L104){target=\"_blank\" style=\"float:right; font-size:smaller\"}\n",
       "\n",
       "### display_dfs\n",
       "\n",
       ">      display_dfs (*dfs:pandas.core.frame.DataFrame)\n",
       "\n",
       "Display one or several `pd.DataFrame` in a single cell output"
      ]
     },
     "execution_count": null,
     "metadata": {},
     "output_type": "execute_result"
    }
   ],
   "source": [
    "show_doc(display_dfs)"
   ]
  },
  {
   "cell_type": "code",
   "execution_count": null,
   "id": "325e5098-8f86-4244-bccd-6005893dc539",
   "metadata": {},
   "outputs": [
    {
     "data": {
      "text/html": [
       "<div>\n",
       "<style scoped>\n",
       "    .dataframe tbody tr th:only-of-type {\n",
       "        vertical-align: middle;\n",
       "    }\n",
       "\n",
       "    .dataframe tbody tr th {\n",
       "        vertical-align: top;\n",
       "    }\n",
       "\n",
       "    .dataframe thead th {\n",
       "        text-align: right;\n",
       "    }\n",
       "</style>\n",
       "<table border=\"1\" class=\"dataframe\">\n",
       "  <thead>\n",
       "    <tr style=\"text-align: right;\">\n",
       "      <th></th>\n",
       "      <th>0</th>\n",
       "      <th>1</th>\n",
       "      <th>2</th>\n",
       "      <th>3</th>\n",
       "      <th>4</th>\n",
       "    </tr>\n",
       "  </thead>\n",
       "  <tbody>\n",
       "    <tr>\n",
       "      <th>0</th>\n",
       "      <td>1.053532</td>\n",
       "      <td>-0.033439</td>\n",
       "      <td>-0.126857</td>\n",
       "      <td>-2.361325</td>\n",
       "      <td>0.859310</td>\n",
       "    </tr>\n",
       "    <tr>\n",
       "      <th>1</th>\n",
       "      <td>-2.187972</td>\n",
       "      <td>0.580370</td>\n",
       "      <td>0.043982</td>\n",
       "      <td>-1.831536</td>\n",
       "      <td>0.467534</td>\n",
       "    </tr>\n",
       "    <tr>\n",
       "      <th>2</th>\n",
       "      <td>1.116136</td>\n",
       "      <td>-0.556733</td>\n",
       "      <td>0.328271</td>\n",
       "      <td>-1.163368</td>\n",
       "      <td>-0.085929</td>\n",
       "    </tr>\n",
       "  </tbody>\n",
       "</table>\n",
       "</div>"
      ],
      "text/plain": [
       "          0         1         2         3         4\n",
       "0  1.053532 -0.033439 -0.126857 -2.361325  0.859310\n",
       "1 -2.187972  0.580370  0.043982 -1.831536  0.467534\n",
       "2  1.116136 -0.556733  0.328271 -1.163368 -0.085929"
      ]
     },
     "metadata": {},
     "output_type": "display_data"
    },
    {
     "data": {
      "text/html": [
       "<div>\n",
       "<style scoped>\n",
       "    .dataframe tbody tr th:only-of-type {\n",
       "        vertical-align: middle;\n",
       "    }\n",
       "\n",
       "    .dataframe tbody tr th {\n",
       "        vertical-align: top;\n",
       "    }\n",
       "\n",
       "    .dataframe thead th {\n",
       "        text-align: right;\n",
       "    }\n",
       "</style>\n",
       "<table border=\"1\" class=\"dataframe\">\n",
       "  <thead>\n",
       "    <tr style=\"text-align: right;\">\n",
       "      <th></th>\n",
       "      <th>0</th>\n",
       "      <th>1</th>\n",
       "      <th>2</th>\n",
       "      <th>3</th>\n",
       "      <th>4</th>\n",
       "      <th>5</th>\n",
       "      <th>6</th>\n",
       "      <th>7</th>\n",
       "      <th>8</th>\n",
       "      <th>9</th>\n",
       "    </tr>\n",
       "  </thead>\n",
       "  <tbody>\n",
       "    <tr>\n",
       "      <th>0</th>\n",
       "      <td>0.527327</td>\n",
       "      <td>0.619668</td>\n",
       "      <td>-0.713957</td>\n",
       "      <td>0.396437</td>\n",
       "      <td>2.380298</td>\n",
       "      <td>-0.349643</td>\n",
       "      <td>-0.250297</td>\n",
       "      <td>0.374774</td>\n",
       "      <td>-0.685882</td>\n",
       "      <td>0.329070</td>\n",
       "    </tr>\n",
       "    <tr>\n",
       "      <th>1</th>\n",
       "      <td>0.342080</td>\n",
       "      <td>1.510655</td>\n",
       "      <td>-0.204959</td>\n",
       "      <td>-0.623944</td>\n",
       "      <td>1.092967</td>\n",
       "      <td>1.170887</td>\n",
       "      <td>0.549268</td>\n",
       "      <td>-2.568226</td>\n",
       "      <td>0.525949</td>\n",
       "      <td>0.046807</td>\n",
       "    </tr>\n",
       "    <tr>\n",
       "      <th>2</th>\n",
       "      <td>-1.930622</td>\n",
       "      <td>0.766416</td>\n",
       "      <td>-0.858602</td>\n",
       "      <td>-0.908672</td>\n",
       "      <td>0.288908</td>\n",
       "      <td>0.257053</td>\n",
       "      <td>0.814357</td>\n",
       "      <td>0.847788</td>\n",
       "      <td>-1.376114</td>\n",
       "      <td>0.272470</td>\n",
       "    </tr>\n",
       "  </tbody>\n",
       "</table>\n",
       "</div>"
      ],
      "text/plain": [
       "          0         1         2         3         4         5         6  \\\n",
       "0  0.527327  0.619668 -0.713957  0.396437  2.380298 -0.349643 -0.250297   \n",
       "1  0.342080  1.510655 -0.204959 -0.623944  1.092967  1.170887  0.549268   \n",
       "2 -1.930622  0.766416 -0.858602 -0.908672  0.288908  0.257053  0.814357   \n",
       "\n",
       "          7         8         9  \n",
       "0  0.374774 -0.685882  0.329070  \n",
       "1 -2.568226  0.525949  0.046807  \n",
       "2  0.847788 -1.376114  0.272470  "
      ]
     },
     "metadata": {},
     "output_type": "display_data"
    }
   ],
   "source": [
    "df1 = pd.DataFrame(data=np.random.normal(size=(10,5)))\n",
    "df2 = pd.DataFrame(data=np.random.normal(size=(20,10)))\n",
    "\n",
    "display_dfs(df1.head(3), df2.head(3))"
   ]
  },
  {
   "cell_type": "code",
   "execution_count": null,
   "id": "f77cd1ae",
   "metadata": {},
   "outputs": [],
   "source": [
    "#| export\n",
    "class pandas_nrows_ncols:\n",
    "    \"\"\"Context manager that sets the max number of rows and cols to apply to any output within the context\"\"\"\n",
    "    def __init__(\n",
    "        self, \n",
    "        nrows:int|None=None, # max number of rows to show; show all rows if `None`\n",
    "        ncols:int|None=None, # max number of columns to show; show all columns if `None`\n",
    "    ):\n",
    "        self.nrows = nrows\n",
    "        self.ncols = ncols\n",
    "    \n",
    "    def __enter__(self):\n",
    "        self.max_rows = pd.options.display.max_rows\n",
    "        self.max_cols = pd.options.display.max_columns\n",
    "        pd.options.display.max_rows = self.nrows\n",
    "        pd.options.display.max_columns = self.ncols\n",
    "        return self.max_rows, self.max_cols\n",
    "\n",
    "    def __exit__(self, exc_type, exc_value, exc_tb):\n",
    "        pd.options.display.max_rows = self.max_rows\n",
    "        pd.options.display.max_columns = self.max_cols"
   ]
  },
  {
   "cell_type": "code",
   "execution_count": null,
   "id": "0dd06ce6",
   "metadata": {},
   "outputs": [
    {
     "data": {
      "text/markdown": [
       "---\n",
       "\n",
       "[source](https://github.com/vtecftwy/ecutils/blob/master/ecutilities/ipython.py#L111){target=\"_blank\" style=\"float:right; font-size:smaller\"}\n",
       "\n",
       "### pandas_nrows_ncols\n",
       "\n",
       ">      pandas_nrows_ncols (nrows:int|None=None, ncols:int|None=None)\n",
       "\n",
       "Context manager that sets the max number of rows and cols to apply to any output within the context\n",
       "\n",
       "|    | **Type** | **Default** | **Details** |\n",
       "| -- | -------- | ----------- | ----------- |\n",
       "| nrows | int \\| None | None | max number of rows to show; show all rows if `None` |\n",
       "| ncols | int \\| None | None | max number of columns to show; show all columns if `None` |"
      ],
      "text/plain": [
       "---\n",
       "\n",
       "[source](https://github.com/vtecftwy/ecutils/blob/master/ecutilities/ipython.py#L111){target=\"_blank\" style=\"float:right; font-size:smaller\"}\n",
       "\n",
       "### pandas_nrows_ncols\n",
       "\n",
       ">      pandas_nrows_ncols (nrows:int|None=None, ncols:int|None=None)\n",
       "\n",
       "Context manager that sets the max number of rows and cols to apply to any output within the context\n",
       "\n",
       "|    | **Type** | **Default** | **Details** |\n",
       "| -- | -------- | ----------- | ----------- |\n",
       "| nrows | int \\| None | None | max number of rows to show; show all rows if `None` |\n",
       "| ncols | int \\| None | None | max number of columns to show; show all columns if `None` |"
      ]
     },
     "execution_count": null,
     "metadata": {},
     "output_type": "execute_result"
    }
   ],
   "source": [
    "show_doc(pandas_nrows_ncols)"
   ]
  },
  {
   "cell_type": "markdown",
   "id": "312d0121",
   "metadata": {},
   "source": [
    "With no context manager, the pandas object are displayed with a maximum of 60 rows and 20 columns."
   ]
  },
  {
   "cell_type": "code",
   "execution_count": null,
   "id": "530f200d",
   "metadata": {},
   "outputs": [
    {
     "data": {
      "text/html": [
       "<div>\n",
       "<style scoped>\n",
       "    .dataframe tbody tr th:only-of-type {\n",
       "        vertical-align: middle;\n",
       "    }\n",
       "\n",
       "    .dataframe tbody tr th {\n",
       "        vertical-align: top;\n",
       "    }\n",
       "\n",
       "    .dataframe thead th {\n",
       "        text-align: right;\n",
       "    }\n",
       "</style>\n",
       "<table border=\"1\" class=\"dataframe\">\n",
       "  <thead>\n",
       "    <tr style=\"text-align: right;\">\n",
       "      <th></th>\n",
       "      <th>0</th>\n",
       "      <th>1</th>\n",
       "      <th>2</th>\n",
       "      <th>3</th>\n",
       "      <th>4</th>\n",
       "      <th>5</th>\n",
       "      <th>6</th>\n",
       "      <th>7</th>\n",
       "      <th>8</th>\n",
       "      <th>9</th>\n",
       "      <th>...</th>\n",
       "      <th>40</th>\n",
       "      <th>41</th>\n",
       "      <th>42</th>\n",
       "      <th>43</th>\n",
       "      <th>44</th>\n",
       "      <th>45</th>\n",
       "      <th>46</th>\n",
       "      <th>47</th>\n",
       "      <th>48</th>\n",
       "      <th>49</th>\n",
       "    </tr>\n",
       "  </thead>\n",
       "  <tbody>\n",
       "    <tr>\n",
       "      <th>0</th>\n",
       "      <td>48</td>\n",
       "      <td>57</td>\n",
       "      <td>43</td>\n",
       "      <td>75</td>\n",
       "      <td>12</td>\n",
       "      <td>71</td>\n",
       "      <td>70</td>\n",
       "      <td>91</td>\n",
       "      <td>7</td>\n",
       "      <td>50</td>\n",
       "      <td>...</td>\n",
       "      <td>54</td>\n",
       "      <td>43</td>\n",
       "      <td>82</td>\n",
       "      <td>25</td>\n",
       "      <td>94</td>\n",
       "      <td>69</td>\n",
       "      <td>62</td>\n",
       "      <td>46</td>\n",
       "      <td>20</td>\n",
       "      <td>83</td>\n",
       "    </tr>\n",
       "    <tr>\n",
       "      <th>1</th>\n",
       "      <td>73</td>\n",
       "      <td>31</td>\n",
       "      <td>15</td>\n",
       "      <td>20</td>\n",
       "      <td>90</td>\n",
       "      <td>60</td>\n",
       "      <td>76</td>\n",
       "      <td>94</td>\n",
       "      <td>3</td>\n",
       "      <td>35</td>\n",
       "      <td>...</td>\n",
       "      <td>48</td>\n",
       "      <td>22</td>\n",
       "      <td>96</td>\n",
       "      <td>64</td>\n",
       "      <td>70</td>\n",
       "      <td>14</td>\n",
       "      <td>64</td>\n",
       "      <td>9</td>\n",
       "      <td>9</td>\n",
       "      <td>80</td>\n",
       "    </tr>\n",
       "    <tr>\n",
       "      <th>2</th>\n",
       "      <td>16</td>\n",
       "      <td>42</td>\n",
       "      <td>4</td>\n",
       "      <td>18</td>\n",
       "      <td>70</td>\n",
       "      <td>18</td>\n",
       "      <td>3</td>\n",
       "      <td>85</td>\n",
       "      <td>97</td>\n",
       "      <td>97</td>\n",
       "      <td>...</td>\n",
       "      <td>54</td>\n",
       "      <td>20</td>\n",
       "      <td>28</td>\n",
       "      <td>66</td>\n",
       "      <td>23</td>\n",
       "      <td>20</td>\n",
       "      <td>87</td>\n",
       "      <td>88</td>\n",
       "      <td>26</td>\n",
       "      <td>60</td>\n",
       "    </tr>\n",
       "  </tbody>\n",
       "</table>\n",
       "<p>3 rows × 50 columns</p>\n",
       "</div>"
      ],
      "text/plain": [
       "   0   1   2   3   4   5   6   7   8   9   ...  40  41  42  43  44  45  46  \\\n",
       "0  48  57  43  75  12  71  70  91   7  50  ...  54  43  82  25  94  69  62   \n",
       "1  73  31  15  20  90  60  76  94   3  35  ...  48  22  96  64  70  14  64   \n",
       "2  16  42   4  18  70  18   3  85  97  97  ...  54  20  28  66  23  20  87   \n",
       "\n",
       "   47  48  49  \n",
       "0  46  20  83  \n",
       "1   9   9  80  \n",
       "2  88  26  60  \n",
       "\n",
       "[3 rows x 50 columns]"
      ]
     },
     "metadata": {},
     "output_type": "display_data"
    }
   ],
   "source": [
    "df = pd.DataFrame(np.random.randint(low=0, high=100, size=(3,50)))\n",
    "display(df)"
   ]
  },
  {
   "cell_type": "markdown",
   "id": "a7f1c34a",
   "metadata": {},
   "source": [
    "Using the context manager, all rows and columns will be displayed"
   ]
  },
  {
   "cell_type": "code",
   "execution_count": null,
   "id": "1bc95386",
   "metadata": {},
   "outputs": [
    {
     "data": {
      "text/html": [
       "<div>\n",
       "<style scoped>\n",
       "    .dataframe tbody tr th:only-of-type {\n",
       "        vertical-align: middle;\n",
       "    }\n",
       "\n",
       "    .dataframe tbody tr th {\n",
       "        vertical-align: top;\n",
       "    }\n",
       "\n",
       "    .dataframe thead th {\n",
       "        text-align: right;\n",
       "    }\n",
       "</style>\n",
       "<table border=\"1\" class=\"dataframe\">\n",
       "  <thead>\n",
       "    <tr style=\"text-align: right;\">\n",
       "      <th></th>\n",
       "      <th>0</th>\n",
       "      <th>1</th>\n",
       "      <th>2</th>\n",
       "      <th>3</th>\n",
       "      <th>4</th>\n",
       "      <th>5</th>\n",
       "      <th>6</th>\n",
       "      <th>7</th>\n",
       "      <th>8</th>\n",
       "      <th>9</th>\n",
       "      <th>10</th>\n",
       "      <th>11</th>\n",
       "      <th>12</th>\n",
       "      <th>13</th>\n",
       "      <th>14</th>\n",
       "      <th>15</th>\n",
       "      <th>16</th>\n",
       "      <th>17</th>\n",
       "      <th>18</th>\n",
       "      <th>19</th>\n",
       "      <th>20</th>\n",
       "      <th>21</th>\n",
       "      <th>22</th>\n",
       "      <th>23</th>\n",
       "      <th>24</th>\n",
       "      <th>25</th>\n",
       "      <th>26</th>\n",
       "      <th>27</th>\n",
       "      <th>28</th>\n",
       "      <th>29</th>\n",
       "      <th>30</th>\n",
       "      <th>31</th>\n",
       "      <th>32</th>\n",
       "      <th>33</th>\n",
       "      <th>34</th>\n",
       "      <th>35</th>\n",
       "      <th>36</th>\n",
       "      <th>37</th>\n",
       "      <th>38</th>\n",
       "      <th>39</th>\n",
       "      <th>40</th>\n",
       "      <th>41</th>\n",
       "      <th>42</th>\n",
       "      <th>43</th>\n",
       "      <th>44</th>\n",
       "      <th>45</th>\n",
       "      <th>46</th>\n",
       "      <th>47</th>\n",
       "      <th>48</th>\n",
       "      <th>49</th>\n",
       "    </tr>\n",
       "  </thead>\n",
       "  <tbody>\n",
       "    <tr>\n",
       "      <th>0</th>\n",
       "      <td>48</td>\n",
       "      <td>57</td>\n",
       "      <td>43</td>\n",
       "      <td>75</td>\n",
       "      <td>12</td>\n",
       "      <td>71</td>\n",
       "      <td>70</td>\n",
       "      <td>91</td>\n",
       "      <td>7</td>\n",
       "      <td>50</td>\n",
       "      <td>24</td>\n",
       "      <td>10</td>\n",
       "      <td>95</td>\n",
       "      <td>94</td>\n",
       "      <td>3</td>\n",
       "      <td>16</td>\n",
       "      <td>83</td>\n",
       "      <td>85</td>\n",
       "      <td>63</td>\n",
       "      <td>30</td>\n",
       "      <td>66</td>\n",
       "      <td>66</td>\n",
       "      <td>35</td>\n",
       "      <td>44</td>\n",
       "      <td>64</td>\n",
       "      <td>82</td>\n",
       "      <td>90</td>\n",
       "      <td>25</td>\n",
       "      <td>67</td>\n",
       "      <td>65</td>\n",
       "      <td>7</td>\n",
       "      <td>58</td>\n",
       "      <td>94</td>\n",
       "      <td>21</td>\n",
       "      <td>22</td>\n",
       "      <td>67</td>\n",
       "      <td>94</td>\n",
       "      <td>71</td>\n",
       "      <td>44</td>\n",
       "      <td>76</td>\n",
       "      <td>54</td>\n",
       "      <td>43</td>\n",
       "      <td>82</td>\n",
       "      <td>25</td>\n",
       "      <td>94</td>\n",
       "      <td>69</td>\n",
       "      <td>62</td>\n",
       "      <td>46</td>\n",
       "      <td>20</td>\n",
       "      <td>83</td>\n",
       "    </tr>\n",
       "    <tr>\n",
       "      <th>1</th>\n",
       "      <td>73</td>\n",
       "      <td>31</td>\n",
       "      <td>15</td>\n",
       "      <td>20</td>\n",
       "      <td>90</td>\n",
       "      <td>60</td>\n",
       "      <td>76</td>\n",
       "      <td>94</td>\n",
       "      <td>3</td>\n",
       "      <td>35</td>\n",
       "      <td>98</td>\n",
       "      <td>27</td>\n",
       "      <td>24</td>\n",
       "      <td>85</td>\n",
       "      <td>30</td>\n",
       "      <td>2</td>\n",
       "      <td>21</td>\n",
       "      <td>45</td>\n",
       "      <td>15</td>\n",
       "      <td>94</td>\n",
       "      <td>62</td>\n",
       "      <td>74</td>\n",
       "      <td>78</td>\n",
       "      <td>0</td>\n",
       "      <td>45</td>\n",
       "      <td>97</td>\n",
       "      <td>9</td>\n",
       "      <td>13</td>\n",
       "      <td>47</td>\n",
       "      <td>61</td>\n",
       "      <td>30</td>\n",
       "      <td>52</td>\n",
       "      <td>72</td>\n",
       "      <td>59</td>\n",
       "      <td>36</td>\n",
       "      <td>81</td>\n",
       "      <td>83</td>\n",
       "      <td>91</td>\n",
       "      <td>78</td>\n",
       "      <td>46</td>\n",
       "      <td>48</td>\n",
       "      <td>22</td>\n",
       "      <td>96</td>\n",
       "      <td>64</td>\n",
       "      <td>70</td>\n",
       "      <td>14</td>\n",
       "      <td>64</td>\n",
       "      <td>9</td>\n",
       "      <td>9</td>\n",
       "      <td>80</td>\n",
       "    </tr>\n",
       "    <tr>\n",
       "      <th>2</th>\n",
       "      <td>16</td>\n",
       "      <td>42</td>\n",
       "      <td>4</td>\n",
       "      <td>18</td>\n",
       "      <td>70</td>\n",
       "      <td>18</td>\n",
       "      <td>3</td>\n",
       "      <td>85</td>\n",
       "      <td>97</td>\n",
       "      <td>97</td>\n",
       "      <td>15</td>\n",
       "      <td>83</td>\n",
       "      <td>26</td>\n",
       "      <td>59</td>\n",
       "      <td>53</td>\n",
       "      <td>0</td>\n",
       "      <td>81</td>\n",
       "      <td>88</td>\n",
       "      <td>28</td>\n",
       "      <td>23</td>\n",
       "      <td>81</td>\n",
       "      <td>98</td>\n",
       "      <td>49</td>\n",
       "      <td>61</td>\n",
       "      <td>88</td>\n",
       "      <td>33</td>\n",
       "      <td>51</td>\n",
       "      <td>52</td>\n",
       "      <td>97</td>\n",
       "      <td>15</td>\n",
       "      <td>46</td>\n",
       "      <td>34</td>\n",
       "      <td>22</td>\n",
       "      <td>73</td>\n",
       "      <td>84</td>\n",
       "      <td>94</td>\n",
       "      <td>86</td>\n",
       "      <td>93</td>\n",
       "      <td>11</td>\n",
       "      <td>61</td>\n",
       "      <td>54</td>\n",
       "      <td>20</td>\n",
       "      <td>28</td>\n",
       "      <td>66</td>\n",
       "      <td>23</td>\n",
       "      <td>20</td>\n",
       "      <td>87</td>\n",
       "      <td>88</td>\n",
       "      <td>26</td>\n",
       "      <td>60</td>\n",
       "    </tr>\n",
       "  </tbody>\n",
       "</table>\n",
       "</div>"
      ],
      "text/plain": [
       "   0   1   2   3   4   5   6   7   8   9   10  11  12  13  14  15  16  17  18  \\\n",
       "0  48  57  43  75  12  71  70  91   7  50  24  10  95  94   3  16  83  85  63   \n",
       "1  73  31  15  20  90  60  76  94   3  35  98  27  24  85  30   2  21  45  15   \n",
       "2  16  42   4  18  70  18   3  85  97  97  15  83  26  59  53   0  81  88  28   \n",
       "\n",
       "   19  20  21  22  23  24  25  26  27  28  29  30  31  32  33  34  35  36  37  \\\n",
       "0  30  66  66  35  44  64  82  90  25  67  65   7  58  94  21  22  67  94  71   \n",
       "1  94  62  74  78   0  45  97   9  13  47  61  30  52  72  59  36  81  83  91   \n",
       "2  23  81  98  49  61  88  33  51  52  97  15  46  34  22  73  84  94  86  93   \n",
       "\n",
       "   38  39  40  41  42  43  44  45  46  47  48  49  \n",
       "0  44  76  54  43  82  25  94  69  62  46  20  83  \n",
       "1  78  46  48  22  96  64  70  14  64   9   9  80  \n",
       "2  11  61  54  20  28  66  23  20  87  88  26  60  "
      ]
     },
     "metadata": {},
     "output_type": "display_data"
    }
   ],
   "source": [
    "with pandas_nrows_ncols():\n",
    "    display(df)"
   ]
  },
  {
   "cell_type": "markdown",
   "id": "51011224",
   "metadata": {},
   "source": [
    "It is also possible to specifically define the number of rows and columns to display"
   ]
  },
  {
   "cell_type": "code",
   "execution_count": null,
   "id": "fc449d7f",
   "metadata": {},
   "outputs": [
    {
     "data": {
      "text/html": [
       "<div>\n",
       "<style scoped>\n",
       "    .dataframe tbody tr th:only-of-type {\n",
       "        vertical-align: middle;\n",
       "    }\n",
       "\n",
       "    .dataframe tbody tr th {\n",
       "        vertical-align: top;\n",
       "    }\n",
       "\n",
       "    .dataframe thead th {\n",
       "        text-align: right;\n",
       "    }\n",
       "</style>\n",
       "<table border=\"1\" class=\"dataframe\">\n",
       "  <thead>\n",
       "    <tr style=\"text-align: right;\">\n",
       "      <th></th>\n",
       "      <th>0</th>\n",
       "      <th>1</th>\n",
       "      <th>2</th>\n",
       "      <th>...</th>\n",
       "      <th>47</th>\n",
       "      <th>48</th>\n",
       "      <th>49</th>\n",
       "    </tr>\n",
       "  </thead>\n",
       "  <tbody>\n",
       "    <tr>\n",
       "      <th>0</th>\n",
       "      <td>48</td>\n",
       "      <td>57</td>\n",
       "      <td>43</td>\n",
       "      <td>...</td>\n",
       "      <td>46</td>\n",
       "      <td>20</td>\n",
       "      <td>83</td>\n",
       "    </tr>\n",
       "    <tr>\n",
       "      <th>...</th>\n",
       "      <td>...</td>\n",
       "      <td>...</td>\n",
       "      <td>...</td>\n",
       "      <td>...</td>\n",
       "      <td>...</td>\n",
       "      <td>...</td>\n",
       "      <td>...</td>\n",
       "    </tr>\n",
       "    <tr>\n",
       "      <th>2</th>\n",
       "      <td>16</td>\n",
       "      <td>42</td>\n",
       "      <td>4</td>\n",
       "      <td>...</td>\n",
       "      <td>88</td>\n",
       "      <td>26</td>\n",
       "      <td>60</td>\n",
       "    </tr>\n",
       "  </tbody>\n",
       "</table>\n",
       "<p>3 rows × 50 columns</p>\n",
       "</div>"
      ],
      "text/plain": [
       "    0   1   2   ...  47  48  49\n",
       "0   48  57  43  ...  46  20  83\n",
       "..  ..  ..  ..  ...  ..  ..  ..\n",
       "2   16  42   4  ...  88  26  60\n",
       "\n",
       "[3 rows x 50 columns]"
      ]
     },
     "metadata": {},
     "output_type": "display_data"
    }
   ],
   "source": [
    "with pandas_nrows_ncols(nrows=2, ncols=6):\n",
    "    display(df)"
   ]
  },
  {
   "cell_type": "code",
   "execution_count": null,
   "id": "567cb9b2",
   "metadata": {},
   "outputs": [
    {
     "name": "stdout",
     "output_type": "stream",
     "text": [
      "    0   1   2   ...  47  48  49\n",
      "0   48  57  43  ...  46  20  83\n",
      "..  ..  ..  ..  ...  ..  ..  ..\n",
      "2   16  42   4  ...  88  26  60\n",
      "\n",
      "[3 rows x 50 columns]\n"
     ]
    }
   ],
   "source": [
    "with pandas_nrows_ncols(2,6):\n",
    "    print(df)"
   ]
  },
  {
   "cell_type": "markdown",
   "id": "6efe499e",
   "metadata": {},
   "source": [
    "> ### Technical background\n",
    "> \n",
    "> the context manager uses pandas's [`options API`](https://pandas.pydata.org/docs/user_guide/options.html)"
   ]
  },
  {
   "cell_type": "code",
   "execution_count": null,
   "id": "e8d56144",
   "metadata": {},
   "outputs": [
    {
     "data": {
      "text/plain": [
       "(60, 20)"
      ]
     },
     "execution_count": null,
     "metadata": {},
     "output_type": "execute_result"
    }
   ],
   "source": [
    "pd.options.display.max_rows, pd.options.display.max_columns"
   ]
  },
  {
   "cell_type": "code",
   "execution_count": null,
   "id": "7fc397e3",
   "metadata": {},
   "outputs": [
    {
     "data": {
      "text/plain": [
       "(60, 20)"
      ]
     },
     "execution_count": null,
     "metadata": {},
     "output_type": "execute_result"
    }
   ],
   "source": [
    "pd.get_option('display.max_rows'), pd.get_option('display.max_columns')"
   ]
  },
  {
   "cell_type": "code",
   "execution_count": null,
   "id": "7916ef1a",
   "metadata": {},
   "outputs": [
    {
     "name": "stdout",
     "output_type": "stream",
     "text": [
      "display.max_rows : int\n",
      "    If max_rows is exceeded, switch to truncate view. Depending on\n",
      "    `large_repr`, objects are either centrally truncated or printed as\n",
      "    a summary view. 'None' value means unlimited.\n",
      "\n",
      "    In case python/IPython is running in a terminal and `large_repr`\n",
      "    equals 'truncate' this can be set to 0 and pandas will auto-detect\n",
      "    the height of the terminal and print a truncated object which fits\n",
      "    the screen height. The IPython notebook, IPython qtconsole, or\n",
      "    IDLE do not run in a terminal and hence it is not possible to do\n",
      "    correct auto-detection.\n",
      "    [default: 60] [currently: 60]\n"
     ]
    }
   ],
   "source": [
    "pd.describe_option('display.max_rows')"
   ]
  },
  {
   "cell_type": "code",
   "execution_count": null,
   "id": "d906dc16",
   "metadata": {},
   "outputs": [
    {
     "data": {
      "text/plain": [
       "60"
      ]
     },
     "execution_count": null,
     "metadata": {},
     "output_type": "execute_result"
    }
   ],
   "source": [
    "pd.options.display.max_rows = 10\n",
    "pd.reset_option('display.max_rows')\n",
    "pd.options.display.max_rows"
   ]
  },
  {
   "cell_type": "code",
   "execution_count": null,
   "id": "d480da5d",
   "metadata": {},
   "outputs": [],
   "source": [
    "#| export\n",
    "def display_full_df(\n",
    "    df:pd.DataFrame|pd.Series,  # `DataFrame` or `Series` to display\n",
    "):\n",
    "    \"\"\"Display a pandas `DataFrame` or `Series` showing all rows and columns\"\"\"\n",
    "    if is_type(df, pd.DataFrame, raise_error=False) or is_type(df, pd.Series, raise_error=False):\n",
    "        with pandas_nrows_ncols():\n",
    "            display(df)\n",
    "    else:\n",
    "        raise TypeError(f\"df must me a pandas `DataFrame` or `Series`, not a {type(df)}\")"
   ]
  },
  {
   "cell_type": "code",
   "execution_count": null,
   "id": "18e6106f",
   "metadata": {},
   "outputs": [
    {
     "data": {
      "text/markdown": [
       "---\n",
       "\n",
       "[source](https://github.com/vtecftwy/ecutils/blob/master/ecutilities/ipython.py#L145){target=\"_blank\" style=\"float:right; font-size:smaller\"}\n",
       "\n",
       "### display_full_df\n",
       "\n",
       ">      display_full_df\n",
       ">                       (df:pandas.core.frame.DataFrame|pandas.core.series.Serie\n",
       ">                       s)\n",
       "\n",
       "Display a pandas `DataFrame` or `Series` showing all rows and columns\n",
       "\n",
       "|    | **Type** | **Details** |\n",
       "| -- | -------- | ----------- |\n",
       "| df | pd.DataFrame \\| pd.Series | `DataFrame` or `Series` to display |"
      ],
      "text/plain": [
       "---\n",
       "\n",
       "[source](https://github.com/vtecftwy/ecutils/blob/master/ecutilities/ipython.py#L145){target=\"_blank\" style=\"float:right; font-size:smaller\"}\n",
       "\n",
       "### display_full_df\n",
       "\n",
       ">      display_full_df\n",
       ">                       (df:pandas.core.frame.DataFrame|pandas.core.series.Serie\n",
       ">                       s)\n",
       "\n",
       "Display a pandas `DataFrame` or `Series` showing all rows and columns\n",
       "\n",
       "|    | **Type** | **Details** |\n",
       "| -- | -------- | ----------- |\n",
       "| df | pd.DataFrame \\| pd.Series | `DataFrame` or `Series` to display |"
      ]
     },
     "execution_count": null,
     "metadata": {},
     "output_type": "execute_result"
    }
   ],
   "source": [
    "show_doc(display_full_df)"
   ]
  },
  {
   "cell_type": "code",
   "execution_count": null,
   "id": "7847e07e",
   "metadata": {},
   "outputs": [
    {
     "data": {
      "text/html": [
       "<div>\n",
       "<style scoped>\n",
       "    .dataframe tbody tr th:only-of-type {\n",
       "        vertical-align: middle;\n",
       "    }\n",
       "\n",
       "    .dataframe tbody tr th {\n",
       "        vertical-align: top;\n",
       "    }\n",
       "\n",
       "    .dataframe thead th {\n",
       "        text-align: right;\n",
       "    }\n",
       "</style>\n",
       "<table border=\"1\" class=\"dataframe\">\n",
       "  <thead>\n",
       "    <tr style=\"text-align: right;\">\n",
       "      <th></th>\n",
       "      <th>0</th>\n",
       "      <th>1</th>\n",
       "      <th>2</th>\n",
       "      <th>3</th>\n",
       "      <th>4</th>\n",
       "      <th>5</th>\n",
       "      <th>6</th>\n",
       "      <th>7</th>\n",
       "      <th>8</th>\n",
       "      <th>9</th>\n",
       "      <th>...</th>\n",
       "      <th>40</th>\n",
       "      <th>41</th>\n",
       "      <th>42</th>\n",
       "      <th>43</th>\n",
       "      <th>44</th>\n",
       "      <th>45</th>\n",
       "      <th>46</th>\n",
       "      <th>47</th>\n",
       "      <th>48</th>\n",
       "      <th>49</th>\n",
       "    </tr>\n",
       "  </thead>\n",
       "  <tbody>\n",
       "    <tr>\n",
       "      <th>0</th>\n",
       "      <td>74</td>\n",
       "      <td>75</td>\n",
       "      <td>67</td>\n",
       "      <td>32</td>\n",
       "      <td>87</td>\n",
       "      <td>39</td>\n",
       "      <td>30</td>\n",
       "      <td>47</td>\n",
       "      <td>77</td>\n",
       "      <td>48</td>\n",
       "      <td>...</td>\n",
       "      <td>10</td>\n",
       "      <td>73</td>\n",
       "      <td>42</td>\n",
       "      <td>77</td>\n",
       "      <td>99</td>\n",
       "      <td>24</td>\n",
       "      <td>98</td>\n",
       "      <td>65</td>\n",
       "      <td>62</td>\n",
       "      <td>63</td>\n",
       "    </tr>\n",
       "    <tr>\n",
       "      <th>1</th>\n",
       "      <td>40</td>\n",
       "      <td>36</td>\n",
       "      <td>70</td>\n",
       "      <td>54</td>\n",
       "      <td>5</td>\n",
       "      <td>26</td>\n",
       "      <td>54</td>\n",
       "      <td>10</td>\n",
       "      <td>33</td>\n",
       "      <td>68</td>\n",
       "      <td>...</td>\n",
       "      <td>29</td>\n",
       "      <td>12</td>\n",
       "      <td>84</td>\n",
       "      <td>51</td>\n",
       "      <td>87</td>\n",
       "      <td>15</td>\n",
       "      <td>3</td>\n",
       "      <td>40</td>\n",
       "      <td>87</td>\n",
       "      <td>3</td>\n",
       "    </tr>\n",
       "    <tr>\n",
       "      <th>2</th>\n",
       "      <td>53</td>\n",
       "      <td>62</td>\n",
       "      <td>95</td>\n",
       "      <td>85</td>\n",
       "      <td>99</td>\n",
       "      <td>56</td>\n",
       "      <td>94</td>\n",
       "      <td>23</td>\n",
       "      <td>20</td>\n",
       "      <td>48</td>\n",
       "      <td>...</td>\n",
       "      <td>81</td>\n",
       "      <td>13</td>\n",
       "      <td>14</td>\n",
       "      <td>20</td>\n",
       "      <td>88</td>\n",
       "      <td>45</td>\n",
       "      <td>77</td>\n",
       "      <td>73</td>\n",
       "      <td>95</td>\n",
       "      <td>54</td>\n",
       "    </tr>\n",
       "  </tbody>\n",
       "</table>\n",
       "<p>3 rows × 50 columns</p>\n",
       "</div>"
      ],
      "text/plain": [
       "   0   1   2   3   4   5   6   7   8   9   ...  40  41  42  43  44  45  46  \\\n",
       "0  74  75  67  32  87  39  30  47  77  48  ...  10  73  42  77  99  24  98   \n",
       "1  40  36  70  54   5  26  54  10  33  68  ...  29  12  84  51  87  15   3   \n",
       "2  53  62  95  85  99  56  94  23  20  48  ...  81  13  14  20  88  45  77   \n",
       "\n",
       "   47  48  49  \n",
       "0  65  62  63  \n",
       "1  40  87   3  \n",
       "2  73  95  54  \n",
       "\n",
       "[3 rows x 50 columns]"
      ]
     },
     "execution_count": null,
     "metadata": {},
     "output_type": "execute_result"
    }
   ],
   "source": [
    "df = pd.DataFrame(np.random.randint(low=0, high=100, size=(3,50)))\n",
    "df"
   ]
  },
  {
   "cell_type": "code",
   "execution_count": null,
   "id": "eece8149",
   "metadata": {},
   "outputs": [
    {
     "data": {
      "text/html": [
       "<div>\n",
       "<style scoped>\n",
       "    .dataframe tbody tr th:only-of-type {\n",
       "        vertical-align: middle;\n",
       "    }\n",
       "\n",
       "    .dataframe tbody tr th {\n",
       "        vertical-align: top;\n",
       "    }\n",
       "\n",
       "    .dataframe thead th {\n",
       "        text-align: right;\n",
       "    }\n",
       "</style>\n",
       "<table border=\"1\" class=\"dataframe\">\n",
       "  <thead>\n",
       "    <tr style=\"text-align: right;\">\n",
       "      <th></th>\n",
       "      <th>0</th>\n",
       "      <th>1</th>\n",
       "      <th>2</th>\n",
       "      <th>3</th>\n",
       "      <th>4</th>\n",
       "      <th>5</th>\n",
       "      <th>6</th>\n",
       "      <th>7</th>\n",
       "      <th>8</th>\n",
       "      <th>9</th>\n",
       "      <th>10</th>\n",
       "      <th>11</th>\n",
       "      <th>12</th>\n",
       "      <th>13</th>\n",
       "      <th>14</th>\n",
       "      <th>15</th>\n",
       "      <th>16</th>\n",
       "      <th>17</th>\n",
       "      <th>18</th>\n",
       "      <th>19</th>\n",
       "      <th>20</th>\n",
       "      <th>21</th>\n",
       "      <th>22</th>\n",
       "      <th>23</th>\n",
       "      <th>24</th>\n",
       "      <th>25</th>\n",
       "      <th>26</th>\n",
       "      <th>27</th>\n",
       "      <th>28</th>\n",
       "      <th>29</th>\n",
       "      <th>30</th>\n",
       "      <th>31</th>\n",
       "      <th>32</th>\n",
       "      <th>33</th>\n",
       "      <th>34</th>\n",
       "      <th>35</th>\n",
       "      <th>36</th>\n",
       "      <th>37</th>\n",
       "      <th>38</th>\n",
       "      <th>39</th>\n",
       "      <th>40</th>\n",
       "      <th>41</th>\n",
       "      <th>42</th>\n",
       "      <th>43</th>\n",
       "      <th>44</th>\n",
       "      <th>45</th>\n",
       "      <th>46</th>\n",
       "      <th>47</th>\n",
       "      <th>48</th>\n",
       "      <th>49</th>\n",
       "    </tr>\n",
       "  </thead>\n",
       "  <tbody>\n",
       "    <tr>\n",
       "      <th>0</th>\n",
       "      <td>74</td>\n",
       "      <td>75</td>\n",
       "      <td>67</td>\n",
       "      <td>32</td>\n",
       "      <td>87</td>\n",
       "      <td>39</td>\n",
       "      <td>30</td>\n",
       "      <td>47</td>\n",
       "      <td>77</td>\n",
       "      <td>48</td>\n",
       "      <td>38</td>\n",
       "      <td>14</td>\n",
       "      <td>76</td>\n",
       "      <td>76</td>\n",
       "      <td>18</td>\n",
       "      <td>74</td>\n",
       "      <td>62</td>\n",
       "      <td>52</td>\n",
       "      <td>75</td>\n",
       "      <td>0</td>\n",
       "      <td>7</td>\n",
       "      <td>46</td>\n",
       "      <td>61</td>\n",
       "      <td>45</td>\n",
       "      <td>99</td>\n",
       "      <td>93</td>\n",
       "      <td>34</td>\n",
       "      <td>6</td>\n",
       "      <td>53</td>\n",
       "      <td>64</td>\n",
       "      <td>56</td>\n",
       "      <td>48</td>\n",
       "      <td>72</td>\n",
       "      <td>48</td>\n",
       "      <td>53</td>\n",
       "      <td>46</td>\n",
       "      <td>63</td>\n",
       "      <td>45</td>\n",
       "      <td>78</td>\n",
       "      <td>58</td>\n",
       "      <td>10</td>\n",
       "      <td>73</td>\n",
       "      <td>42</td>\n",
       "      <td>77</td>\n",
       "      <td>99</td>\n",
       "      <td>24</td>\n",
       "      <td>98</td>\n",
       "      <td>65</td>\n",
       "      <td>62</td>\n",
       "      <td>63</td>\n",
       "    </tr>\n",
       "    <tr>\n",
       "      <th>1</th>\n",
       "      <td>40</td>\n",
       "      <td>36</td>\n",
       "      <td>70</td>\n",
       "      <td>54</td>\n",
       "      <td>5</td>\n",
       "      <td>26</td>\n",
       "      <td>54</td>\n",
       "      <td>10</td>\n",
       "      <td>33</td>\n",
       "      <td>68</td>\n",
       "      <td>51</td>\n",
       "      <td>81</td>\n",
       "      <td>54</td>\n",
       "      <td>12</td>\n",
       "      <td>34</td>\n",
       "      <td>53</td>\n",
       "      <td>73</td>\n",
       "      <td>74</td>\n",
       "      <td>6</td>\n",
       "      <td>50</td>\n",
       "      <td>11</td>\n",
       "      <td>26</td>\n",
       "      <td>78</td>\n",
       "      <td>45</td>\n",
       "      <td>77</td>\n",
       "      <td>3</td>\n",
       "      <td>78</td>\n",
       "      <td>45</td>\n",
       "      <td>9</td>\n",
       "      <td>17</td>\n",
       "      <td>66</td>\n",
       "      <td>17</td>\n",
       "      <td>95</td>\n",
       "      <td>92</td>\n",
       "      <td>12</td>\n",
       "      <td>22</td>\n",
       "      <td>4</td>\n",
       "      <td>5</td>\n",
       "      <td>52</td>\n",
       "      <td>64</td>\n",
       "      <td>29</td>\n",
       "      <td>12</td>\n",
       "      <td>84</td>\n",
       "      <td>51</td>\n",
       "      <td>87</td>\n",
       "      <td>15</td>\n",
       "      <td>3</td>\n",
       "      <td>40</td>\n",
       "      <td>87</td>\n",
       "      <td>3</td>\n",
       "    </tr>\n",
       "    <tr>\n",
       "      <th>2</th>\n",
       "      <td>53</td>\n",
       "      <td>62</td>\n",
       "      <td>95</td>\n",
       "      <td>85</td>\n",
       "      <td>99</td>\n",
       "      <td>56</td>\n",
       "      <td>94</td>\n",
       "      <td>23</td>\n",
       "      <td>20</td>\n",
       "      <td>48</td>\n",
       "      <td>69</td>\n",
       "      <td>59</td>\n",
       "      <td>2</td>\n",
       "      <td>55</td>\n",
       "      <td>38</td>\n",
       "      <td>89</td>\n",
       "      <td>2</td>\n",
       "      <td>38</td>\n",
       "      <td>34</td>\n",
       "      <td>38</td>\n",
       "      <td>87</td>\n",
       "      <td>98</td>\n",
       "      <td>64</td>\n",
       "      <td>69</td>\n",
       "      <td>98</td>\n",
       "      <td>79</td>\n",
       "      <td>62</td>\n",
       "      <td>20</td>\n",
       "      <td>61</td>\n",
       "      <td>62</td>\n",
       "      <td>28</td>\n",
       "      <td>12</td>\n",
       "      <td>8</td>\n",
       "      <td>47</td>\n",
       "      <td>0</td>\n",
       "      <td>50</td>\n",
       "      <td>87</td>\n",
       "      <td>18</td>\n",
       "      <td>21</td>\n",
       "      <td>47</td>\n",
       "      <td>81</td>\n",
       "      <td>13</td>\n",
       "      <td>14</td>\n",
       "      <td>20</td>\n",
       "      <td>88</td>\n",
       "      <td>45</td>\n",
       "      <td>77</td>\n",
       "      <td>73</td>\n",
       "      <td>95</td>\n",
       "      <td>54</td>\n",
       "    </tr>\n",
       "  </tbody>\n",
       "</table>\n",
       "</div>"
      ],
      "text/plain": [
       "   0   1   2   3   4   5   6   7   8   9   10  11  12  13  14  15  16  17  18  \\\n",
       "0  74  75  67  32  87  39  30  47  77  48  38  14  76  76  18  74  62  52  75   \n",
       "1  40  36  70  54   5  26  54  10  33  68  51  81  54  12  34  53  73  74   6   \n",
       "2  53  62  95  85  99  56  94  23  20  48  69  59   2  55  38  89   2  38  34   \n",
       "\n",
       "   19  20  21  22  23  24  25  26  27  28  29  30  31  32  33  34  35  36  37  \\\n",
       "0   0   7  46  61  45  99  93  34   6  53  64  56  48  72  48  53  46  63  45   \n",
       "1  50  11  26  78  45  77   3  78  45   9  17  66  17  95  92  12  22   4   5   \n",
       "2  38  87  98  64  69  98  79  62  20  61  62  28  12   8  47   0  50  87  18   \n",
       "\n",
       "   38  39  40  41  42  43  44  45  46  47  48  49  \n",
       "0  78  58  10  73  42  77  99  24  98  65  62  63  \n",
       "1  52  64  29  12  84  51  87  15   3  40  87   3  \n",
       "2  21  47  81  13  14  20  88  45  77  73  95  54  "
      ]
     },
     "metadata": {},
     "output_type": "display_data"
    }
   ],
   "source": [
    "display_full_df(df)"
   ]
  },
  {
   "cell_type": "code",
   "execution_count": null,
   "id": "62a895c5",
   "metadata": {},
   "outputs": [
    {
     "data": {
      "text/plain": [
       "0     74\n",
       "1     75\n",
       "2     67\n",
       "3     32\n",
       "4     87\n",
       "5     39\n",
       "6     30\n",
       "7     47\n",
       "8     77\n",
       "9     48\n",
       "10    38\n",
       "11    14\n",
       "12    76\n",
       "13    76\n",
       "14    18\n",
       "15    74\n",
       "16    62\n",
       "17    52\n",
       "18    75\n",
       "19     0\n",
       "20     7\n",
       "21    46\n",
       "22    61\n",
       "23    45\n",
       "24    99\n",
       "25    93\n",
       "26    34\n",
       "27     6\n",
       "28    53\n",
       "29    64\n",
       "30    56\n",
       "31    48\n",
       "32    72\n",
       "33    48\n",
       "34    53\n",
       "35    46\n",
       "36    63\n",
       "37    45\n",
       "38    78\n",
       "39    58\n",
       "40    10\n",
       "41    73\n",
       "42    42\n",
       "43    77\n",
       "44    99\n",
       "45    24\n",
       "46    98\n",
       "47    65\n",
       "48    62\n",
       "49    63\n",
       "Name: 0, dtype: int64"
      ]
     },
     "metadata": {},
     "output_type": "display_data"
    }
   ],
   "source": [
    "#| hide\n",
    "display_full_df(df.loc[0, :].T)"
   ]
  },
  {
   "cell_type": "code",
   "execution_count": null,
   "id": "014c8d17",
   "metadata": {},
   "outputs": [],
   "source": [
    "msg = 'should raise a TypeError'\n",
    "contains = 'df must me a pandas `DataFrame` or `Series`'\n",
    "\n",
    "test_fail(display_full_df, args=['a string'], msg=msg, contains=contains)"
   ]
  },
  {
   "cell_type": "code",
   "execution_count": null,
   "id": "5622ffa4",
   "metadata": {},
   "outputs": [],
   "source": [
    "#| hide\n",
    "nbdev_export()"
   ]
  }
 ],
 "metadata": {
  "kernelspec": {
   "display_name": "python3",
   "language": "python",
   "name": "python3"
  }
 },
 "nbformat": 4,
 "nbformat_minor": 5
}
