{
 "cells": [
  {
   "cell_type": "markdown",
   "id": "6d4ddf06-eb2f-469d-99fb-25ead3b85093",
   "metadata": {},
   "source": [
    "# `ipython`\n",
    "> Set of utility functions to be used in Jupyter and Jupyter Lab notebooks.\n"
   ]
  },
  {
   "cell_type": "code",
   "execution_count": null,
   "id": "7c70747c",
   "metadata": {},
   "outputs": [],
   "source": [
    "#|default_exp ipython"
   ]
  },
  {
   "cell_type": "code",
   "execution_count": null,
   "id": "45f8c09e",
   "metadata": {},
   "outputs": [],
   "source": [
    "#| export\n",
    "from __future__ import annotations\n",
    "from IPython.core.getipython import get_ipython\n",
    "from IPython.display import display, Markdown, display_markdown\n",
    "from pathlib import Path\n",
    "\n",
    "import numpy as np\n",
    "import pandas as pd\n",
    "import sys"
   ]
  },
  {
   "cell_type": "code",
   "execution_count": null,
   "id": "f7b58bca-64c9-44a3-87e2-b627b0ac432f",
   "metadata": {},
   "outputs": [],
   "source": [
    "#| hide\n",
    "from nbdev import show_doc"
   ]
  },
  {
   "cell_type": "code",
   "execution_count": null,
   "id": "0d4241eb",
   "metadata": {},
   "outputs": [],
   "source": [
    "#| export\n",
    "def display_mds(*strings:str # any number of strings with text in markdown format\n",
    "               ):\n",
    "    \"\"\"Utility function to display several strings formatted in markdown format\"\"\"\n",
    "    for string in strings:\n",
    "        display_markdown(Markdown(data=string))"
   ]
  },
  {
   "cell_type": "code",
   "execution_count": null,
   "id": "946d19e5-5df1-473f-ad2f-5187d7547187",
   "metadata": {},
   "outputs": [
    {
     "data": {
      "text/markdown": [
       "**bold** and _italic_"
      ]
     },
     "metadata": {},
     "output_type": "display_data"
    }
   ],
   "source": [
    "display_mds('**bold** and _italic_')"
   ]
  },
  {
   "cell_type": "code",
   "execution_count": null,
   "id": "0aa9e8ff-d821-4432-8187-9efb6d954105",
   "metadata": {},
   "outputs": [
    {
     "data": {
      "text/markdown": [
       "**bold** and _italic_"
      ]
     },
     "metadata": {},
     "output_type": "display_data"
    },
    {
     "data": {
      "text/markdown": [
       "- bullet"
      ]
     },
     "metadata": {},
     "output_type": "display_data"
    },
    {
     "data": {
      "text/markdown": [
       "- bullet"
      ]
     },
     "metadata": {},
     "output_type": "display_data"
    },
    {
     "data": {
      "text/markdown": [
       "> Note: haha"
      ]
     },
     "metadata": {},
     "output_type": "display_data"
    }
   ],
   "source": [
    "display_mds('**bold** and _italic_',\n",
    "            '- bullet',\n",
    "            '- bullet',\n",
    "            '> Note: haha'\n",
    "           )"
   ]
  },
  {
   "cell_type": "code",
   "execution_count": null,
   "id": "0069ecfd",
   "metadata": {},
   "outputs": [],
   "source": [
    "#| export\n",
    "def display_dfs(*dfs:pd.DataFrame       # any number of Pandas DataFrames\n",
    "               ):\n",
    "    \"\"\"Display several DataFrame at once\"\"\"\n",
    "    for df in dfs:\n",
    "        display(df)"
   ]
  },
  {
   "cell_type": "code",
   "execution_count": null,
   "id": "325e5098-8f86-4244-bccd-6005893dc539",
   "metadata": {},
   "outputs": [
    {
     "data": {
      "text/html": [
       "<div>\n",
       "<style scoped>\n",
       "    .dataframe tbody tr th:only-of-type {\n",
       "        vertical-align: middle;\n",
       "    }\n",
       "\n",
       "    .dataframe tbody tr th {\n",
       "        vertical-align: top;\n",
       "    }\n",
       "\n",
       "    .dataframe thead th {\n",
       "        text-align: right;\n",
       "    }\n",
       "</style>\n",
       "<table border=\"1\" class=\"dataframe\">\n",
       "  <thead>\n",
       "    <tr style=\"text-align: right;\">\n",
       "      <th></th>\n",
       "      <th>0</th>\n",
       "      <th>1</th>\n",
       "      <th>2</th>\n",
       "      <th>3</th>\n",
       "      <th>4</th>\n",
       "    </tr>\n",
       "  </thead>\n",
       "  <tbody>\n",
       "    <tr>\n",
       "      <th>0</th>\n",
       "      <td>0.470465</td>\n",
       "      <td>-0.739909</td>\n",
       "      <td>-0.330182</td>\n",
       "      <td>1.119347</td>\n",
       "      <td>0.499924</td>\n",
       "    </tr>\n",
       "    <tr>\n",
       "      <th>1</th>\n",
       "      <td>-1.447855</td>\n",
       "      <td>0.312989</td>\n",
       "      <td>-0.613174</td>\n",
       "      <td>-1.255008</td>\n",
       "      <td>1.602491</td>\n",
       "    </tr>\n",
       "    <tr>\n",
       "      <th>2</th>\n",
       "      <td>-0.064123</td>\n",
       "      <td>-1.092779</td>\n",
       "      <td>-0.332820</td>\n",
       "      <td>0.310979</td>\n",
       "      <td>0.269590</td>\n",
       "    </tr>\n",
       "  </tbody>\n",
       "</table>\n",
       "</div>"
      ],
      "text/plain": [
       "          0         1         2         3         4\n",
       "0  0.470465 -0.739909 -0.330182  1.119347  0.499924\n",
       "1 -1.447855  0.312989 -0.613174 -1.255008  1.602491\n",
       "2 -0.064123 -1.092779 -0.332820  0.310979  0.269590"
      ]
     },
     "metadata": {},
     "output_type": "display_data"
    },
    {
     "data": {
      "text/html": [
       "<div>\n",
       "<style scoped>\n",
       "    .dataframe tbody tr th:only-of-type {\n",
       "        vertical-align: middle;\n",
       "    }\n",
       "\n",
       "    .dataframe tbody tr th {\n",
       "        vertical-align: top;\n",
       "    }\n",
       "\n",
       "    .dataframe thead th {\n",
       "        text-align: right;\n",
       "    }\n",
       "</style>\n",
       "<table border=\"1\" class=\"dataframe\">\n",
       "  <thead>\n",
       "    <tr style=\"text-align: right;\">\n",
       "      <th></th>\n",
       "      <th>0</th>\n",
       "      <th>1</th>\n",
       "      <th>2</th>\n",
       "      <th>3</th>\n",
       "      <th>4</th>\n",
       "      <th>5</th>\n",
       "      <th>6</th>\n",
       "      <th>7</th>\n",
       "      <th>8</th>\n",
       "      <th>9</th>\n",
       "    </tr>\n",
       "  </thead>\n",
       "  <tbody>\n",
       "    <tr>\n",
       "      <th>0</th>\n",
       "      <td>1.189962</td>\n",
       "      <td>-1.599791</td>\n",
       "      <td>-0.938383</td>\n",
       "      <td>-0.312913</td>\n",
       "      <td>-1.237868</td>\n",
       "      <td>-1.572925</td>\n",
       "      <td>1.662769</td>\n",
       "      <td>0.811599</td>\n",
       "      <td>0.280456</td>\n",
       "      <td>-0.523134</td>\n",
       "    </tr>\n",
       "    <tr>\n",
       "      <th>1</th>\n",
       "      <td>1.292469</td>\n",
       "      <td>-0.770533</td>\n",
       "      <td>-0.090206</td>\n",
       "      <td>0.225586</td>\n",
       "      <td>-0.088308</td>\n",
       "      <td>-1.003967</td>\n",
       "      <td>0.216139</td>\n",
       "      <td>-1.424453</td>\n",
       "      <td>-0.297965</td>\n",
       "      <td>-0.690568</td>\n",
       "    </tr>\n",
       "    <tr>\n",
       "      <th>2</th>\n",
       "      <td>-0.285400</td>\n",
       "      <td>-0.718618</td>\n",
       "      <td>-1.174404</td>\n",
       "      <td>-0.002296</td>\n",
       "      <td>0.141890</td>\n",
       "      <td>-2.241422</td>\n",
       "      <td>0.683999</td>\n",
       "      <td>-1.280102</td>\n",
       "      <td>-0.729977</td>\n",
       "      <td>0.513669</td>\n",
       "    </tr>\n",
       "  </tbody>\n",
       "</table>\n",
       "</div>"
      ],
      "text/plain": [
       "          0         1         2         3         4         5         6  \\\n",
       "0  1.189962 -1.599791 -0.938383 -0.312913 -1.237868 -1.572925  1.662769   \n",
       "1  1.292469 -0.770533 -0.090206  0.225586 -0.088308 -1.003967  0.216139   \n",
       "2 -0.285400 -0.718618 -1.174404 -0.002296  0.141890 -2.241422  0.683999   \n",
       "\n",
       "          7         8         9  \n",
       "0  0.811599  0.280456 -0.523134  \n",
       "1 -1.424453 -0.297965 -0.690568  \n",
       "2 -1.280102 -0.729977  0.513669  "
      ]
     },
     "metadata": {},
     "output_type": "display_data"
    }
   ],
   "source": [
    "df1 = pd.DataFrame(data=np.random.normal(size=(10,5)))\n",
    "df2 = pd.DataFrame(data=np.random.normal(size=(20,10)))\n",
    "\n",
    "display_dfs(df1.head(3), df2.head(3))"
   ]
  },
  {
   "cell_type": "code",
   "execution_count": null,
   "id": "3148436d",
   "metadata": {},
   "outputs": [],
   "source": [
    "#| export\n",
    "def nb_setup(autoreload:bool = True,   # True to set autoreload in this notebook\n",
    "             paths:list(Path) = None   # Paths to add to the path environment variable\n",
    "            ):\n",
    "    \"\"\"Use in first cell of nb for setting up autoreload, paths, ... \"\"\"\n",
    "#   Add paths. Default is 'src' if it exists\n",
    "    if paths is None:\n",
    "        p = Path('../src').resolve().absolute()\n",
    "        if p.is_dir():\n",
    "            paths = [str(p)]\n",
    "        else:\n",
    "            paths=[]\n",
    "    if paths:\n",
    "        for p in paths:\n",
    "            sys.path.insert(1, str(p))\n",
    "        print(f\"Added following paths: {','.join(paths)}\")\n",
    "\n",
    "#   Setup auto reload\n",
    "    if autoreload:\n",
    "        ipshell = get_ipython()\n",
    "        ipshell.run_line_magic('load_ext',  'autoreload')\n",
    "        ipshell.run_line_magic('autoreload', '2')\n",
    "        print('Set autoreload mode')"
   ]
  },
  {
   "cell_type": "markdown",
   "id": "9a8da3d6-1da4-4bf4-aeca-aa430f4302d7",
   "metadata": {},
   "source": [
    "By default, `ipython.nb_setup()` \n",
    "- loads and set `autoreload`\n",
    "- adds a path to a directory named `src` when it exists at the same level as where the notebook directory is located. It no such `src` directory exists, no path is added\n",
    "\n",
    "`ipython.nb_setup` assumes the following file structure:\n",
    "\n",
    "```\n",
    "    project_directory\n",
    "          | --- notebooks\n",
    "          |        | --- current_nb.ipynb\n",
    "          |        | --- ...\n",
    "          |\n",
    "          |--- src\n",
    "          |     | --- scripts_to_import.py\n",
    "          |     | --- ...\n",
    "          |\n",
    "          |--- data\n",
    "          |     |\n",
    "          |     | ...\n",
    "```\n",
    "\n",
    "For other file structure, specify paths as a `list` of `Path`"
   ]
  }
 ],
 "metadata": {
  "kernelspec": {
   "display_name": "Python 3 (ipykernel)",
   "language": "python",
   "name": "python3"
  }
 },
 "nbformat": 4,
 "nbformat_minor": 5
}
