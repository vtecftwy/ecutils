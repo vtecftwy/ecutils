{
 "cells": [
  {
   "cell_type": "markdown",
   "id": "6d4ddf06-eb2f-469d-99fb-25ead3b85093",
   "metadata": {},
   "source": [
    "# `ipython`\n",
    "> Set of utility functions to be used in Jupyter and Jupyter Lab notebooks.\n"
   ]
  },
  {
   "cell_type": "code",
   "execution_count": null,
   "id": "7c70747c",
   "metadata": {},
   "outputs": [],
   "source": [
    "#|default_exp ipython"
   ]
  },
  {
   "cell_type": "code",
   "execution_count": null,
   "id": "45f8c09e",
   "metadata": {},
   "outputs": [],
   "source": [
    "#| export\n",
    "from __future__ import annotations\n",
    "from IPython.core.getipython import get_ipython\n",
    "from IPython.display import display, Markdown, display_markdown\n",
    "from pathlib import Path\n",
    "from typing import Any, List\n",
    "\n",
    "import configparser\n",
    "import numpy as np\n",
    "import pandas as pd\n",
    "import subprocess\n",
    "import sys"
   ]
  },
  {
   "cell_type": "code",
   "execution_count": null,
   "id": "f7b58bca-64c9-44a3-87e2-b627b0ac432f",
   "metadata": {},
   "outputs": [],
   "source": [
    "#| hide\n",
    "from nbdev import show_doc, nbdev_export"
   ]
  },
  {
   "cell_type": "code",
   "execution_count": null,
   "id": "12098f5d",
   "metadata": {},
   "outputs": [],
   "source": [
    "#| export\n",
    "def nb_setup(autoreload:bool = True,   # True to set autoreload in this notebook\n",
    "             paths:list(Path) = None   # Paths to add to the path environment variable\n",
    "            ):\n",
    "    \"\"\"Use in first cell of notebook to set autoreload, and paths\"\"\"\n",
    "#   Add paths. Default is 'src' if it exists\n",
    "    if paths is None:\n",
    "        p = Path('../src').resolve().absolute()\n",
    "        if p.is_dir():\n",
    "            paths = [str(p)]\n",
    "        else:\n",
    "            paths=[]\n",
    "    if paths:\n",
    "        for p in paths:\n",
    "            sys.path.insert(1, str(p))\n",
    "        print(f\"Added following paths: {','.join(paths)}\")\n",
    "\n",
    "#   Setup auto reload\n",
    "    if autoreload:\n",
    "        ipshell = get_ipython()\n",
    "        ipshell.run_line_magic('load_ext',  'autoreload')\n",
    "        ipshell.run_line_magic('autoreload', '2')\n",
    "        print('Set autoreload mode')"
   ]
  },
  {
   "cell_type": "markdown",
   "id": "e34bee72",
   "metadata": {},
   "source": [
    "By default, `ipython.nb_setup()` \n",
    "- loads and set `autoreload`\n",
    "- adds a path to a directory named `src` when it exists at the same level as where the notebook directory is located. It no such `src` directory exists, no path is added\n",
    "\n",
    "`ipython.nb_setup` assumes the following file structure:\n",
    "\n",
    "```\n",
    "    project_directory\n",
    "          | --- notebooks\n",
    "          |        | --- current_nb.ipynb\n",
    "          |        | --- ...\n",
    "          |\n",
    "          |--- src\n",
    "          |     | --- scripts_to_import.py\n",
    "          |     | --- ...\n",
    "          |\n",
    "          |--- data\n",
    "          |     |\n",
    "          |     | ...\n",
    "```\n",
    "\n",
    "For other file structure, specify paths as a `list` of `Path`"
   ]
  },
  {
   "cell_type": "code",
   "execution_count": null,
   "id": "7b876ac2",
   "metadata": {},
   "outputs": [],
   "source": [
    "#| export\n",
    "def colab_install_project_code(\n",
    "    package_name:str # project package name, e.g. git+https://github.com/vtecftwy/metagentools.git@main\n",
    "):\n",
    "    \"\"\"When nb is running on colab, pip install the project code package\"\"\"\n",
    "    try:\n",
    "        from google.colab import drive\n",
    "        ON_COLAB = True\n",
    "        print('The notebook is running on colab')\n",
    "        print('Installing project code')\n",
    "        cmd = f\"pip install -U {package_name}\"\n",
    "        run(cmd)\n",
    "\n",
    "    except ModuleNotFoundError:\n",
    "        ON_COLAB = False\n",
    "        print('The notebook is running locally, will not automatically install project code')\n",
    "\n",
    "    return ON_COLAB"
   ]
  },
  {
   "cell_type": "markdown",
   "id": "1651f3d9",
   "metadata": {},
   "source": [
    "When using colab, the project code must be install every time from its github repo or from the Python Package Index (PyPI).\n",
    "\n",
    "When running locally, the project code should be pre-installed as part of the environment"
   ]
  },
  {
   "cell_type": "code",
   "execution_count": null,
   "id": "7f46495f",
   "metadata": {},
   "outputs": [
    {
     "name": "stdout",
     "output_type": "stream",
     "text": [
      "The notebook is running locally, will not automatically install project code\n"
     ]
    },
    {
     "data": {
      "text/plain": [
       "False"
      ]
     },
     "execution_count": null,
     "metadata": {},
     "output_type": "execute_result"
    }
   ],
   "source": [
    "colab_install_project_code(package_name='git+https://github.com/vtecftwy/metagentools.git@main')"
   ]
  },
  {
   "cell_type": "code",
   "execution_count": null,
   "id": "84a25cac",
   "metadata": {},
   "outputs": [],
   "source": [
    "#| export\n",
    "def files_in_tree(\n",
    "    path: str|Path,               # path to the directory to scan  \n",
    "    pattern: str|None = None      # pattern (glob style) to match in file name to filter the content\n",
    "):\n",
    "    \"\"\"List files in directory and its subdiretories, print tree starting from parent directory\"\"\"\n",
    "    pattern = '*' if pattern is None else f\"*{pattern}*\"\n",
    "    parents = [p.name for p in path.parents]\n",
    "    paths = []\n",
    "    pad = ' ' * 2\n",
    "    idx = 0\n",
    "    print(f\"{parents[0]}\")\n",
    "    print(f\"{pad}|--{path.name}\")\n",
    "    for f in [p for p in path.glob(pattern) if p.is_file()]:\n",
    "        paths.append(f)\n",
    "        print(f\"{pad}|{pad*2}|--{f.name} ({idx})\")\n",
    "        idx += 1\n",
    "    for d in [p for p in path.iterdir() if p.is_dir()]:\n",
    "        print(f\"{pad}|{pad*2}|--{d.name}\")\n",
    "        for f in [p for p in d.glob(pattern) if p.is_file()]:\n",
    "            paths.append(f)\n",
    "            print(f\"{pad}|{pad*2}|{pad*2}|--{f.name} ({idx})\")\n",
    "            idx += 1\n",
    "    return paths"
   ]
  },
  {
   "cell_type": "code",
   "execution_count": null,
   "id": "b133e58c",
   "metadata": {},
   "outputs": [
    {
     "name": "stdout",
     "output_type": "stream",
     "text": [
      "ecutilities\n",
      "  |--nbs-dev\n",
      "  |    |--0_02_plotting.ipynb (0)\n",
      "  |    |--2_01_image_utils.ipynb (1)\n",
      "  |    |--1_01_eda_stats_utils.ipynb (2)\n",
      "  |    |--0_01_ipython.ipynb (3)\n",
      "  |    |--.last_checked (4)\n",
      "  |    |--sidebar.yml (5)\n",
      "  |    |--1_02_ml.ipynb (6)\n",
      "  |    |--index.ipynb (7)\n",
      "  |    |--nbdev.yml (8)\n",
      "  |    |--9_01_dev_utils.ipynb (9)\n",
      "  |    |--styles.css (10)\n",
      "  |    |--_quarto.yml (11)\n",
      "  |    |--.ipynb_checkpoints\n",
      "  |    |    |--0_02_plotting-checkpoint.ipynb (12)\n",
      "  |    |    |--9_01_dev_utils-checkpoint.ipynb (13)\n",
      "  |    |    |--0_01_ipython-checkpoint.ipynb (14)\n",
      "  |    |    |--1_01_eda_stats_utils-checkpoint.ipynb (15)\n",
      "  |    |    |--index-checkpoint.ipynb (16)\n",
      "  |    |    |--2_01_image_utils-checkpoint.ipynb (17)\n",
      "  |    |    |--1_02_ml-checkpoint.ipynb (18)\n",
      "List of 19 files when unfiltered\n"
     ]
    }
   ],
   "source": [
    "p2dir = Path('').resolve()\n",
    "\n",
    "files = files_in_tree(p2dir)\n",
    "print(f\"List of {len(files)} files when unfiltered\")"
   ]
  },
  {
   "cell_type": "code",
   "execution_count": null,
   "id": "f68173af",
   "metadata": {},
   "outputs": [
    {
     "name": "stdout",
     "output_type": "stream",
     "text": [
      "ecutilities\n",
      "  |--nbs-dev\n",
      "  |    |--0_02_plotting.ipynb (0)\n",
      "  |    |--2_01_image_utils.ipynb (1)\n",
      "  |    |--1_01_eda_stats_utils.ipynb (2)\n",
      "  |    |--0_01_ipython.ipynb (3)\n",
      "  |    |--1_02_ml.ipynb (4)\n",
      "  |    |--index.ipynb (5)\n",
      "  |    |--9_01_dev_utils.ipynb (6)\n",
      "  |    |--.ipynb_checkpoints\n",
      "  |    |    |--0_02_plotting-checkpoint.ipynb (7)\n",
      "  |    |    |--9_01_dev_utils-checkpoint.ipynb (8)\n",
      "  |    |    |--0_01_ipython-checkpoint.ipynb (9)\n",
      "  |    |    |--1_01_eda_stats_utils-checkpoint.ipynb (10)\n",
      "  |    |    |--index-checkpoint.ipynb (11)\n",
      "  |    |    |--2_01_image_utils-checkpoint.ipynb (12)\n",
      "  |    |    |--1_02_ml-checkpoint.ipynb (13)\n",
      "List of 14 files when filtered\n"
     ]
    }
   ],
   "source": [
    "files = files_in_tree(p2dir, pattern='ipynb')\n",
    "print(f\"List of {len(files)} files when filtered\")"
   ]
  },
  {
   "cell_type": "code",
   "execution_count": null,
   "id": "0d4241eb",
   "metadata": {},
   "outputs": [],
   "source": [
    "#| export\n",
    "def display_mds(\n",
    "    *strings:str # any number of strings with text in markdown format\n",
    "):\n",
    "    \"\"\"Display one or several strings formatted in markdown format\"\"\"\n",
    "    for string in strings:\n",
    "        display_markdown(Markdown(data=string))"
   ]
  },
  {
   "cell_type": "code",
   "execution_count": null,
   "id": "946d19e5-5df1-473f-ad2f-5187d7547187",
   "metadata": {},
   "outputs": [
    {
     "data": {
      "text/markdown": [
       "**bold** and _italic_"
      ]
     },
     "metadata": {},
     "output_type": "display_data"
    }
   ],
   "source": [
    "display_mds('**bold** and _italic_')"
   ]
  },
  {
   "cell_type": "code",
   "execution_count": null,
   "id": "0aa9e8ff-d821-4432-8187-9efb6d954105",
   "metadata": {},
   "outputs": [
    {
     "data": {
      "text/markdown": [
       "**bold** and _italic_"
      ]
     },
     "metadata": {},
     "output_type": "display_data"
    },
    {
     "data": {
      "text/markdown": [
       "- bullet"
      ]
     },
     "metadata": {},
     "output_type": "display_data"
    },
    {
     "data": {
      "text/markdown": [
       "- bullet"
      ]
     },
     "metadata": {},
     "output_type": "display_data"
    },
    {
     "data": {
      "text/markdown": [
       "> Note: this is a note"
      ]
     },
     "metadata": {},
     "output_type": "display_data"
    }
   ],
   "source": [
    "display_mds('**bold** and _italic_',\n",
    "            '- bullet',\n",
    "            '- bullet',\n",
    "            '> Note: this is a note'\n",
    "           )"
   ]
  },
  {
   "cell_type": "code",
   "execution_count": null,
   "id": "0069ecfd",
   "metadata": {},
   "outputs": [],
   "source": [
    "#| export\n",
    "def display_dfs(*dfs:pd.DataFrame       # any number of Pandas DataFrames\n",
    "               ):\n",
    "    \"\"\"Display one or several DataFrame in a single cell output\"\"\"\n",
    "    for df in dfs:\n",
    "        display(df)"
   ]
  },
  {
   "cell_type": "code",
   "execution_count": null,
   "id": "325e5098-8f86-4244-bccd-6005893dc539",
   "metadata": {},
   "outputs": [
    {
     "data": {
      "text/html": [
       "<div>\n",
       "<style scoped>\n",
       "    .dataframe tbody tr th:only-of-type {\n",
       "        vertical-align: middle;\n",
       "    }\n",
       "\n",
       "    .dataframe tbody tr th {\n",
       "        vertical-align: top;\n",
       "    }\n",
       "\n",
       "    .dataframe thead th {\n",
       "        text-align: right;\n",
       "    }\n",
       "</style>\n",
       "<table border=\"1\" class=\"dataframe\">\n",
       "  <thead>\n",
       "    <tr style=\"text-align: right;\">\n",
       "      <th></th>\n",
       "      <th>0</th>\n",
       "      <th>1</th>\n",
       "      <th>2</th>\n",
       "      <th>3</th>\n",
       "      <th>4</th>\n",
       "    </tr>\n",
       "  </thead>\n",
       "  <tbody>\n",
       "    <tr>\n",
       "      <th>0</th>\n",
       "      <td>0.606404</td>\n",
       "      <td>1.514441</td>\n",
       "      <td>1.006457</td>\n",
       "      <td>-1.606369</td>\n",
       "      <td>1.656222</td>\n",
       "    </tr>\n",
       "    <tr>\n",
       "      <th>1</th>\n",
       "      <td>0.108780</td>\n",
       "      <td>-1.653024</td>\n",
       "      <td>-1.320576</td>\n",
       "      <td>-0.334409</td>\n",
       "      <td>0.398428</td>\n",
       "    </tr>\n",
       "    <tr>\n",
       "      <th>2</th>\n",
       "      <td>0.698610</td>\n",
       "      <td>0.630786</td>\n",
       "      <td>-0.094427</td>\n",
       "      <td>-0.850979</td>\n",
       "      <td>0.809060</td>\n",
       "    </tr>\n",
       "  </tbody>\n",
       "</table>\n",
       "</div>"
      ],
      "text/plain": [
       "          0         1         2         3         4\n",
       "0  0.606404  1.514441  1.006457 -1.606369  1.656222\n",
       "1  0.108780 -1.653024 -1.320576 -0.334409  0.398428\n",
       "2  0.698610  0.630786 -0.094427 -0.850979  0.809060"
      ]
     },
     "metadata": {},
     "output_type": "display_data"
    },
    {
     "data": {
      "text/html": [
       "<div>\n",
       "<style scoped>\n",
       "    .dataframe tbody tr th:only-of-type {\n",
       "        vertical-align: middle;\n",
       "    }\n",
       "\n",
       "    .dataframe tbody tr th {\n",
       "        vertical-align: top;\n",
       "    }\n",
       "\n",
       "    .dataframe thead th {\n",
       "        text-align: right;\n",
       "    }\n",
       "</style>\n",
       "<table border=\"1\" class=\"dataframe\">\n",
       "  <thead>\n",
       "    <tr style=\"text-align: right;\">\n",
       "      <th></th>\n",
       "      <th>0</th>\n",
       "      <th>1</th>\n",
       "      <th>2</th>\n",
       "      <th>3</th>\n",
       "      <th>4</th>\n",
       "      <th>5</th>\n",
       "      <th>6</th>\n",
       "      <th>7</th>\n",
       "      <th>8</th>\n",
       "      <th>9</th>\n",
       "    </tr>\n",
       "  </thead>\n",
       "  <tbody>\n",
       "    <tr>\n",
       "      <th>0</th>\n",
       "      <td>-0.769657</td>\n",
       "      <td>0.699641</td>\n",
       "      <td>0.230334</td>\n",
       "      <td>-1.014137</td>\n",
       "      <td>0.858768</td>\n",
       "      <td>0.096435</td>\n",
       "      <td>-0.479266</td>\n",
       "      <td>-0.504209</td>\n",
       "      <td>0.070906</td>\n",
       "      <td>-0.776876</td>\n",
       "    </tr>\n",
       "    <tr>\n",
       "      <th>1</th>\n",
       "      <td>-0.836383</td>\n",
       "      <td>0.830942</td>\n",
       "      <td>-0.953745</td>\n",
       "      <td>-0.669761</td>\n",
       "      <td>-0.126888</td>\n",
       "      <td>-0.176799</td>\n",
       "      <td>-0.418857</td>\n",
       "      <td>0.976723</td>\n",
       "      <td>3.131587</td>\n",
       "      <td>0.810725</td>\n",
       "    </tr>\n",
       "    <tr>\n",
       "      <th>2</th>\n",
       "      <td>-2.104103</td>\n",
       "      <td>0.481809</td>\n",
       "      <td>0.556296</td>\n",
       "      <td>1.808602</td>\n",
       "      <td>-0.165974</td>\n",
       "      <td>-0.688305</td>\n",
       "      <td>-0.451795</td>\n",
       "      <td>0.046845</td>\n",
       "      <td>-0.274624</td>\n",
       "      <td>-0.822890</td>\n",
       "    </tr>\n",
       "  </tbody>\n",
       "</table>\n",
       "</div>"
      ],
      "text/plain": [
       "          0         1         2         3         4         5         6  \\\n",
       "0 -0.769657  0.699641  0.230334 -1.014137  0.858768  0.096435 -0.479266   \n",
       "1 -0.836383  0.830942 -0.953745 -0.669761 -0.126888 -0.176799 -0.418857   \n",
       "2 -2.104103  0.481809  0.556296  1.808602 -0.165974 -0.688305 -0.451795   \n",
       "\n",
       "          7         8         9  \n",
       "0 -0.504209  0.070906 -0.776876  \n",
       "1  0.976723  3.131587  0.810725  \n",
       "2  0.046845 -0.274624 -0.822890  "
      ]
     },
     "metadata": {},
     "output_type": "display_data"
    }
   ],
   "source": [
    "df1 = pd.DataFrame(data=np.random.normal(size=(10,5)))\n",
    "df2 = pd.DataFrame(data=np.random.normal(size=(20,10)))\n",
    "\n",
    "display_dfs(df1.head(3), df2.head(3))"
   ]
  },
  {
   "cell_type": "code",
   "execution_count": null,
   "id": "d1555860",
   "metadata": {},
   "outputs": [],
   "source": [
    "#| export\n",
    "def run_cli(cmd:str = 'ls -l'   # command to execute in the cli\n",
    "           ):\n",
    "    \"\"\"Runs a cli command from jupyter notebook and print the shell output message\n",
    "    \n",
    "    Uses subprocess.run with passed command to run the cli command\"\"\"\n",
    "    p = subprocess.run(cmd, stdout=subprocess.PIPE, shell=True)\n",
    "    print(str(p.stdout, 'utf-8'))"
   ]
  },
  {
   "cell_type": "code",
   "execution_count": null,
   "id": "4eb71efd",
   "metadata": {},
   "outputs": [
    {
     "name": "stdout",
     "output_type": "stream",
     "text": [
      "/home/vtec/projects/ec-packages/ecutilities/nbs-dev\n",
      "\n"
     ]
    }
   ],
   "source": [
    "run_cli('pwd')"
   ]
  },
  {
   "cell_type": "code",
   "execution_count": null,
   "id": "e0fd8fef",
   "metadata": {},
   "outputs": [],
   "source": [
    "#| export\n",
    "def get_config_value(section:str,                        # section in the configparser cfg file\n",
    "                     key:str,                            # key in the selected section\n",
    "                     path_to_config_file:Path|str=None   # path to the cfg file\n",
    "                    )-> Any :                            # the value corresponding to section>key>value \n",
    "    \"\"\"Returns the value corresponding to the key-value pair in the configuration file (configparser format)\"\"\"\n",
    "    # validate path_to_config_file\n",
    "    if path_to_config_file is None:\n",
    "        path_to_config_file = Path('/content/gdrive/MyDrive/private-across-accounts/config-api-keys.cfg')\n",
    "    if isinstance(path_to_config_file, str): \n",
    "        path_to_config_file = Path(path_to_config_file)\n",
    "    if not path_to_config_file.is_file():\n",
    "        raise ValueError(f\"No file at {path_to_config_file.absolute()}. Check the path\")\n",
    "\n",
    "    configuration = configparser.ConfigParser()\n",
    "    configuration.read(path_to_config_file)\n",
    "    return configuration[section][key]"
   ]
  },
  {
   "cell_type": "markdown",
   "id": "1f135296",
   "metadata": {},
   "source": [
    "By defaults (`path_to_config_file is None`), it is assumed that the configuration file is located in the `private-accross-accounts directory` on google drive. If not, a path to the file (`Path` or `str`) must be provided.\n",
    "\n",
    "The configuration file is expected to be in the format used by the standard module `configparser` [documentation](https://docs.python.org/3/library/configparser.html)\n",
    "\n",
    "```ascii\n",
    "    [DEFAULT]\n",
    "    key = value\n",
    "\n",
    "    [section_name]\n",
    "    key = value\n",
    "\n",
    "    [section_name]\n",
    "    key = value\n",
    "```"
   ]
  },
  {
   "cell_type": "code",
   "execution_count": null,
   "id": "221fa417",
   "metadata": {},
   "outputs": [
    {
     "name": "stdout",
     "output_type": "stream",
     "text": [
      "[azure]\n",
      "azure-api-key= dummy_api_key_for_azure\n",
      "\n",
      "[kaggle]\n",
      "kaggle_username = not_my_real_kaggle_name\n",
      "kaggle_key = dummy_api_key_for_kaggle\n",
      "\n",
      "[wandb]\n",
      "api_key = dummy_api_key_for_wandb\n",
      "\n"
     ]
    }
   ],
   "source": [
    "path2cfg = Path('../config-sample.cfg').resolve()\n",
    "assert path2cfg.is_file(), f\"{path2cfg} is not a file\"\n",
    "\n",
    "with open(path2cfg, 'r') as fp:\n",
    "    print(fp.read())"
   ]
  },
  {
   "cell_type": "code",
   "execution_count": null,
   "id": "fa9e1fdd",
   "metadata": {},
   "outputs": [],
   "source": [
    "value = get_config_value(section='azure', key='azure-api-key', path_to_config_file=path2cfg)\n",
    "assert value == 'dummy_api_key_for_azure'"
   ]
  },
  {
   "cell_type": "code",
   "execution_count": null,
   "id": "9dbe5e0a",
   "metadata": {},
   "outputs": [],
   "source": [
    "value = get_config_value(section='kaggle', key='kaggle_username', path_to_config_file=path2cfg)\n",
    "assert value == 'not_my_real_kaggle_name'"
   ]
  },
  {
   "cell_type": "code",
   "execution_count": null,
   "id": "e016aa90",
   "metadata": {},
   "outputs": [],
   "source": [
    "value = get_config_value(section='wandb', key='api_key', path_to_config_file=path2cfg)\n",
    "assert value == 'dummy_api_key_for_wandb'"
   ]
  },
  {
   "cell_type": "code",
   "execution_count": null,
   "id": "49bf38dc",
   "metadata": {},
   "outputs": [],
   "source": []
  },
  {
   "cell_type": "code",
   "execution_count": null,
   "id": "5622ffa4",
   "metadata": {},
   "outputs": [],
   "source": [
    "#| hide\n",
    "nbdev_export()"
   ]
  }
 ],
 "metadata": {
  "kernelspec": {
   "display_name": "Python 3 (ipykernel)",
   "language": "python",
   "name": "python3"
  }
 },
 "nbformat": 4,
 "nbformat_minor": 5
}
