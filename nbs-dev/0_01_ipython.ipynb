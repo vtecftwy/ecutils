{
 "cells": [
  {
   "cell_type": "markdown",
   "id": "6d4ddf06-eb2f-469d-99fb-25ead3b85093",
   "metadata": {},
   "source": [
    "# `ipython`\n",
    "> Set of utility functions to be used in Jupyter and Jupyter Lab notebooks.\n"
   ]
  },
  {
   "cell_type": "code",
   "execution_count": null,
   "id": "7c70747c",
   "metadata": {},
   "outputs": [],
   "source": [
    "#|default_exp ipython"
   ]
  },
  {
   "cell_type": "code",
   "execution_count": null,
   "id": "45f8c09e",
   "metadata": {},
   "outputs": [],
   "source": [
    "#| export\n",
    "from __future__ import annotations\n",
    "from IPython.core.getipython import get_ipython\n",
    "from IPython.display import display, Markdown, display_markdown\n",
    "from pathlib import Path\n",
    "\n",
    "import sys"
   ]
  },
  {
   "cell_type": "code",
   "execution_count": null,
   "id": "0d4241eb",
   "metadata": {},
   "outputs": [],
   "source": [
    "#| export\n",
    "def display_mds(*strings):\n",
    "    \"\"\"\n",
    "    Utility function to display several strings formatted in markdown format\n",
    "\n",
    "    :param strings: any number of strings with text in markdown format\n",
    "    :return: None\n",
    "    \"\"\"\n",
    "    for string in strings:\n",
    "        display_markdown(Markdown(data=string))"
   ]
  },
  {
   "cell_type": "code",
   "execution_count": null,
   "id": "0069ecfd",
   "metadata": {},
   "outputs": [],
   "source": [
    "#| export\n",
    "def display_dfs(*dfs):\n",
    "    \"\"\"\n",
    "    Utility function to display several DataFrame with one operations\n",
    "    :param dfs: any number of Pandas DataFrames\n",
    "    :return: None\n",
    "    \"\"\"\n",
    "    for df in dfs:\n",
    "        display(df)"
   ]
  },
  {
   "cell_type": "code",
   "execution_count": null,
   "id": "3148436d",
   "metadata": {},
   "outputs": [],
   "source": [
    "#| export\n",
    "def nb_setup(autoreload=True, paths=None):\n",
    "    \"\"\"Use in first cell of nb for setting up autoreload, paths, ...\n",
    "\n",
    "    By default, nb_setup() loads and set autoreload and adds a path to a directory named 'src'\n",
    "    at the same level as where the notebook directory is located.\n",
    "\n",
    "    By default, nb_setup assumes the following file structure:\n",
    "\n",
    "    project_directory\n",
    "          | --- notebooks\n",
    "          |        | --- current_nb.ipynb\n",
    "          |        | --- ...\n",
    "          |\n",
    "          |--- src\n",
    "          |     | --- scripts_to_import.py\n",
    "          |     | --- ...\n",
    "          |\n",
    "          |--- data\n",
    "          |     |\n",
    "          |     | ...\n",
    "    \"\"\"\n",
    "#   Add paths. Default is 'src' if it exists\n",
    "    if paths is None:\n",
    "        p = Path('../src').resolve().absolute()\n",
    "        if p.is_dir():\n",
    "            paths = [str(p)]\n",
    "        else:\n",
    "            paths=[]\n",
    "    if paths:\n",
    "        for p in paths:\n",
    "            sys.path.insert(1, str(p))\n",
    "        print(f\"Added following paths: {','.join(paths)}\")\n",
    "\n",
    "#   Setup auto reload\n",
    "    if autoreload:\n",
    "        ipshell = get_ipython()\n",
    "        ipshell.run_line_magic('load_ext',  'autoreload')\n",
    "        ipshell.run_line_magic('autoreload', '2')\n",
    "        print('Set autoreload mode')"
   ]
  }
 ],
 "metadata": {
  "kernelspec": {
   "display_name": "Python 3 (ipykernel)",
   "language": "python",
   "name": "python3"
  }
 },
 "nbformat": 4,
 "nbformat_minor": 5
}
