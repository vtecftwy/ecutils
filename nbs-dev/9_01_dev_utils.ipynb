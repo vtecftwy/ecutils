{
 "cells": [
  {
   "cell_type": "markdown",
   "id": "0c710646-d53e-4ac2-9d88-e28db72bc0b4",
   "metadata": {},
   "source": [
    "# `dev_utils`\n",
    "> Classes and functions used in development phase."
   ]
  },
  {
   "cell_type": "code",
   "execution_count": null,
   "id": "ecc75122-6b71-441d-97e1-faa4a594e677",
   "metadata": {},
   "outputs": [],
   "source": [
    "#|default_exp dev_utils"
   ]
  },
  {
   "cell_type": "code",
   "execution_count": null,
   "id": "48bc1bbf",
   "metadata": {},
   "outputs": [],
   "source": [
    "#| hide\n",
    "from nbdev import show_doc, nbdev_export"
   ]
  },
  {
   "cell_type": "code",
   "execution_count": null,
   "id": "ef96615e-984e-4daf-b085-bd5f0df851d3",
   "metadata": {},
   "outputs": [],
   "source": [
    "#| export\n",
    "from __future__ import annotations\n",
    "from pathlib import Path\n",
    "from typing import Any\n",
    "import inspect\n",
    "import re\n",
    "import sys\n",
    "import functools"
   ]
  },
  {
   "cell_type": "markdown",
   "id": "b91d6b8e",
   "metadata": {},
   "source": [
    "# Tracing operations"
   ]
  },
  {
   "cell_type": "markdown",
   "id": "cb4701a6",
   "metadata": {},
   "source": [
    "Tools to more easily use `sys.settrace(tracefunc)`\n",
    "\n",
    "#### [Technical note](https://docs.python.org/3/library/sys.html#sys.settrace):\n",
    "\n",
    "Trace functions (`tracefunc`) should have three arguments: `frame`, `event`, and `arg`:\n",
    "\n",
    "- `frame` is the current stack frame. \n",
    "- `event` is a string: `'call'`, `'line'`, `'return'`, `'exception'` or `'opcode'`.\n",
    "- `arg` depends on the event type.\n",
    "\n",
    "Also see `inspect` built-in module ([doc](https://docs.python.org/3/library/inspect.html))"
   ]
  },
  {
   "cell_type": "code",
   "execution_count": null,
   "id": "a0a215b9",
   "metadata": {},
   "outputs": [
    {
     "name": "stdout",
     "output_type": "stream",
     "text": [
      "<frame at 0x7fb25deba980, file '/home/vtec/miniconda3/envs/ecutils/lib/python3.10/site-packages/ipykernel/parentpoller.py', line 37, code run>\n",
      "<frame at 0x2393ea0, file '/home/vtec/miniconda3/envs/ecutils/lib/python3.10/threading.py', line 320, code wait>\n",
      "<frame at 0x7fb25de62640, file '/home/vtec/miniconda3/envs/ecutils/lib/python3.10/selectors.py', line 469, code select>\n",
      "<frame at 0x7fb25de576a0, file '/home/vtec/miniconda3/envs/ecutils/lib/python3.10/site-packages/ipykernel/iostream.py', line 327, code _watch_pipe_fd>\n",
      "<frame at 0x7fb25de574d0, file '/home/vtec/miniconda3/envs/ecutils/lib/python3.10/site-packages/ipykernel/iostream.py', line 327, code _watch_pipe_fd>\n",
      "<frame at 0x7fb25de59120, file '/home/vtec/miniconda3/envs/ecutils/lib/python3.10/site-packages/ipykernel/heartbeat.py', line 103, code run>\n",
      "<frame at 0x7fb25de60640, file '/home/vtec/miniconda3/envs/ecutils/lib/python3.10/selectors.py', line 469, code select>\n",
      "<frame at 0x7fb250002860, file '/tmp/ipykernel_5147/3153447300.py', line 2, code <cell line: 2>>\n"
     ]
    }
   ],
   "source": [
    "#|hide\n",
    "frames = sys._current_frames()\n",
    "framesids = list(frames.keys())\n",
    "for id in framesids:\n",
    "    fr = frames[id]\n",
    "    print(fr)"
   ]
  },
  {
   "cell_type": "code",
   "execution_count": null,
   "id": "5a618f25",
   "metadata": {},
   "outputs": [],
   "source": [
    "#|hide\n",
    "# fr0 = frames[framesids[-1]]\n",
    "# fr1 = frames[framesids[-2]]\n",
    "\n",
    "# for frame in [fr0, fr1]:\n",
    "#     print(frame.f_code.co_name)\n",
    "#     print(frame.f_code.co_filename)\n",
    "#     print(frame.f_lineno)"
   ]
  },
  {
   "cell_type": "code",
   "execution_count": null,
   "id": "499b91d7",
   "metadata": {},
   "outputs": [],
   "source": [
    "#|hide\n",
    "# print(inspect.getsource(fr0))\n",
    "# print(inspect.getsource(fr1))"
   ]
  },
  {
   "cell_type": "markdown",
   "id": "a680defb",
   "metadata": {},
   "source": [
    "## Tracing Classes"
   ]
  },
  {
   "cell_type": "code",
   "execution_count": null,
   "id": "03f4b7ad-e1cf-49c1-bd5f-59c7c4a93652",
   "metadata": {},
   "outputs": [],
   "source": [
    "#| export\n",
    "class StackTrace():\n",
    "    \"\"\"Callable class acting as `tracefunc` to capture and print information on all stack frame being run\"\"\"\n",
    "    def __init__(self, \n",
    "                 with_call:bool=True,       # when True, `call` events are traced\n",
    "                 with_return:bool=True,     # when True, `return` events are traced\n",
    "                 with_exception:bool=True,  # when True, `exceptions` events are traced\n",
    "                 max_depth:int=-1           # maximum depth of the trace, default is full depth\n",
    "                ):\n",
    "        self._frame_dict = {}\n",
    "        self._options = set()\n",
    "        self._max_depth = max_depth\n",
    "        if with_call: self._options.add('call')\n",
    "        if with_return: self._options.add('return')\n",
    "        if with_exception: self._options.add('exception')\n",
    "\n",
    "    def __call__(self, \n",
    "                 frame: inspect.FrameInfo,       # `frame` argument in tracefunc\n",
    "                 event:str,   # `event` argument in tracefunc\n",
    "                 arg:Any,     # `arg` argument in tracefunc\n",
    "                ):\n",
    "        \"\"\"`tracefunc`used in `sys.settrace(tracefunc)`\"\"\"\n",
    "        ret = []\n",
    "        co_name = frame.f_code.co_name\n",
    "        co_filename = frame.f_code.co_filename\n",
    "        co_lineno = frame.f_lineno\n",
    "        if event == 'call':\n",
    "            back_frame = frame.f_back\n",
    "            if back_frame in self._frame_dict:\n",
    "                self._frame_dict[frame] = self._frame_dict[back_frame] + 1\n",
    "            else:\n",
    "                self._frame_dict[frame] = 0\n",
    "\n",
    "        depth = self._frame_dict[frame]\n",
    "\n",
    "        if event in self._options and (self._max_depth < 0 or depth <= self._max_depth):\n",
    "            ret.append(co_name)\n",
    "            ret.append(f'[{event}]')\n",
    "            if event == 'return':\n",
    "                ret.append(arg)\n",
    "            elif event == 'exception':\n",
    "                ret.append(repr(arg[0]))\n",
    "            ret.append(f'in {co_filename} line:{co_lineno}')\n",
    "        if ret:\n",
    "            self.print_stack_info(co_filename, ret, depth)\n",
    "        return self\n",
    "\n",
    "    def print_stack_info(self, \n",
    "                         co_filename:str|Path, # code file name\n",
    "                         ret:bool, # \n",
    "                         depth:int, # depth\n",
    "                        ):\n",
    "        \"\"\"This methods can be overloaded to customize what is printed out\"\"\"\n",
    "        text = '\\t'.join([str(i) for i in ret])\n",
    "        print(f\"{'  ' * depth}{text}\")"
   ]
  },
  {
   "cell_type": "code",
   "execution_count": null,
   "id": "ad8dc8e6",
   "metadata": {},
   "outputs": [
    {
     "data": {
      "text/markdown": [
       "---\n",
       "\n",
       "[source](https://github.com/vtecftwy/ecutils/blob/master/ecutilities/dev_utils.py#L31){target=\"_blank\" style=\"float:right; font-size:smaller\"}\n",
       "\n",
       "### StackTrace.__call__\n",
       "\n",
       ">      StackTrace.__call__ (frame:inspect.FrameInfo, event:str, arg:Any)\n",
       "\n",
       "`tracefunc`used in `sys.settrace(tracefunc)`\n",
       "\n",
       "|    | **Type** | **Details** |\n",
       "| -- | -------- | ----------- |\n",
       "| frame | inspect.FrameInfo | `frame` argument in tracefunc |\n",
       "| event | str | `event` argument in tracefunc |\n",
       "| arg | Any | `arg` argument in tracefunc |"
      ],
      "text/plain": [
       "---\n",
       "\n",
       "[source](https://github.com/vtecftwy/ecutils/blob/master/ecutilities/dev_utils.py#L31){target=\"_blank\" style=\"float:right; font-size:smaller\"}\n",
       "\n",
       "### StackTrace.__call__\n",
       "\n",
       ">      StackTrace.__call__ (frame:inspect.FrameInfo, event:str, arg:Any)\n",
       "\n",
       "`tracefunc`used in `sys.settrace(tracefunc)`\n",
       "\n",
       "|    | **Type** | **Details** |\n",
       "| -- | -------- | ----------- |\n",
       "| frame | inspect.FrameInfo | `frame` argument in tracefunc |\n",
       "| event | str | `event` argument in tracefunc |\n",
       "| arg | Any | `arg` argument in tracefunc |"
      ]
     },
     "execution_count": null,
     "metadata": {},
     "output_type": "execute_result"
    }
   ],
   "source": [
    "show_doc(StackTrace.__call__)"
   ]
  },
  {
   "cell_type": "code",
   "execution_count": null,
   "id": "46b2043b",
   "metadata": {},
   "outputs": [
    {
     "data": {
      "text/markdown": [
       "---\n",
       "\n",
       "[source](https://github.com/vtecftwy/ecutils/blob/master/ecutilities/dev_utils.py#L62){target=\"_blank\" style=\"float:right; font-size:smaller\"}\n",
       "\n",
       "### StackTrace.print_stack_info\n",
       "\n",
       ">      StackTrace.print_stack_info (co_filename:str|pathlib.Path, ret:bool,\n",
       ">                                   depth:int)\n",
       "\n",
       "This methods can be overloaded to customize what is printed out\n",
       "\n",
       "|    | **Type** | **Details** |\n",
       "| -- | -------- | ----------- |\n",
       "| co_filename | str \\| Path | code file name |\n",
       "| ret | bool |  |\n",
       "| depth | int | depth |"
      ],
      "text/plain": [
       "---\n",
       "\n",
       "[source](https://github.com/vtecftwy/ecutils/blob/master/ecutilities/dev_utils.py#L62){target=\"_blank\" style=\"float:right; font-size:smaller\"}\n",
       "\n",
       "### StackTrace.print_stack_info\n",
       "\n",
       ">      StackTrace.print_stack_info (co_filename:str|pathlib.Path, ret:bool,\n",
       ">                                   depth:int)\n",
       "\n",
       "This methods can be overloaded to customize what is printed out\n",
       "\n",
       "|    | **Type** | **Details** |\n",
       "| -- | -------- | ----------- |\n",
       "| co_filename | str \\| Path | code file name |\n",
       "| ret | bool |  |\n",
       "| depth | int | depth |"
      ]
     },
     "execution_count": null,
     "metadata": {},
     "output_type": "execute_result"
    }
   ],
   "source": [
    "show_doc(StackTrace.print_stack_info)"
   ]
  },
  {
   "cell_type": "code",
   "execution_count": null,
   "id": "f0e0f6bc-95f6-44dc-944b-b3c00fec2d17",
   "metadata": {},
   "outputs": [],
   "source": [
    "#| export\n",
    "class StackTraceJupyter(StackTrace):\n",
    "    \"\"\"Print stack frame information in Jupyter notebook context (filters out jupyter overhead)\"\"\"\n",
    "\n",
    "    def print_stack_info(self, \n",
    "                         co_filename, \n",
    "                         ret, \n",
    "                         depth\n",
    "                        ):\n",
    "        \"\"\"Overload the base class to filter out those calls to Jupyter overhead functions\"\"\"\n",
    "\n",
    "        EXCL_LIBS = ['encodings.*', 'ntpath.*', 'threading.*', 'weakref.*']\n",
    "        EXCL_SITE_PACKAGES = ['colorama', 'ipykernel', 'zmq']\n",
    "\n",
    "        PATH_TO_LIBS_RE = r'^[a-zA-Z]:\\\\([^<>:\\\"/\\\\|?\\*]*)\\\\envs\\\\([^<>:\\\"/\\\\|?\\*]*)\\\\lib'\n",
    "        LIBS = f\"{'|'.join(EXCL_LIBS)}\"\n",
    "        SITE_PACKAGES = f\"{'|'.join(EXCL_SITE_PACKAGES)}\"\n",
    "        MODULE_FILTERS_RE = rf\"{PATH_TO_LIBS_RE}\\\\(({LIBS})|(site-packages\\\\({SITE_PACKAGES}))\\\\.*)\"\n",
    "\n",
    "        pat = re.compile(MODULE_FILTERS_RE)\n",
    "        match = pat.match(co_filename)\n",
    "        \n",
    "        if match is None:\n",
    "            \"\"\"Only print stack frame info for those objects where there is no match\"\"\"\n",
    "            text = '\\t'.join([str(i) for i in ret])\n",
    "            print(f\"{'  ' * depth}{text}\")"
   ]
  },
  {
   "cell_type": "markdown",
   "id": "7fef2428",
   "metadata": {},
   "source": [
    "## Tracing decorator"
   ]
  },
  {
   "cell_type": "code",
   "execution_count": null,
   "id": "779d490d-5084-45fe-8408-8e5498623122",
   "metadata": {},
   "outputs": [],
   "source": [
    "#| export\n",
    "def stack_trace(**kw):\n",
    "    \"\"\"`stack_trace` decorator function\"\"\"\n",
    "    def entangle(func):\n",
    "        @functools.wraps(func)\n",
    "        def wrapper(*args, **kwargs):\n",
    "            # st = StackTrace(**kw)\n",
    "            st = StackTrace(**kw)\n",
    "            sys.settrace(st)\n",
    "            try:\n",
    "                return func(*args, **kwargs)\n",
    "            finally:\n",
    "                sys.settrace(None)\n",
    "        return wrapper\n",
    "    return entangle"
   ]
  },
  {
   "cell_type": "code",
   "execution_count": null,
   "id": "7be04ebb-afc0-4b30-9533-ea5627046006",
   "metadata": {},
   "outputs": [],
   "source": [
    "#| export\n",
    "def stack_trace_jupyter(**kw):\n",
    "    \"\"\"`stack_trace_jupyter`  decorator function\"\"\"\n",
    "    def entangle(func):\n",
    "        @functools.wraps(func)\n",
    "        def wrapper(*args, **kwargs):\n",
    "            # st = StackTrace(**kw)\n",
    "            st = StackTraceJupyter(**kw)\n",
    "            sys.settrace(st)\n",
    "            try:\n",
    "                return func(*args, **kwargs)\n",
    "            finally:\n",
    "                sys.settrace(None)\n",
    "        return wrapper\n",
    "    return entangle"
   ]
  },
  {
   "cell_type": "markdown",
   "id": "bcc23524",
   "metadata": {},
   "source": [
    "#### Usage:\n",
    "\n",
    "Several functions, some of them nested and some of them with errors."
   ]
  },
  {
   "cell_type": "code",
   "execution_count": null,
   "id": "2d474966",
   "metadata": {},
   "outputs": [],
   "source": [
    "def emtpy_func():\n",
    "        pass\n",
    "\n",
    "def call_empty_and_return_zero():\n",
    "    emtpy_func()\n",
    "    return 0\n",
    "\n",
    "def divide_by_zero_error():\n",
    "    1/0\n",
    "\n",
    "def decrement_recursion(i):\n",
    "    if i == 0:\n",
    "        return\n",
    "    decrement_recursion(i-1)"
   ]
  },
  {
   "cell_type": "markdown",
   "id": "ef46693c",
   "metadata": {},
   "source": [
    "Using the `@stack_trace` or `@stack_trace_jupyter` decorator allows a detailled view the trace function by function and where it fails."
   ]
  },
  {
   "cell_type": "code",
   "execution_count": null,
   "id": "4552a4a9",
   "metadata": {},
   "outputs": [
    {
     "name": "stdout",
     "output_type": "stream",
     "text": [
      "test\t[call]\tin /tmp/ipykernel_5147/2140146445.py line:1\n",
      "  call_empty_and_return_zero\t[call]\tin /tmp/ipykernel_5147/1397377402.py line:4\n",
      "    emtpy_func\t[call]\tin /tmp/ipykernel_5147/1397377402.py line:1\n",
      "    emtpy_func\t[return]\tNone\tin /tmp/ipykernel_5147/1397377402.py line:2\n",
      "  call_empty_and_return_zero\t[return]\t0\tin /tmp/ipykernel_5147/1397377402.py line:6\n",
      "  decrement_recursion\t[call]\tin /tmp/ipykernel_5147/1397377402.py line:11\n",
      "    decrement_recursion\t[call]\tin /tmp/ipykernel_5147/1397377402.py line:11\n",
      "      decrement_recursion\t[call]\tin /tmp/ipykernel_5147/1397377402.py line:11\n",
      "        decrement_recursion\t[call]\tin /tmp/ipykernel_5147/1397377402.py line:11\n",
      "          decrement_recursion\t[call]\tin /tmp/ipykernel_5147/1397377402.py line:11\n",
      "            decrement_recursion\t[call]\tin /tmp/ipykernel_5147/1397377402.py line:11\n",
      "            decrement_recursion\t[return]\tNone\tin /tmp/ipykernel_5147/1397377402.py line:13\n",
      "          decrement_recursion\t[return]\tNone\tin /tmp/ipykernel_5147/1397377402.py line:14\n",
      "        decrement_recursion\t[return]\tNone\tin /tmp/ipykernel_5147/1397377402.py line:14\n",
      "      decrement_recursion\t[return]\tNone\tin /tmp/ipykernel_5147/1397377402.py line:14\n",
      "    decrement_recursion\t[return]\tNone\tin /tmp/ipykernel_5147/1397377402.py line:14\n",
      "  decrement_recursion\t[return]\tNone\tin /tmp/ipykernel_5147/1397377402.py line:14\n",
      "  divide_by_zero_error\t[call]\tin /tmp/ipykernel_5147/1397377402.py line:8\n",
      "  divide_by_zero_error\t[exception]\t<class 'ZeroDivisionError'>\tin /tmp/ipykernel_5147/1397377402.py line:9\n",
      "  divide_by_zero_error\t[return]\tNone\tin /tmp/ipykernel_5147/1397377402.py line:9\n",
      "test\t[exception]\t<class 'ZeroDivisionError'>\tin /tmp/ipykernel_5147/2140146445.py line:5\n",
      "test\t[return]\tNone\tin /tmp/ipykernel_5147/2140146445.py line:5\n",
      "message error will appear here\n"
     ]
    }
   ],
   "source": [
    "@stack_trace(with_return=True, with_exception=True, max_depth=10)\n",
    "def test():\n",
    "    call_empty_and_return_zero()\n",
    "    decrement_recursion(5)\n",
    "    divide_by_zero_error()\n",
    "\n",
    "try:\n",
    "    test()\n",
    "except ZeroDivisionError:\n",
    "    print('message error will appear here')"
   ]
  },
  {
   "cell_type": "code",
   "execution_count": null,
   "id": "361fb765",
   "metadata": {},
   "outputs": [
    {
     "name": "stdout",
     "output_type": "stream",
     "text": [
      "test_jupyter\t[call]\tin /tmp/ipykernel_5147/2750540191.py line:1\n",
      "  call_empty_and_return_zero\t[call]\tin /tmp/ipykernel_5147/1397377402.py line:4\n",
      "    emtpy_func\t[call]\tin /tmp/ipykernel_5147/1397377402.py line:1\n",
      "    emtpy_func\t[return]\tNone\tin /tmp/ipykernel_5147/1397377402.py line:2\n",
      "  call_empty_and_return_zero\t[return]\t0\tin /tmp/ipykernel_5147/1397377402.py line:6\n",
      "  decrement_recursion\t[call]\tin /tmp/ipykernel_5147/1397377402.py line:11\n",
      "    decrement_recursion\t[call]\tin /tmp/ipykernel_5147/1397377402.py line:11\n",
      "      decrement_recursion\t[call]\tin /tmp/ipykernel_5147/1397377402.py line:11\n",
      "        decrement_recursion\t[call]\tin /tmp/ipykernel_5147/1397377402.py line:11\n",
      "          decrement_recursion\t[call]\tin /tmp/ipykernel_5147/1397377402.py line:11\n",
      "          decrement_recursion\t[return]\tNone\tin /tmp/ipykernel_5147/1397377402.py line:14\n",
      "        decrement_recursion\t[return]\tNone\tin /tmp/ipykernel_5147/1397377402.py line:14\n",
      "      decrement_recursion\t[return]\tNone\tin /tmp/ipykernel_5147/1397377402.py line:14\n",
      "    decrement_recursion\t[return]\tNone\tin /tmp/ipykernel_5147/1397377402.py line:14\n",
      "  decrement_recursion\t[return]\tNone\tin /tmp/ipykernel_5147/1397377402.py line:14\n",
      "  divide_by_zero_error\t[call]\tin /tmp/ipykernel_5147/1397377402.py line:8\n",
      "  divide_by_zero_error\t[exception]\t<class 'ZeroDivisionError'>\tin /tmp/ipykernel_5147/1397377402.py line:9\n",
      "  divide_by_zero_error\t[return]\tNone\tin /tmp/ipykernel_5147/1397377402.py line:9\n",
      "test_jupyter\t[exception]\t<class 'ZeroDivisionError'>\tin /tmp/ipykernel_5147/2750540191.py line:5\n",
      "test_jupyter\t[return]\tNone\tin /tmp/ipykernel_5147/2750540191.py line:5\n",
      "message error will appear here\n"
     ]
    }
   ],
   "source": [
    "@stack_trace_jupyter(with_return=True, with_exception=True, max_depth=5)\n",
    "def test_jupyter():\n",
    "    call_empty_and_return_zero()\n",
    "    decrement_recursion(5)\n",
    "    divide_by_zero_error()\n",
    "\n",
    "try:\n",
    "    test_jupyter()\n",
    "except ZeroDivisionError:\n",
    "    print('message error will appear here')"
   ]
  },
  {
   "cell_type": "code",
   "execution_count": null,
   "id": "da8bebbc",
   "metadata": {},
   "outputs": [],
   "source": [
    "#| hide\n",
    "nbdev_export()"
   ]
  }
 ],
 "metadata": {
  "kernelspec": {
   "display_name": "Python 3 (ipykernel)",
   "language": "python",
   "name": "python3"
  }
 },
 "nbformat": 4,
 "nbformat_minor": 5
}
