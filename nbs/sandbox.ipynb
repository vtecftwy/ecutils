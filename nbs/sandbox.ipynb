{
 "cells": [
  {
   "cell_type": "code",
   "execution_count": null,
   "id": "52e5bd62",
   "metadata": {},
   "outputs": [],
   "source": [
    "from nbdev.config import get_config"
   ]
  },
  {
   "cell_type": "code",
   "execution_count": null,
   "id": "82470e47",
   "metadata": {},
   "outputs": [
    {
     "data": {
      "text/plain": [
       "{'host': 'github', 'lib_name': 'ecutils', 'user': 'vtecftwy', 'description': 'Set of utility functions used on regular basis', 'keywords': 'development', 'author': 'Etienne', 'author_email': 'github@procurasia.com', 'copyright': 'procurasia limited', 'branch': 'master', 'version': '1.1.dev1', 'min_python': '3.8', 'audience': 'Developers', 'language': 'English', 'custom_sidebar': 'False', 'license': 'MIT', 'status': '2', 'nbs_path': 'nbs-dev', 'doc_path': 'docs', 'recursive': 'False', 'doc_baseurl': '/ecutils/', 'git_url': 'https://github.com/vtecftwy/ecutils/tree/master/', 'lib_path': 'ecutils', 'title': 'ecutils', 'doc_host': 'https://vtecftwy.github.io', 'requirements': 'matplotlib numpy pandas scipy ipython', 'tst_flags': 'notest', 'black_formatting': 'False', 'readme_nb': 'index.ipynb', 'allowed_metadata_keys': '', 'allowed_cell_metadata_keys': '', 'jupyter_hooks': 'True', 'clean_ids': 'True', 'clear_all': 'False', 'put_version_in_init': 'True'}"
      ]
     },
     "execution_count": null,
     "metadata": {},
     "output_type": "execute_result"
    }
   ],
   "source": [
    "get_config()"
   ]
  },
  {
   "cell_type": "code",
   "execution_count": null,
   "id": "43c6c15b",
   "metadata": {},
   "outputs": [
    {
     "ename": "SyntaxError",
     "evalue": "from __future__ imports must occur at the beginning of the file (plotting.py, line 8)",
     "output_type": "error",
     "traceback": [
      "Traceback \u001b[0;36m(most recent call last)\u001b[0m:\n",
      "  File \u001b[1;32m~/miniconda3/envs/ecutils/lib/python3.10/site-packages/IPython/core/interactiveshell.py:3398\u001b[0m in \u001b[1;35mrun_code\u001b[0m\n    exec(code_obj, self.user_global_ns, self.user_ns)\n",
      "\u001b[0;36m  Input \u001b[0;32mIn [3]\u001b[0;36m in \u001b[0;35m<cell line: 1>\u001b[0;36m\u001b[0m\n\u001b[0;31m    from ecutils.plotting import *\u001b[0m\n",
      "\u001b[0;36m  File \u001b[0;32m~/projects/ec-packages/ec-utils/ecutils/plotting.py:8\u001b[0;36m\u001b[0m\n\u001b[0;31m    from __future__ import annotations\u001b[0m\n\u001b[0m    ^\u001b[0m\n\u001b[0;31mSyntaxError\u001b[0m\u001b[0;31m:\u001b[0m from __future__ imports must occur at the beginning of the file\n"
     ]
    }
   ],
   "source": [
    "from ecutils.plotting import *"
   ]
  }
 ],
 "metadata": {
  "kernelspec": {
   "display_name": "Python 3 (ipykernel)",
   "language": "python",
   "name": "python3"
  }
 },
 "nbformat": 4,
 "nbformat_minor": 5
}
