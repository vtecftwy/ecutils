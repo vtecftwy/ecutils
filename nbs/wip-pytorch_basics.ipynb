{
 "cells": [
  {
   "cell_type": "code",
   "execution_count": null,
   "id": "b50117d4",
   "metadata": {},
   "outputs": [],
   "source": [
    "import matplotlib.pyplot as plt\n",
    "import torch"
   ]
  },
  {
   "cell_type": "markdown",
   "id": "85e577b2",
   "metadata": {},
   "source": [
    "## Create model with named layers"
   ]
  },
  {
   "cell_type": "code",
   "execution_count": null,
   "id": "9918b952",
   "metadata": {},
   "outputs": [],
   "source": [
    "class MyModel(torch.nn.Module):\n",
    "\n",
    "    def __init__(self):\n",
    "        super().__init__()\n",
    "\n",
    "        self.linear_1 = torch.nn.Linear(in_features=100, out_features=200)\n",
    "        self.activation = torch.nn.ReLU()\n",
    "        self.linear_2 = torch.nn.Linear(200, 10)\n",
    "        self.softmax = torch.nn.Softmax(dim=1)\n",
    "\n",
    "    def forward(self, x):\n",
    "        x = self.linear_1(x)\n",
    "        x = self.activation(x)\n",
    "        x = self.linear_2(x)\n",
    "        x = self.softmax(x)\n",
    "        return x\n",
    "\n",
    "m = MyModel()"
   ]
  },
  {
   "cell_type": "code",
   "execution_count": null,
   "id": "2402b266",
   "metadata": {},
   "outputs": [
    {
     "data": {
      "text/plain": [
       "MyModel(\n",
       "  (linear_1): Linear(in_features=100, out_features=200, bias=True)\n",
       "  (activation): ReLU()\n",
       "  (linear_2): Linear(in_features=200, out_features=10, bias=True)\n",
       "  (softmax): Softmax(dim=None)\n",
       ")"
      ]
     },
     "execution_count": null,
     "metadata": {},
     "output_type": "execute_result"
    }
   ],
   "source": [
    "m"
   ]
  },
  {
   "cell_type": "code",
   "execution_count": null,
   "id": "5788d287",
   "metadata": {},
   "outputs": [
    {
     "name": "stdout",
     "output_type": "stream",
     "text": [
      "('linear_1', Linear(in_features=100, out_features=200, bias=True))\n",
      "('activation', ReLU())\n",
      "('linear_2', Linear(in_features=200, out_features=10, bias=True))\n",
      "('softmax', Softmax(dim=None))\n"
     ]
    }
   ],
   "source": [
    "for l in m.named_children():\n",
    "    print(l)"
   ]
  },
  {
   "cell_type": "code",
   "execution_count": null,
   "id": "30d69ebd",
   "metadata": {},
   "outputs": [
    {
     "name": "stdout",
     "output_type": "stream",
     "text": [
      "Linear(in_features=100, out_features=200, bias=True)\n",
      "ReLU()\n",
      "Linear(in_features=200, out_features=10, bias=True)\n",
      "Softmax(dim=None)\n"
     ]
    }
   ],
   "source": [
    "for l in m.children():\n",
    "    print(l)"
   ]
  },
  {
   "cell_type": "code",
   "execution_count": null,
   "id": "d52a7719",
   "metadata": {},
   "outputs": [
    {
     "name": "stdout",
     "output_type": "stream",
     "text": [
      "Linear(in_features=100, out_features=200, bias=True)\n",
      "Linear(in_features=100, out_features=200, bias=True)\n"
     ]
    }
   ],
   "source": [
    "print(m.linear_1)\n",
    "print(m.get_submodule('linear_1'))"
   ]
  },
  {
   "cell_type": "code",
   "execution_count": null,
   "id": "d1dd9df8",
   "metadata": {},
   "outputs": [
    {
     "data": {
      "text/plain": [
       "(100, 200, [('', Linear(in_features=100, out_features=200, bias=True))])"
      ]
     },
     "execution_count": null,
     "metadata": {},
     "output_type": "execute_result"
    }
   ],
   "source": [
    "m.linear_1.in_features, m.linear_1.out_features, list(m.linear_1.named_modules())"
   ]
  },
  {
   "cell_type": "code",
   "execution_count": null,
   "id": "51987d7a",
   "metadata": {},
   "outputs": [
    {
     "name": "stdout",
     "output_type": "stream",
     "text": [
      "Model params:\n",
      "Parameter containing:\n",
      "tensor([[ 0.0992, -0.0085, -0.0423,  ...,  0.0534,  0.0739, -0.0606],\n",
      "        [-0.0435, -0.0787, -0.0085,  ...,  0.0607,  0.0159,  0.0021],\n",
      "        [-0.0813,  0.0046,  0.0432,  ..., -0.0574, -0.0340,  0.0947],\n",
      "        ...,\n",
      "        [-0.0057,  0.0755, -0.0454,  ...,  0.0340,  0.0850,  0.0471],\n",
      "        [ 0.0794,  0.0841, -0.0531,  ...,  0.0933, -0.0531,  0.0922],\n",
      "        [ 0.0648, -0.0208, -0.0251,  ..., -0.0537,  0.0776,  0.0120]],\n",
      "       requires_grad=True)\n",
      "Parameter containing:\n",
      "tensor([-0.0532, -0.0107,  0.0859,  0.0288, -0.0155,  0.0267, -0.0251, -0.0459,\n",
      "         0.0131, -0.0018,  0.0719, -0.0793, -0.0032, -0.0140,  0.0023,  0.0302,\n",
      "        -0.0545,  0.0561, -0.0597, -0.0661,  0.0587,  0.0599, -0.0679,  0.0853,\n",
      "         0.0637,  0.0080, -0.0356, -0.0050, -0.0012, -0.0005,  0.0817, -0.0057,\n",
      "         0.0233,  0.0531, -0.0648, -0.0764,  0.0209, -0.0043,  0.0144, -0.0737,\n",
      "         0.0751, -0.0852,  0.0530, -0.0418, -0.0419,  0.0480, -0.0207,  0.0310,\n",
      "         0.0569, -0.0389, -0.0539, -0.0345, -0.0423,  0.0358,  0.0297,  0.0231,\n",
      "         0.0745,  0.0189,  0.0001, -0.0526, -0.0190,  0.0897,  0.0729, -0.0076,\n",
      "        -0.0688, -0.0110, -0.0238,  0.0815, -0.0153,  0.0934, -0.0856,  0.0171,\n",
      "        -0.0647,  0.0820,  0.0726,  0.0846, -0.0595,  0.0889, -0.0704, -0.0681,\n",
      "        -0.0550, -0.0035, -0.0105,  0.0479, -0.0936, -0.0280,  0.0476,  0.0388,\n",
      "        -0.0391,  0.0522, -0.0304, -0.0574,  0.0979,  0.0496,  0.0866, -0.0170,\n",
      "         0.0481,  0.0891,  0.0375,  0.0841, -0.0151, -0.0066, -0.0394, -0.0108,\n",
      "        -0.0876, -0.0167,  0.0583, -0.0035, -0.0286, -0.0768,  0.0431, -0.0673,\n",
      "        -0.0651, -0.0421, -0.0380,  0.0574,  0.0021, -0.0570,  0.0460,  0.0146,\n",
      "         0.0287, -0.0344, -0.0857, -0.0319,  0.0459,  0.0180, -0.0934, -0.0801,\n",
      "        -0.0732,  0.0106,  0.0695,  0.0159,  0.0673, -0.0507, -0.0506,  0.0273,\n",
      "        -0.0302, -0.0888,  0.0511, -0.0948, -0.0752,  0.0125, -0.0392, -0.0669,\n",
      "         0.0624,  0.0515, -0.0954, -0.0373,  0.0881,  0.0010,  0.0234,  0.0185,\n",
      "        -0.0933, -0.0376,  0.0220, -0.0518, -0.0247, -0.0687, -0.0535,  0.0860,\n",
      "         0.0739,  0.0324, -0.0954,  0.0823, -0.0123, -0.0522, -0.0172,  0.0182,\n",
      "        -0.0984,  0.0703, -0.0594, -0.0850, -0.0242, -0.0432, -0.0517,  0.0813,\n",
      "        -0.0025, -0.0984,  0.0439, -0.0127,  0.0101, -0.0761, -0.0735, -0.0533,\n",
      "         0.0456, -0.0949, -0.0268,  0.0892,  0.0505, -0.0279,  0.0802,  0.0181,\n",
      "         0.0854,  0.0047, -0.0358,  0.0750,  0.0284, -0.0685, -0.0081, -0.0446],\n",
      "       requires_grad=True)\n",
      "Parameter containing:\n",
      "tensor([[ 0.0613, -0.0123, -0.0162,  ..., -0.0064, -0.0253, -0.0391],\n",
      "        [ 0.0620,  0.0562,  0.0555,  ..., -0.0031,  0.0603,  0.0464],\n",
      "        [-0.0678,  0.0338,  0.0234,  ...,  0.0028, -0.0502,  0.0348],\n",
      "        ...,\n",
      "        [ 0.0018, -0.0046, -0.0492,  ..., -0.0221,  0.0603,  0.0377],\n",
      "        [ 0.0460,  0.0230,  0.0396,  ...,  0.0208,  0.0684, -0.0253],\n",
      "        [ 0.0685, -0.0433,  0.0125,  ..., -0.0089,  0.0692,  0.0337]],\n",
      "       requires_grad=True)\n",
      "Parameter containing:\n",
      "tensor([ 0.0570, -0.0169,  0.0448,  0.0683,  0.0174, -0.0411,  0.0676, -0.0325,\n",
      "        -0.0085, -0.0409], requires_grad=True)\n"
     ]
    }
   ],
   "source": [
    "print('Model params:')\n",
    "for param in m.parameters():\n",
    "    print(param)"
   ]
  },
  {
   "cell_type": "code",
   "execution_count": null,
   "id": "f2d217a7",
   "metadata": {},
   "outputs": [
    {
     "name": "stdout",
     "output_type": "stream",
     "text": [
      "Layer params:\n",
      "Parameter containing:\n",
      "tensor([[ 0.0613, -0.0123, -0.0162,  ..., -0.0064, -0.0253, -0.0391],\n",
      "        [ 0.0620,  0.0562,  0.0555,  ..., -0.0031,  0.0603,  0.0464],\n",
      "        [-0.0678,  0.0338,  0.0234,  ...,  0.0028, -0.0502,  0.0348],\n",
      "        ...,\n",
      "        [ 0.0018, -0.0046, -0.0492,  ..., -0.0221,  0.0603,  0.0377],\n",
      "        [ 0.0460,  0.0230,  0.0396,  ...,  0.0208,  0.0684, -0.0253],\n",
      "        [ 0.0685, -0.0433,  0.0125,  ..., -0.0089,  0.0692,  0.0337]],\n",
      "       requires_grad=True)\n",
      "Parameter containing:\n",
      "tensor([ 0.0570, -0.0169,  0.0448,  0.0683,  0.0174, -0.0411,  0.0676, -0.0325,\n",
      "        -0.0085, -0.0409], requires_grad=True)\n"
     ]
    }
   ],
   "source": [
    "print('Layer params:')\n",
    "for param in m.get_submodule('linear_2').parameters():\n",
    "    print(param)"
   ]
  },
  {
   "cell_type": "code",
   "execution_count": null,
   "id": "79d0d7cf",
   "metadata": {},
   "outputs": [],
   "source": []
  },
  {
   "cell_type": "markdown",
   "id": "33cb20a5",
   "metadata": {},
   "source": [
    "Experiment with grad saliency"
   ]
  },
  {
   "cell_type": "code",
   "execution_count": null,
   "id": "dc1f9aa1",
   "metadata": {},
   "outputs": [
    {
     "data": {
      "text/plain": [
       "torch.Size([2, 100])"
      ]
     },
     "execution_count": null,
     "metadata": {},
     "output_type": "execute_result"
    }
   ],
   "source": [
    "X = torch.rand(size=(2, 100), dtype=torch.float, requires_grad=True)\n",
    "X.shape"
   ]
  },
  {
   "cell_type": "code",
   "execution_count": null,
   "id": "e6e6b52f",
   "metadata": {},
   "outputs": [],
   "source": [
    "preds = m(X)"
   ]
  },
  {
   "cell_type": "markdown",
   "id": "9f5c8195",
   "metadata": {},
   "source": [
    "Now, back propagation from the expected category (argmax) for first data sample to X"
   ]
  },
  {
   "cell_type": "code",
   "execution_count": null,
   "id": "91e7da21",
   "metadata": {},
   "outputs": [
    {
     "data": {
      "text/plain": [
       "tensor([[0.1090, 0.0843, 0.0785, 0.0846, 0.0965, 0.1133, 0.0827, 0.1031, 0.1500,\n",
       "         0.0980],\n",
       "        [0.1174, 0.0814, 0.0796, 0.0867, 0.0953, 0.1201, 0.0860, 0.1069, 0.1335,\n",
       "         0.0932]], grad_fn=<SliceBackward0>)"
      ]
     },
     "execution_count": null,
     "metadata": {},
     "output_type": "execute_result"
    }
   ],
   "source": [
    "preds[0:]"
   ]
  },
  {
   "cell_type": "code",
   "execution_count": null,
   "id": "689e6c67",
   "metadata": {},
   "outputs": [],
   "source": [
    "preds[0,5].backward()"
   ]
  },
  {
   "cell_type": "code",
   "execution_count": null,
   "id": "73e29277",
   "metadata": {},
   "outputs": [
    {
     "data": {
      "text/plain": [
       "tensor([[-5.5405e-04,  5.3253e-04, -5.3873e-04,  1.2949e-03, -8.8135e-04,\n",
       "          2.2567e-03, -2.7004e-03,  3.7113e-03,  3.1533e-04, -2.7067e-03,\n",
       "         -1.8053e-03,  4.7756e-04,  7.2335e-04, -7.2701e-04, -4.2274e-03,\n",
       "          8.6505e-04,  2.0689e-03, -4.3169e-03, -2.9006e-03, -2.7051e-04,\n",
       "         -3.4871e-03, -1.3673e-03, -1.3148e-03, -3.6552e-03,  7.4033e-04,\n",
       "          3.2386e-03,  1.6786e-03,  2.2273e-03,  2.1829e-03,  6.3781e-03,\n",
       "          1.9855e-03, -3.1766e-03, -2.2845e-05, -9.1974e-04, -1.4612e-03,\n",
       "         -1.4774e-03, -3.7138e-03,  1.9906e-03,  3.0753e-03,  1.5315e-03,\n",
       "          2.1411e-03,  4.9817e-04,  9.4574e-04,  7.0303e-04, -1.8925e-03,\n",
       "          1.6131e-03,  6.4761e-04, -2.8179e-03, -2.1279e-03,  2.3424e-03,\n",
       "          7.9305e-04,  3.4328e-03,  2.2745e-03,  3.4448e-03,  9.1369e-04,\n",
       "         -2.1575e-03,  2.6332e-03,  1.8131e-03, -1.0873e-03,  1.1602e-03,\n",
       "         -1.3469e-03, -3.6017e-03,  4.1142e-03, -1.0976e-03, -1.1937e-03,\n",
       "         -1.8686e-04, -9.5922e-04,  2.9761e-03, -9.8465e-04, -5.6660e-03,\n",
       "          3.1211e-03, -6.3624e-04,  2.2975e-03,  6.2834e-05,  5.9448e-04,\n",
       "          1.2591e-03,  3.2724e-03, -2.1048e-03, -2.1682e-03, -2.2143e-03,\n",
       "         -2.6797e-04, -2.8809e-03, -2.8344e-03,  4.9227e-03, -6.9397e-04,\n",
       "         -1.4766e-04, -5.8155e-03, -2.7840e-03,  1.5891e-03,  2.0447e-03,\n",
       "          1.9654e-03, -1.9967e-03,  2.7085e-03, -2.4336e-03,  4.7636e-04,\n",
       "         -1.2477e-03,  1.3504e-03, -2.7642e-03,  4.3026e-03,  3.5583e-03],\n",
       "        [ 0.0000e+00,  0.0000e+00,  0.0000e+00,  0.0000e+00,  0.0000e+00,\n",
       "          0.0000e+00,  0.0000e+00,  0.0000e+00,  0.0000e+00,  0.0000e+00,\n",
       "          0.0000e+00,  0.0000e+00,  0.0000e+00,  0.0000e+00,  0.0000e+00,\n",
       "          0.0000e+00,  0.0000e+00,  0.0000e+00,  0.0000e+00,  0.0000e+00,\n",
       "          0.0000e+00,  0.0000e+00,  0.0000e+00,  0.0000e+00,  0.0000e+00,\n",
       "          0.0000e+00,  0.0000e+00,  0.0000e+00,  0.0000e+00,  0.0000e+00,\n",
       "          0.0000e+00,  0.0000e+00,  0.0000e+00,  0.0000e+00,  0.0000e+00,\n",
       "          0.0000e+00,  0.0000e+00,  0.0000e+00,  0.0000e+00,  0.0000e+00,\n",
       "          0.0000e+00,  0.0000e+00,  0.0000e+00,  0.0000e+00,  0.0000e+00,\n",
       "          0.0000e+00,  0.0000e+00,  0.0000e+00,  0.0000e+00,  0.0000e+00,\n",
       "          0.0000e+00,  0.0000e+00,  0.0000e+00,  0.0000e+00,  0.0000e+00,\n",
       "          0.0000e+00,  0.0000e+00,  0.0000e+00,  0.0000e+00,  0.0000e+00,\n",
       "          0.0000e+00,  0.0000e+00,  0.0000e+00,  0.0000e+00,  0.0000e+00,\n",
       "          0.0000e+00,  0.0000e+00,  0.0000e+00,  0.0000e+00,  0.0000e+00,\n",
       "          0.0000e+00,  0.0000e+00,  0.0000e+00,  0.0000e+00,  0.0000e+00,\n",
       "          0.0000e+00,  0.0000e+00,  0.0000e+00,  0.0000e+00,  0.0000e+00,\n",
       "          0.0000e+00,  0.0000e+00,  0.0000e+00,  0.0000e+00,  0.0000e+00,\n",
       "          0.0000e+00,  0.0000e+00,  0.0000e+00,  0.0000e+00,  0.0000e+00,\n",
       "          0.0000e+00,  0.0000e+00,  0.0000e+00,  0.0000e+00,  0.0000e+00,\n",
       "          0.0000e+00,  0.0000e+00,  0.0000e+00,  0.0000e+00,  0.0000e+00]])"
      ]
     },
     "execution_count": null,
     "metadata": {},
     "output_type": "execute_result"
    }
   ],
   "source": [
    "X.grad"
   ]
  },
  {
   "cell_type": "markdown",
   "id": "ded37ef8",
   "metadata": {},
   "source": [
    "Makes sense as we only looked at the backprop from the value of `preds[0, 5]`"
   ]
  },
  {
   "cell_type": "code",
   "execution_count": null,
   "id": "a6ddd6cb",
   "metadata": {},
   "outputs": [
    {
     "data": {
      "image/png": "[encoded data removed]",
      "text/plain": [
       "<Figure size 640x480 with 1 Axes>"
      ]
     },
     "metadata": {},
     "output_type": "display_data"
    }
   ],
   "source": [
    "plt.bar(x=range(X.shape[1]), height=X.grad[0].abs());"
   ]
  },
  {
   "cell_type": "code",
   "execution_count": null,
   "id": "c36fd824",
   "metadata": {},
   "outputs": [],
   "source": []
  },
  {
   "cell_type": "code",
   "execution_count": null,
   "id": "3b4cd2c6",
   "metadata": {},
   "outputs": [],
   "source": []
  },
  {
   "cell_type": "code",
   "execution_count": null,
   "id": "57fc4b60",
   "metadata": {},
   "outputs": [],
   "source": []
  },
  {
   "cell_type": "code",
   "execution_count": null,
   "id": "4d6f595b",
   "metadata": {},
   "outputs": [],
   "source": []
  },
  {
   "cell_type": "code",
   "execution_count": null,
   "id": "b308ddcf",
   "metadata": {},
   "outputs": [
    {
     "data": {
      "text/plain": [
       "0"
      ]
     },
     "metadata": {},
     "output_type": "display_data"
    },
    {
     "data": {
      "text/plain": [
       "Linear(in_features=100, out_features=200, bias=True)"
      ]
     },
     "metadata": {},
     "output_type": "display_data"
    },
    {
     "data": {
      "text/plain": [
       "torch.Size([200, 100])"
      ]
     },
     "metadata": {},
     "output_type": "display_data"
    },
    {
     "data": {
      "text/plain": [
       "torch.nn.parameter.Parameter"
      ]
     },
     "metadata": {},
     "output_type": "display_data"
    },
    {
     "data": {
      "text/plain": [
       "1"
      ]
     },
     "metadata": {},
     "output_type": "display_data"
    },
    {
     "data": {
      "text/plain": [
       "ReLU()"
      ]
     },
     "metadata": {},
     "output_type": "display_data"
    },
    {
     "data": {
      "text/plain": [
       "torch.Size([200])"
      ]
     },
     "metadata": {},
     "output_type": "display_data"
    },
    {
     "data": {
      "text/plain": [
       "torch.nn.parameter.Parameter"
      ]
     },
     "metadata": {},
     "output_type": "display_data"
    },
    {
     "data": {
      "text/plain": [
       "2"
      ]
     },
     "metadata": {},
     "output_type": "display_data"
    },
    {
     "data": {
      "text/plain": [
       "Linear(in_features=200, out_features=10, bias=True)"
      ]
     },
     "metadata": {},
     "output_type": "display_data"
    },
    {
     "data": {
      "text/plain": [
       "torch.Size([10, 200])"
      ]
     },
     "metadata": {},
     "output_type": "display_data"
    },
    {
     "data": {
      "text/plain": [
       "torch.nn.parameter.Parameter"
      ]
     },
     "metadata": {},
     "output_type": "display_data"
    },
    {
     "data": {
      "text/plain": [
       "3"
      ]
     },
     "metadata": {},
     "output_type": "display_data"
    },
    {
     "data": {
      "text/plain": [
       "Softmax(dim=None)"
      ]
     },
     "metadata": {},
     "output_type": "display_data"
    },
    {
     "data": {
      "text/plain": [
       "torch.Size([10])"
      ]
     },
     "metadata": {},
     "output_type": "display_data"
    },
    {
     "data": {
      "text/plain": [
       "torch.nn.parameter.Parameter"
      ]
     },
     "metadata": {},
     "output_type": "display_data"
    }
   ],
   "source": [
    "modules = list(m.children())\n",
    "for i, p in enumerate(m.parameters()):\n",
    "    display(i, modules[i], p.shape, type(p))"
   ]
  },
  {
   "cell_type": "code",
   "execution_count": null,
   "id": "2372f468",
   "metadata": {},
   "outputs": [],
   "source": [
    "tinymodel()"
   ]
  },
  {
   "cell_type": "code",
   "execution_count": null,
   "id": "65590d67",
   "metadata": {},
   "outputs": [],
   "source": [
    "for i, p in enumerate(tinymodel.parameters()):\n",
    "    display(i, modules[i], p.shape)"
   ]
  },
  {
   "cell_type": "code",
   "execution_count": null,
   "id": "e97b2218",
   "metadata": {},
   "outputs": [],
   "source": []
  }
 ],
 "metadata": {
  "kernelspec": {
   "display_name": "Python 3 (ipykernel)",
   "language": "python",
   "name": "python3"
  }
 },
 "nbformat": 4,
 "nbformat_minor": 5
}
